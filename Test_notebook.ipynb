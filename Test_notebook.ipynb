{
 "cells": [
  {
   "cell_type": "code",
   "execution_count": 8,
   "id": "b78a9fc2",
   "metadata": {},
   "outputs": [],
   "source": [
    "load('Symmalg.sage')"
   ]
  },
  {
   "cell_type": "code",
   "execution_count": 9,
   "id": "467f537d",
   "metadata": {},
   "outputs": [
    {
     "name": "stdout",
     "output_type": "stream",
     "text": [
      "Defining x, y, z\n"
     ]
    }
   ],
   "source": [
    "R = PolynomialRing(QQ,['x', 'y','z'])\n",
    "R.inject_variables()"
   ]
  },
  {
   "cell_type": "code",
   "execution_count": 5,
   "id": "dcf772b5",
   "metadata": {},
   "outputs": [
    {
     "data": {
      "text/plain": [
       "[y^3, x*y^2, x^2*y, x^3]"
      ]
     },
     "execution_count": 5,
     "metadata": {},
     "output_type": "execute_result"
    }
   ],
   "source": [
    "monomial_generator(R.gens()[:2],3)"
   ]
  },
  {
   "cell_type": "code",
   "execution_count": 10,
   "id": "4cd6952f",
   "metadata": {},
   "outputs": [
    {
     "name": "stdout",
     "output_type": "stream",
     "text": [
      "Defining x, y, z, g11, g12, g13, g21, g22, g23, g31, g32, g33\n"
     ]
    },
    {
     "ename": "NameError",
     "evalue": "name 'n_vars' is not defined",
     "output_type": "error",
     "traceback": [
      "\u001b[0;31m---------------------------------------------------------------------------\u001b[0m",
      "\u001b[0;31mNameError\u001b[0m                                 Traceback (most recent call last)",
      "\u001b[0;32m/var/folders/dx/sc89948n7r9d_y3ms23yc8c40000gn/T/ipykernel_89993/2288118794.py\u001b[0m in \u001b[0;36m<module>\u001b[0;34m\u001b[0m\n\u001b[0;32m----> 1\u001b[0;31m \u001b[0msymmalg_homo\u001b[0m\u001b[0;34m(\u001b[0m\u001b[0;34m[\u001b[0m\u001b[0mx\u001b[0m\u001b[0;34m**\u001b[0m\u001b[0mInteger\u001b[0m\u001b[0;34m(\u001b[0m\u001b[0;36m2\u001b[0m\u001b[0;34m)\u001b[0m\u001b[0;34m+\u001b[0m\u001b[0my\u001b[0m\u001b[0;34m**\u001b[0m\u001b[0mInteger\u001b[0m\u001b[0;34m(\u001b[0m\u001b[0;36m2\u001b[0m\u001b[0;34m)\u001b[0m\u001b[0;34m+\u001b[0m\u001b[0mz\u001b[0m\u001b[0;34m**\u001b[0m\u001b[0mInteger\u001b[0m\u001b[0;34m(\u001b[0m\u001b[0;36m2\u001b[0m\u001b[0;34m)\u001b[0m\u001b[0;34m]\u001b[0m\u001b[0;34m)\u001b[0m\u001b[0;34m\u001b[0m\u001b[0;34m\u001b[0m\u001b[0m\n\u001b[0m",
      "\u001b[0;32m<string>\u001b[0m in \u001b[0;36msymmalg_homo\u001b[0;34m(generators, n)\u001b[0m\n",
      "\u001b[0;32m<string>\u001b[0m in \u001b[0;36m<listcomp>\u001b[0;34m(.0)\u001b[0m\n",
      "\u001b[0;32m<string>\u001b[0m in \u001b[0;36mlie_derivative_poly\u001b[0;34m(poly, g)\u001b[0m\n",
      "\u001b[0;32m<string>\u001b[0m in \u001b[0;36mlie_derivative_mono\u001b[0;34m(monomial, g)\u001b[0m\n",
      "\u001b[0;31mNameError\u001b[0m: name 'n_vars' is not defined"
     ]
    }
   ],
   "source": [
    "symmalg_homo([x^2+y^2+z^2])"
   ]
  },
  {
   "cell_type": "code",
   "execution_count": null,
   "id": "8989aa94",
   "metadata": {},
   "outputs": [],
   "source": []
  }
 ],
 "metadata": {
  "kernelspec": {
   "display_name": "SageMath 9.6",
   "language": "sage",
   "name": "sagemath-9.6"
  },
  "language_info": {
   "codemirror_mode": {
    "name": "ipython",
    "version": 3
   },
   "file_extension": ".py",
   "mimetype": "text/x-python",
   "name": "python",
   "nbconvert_exporter": "python",
   "pygments_lexer": "ipython3",
   "version": "3.10.3"
  }
 },
 "nbformat": 4,
 "nbformat_minor": 5
}
