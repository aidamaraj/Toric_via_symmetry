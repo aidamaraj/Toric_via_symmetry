{
 "cells": [
  {
   "cell_type": "markdown",
   "id": "157c7337-03c2-4301-ac57-4ac1e07e6349",
   "metadata": {},
   "source": [
    "## Loading necessary functions and libraries"
   ]
  },
  {
   "cell_type": "code",
   "execution_count": 1,
   "id": "9fb7906c-c2ed-4b46-bd36-79a929f2f245",
   "metadata": {},
   "outputs": [],
   "source": [
    "load('Symmalg.sage')\n",
    "import time"
   ]
  },
  {
   "cell_type": "markdown",
   "id": "999e8b88-9c27-48d6-80ea-0692a0d50f17",
   "metadata": {},
   "source": [
    "### Example 5.10"
   ]
  },
  {
   "cell_type": "code",
   "execution_count": 2,
   "id": "0b63e755-92e9-4829-9a0e-643f76df9cc7",
   "metadata": {},
   "outputs": [
    {
     "name": "stdout",
     "output_type": "stream",
     "text": [
      "Defining x1, x2, x3\n"
     ]
    }
   ],
   "source": [
    "# Setting up the ambient ring\n",
    "R = PolynomialRing(QQ,['x1', 'x2','x3'])\n",
    "R.inject_variables()"
   ]
  },
  {
   "cell_type": "code",
   "execution_count": 3,
   "id": "6805d027-0b24-4227-97f5-1acb53fdd576",
   "metadata": {},
   "outputs": [
    {
     "name": "stdout",
     "output_type": "stream",
     "text": [
      "Defining x1, x2, x3\n",
      "Defining x1, x2, x3, g11, g12, g13, g21, g22, g23, g31, g32, g33\n",
      "\n",
      "A basis of the Lie algebra consists of the following matrices:\n",
      "\n"
     ]
    },
    {
     "data": {
      "text/html": [
       "<html>\\(\\displaystyle \\left[\\left(\\begin{array}{rrr}\n",
       "0 & -1 & 0 \\\\\n",
       "1 & 0 & 0 \\\\\n",
       "0 & 0 & 0\n",
       "\\end{array}\\right), \\left(\\begin{array}{rrr}\n",
       "0 & 0 & -1 \\\\\n",
       "0 & 0 & 0 \\\\\n",
       "1 & 0 & 0\n",
       "\\end{array}\\right), \\left(\\begin{array}{rrr}\n",
       "0 & 0 & 0 \\\\\n",
       "0 & 0 & -1 \\\\\n",
       "0 & 1 & 0\n",
       "\\end{array}\\right), \\left(\\begin{array}{rrr}\n",
       "1 & 0 & 0 \\\\\n",
       "0 & 1 & 0 \\\\\n",
       "0 & 0 & 1\n",
       "\\end{array}\\right)\\right]\\)</html>"
      ],
      "text/latex": [
       "$\\displaystyle \\left[\\left(\\begin{array}{rrr}\n",
       "0 & -1 & 0 \\\\\n",
       "1 & 0 & 0 \\\\\n",
       "0 & 0 & 0\n",
       "\\end{array}\\right), \\left(\\begin{array}{rrr}\n",
       "0 & 0 & -1 \\\\\n",
       "0 & 0 & 0 \\\\\n",
       "1 & 0 & 0\n",
       "\\end{array}\\right), \\left(\\begin{array}{rrr}\n",
       "0 & 0 & 0 \\\\\n",
       "0 & 0 & -1 \\\\\n",
       "0 & 1 & 0\n",
       "\\end{array}\\right), \\left(\\begin{array}{rrr}\n",
       "1 & 0 & 0 \\\\\n",
       "0 & 1 & 0 \\\\\n",
       "0 & 0 & 1\n",
       "\\end{array}\\right)\\right]$"
      ],
      "text/plain": [
       "[\n",
       "[ 0 -1  0]  [ 0  0 -1]  [ 0  0  0]  [1 0 0]\n",
       "[ 1  0  0]  [ 0  0  0]  [ 0  0 -1]  [0 1 0]\n",
       "[ 0  0  0], [ 1  0  0], [ 0  1  0], [0 0 1]\n",
       "]"
      ]
     },
     "metadata": {},
     "output_type": "display_data"
    },
    {
     "name": "stdout",
     "output_type": "stream",
     "text": [
      "\n",
      "Computation Time: 0 min 2.47 sec\n"
     ]
    }
   ],
   "source": [
    "start_time = time.time()\n",
    "LieI = symmalg([x1^2+x2^2+x3^2],3)\n",
    "end_time = time.time()\n",
    "comp_time = end_time - start_time # Compute the elapsed time\n",
    "\n",
    "# Convert to minutes and seconds\n",
    "minutes = int(comp_time // 60)\n",
    "seconds = comp_time % 60\n",
    "\n",
    "# Format with 2 decimal places for seconds\n",
    "formatted_time_str = f\"{minutes} min {seconds:.2f} sec\"\n",
    "\n",
    "print(f\"\\nComputation Time: {formatted_time_str}\")"
   ]
  },
  {
   "cell_type": "markdown",
   "id": "4723c672-cd0b-450d-be58-9e8ccf889d3e",
   "metadata": {},
   "source": [
    "### Additional Example"
   ]
  },
  {
   "cell_type": "code",
   "execution_count": 4,
   "id": "c9add9f4-9cd4-4af9-913f-1bd089a03c15",
   "metadata": {},
   "outputs": [
    {
     "name": "stdout",
     "output_type": "stream",
     "text": [
      "Defining x1, x2, x3\n",
      "Defining x1, x2, x3, g11, g12, g13, g21, g22, g23, g31, g32, g33\n",
      "\n",
      "A basis of the Lie algebra consists of the following matrices:\n",
      "\n"
     ]
    },
    {
     "data": {
      "text/html": [
       "<html>\\(\\displaystyle \\left[\\left(\\begin{array}{rrr}\n",
       "1 & 0 & 0 \\\\\n",
       "0 & 1 & 0 \\\\\n",
       "0 & 0 & 1\n",
       "\\end{array}\\right)\\right]\\)</html>"
      ],
      "text/latex": [
       "$\\displaystyle \\left[\\left(\\begin{array}{rrr}\n",
       "1 & 0 & 0 \\\\\n",
       "0 & 1 & 0 \\\\\n",
       "0 & 0 & 1\n",
       "\\end{array}\\right)\\right]$"
      ],
      "text/plain": [
       "[\n",
       "[1 0 0]\n",
       "[0 1 0]\n",
       "[0 0 1]\n",
       "]"
      ]
     },
     "metadata": {},
     "output_type": "display_data"
    },
    {
     "name": "stdout",
     "output_type": "stream",
     "text": [
      "\n",
      "Computation Time: 0 min 0.10 sec\n"
     ]
    }
   ],
   "source": [
    "generators = [x1^2+x2^2+x3^2, x1*x2*x3]\n",
    "start_time = time.time()\n",
    "symmalg(generators, 3)\n",
    "end_time = time.time()\n",
    "comp_time = end_time - start_time # Compute the elapsed time\n",
    "\n",
    "# Convert to minutes and seconds\n",
    "minutes = int(comp_time // 60)\n",
    "seconds = comp_time % 60\n",
    "\n",
    "# Format with 2 decimal places for seconds\n",
    "formatted_time_str = f\"{minutes} min {seconds:.2f} sec\"\n",
    "\n",
    "print(f\"\\nComputation Time: {formatted_time_str}\")"
   ]
  },
  {
   "cell_type": "code",
   "execution_count": null,
   "id": "352bc8f2-666b-4437-855a-3c464522c48e",
   "metadata": {},
   "outputs": [],
   "source": []
  }
 ],
 "metadata": {
  "kernelspec": {
   "display_name": "SageMath 10.3",
   "language": "sage",
   "name": "sagemath-10.3"
  },
  "language_info": {
   "codemirror_mode": {
    "name": "ipython",
    "version": 3
   },
   "file_extension": ".py",
   "mimetype": "text/x-python",
   "name": "python",
   "nbconvert_exporter": "python",
   "pygments_lexer": "ipython3",
   "version": "3.11.8"
  }
 },
 "nbformat": 4,
 "nbformat_minor": 5
}
