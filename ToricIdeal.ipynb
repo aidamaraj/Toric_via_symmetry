{
 "cells": [
  {
   "cell_type": "code",
   "execution_count": 1,
   "id": "252ca88e",
   "metadata": {},
   "outputs": [
    {
     "name": "stdout",
     "output_type": "stream",
     "text": [
      "Defining s11, s12, s22, s13, s23, s33, g11, g12, g13, g14, g15, g16, g21, g22, g23, g24, g25, g26, g31, g32, g33, g34, g35, g36, g41, g42, g43, g44, g45, g46, g51, g52, g53, g54, g55, g56, g61, g62, g63, g64, g65, g66\n"
     ]
    }
   ],
   "source": [
    "n = 3\n",
    "n_vars = n*(n+1)/2\n",
    "var = ['s%i%i'%(i,j) for j in range(1,n+1) for i in range(1,j+1)]\n",
    "var+= ['g%i%i'%(i,j) for i in range(1,n_vars+1) for j in range(1,n_vars+1)]\n",
    "R = PolynomialRing(QQ, var)\n",
    "R.inject_variables()"
   ]
  },
  {
   "cell_type": "code",
   "execution_count": 4,
   "id": "f07ba472",
   "metadata": {},
   "outputs": [
    {
     "data": {
      "text/html": [
       "<html>\\(\\displaystyle s_{12} s_{13} - s_{11} s_{23}\\)</html>"
      ],
      "text/latex": [
       "$\\displaystyle s_{12} s_{13} - s_{11} s_{23}$"
      ],
      "text/plain": [
       "s12*s13 - s11*s23"
      ]
     },
     "metadata": {},
     "output_type": "display_data"
    },
    {
     "data": {
      "text/html": [
       "<html>\\(\\displaystyle s_{12}^{2} - s_{11} s_{22} - s_{13}^{2} + s_{11} s_{33}\\)</html>"
      ],
      "text/latex": [
       "$\\displaystyle s_{12}^{2} - s_{11} s_{22} - s_{13}^{2} + s_{11} s_{33}$"
      ],
      "text/plain": [
       "s12^2 - s11*s22 - s13^2 + s11*s33"
      ]
     },
     "metadata": {},
     "output_type": "display_data"
    }
   ],
   "source": [
    "gens = [s12*s13-s11*s23, s12^2-s11*s22-s13^2+s11*s33]\n",
    "show(gens[0])\n",
    "show(gens[1])"
   ]
  },
  {
   "cell_type": "code",
   "execution_count": 3,
   "id": "f7f63a23",
   "metadata": {},
   "outputs": [],
   "source": [
    "degs = list(WeightedIntegerVectors(2,[1 for i in range(n_vars)]))\n",
    "n_2 = binomial(n_vars+1,2)\n",
    "monomials_2 = []\n",
    "for d in degs:\n",
    "    mon = 1\n",
    "    for i in range(len(R.gens()[:n_vars])):\n",
    "        mon = mon*R.gens()[i]^d[i]\n",
    "    monomials_2.append(mon)\n",
    "gen_index = {}\n",
    "count = 0\n",
    "for i in R.gens():\n",
    "    gen_index[i] = count\n",
    "    count+= 1\n",
    "X = matrix(R,n_vars,1,R.gens()[:n_vars])"
   ]
  },
  {
   "cell_type": "code",
   "execution_count": 4,
   "id": "69c892c6",
   "metadata": {},
   "outputs": [
    {
     "data": {
      "text/plain": [
       "[g11 g12 g13 g14 g15 g16]\n",
       "[g21 g22 g23 g24 g25 g26]\n",
       "[g31 g32 g33 g34 g35 g36]\n",
       "[g41 g42 g43 g44 g45 g46]\n",
       "[g51 g52 g53 g54 g55 g56]\n",
       "[g61 g62 g63 g64 g65 g66]"
      ]
     },
     "execution_count": 4,
     "metadata": {},
     "output_type": "execute_result"
    }
   ],
   "source": [
    "g = matrix(R,n_vars,n_vars,R.gens()[n_vars:])\n",
    "g"
   ]
  },
  {
   "cell_type": "code",
   "execution_count": 5,
   "id": "45e3906d",
   "metadata": {},
   "outputs": [],
   "source": [
    "def lie_derivative_mono(monomial, g):\n",
    "    s = 0\n",
    "    for x in monomial.factor():\n",
    "        l = (g[gen_index[x[0]],:]*X)[0,0]\n",
    "        s+= l*R(monomial/x[0])*x[1]\n",
    "    return s\n",
    "def lie_derivative_poly(poly,g):\n",
    "    der = 0\n",
    "    for mon, coef in list(zip(poly.monomials(),poly.coefficients())):\n",
    "        der+= lie_derivative_mono(mon,g)*coef\n",
    "    return der\n",
    "def poly_to_vec(polynomial):\n",
    "    vec = [0 for j in range(n_2)]\n",
    "    for i in range(n_2):\n",
    "        vec[i] = polynomial.coefficient(monomials_2[i])\n",
    "    return vec"
   ]
  },
  {
   "cell_type": "code",
   "execution_count": 6,
   "id": "edeeb21f",
   "metadata": {},
   "outputs": [],
   "source": [
    "gens_vecs = [poly_to_vec(gen) for gen in gens]\n",
    "der_gens_vecs = [poly_to_vec(lie_derivative_poly(gen,g)) for gen in gens]\n",
    "matrices = [matrix(gens_vecs+[i]) for i in der_gens_vecs]"
   ]
  },
  {
   "cell_type": "code",
   "execution_count": 7,
   "id": "ea5914fa",
   "metadata": {},
   "outputs": [],
   "source": [
    "eqns = set()\n",
    "for M in matrices:\n",
    "    for eqn in M.minors(len(gens)+1):\n",
    "        if eqn!= 0:\n",
    "            eqns.add(eqn)\n",
    "eqns = list(eqns)"
   ]
  },
  {
   "cell_type": "code",
   "execution_count": 8,
   "id": "86187919",
   "metadata": {},
   "outputs": [
    {
     "data": {
      "text/plain": [
       "(25, 36)"
      ]
     },
     "execution_count": 8,
     "metadata": {},
     "output_type": "execute_result"
    }
   ],
   "source": [
    "ker = []\n",
    "for eqn in eqns:\n",
    "    l = [eqn.coefficient(gij) for gij in R.gens()[n_vars:]]\n",
    "    ker.append(l)\n",
    "K = matrix(ker)\n",
    "rows = K.pivot_rows()\n",
    "K = K[rows,:]\n",
    "K.dimensions()"
   ]
  },
  {
   "cell_type": "code",
   "execution_count": 9,
   "id": "ca1aff3c",
   "metadata": {},
   "outputs": [
    {
     "data": {
      "text/plain": [
       "(11, 36)"
      ]
     },
     "execution_count": 9,
     "metadata": {},
     "output_type": "execute_result"
    }
   ],
   "source": [
    "K_ker = K.right_kernel_matrix()\n",
    "K_ker.dimensions()"
   ]
  },
  {
   "cell_type": "code",
   "execution_count": 10,
   "id": "ad4341a2",
   "metadata": {},
   "outputs": [
    {
     "data": {
      "text/html": [
       "<html>\\(\\displaystyle \\left[\\left(\\begin{array}{rrrrrr}\n",
       "1 & 0 & 0 & 0 & 0 & 0 \\\\\n",
       "0 & 0 & 0 & 0 & 0 & 0 \\\\\n",
       "0 & 0 & 0 & 0 & 0 & 0 \\\\\n",
       "0 & 0 & 0 & 0 & 0 & 0 \\\\\n",
       "0 & 0 & 0 & 0 & -1 & 0 \\\\\n",
       "0 & 0 & 1 & 0 & 0 & -1\n",
       "\\end{array}\\right), \\left(\\begin{array}{rrrrrr}\n",
       "0 & 0 & 0 & 0 & 0 & 0 \\\\\n",
       "1 & 0 & 0 & 0 & 0 & 0 \\\\\n",
       "0 & 0 & 0 & 0 & 0 & 0 \\\\\n",
       "0 & 0 & 0 & 0 & 0 & 0 \\\\\n",
       "0 & 0 & 0 & 1 & 0 & 0 \\\\\n",
       "0 & -2 & 0 & 0 & 0 & 0\n",
       "\\end{array}\\right), \\left(\\begin{array}{rrrrrr}\n",
       "0 & 0 & 0 & 0 & 0 & 0 \\\\\n",
       "0 & 1 & 0 & 0 & 0 & 0 \\\\\n",
       "0 & 0 & 0 & 0 & 0 & 0 \\\\\n",
       "0 & 0 & 0 & 1 & 0 & 0 \\\\\n",
       "0 & 0 & 0 & 0 & 2 & 0 \\\\\n",
       "0 & 0 & -2 & 0 & 0 & 2\n",
       "\\end{array}\\right), \\left(\\begin{array}{rrrrrr}\n",
       "0 & 0 & 0 & 0 & 0 & 0 \\\\\n",
       "0 & 0 & 0 & 1 & 0 & 0 \\\\\n",
       "0 & 0 & 0 & 0 & 0 & 0 \\\\\n",
       "0 & -1 & 0 & 0 & 0 & 0 \\\\\n",
       "0 & 0 & -1 & 0 & 0 & 1 \\\\\n",
       "0 & 0 & 0 & 0 & -4 & 0\n",
       "\\end{array}\\right), \\left(\\begin{array}{rrrrrr}\n",
       "0 & 0 & 0 & 0 & 0 & 0 \\\\\n",
       "0 & 0 & 0 & 0 & 0 & 0 \\\\\n",
       "1 & 0 & 0 & 0 & 0 & 0 \\\\\n",
       "0 & 0 & 0 & 0 & 0 & 0 \\\\\n",
       "0 & 0 & 0 & 0 & 0 & 0 \\\\\n",
       "1 & 0 & 0 & 0 & 0 & 0\n",
       "\\end{array}\\right), \\left(\\begin{array}{rrrrrr}\n",
       "0 & 0 & 0 & 0 & 0 & 0 \\\\\n",
       "0 & 0 & 0 & 0 & 0 & 0 \\\\\n",
       "0 & 1 & 0 & 0 & 0 & 0 \\\\\n",
       "0 & 0 & 0 & 0 & 0 & 0 \\\\\n",
       "0 & 0 & 0 & 0 & 0 & 0 \\\\\n",
       "0 & 1 & 0 & 0 & 0 & 0\n",
       "\\end{array}\\right), \\left(\\begin{array}{rrrrrr}\n",
       "0 & 0 & 0 & 0 & 0 & 0 \\\\\n",
       "0 & 0 & 0 & 0 & 0 & 0 \\\\\n",
       "0 & 0 & 1 & 0 & 0 & 0 \\\\\n",
       "0 & 0 & 0 & 0 & 0 & 0 \\\\\n",
       "0 & 0 & 0 & 0 & 0 & 0 \\\\\n",
       "0 & 0 & 1 & 0 & 0 & 0\n",
       "\\end{array}\\right), \\left(\\begin{array}{rrrrrr}\n",
       "0 & 0 & 0 & 0 & 0 & 0 \\\\\n",
       "0 & 0 & 0 & 0 & 0 & 0 \\\\\n",
       "0 & 0 & 0 & 1 & 0 & 0 \\\\\n",
       "0 & 0 & 0 & 0 & 0 & 0 \\\\\n",
       "0 & 0 & 0 & 0 & 0 & 0 \\\\\n",
       "0 & 0 & 0 & 1 & 0 & 0\n",
       "\\end{array}\\right), \\left(\\begin{array}{rrrrrr}\n",
       "0 & 0 & 0 & 0 & 0 & 0 \\\\\n",
       "0 & 0 & 0 & 0 & 0 & 0 \\\\\n",
       "0 & 0 & 0 & 0 & 1 & 0 \\\\\n",
       "0 & 0 & 0 & 0 & 0 & 0 \\\\\n",
       "0 & 0 & 0 & 0 & 0 & 0 \\\\\n",
       "0 & 0 & 0 & 0 & 1 & 0\n",
       "\\end{array}\\right), \\left(\\begin{array}{rrrrrr}\n",
       "0 & 0 & 0 & 0 & 0 & 0 \\\\\n",
       "0 & 0 & 0 & 0 & 0 & 0 \\\\\n",
       "0 & 0 & 0 & 0 & 0 & 1 \\\\\n",
       "0 & 0 & 0 & 0 & 0 & 0 \\\\\n",
       "0 & 0 & 0 & 0 & 0 & 0 \\\\\n",
       "0 & 0 & 0 & 0 & 0 & 1\n",
       "\\end{array}\\right), \\left(\\begin{array}{rrrrrr}\n",
       "0 & 0 & 0 & 0 & 0 & 0 \\\\\n",
       "0 & 0 & 0 & 0 & 0 & 0 \\\\\n",
       "0 & 0 & 0 & 0 & 0 & 0 \\\\\n",
       "1 & 0 & 0 & 0 & 0 & 0 \\\\\n",
       "0 & 1 & 0 & 0 & 0 & 0 \\\\\n",
       "0 & 0 & 0 & 2 & 0 & 0\n",
       "\\end{array}\\right)\\right]\\)</html>"
      ],
      "text/latex": [
       "$\\displaystyle \\left[\\left(\\begin{array}{rrrrrr}\n",
       "1 & 0 & 0 & 0 & 0 & 0 \\\\\n",
       "0 & 0 & 0 & 0 & 0 & 0 \\\\\n",
       "0 & 0 & 0 & 0 & 0 & 0 \\\\\n",
       "0 & 0 & 0 & 0 & 0 & 0 \\\\\n",
       "0 & 0 & 0 & 0 & -1 & 0 \\\\\n",
       "0 & 0 & 1 & 0 & 0 & -1\n",
       "\\end{array}\\right), \\left(\\begin{array}{rrrrrr}\n",
       "0 & 0 & 0 & 0 & 0 & 0 \\\\\n",
       "1 & 0 & 0 & 0 & 0 & 0 \\\\\n",
       "0 & 0 & 0 & 0 & 0 & 0 \\\\\n",
       "0 & 0 & 0 & 0 & 0 & 0 \\\\\n",
       "0 & 0 & 0 & 1 & 0 & 0 \\\\\n",
       "0 & -2 & 0 & 0 & 0 & 0\n",
       "\\end{array}\\right), \\left(\\begin{array}{rrrrrr}\n",
       "0 & 0 & 0 & 0 & 0 & 0 \\\\\n",
       "0 & 1 & 0 & 0 & 0 & 0 \\\\\n",
       "0 & 0 & 0 & 0 & 0 & 0 \\\\\n",
       "0 & 0 & 0 & 1 & 0 & 0 \\\\\n",
       "0 & 0 & 0 & 0 & 2 & 0 \\\\\n",
       "0 & 0 & -2 & 0 & 0 & 2\n",
       "\\end{array}\\right), \\left(\\begin{array}{rrrrrr}\n",
       "0 & 0 & 0 & 0 & 0 & 0 \\\\\n",
       "0 & 0 & 0 & 1 & 0 & 0 \\\\\n",
       "0 & 0 & 0 & 0 & 0 & 0 \\\\\n",
       "0 & -1 & 0 & 0 & 0 & 0 \\\\\n",
       "0 & 0 & -1 & 0 & 0 & 1 \\\\\n",
       "0 & 0 & 0 & 0 & -4 & 0\n",
       "\\end{array}\\right), \\left(\\begin{array}{rrrrrr}\n",
       "0 & 0 & 0 & 0 & 0 & 0 \\\\\n",
       "0 & 0 & 0 & 0 & 0 & 0 \\\\\n",
       "1 & 0 & 0 & 0 & 0 & 0 \\\\\n",
       "0 & 0 & 0 & 0 & 0 & 0 \\\\\n",
       "0 & 0 & 0 & 0 & 0 & 0 \\\\\n",
       "1 & 0 & 0 & 0 & 0 & 0\n",
       "\\end{array}\\right), \\left(\\begin{array}{rrrrrr}\n",
       "0 & 0 & 0 & 0 & 0 & 0 \\\\\n",
       "0 & 0 & 0 & 0 & 0 & 0 \\\\\n",
       "0 & 1 & 0 & 0 & 0 & 0 \\\\\n",
       "0 & 0 & 0 & 0 & 0 & 0 \\\\\n",
       "0 & 0 & 0 & 0 & 0 & 0 \\\\\n",
       "0 & 1 & 0 & 0 & 0 & 0\n",
       "\\end{array}\\right), \\left(\\begin{array}{rrrrrr}\n",
       "0 & 0 & 0 & 0 & 0 & 0 \\\\\n",
       "0 & 0 & 0 & 0 & 0 & 0 \\\\\n",
       "0 & 0 & 1 & 0 & 0 & 0 \\\\\n",
       "0 & 0 & 0 & 0 & 0 & 0 \\\\\n",
       "0 & 0 & 0 & 0 & 0 & 0 \\\\\n",
       "0 & 0 & 1 & 0 & 0 & 0\n",
       "\\end{array}\\right), \\left(\\begin{array}{rrrrrr}\n",
       "0 & 0 & 0 & 0 & 0 & 0 \\\\\n",
       "0 & 0 & 0 & 0 & 0 & 0 \\\\\n",
       "0 & 0 & 0 & 1 & 0 & 0 \\\\\n",
       "0 & 0 & 0 & 0 & 0 & 0 \\\\\n",
       "0 & 0 & 0 & 0 & 0 & 0 \\\\\n",
       "0 & 0 & 0 & 1 & 0 & 0\n",
       "\\end{array}\\right), \\left(\\begin{array}{rrrrrr}\n",
       "0 & 0 & 0 & 0 & 0 & 0 \\\\\n",
       "0 & 0 & 0 & 0 & 0 & 0 \\\\\n",
       "0 & 0 & 0 & 0 & 1 & 0 \\\\\n",
       "0 & 0 & 0 & 0 & 0 & 0 \\\\\n",
       "0 & 0 & 0 & 0 & 0 & 0 \\\\\n",
       "0 & 0 & 0 & 0 & 1 & 0\n",
       "\\end{array}\\right), \\left(\\begin{array}{rrrrrr}\n",
       "0 & 0 & 0 & 0 & 0 & 0 \\\\\n",
       "0 & 0 & 0 & 0 & 0 & 0 \\\\\n",
       "0 & 0 & 0 & 0 & 0 & 1 \\\\\n",
       "0 & 0 & 0 & 0 & 0 & 0 \\\\\n",
       "0 & 0 & 0 & 0 & 0 & 0 \\\\\n",
       "0 & 0 & 0 & 0 & 0 & 1\n",
       "\\end{array}\\right), \\left(\\begin{array}{rrrrrr}\n",
       "0 & 0 & 0 & 0 & 0 & 0 \\\\\n",
       "0 & 0 & 0 & 0 & 0 & 0 \\\\\n",
       "0 & 0 & 0 & 0 & 0 & 0 \\\\\n",
       "1 & 0 & 0 & 0 & 0 & 0 \\\\\n",
       "0 & 1 & 0 & 0 & 0 & 0 \\\\\n",
       "0 & 0 & 0 & 2 & 0 & 0\n",
       "\\end{array}\\right)\\right]$"
      ],
      "text/plain": [
       "[\n",
       "[ 1  0  0  0  0  0]  [ 0  0  0  0  0  0]  [ 0  0  0  0  0  0]\n",
       "[ 0  0  0  0  0  0]  [ 1  0  0  0  0  0]  [ 0  1  0  0  0  0]\n",
       "[ 0  0  0  0  0  0]  [ 0  0  0  0  0  0]  [ 0  0  0  0  0  0]\n",
       "[ 0  0  0  0  0  0]  [ 0  0  0  0  0  0]  [ 0  0  0  1  0  0]\n",
       "[ 0  0  0  0 -1  0]  [ 0  0  0  1  0  0]  [ 0  0  0  0  2  0]\n",
       "[ 0  0  1  0  0 -1], [ 0 -2  0  0  0  0], [ 0  0 -2  0  0  2],\n",
       "\n",
       "[ 0  0  0  0  0  0]  [0 0 0 0 0 0]  [0 0 0 0 0 0]  [0 0 0 0 0 0]\n",
       "[ 0  0  0  1  0  0]  [0 0 0 0 0 0]  [0 0 0 0 0 0]  [0 0 0 0 0 0]\n",
       "[ 0  0  0  0  0  0]  [1 0 0 0 0 0]  [0 1 0 0 0 0]  [0 0 1 0 0 0]\n",
       "[ 0 -1  0  0  0  0]  [0 0 0 0 0 0]  [0 0 0 0 0 0]  [0 0 0 0 0 0]\n",
       "[ 0  0 -1  0  0  1]  [0 0 0 0 0 0]  [0 0 0 0 0 0]  [0 0 0 0 0 0]\n",
       "[ 0  0  0  0 -4  0], [1 0 0 0 0 0], [0 1 0 0 0 0], [0 0 1 0 0 0],\n",
       "\n",
       "[0 0 0 0 0 0]  [0 0 0 0 0 0]  [0 0 0 0 0 0]  [0 0 0 0 0 0]\n",
       "[0 0 0 0 0 0]  [0 0 0 0 0 0]  [0 0 0 0 0 0]  [0 0 0 0 0 0]\n",
       "[0 0 0 1 0 0]  [0 0 0 0 1 0]  [0 0 0 0 0 1]  [0 0 0 0 0 0]\n",
       "[0 0 0 0 0 0]  [0 0 0 0 0 0]  [0 0 0 0 0 0]  [1 0 0 0 0 0]\n",
       "[0 0 0 0 0 0]  [0 0 0 0 0 0]  [0 0 0 0 0 0]  [0 1 0 0 0 0]\n",
       "[0 0 0 1 0 0], [0 0 0 0 1 0], [0 0 0 0 0 1], [0 0 0 2 0 0]\n",
       "]"
      ]
     },
     "metadata": {},
     "output_type": "display_data"
    }
   ],
   "source": [
    "L = [matrix(QQ,n_vars,n_vars,r) for r in K_ker.rows()]\n",
    "show(L)"
   ]
  },
  {
   "cell_type": "code",
   "execution_count": 7,
   "id": "08593f6c",
   "metadata": {},
   "outputs": [
    {
     "name": "stdout",
     "output_type": "stream",
     "text": [
      "Defining s11, s12, s22, s13, s23, s33\n",
      "Defining s11, s12, s22, s13, s23, s33, g11, g12, g13, g14, g15, g16, g21, g22, g23, g24, g25, g26, g31, g32, g33, g34, g35, g36, g41, g42, g43, g44, g45, g46, g51, g52, g53, g54, g55, g56, g61, g62, g63, g64, g65, g66\n",
      "\n",
      "A basis of the Lie algebra consists of the following matrices:\n",
      "\n"
     ]
    },
    {
     "data": {
      "text/html": [
       "<html>\\(\\displaystyle \\left[\\left(\\begin{array}{rrrrrr}\n",
       "1 & 0 & 0 & 0 & 0 & 0 \\\\\n",
       "0 & 0 & 0 & 0 & 0 & 0 \\\\\n",
       "0 & 0 & 0 & 0 & 0 & 0 \\\\\n",
       "0 & 0 & 0 & 0 & 0 & 0 \\\\\n",
       "0 & 0 & 0 & 0 & -1 & 0 \\\\\n",
       "0 & 0 & 1 & 0 & 0 & -1\n",
       "\\end{array}\\right), \\left(\\begin{array}{rrrrrr}\n",
       "0 & 0 & 0 & 0 & 0 & 0 \\\\\n",
       "1 & 0 & 0 & 0 & 0 & 0 \\\\\n",
       "0 & 0 & 0 & 0 & 0 & 0 \\\\\n",
       "0 & 0 & 0 & 0 & 0 & 0 \\\\\n",
       "0 & 0 & 0 & 1 & 0 & 0 \\\\\n",
       "0 & -2 & 0 & 0 & 0 & 0\n",
       "\\end{array}\\right), \\left(\\begin{array}{rrrrrr}\n",
       "0 & 0 & 0 & 0 & 0 & 0 \\\\\n",
       "0 & 1 & 0 & 0 & 0 & 0 \\\\\n",
       "0 & 0 & 0 & 0 & 0 & 0 \\\\\n",
       "0 & 0 & 0 & 1 & 0 & 0 \\\\\n",
       "0 & 0 & 0 & 0 & 2 & 0 \\\\\n",
       "0 & 0 & -2 & 0 & 0 & 2\n",
       "\\end{array}\\right), \\left(\\begin{array}{rrrrrr}\n",
       "0 & 0 & 0 & 0 & 0 & 0 \\\\\n",
       "0 & 0 & 0 & 1 & 0 & 0 \\\\\n",
       "0 & 0 & 0 & 0 & 0 & 0 \\\\\n",
       "0 & -1 & 0 & 0 & 0 & 0 \\\\\n",
       "0 & 0 & -1 & 0 & 0 & 1 \\\\\n",
       "0 & 0 & 0 & 0 & -4 & 0\n",
       "\\end{array}\\right), \\left(\\begin{array}{rrrrrr}\n",
       "0 & 0 & 0 & 0 & 0 & 0 \\\\\n",
       "0 & 0 & 0 & 0 & 0 & 0 \\\\\n",
       "1 & 0 & 0 & 0 & 0 & 0 \\\\\n",
       "0 & 0 & 0 & 0 & 0 & 0 \\\\\n",
       "0 & 0 & 0 & 0 & 0 & 0 \\\\\n",
       "1 & 0 & 0 & 0 & 0 & 0\n",
       "\\end{array}\\right), \\left(\\begin{array}{rrrrrr}\n",
       "0 & 0 & 0 & 0 & 0 & 0 \\\\\n",
       "0 & 0 & 0 & 0 & 0 & 0 \\\\\n",
       "0 & 1 & 0 & 0 & 0 & 0 \\\\\n",
       "0 & 0 & 0 & 0 & 0 & 0 \\\\\n",
       "0 & 0 & 0 & 0 & 0 & 0 \\\\\n",
       "0 & 1 & 0 & 0 & 0 & 0\n",
       "\\end{array}\\right), \\left(\\begin{array}{rrrrrr}\n",
       "0 & 0 & 0 & 0 & 0 & 0 \\\\\n",
       "0 & 0 & 0 & 0 & 0 & 0 \\\\\n",
       "0 & 0 & 1 & 0 & 0 & 0 \\\\\n",
       "0 & 0 & 0 & 0 & 0 & 0 \\\\\n",
       "0 & 0 & 0 & 0 & 0 & 0 \\\\\n",
       "0 & 0 & 1 & 0 & 0 & 0\n",
       "\\end{array}\\right), \\left(\\begin{array}{rrrrrr}\n",
       "0 & 0 & 0 & 0 & 0 & 0 \\\\\n",
       "0 & 0 & 0 & 0 & 0 & 0 \\\\\n",
       "0 & 0 & 0 & 1 & 0 & 0 \\\\\n",
       "0 & 0 & 0 & 0 & 0 & 0 \\\\\n",
       "0 & 0 & 0 & 0 & 0 & 0 \\\\\n",
       "0 & 0 & 0 & 1 & 0 & 0\n",
       "\\end{array}\\right), \\left(\\begin{array}{rrrrrr}\n",
       "0 & 0 & 0 & 0 & 0 & 0 \\\\\n",
       "0 & 0 & 0 & 0 & 0 & 0 \\\\\n",
       "0 & 0 & 0 & 0 & 1 & 0 \\\\\n",
       "0 & 0 & 0 & 0 & 0 & 0 \\\\\n",
       "0 & 0 & 0 & 0 & 0 & 0 \\\\\n",
       "0 & 0 & 0 & 0 & 1 & 0\n",
       "\\end{array}\\right), \\left(\\begin{array}{rrrrrr}\n",
       "0 & 0 & 0 & 0 & 0 & 0 \\\\\n",
       "0 & 0 & 0 & 0 & 0 & 0 \\\\\n",
       "0 & 0 & 0 & 0 & 0 & 1 \\\\\n",
       "0 & 0 & 0 & 0 & 0 & 0 \\\\\n",
       "0 & 0 & 0 & 0 & 0 & 0 \\\\\n",
       "0 & 0 & 0 & 0 & 0 & 1\n",
       "\\end{array}\\right), \\left(\\begin{array}{rrrrrr}\n",
       "0 & 0 & 0 & 0 & 0 & 0 \\\\\n",
       "0 & 0 & 0 & 0 & 0 & 0 \\\\\n",
       "0 & 0 & 0 & 0 & 0 & 0 \\\\\n",
       "1 & 0 & 0 & 0 & 0 & 0 \\\\\n",
       "0 & 1 & 0 & 0 & 0 & 0 \\\\\n",
       "0 & 0 & 0 & 2 & 0 & 0\n",
       "\\end{array}\\right)\\right]\\)</html>"
      ],
      "text/latex": [
       "$\\displaystyle \\left[\\left(\\begin{array}{rrrrrr}\n",
       "1 & 0 & 0 & 0 & 0 & 0 \\\\\n",
       "0 & 0 & 0 & 0 & 0 & 0 \\\\\n",
       "0 & 0 & 0 & 0 & 0 & 0 \\\\\n",
       "0 & 0 & 0 & 0 & 0 & 0 \\\\\n",
       "0 & 0 & 0 & 0 & -1 & 0 \\\\\n",
       "0 & 0 & 1 & 0 & 0 & -1\n",
       "\\end{array}\\right), \\left(\\begin{array}{rrrrrr}\n",
       "0 & 0 & 0 & 0 & 0 & 0 \\\\\n",
       "1 & 0 & 0 & 0 & 0 & 0 \\\\\n",
       "0 & 0 & 0 & 0 & 0 & 0 \\\\\n",
       "0 & 0 & 0 & 0 & 0 & 0 \\\\\n",
       "0 & 0 & 0 & 1 & 0 & 0 \\\\\n",
       "0 & -2 & 0 & 0 & 0 & 0\n",
       "\\end{array}\\right), \\left(\\begin{array}{rrrrrr}\n",
       "0 & 0 & 0 & 0 & 0 & 0 \\\\\n",
       "0 & 1 & 0 & 0 & 0 & 0 \\\\\n",
       "0 & 0 & 0 & 0 & 0 & 0 \\\\\n",
       "0 & 0 & 0 & 1 & 0 & 0 \\\\\n",
       "0 & 0 & 0 & 0 & 2 & 0 \\\\\n",
       "0 & 0 & -2 & 0 & 0 & 2\n",
       "\\end{array}\\right), \\left(\\begin{array}{rrrrrr}\n",
       "0 & 0 & 0 & 0 & 0 & 0 \\\\\n",
       "0 & 0 & 0 & 1 & 0 & 0 \\\\\n",
       "0 & 0 & 0 & 0 & 0 & 0 \\\\\n",
       "0 & -1 & 0 & 0 & 0 & 0 \\\\\n",
       "0 & 0 & -1 & 0 & 0 & 1 \\\\\n",
       "0 & 0 & 0 & 0 & -4 & 0\n",
       "\\end{array}\\right), \\left(\\begin{array}{rrrrrr}\n",
       "0 & 0 & 0 & 0 & 0 & 0 \\\\\n",
       "0 & 0 & 0 & 0 & 0 & 0 \\\\\n",
       "1 & 0 & 0 & 0 & 0 & 0 \\\\\n",
       "0 & 0 & 0 & 0 & 0 & 0 \\\\\n",
       "0 & 0 & 0 & 0 & 0 & 0 \\\\\n",
       "1 & 0 & 0 & 0 & 0 & 0\n",
       "\\end{array}\\right), \\left(\\begin{array}{rrrrrr}\n",
       "0 & 0 & 0 & 0 & 0 & 0 \\\\\n",
       "0 & 0 & 0 & 0 & 0 & 0 \\\\\n",
       "0 & 1 & 0 & 0 & 0 & 0 \\\\\n",
       "0 & 0 & 0 & 0 & 0 & 0 \\\\\n",
       "0 & 0 & 0 & 0 & 0 & 0 \\\\\n",
       "0 & 1 & 0 & 0 & 0 & 0\n",
       "\\end{array}\\right), \\left(\\begin{array}{rrrrrr}\n",
       "0 & 0 & 0 & 0 & 0 & 0 \\\\\n",
       "0 & 0 & 0 & 0 & 0 & 0 \\\\\n",
       "0 & 0 & 1 & 0 & 0 & 0 \\\\\n",
       "0 & 0 & 0 & 0 & 0 & 0 \\\\\n",
       "0 & 0 & 0 & 0 & 0 & 0 \\\\\n",
       "0 & 0 & 1 & 0 & 0 & 0\n",
       "\\end{array}\\right), \\left(\\begin{array}{rrrrrr}\n",
       "0 & 0 & 0 & 0 & 0 & 0 \\\\\n",
       "0 & 0 & 0 & 0 & 0 & 0 \\\\\n",
       "0 & 0 & 0 & 1 & 0 & 0 \\\\\n",
       "0 & 0 & 0 & 0 & 0 & 0 \\\\\n",
       "0 & 0 & 0 & 0 & 0 & 0 \\\\\n",
       "0 & 0 & 0 & 1 & 0 & 0\n",
       "\\end{array}\\right), \\left(\\begin{array}{rrrrrr}\n",
       "0 & 0 & 0 & 0 & 0 & 0 \\\\\n",
       "0 & 0 & 0 & 0 & 0 & 0 \\\\\n",
       "0 & 0 & 0 & 0 & 1 & 0 \\\\\n",
       "0 & 0 & 0 & 0 & 0 & 0 \\\\\n",
       "0 & 0 & 0 & 0 & 0 & 0 \\\\\n",
       "0 & 0 & 0 & 0 & 1 & 0\n",
       "\\end{array}\\right), \\left(\\begin{array}{rrrrrr}\n",
       "0 & 0 & 0 & 0 & 0 & 0 \\\\\n",
       "0 & 0 & 0 & 0 & 0 & 0 \\\\\n",
       "0 & 0 & 0 & 0 & 0 & 1 \\\\\n",
       "0 & 0 & 0 & 0 & 0 & 0 \\\\\n",
       "0 & 0 & 0 & 0 & 0 & 0 \\\\\n",
       "0 & 0 & 0 & 0 & 0 & 1\n",
       "\\end{array}\\right), \\left(\\begin{array}{rrrrrr}\n",
       "0 & 0 & 0 & 0 & 0 & 0 \\\\\n",
       "0 & 0 & 0 & 0 & 0 & 0 \\\\\n",
       "0 & 0 & 0 & 0 & 0 & 0 \\\\\n",
       "1 & 0 & 0 & 0 & 0 & 0 \\\\\n",
       "0 & 1 & 0 & 0 & 0 & 0 \\\\\n",
       "0 & 0 & 0 & 2 & 0 & 0\n",
       "\\end{array}\\right)\\right]$"
      ],
      "text/plain": [
       "[\n",
       "[ 1  0  0  0  0  0]  [ 0  0  0  0  0  0]  [ 0  0  0  0  0  0]\n",
       "[ 0  0  0  0  0  0]  [ 1  0  0  0  0  0]  [ 0  1  0  0  0  0]\n",
       "[ 0  0  0  0  0  0]  [ 0  0  0  0  0  0]  [ 0  0  0  0  0  0]\n",
       "[ 0  0  0  0  0  0]  [ 0  0  0  0  0  0]  [ 0  0  0  1  0  0]\n",
       "[ 0  0  0  0 -1  0]  [ 0  0  0  1  0  0]  [ 0  0  0  0  2  0]\n",
       "[ 0  0  1  0  0 -1], [ 0 -2  0  0  0  0], [ 0  0 -2  0  0  2],\n",
       "\n",
       "[ 0  0  0  0  0  0]  [0 0 0 0 0 0]  [0 0 0 0 0 0]  [0 0 0 0 0 0]\n",
       "[ 0  0  0  1  0  0]  [0 0 0 0 0 0]  [0 0 0 0 0 0]  [0 0 0 0 0 0]\n",
       "[ 0  0  0  0  0  0]  [1 0 0 0 0 0]  [0 1 0 0 0 0]  [0 0 1 0 0 0]\n",
       "[ 0 -1  0  0  0  0]  [0 0 0 0 0 0]  [0 0 0 0 0 0]  [0 0 0 0 0 0]\n",
       "[ 0  0 -1  0  0  1]  [0 0 0 0 0 0]  [0 0 0 0 0 0]  [0 0 0 0 0 0]\n",
       "[ 0  0  0  0 -4  0], [1 0 0 0 0 0], [0 1 0 0 0 0], [0 0 1 0 0 0],\n",
       "\n",
       "[0 0 0 0 0 0]  [0 0 0 0 0 0]  [0 0 0 0 0 0]  [0 0 0 0 0 0]\n",
       "[0 0 0 0 0 0]  [0 0 0 0 0 0]  [0 0 0 0 0 0]  [0 0 0 0 0 0]\n",
       "[0 0 0 1 0 0]  [0 0 0 0 1 0]  [0 0 0 0 0 1]  [0 0 0 0 0 0]\n",
       "[0 0 0 0 0 0]  [0 0 0 0 0 0]  [0 0 0 0 0 0]  [1 0 0 0 0 0]\n",
       "[0 0 0 0 0 0]  [0 0 0 0 0 0]  [0 0 0 0 0 0]  [0 1 0 0 0 0]\n",
       "[0 0 0 1 0 0], [0 0 0 0 1 0], [0 0 0 0 0 1], [0 0 0 2 0 0]\n",
       "]"
      ]
     },
     "metadata": {},
     "output_type": "display_data"
    }
   ],
   "source": [
    "load('Symmalg.sage')\n",
    "#LieI = gap.LieAlgebra(gap.Rationals,L)\n",
    "LieI = symmalg(gens, n=6)"
   ]
  },
  {
   "cell_type": "code",
   "execution_count": 8,
   "id": "910c2a66",
   "metadata": {},
   "outputs": [
    {
     "data": {
      "text/plain": [
       "11"
      ]
     },
     "execution_count": 8,
     "metadata": {},
     "output_type": "execute_result"
    }
   ],
   "source": [
    "LieI.Dimension()"
   ]
  },
  {
   "cell_type": "code",
   "execution_count": 10,
   "id": "8db2c433",
   "metadata": {},
   "outputs": [
    {
     "data": {
      "text/plain": [
       "true"
      ]
     },
     "execution_count": 10,
     "metadata": {},
     "output_type": "execute_result"
    }
   ],
   "source": [
    "LieI.IsLieSolvable()"
   ]
  },
  {
   "cell_type": "code",
   "execution_count": 22,
   "id": "58e6a82d",
   "metadata": {},
   "outputs": [
    {
     "data": {
      "text/html": [
       "<html>\\(\\displaystyle \\left[\\left(\\begin{array}{rrrrrr}\n",
       "1 & 0 & 0 & 0 & 0 & 0 \\\\\n",
       "0 & 0 & 0 & 0 & 0 & 0 \\\\\n",
       "0 & 0 & 0 & 0 & 0 & 0 \\\\\n",
       "0 & 0 & 0 & 0 & 0 & 0 \\\\\n",
       "0 & 0 & 0 & 0 & -1 & 0 \\\\\n",
       "0 & 0 & 1 & 0 & 0 & -1\n",
       "\\end{array}\\right), \\left(\\begin{array}{rrrrrr}\n",
       "0 & 0 & 0 & 0 & 0 & 0 \\\\\n",
       "1 & 0 & 0 & 0 & 0 & 0 \\\\\n",
       "0 & 0 & 0 & 0 & 0 & 0 \\\\\n",
       "0 & 0 & 0 & 0 & 0 & 0 \\\\\n",
       "0 & 0 & 0 & 1 & 0 & 0 \\\\\n",
       "0 & -2 & 0 & 0 & 0 & 0\n",
       "\\end{array}\\right), \\left(\\begin{array}{rrrrrr}\n",
       "0 & 0 & 0 & 0 & 0 & 0 \\\\\n",
       "0 & 1 & 0 & 0 & 0 & 0 \\\\\n",
       "0 & 0 & 0 & 0 & 0 & 0 \\\\\n",
       "0 & 0 & 0 & 1 & 0 & 0 \\\\\n",
       "0 & 0 & 0 & 0 & 2 & 0 \\\\\n",
       "0 & 0 & -2 & 0 & 0 & 2\n",
       "\\end{array}\\right), \\left(\\begin{array}{rrrrrr}\n",
       "0 & 0 & 0 & 0 & 0 & 0 \\\\\n",
       "0 & 0 & 0 & 1 & 0 & 0 \\\\\n",
       "0 & 0 & 0 & 0 & 0 & 0 \\\\\n",
       "0 & -1 & 0 & 0 & 0 & 0 \\\\\n",
       "0 & 0 & -1 & 0 & 0 & 1 \\\\\n",
       "0 & 0 & 0 & 0 & -4 & 0\n",
       "\\end{array}\\right), \\left(\\begin{array}{rrrrrr}\n",
       "0 & 0 & 0 & 0 & 0 & 0 \\\\\n",
       "0 & 0 & 0 & 0 & 0 & 0 \\\\\n",
       "1 & 0 & 0 & 0 & 0 & 0 \\\\\n",
       "0 & 0 & 0 & 0 & 0 & 0 \\\\\n",
       "0 & 0 & 0 & 0 & 0 & 0 \\\\\n",
       "1 & 0 & 0 & 0 & 0 & 0\n",
       "\\end{array}\\right), \\left(\\begin{array}{rrrrrr}\n",
       "0 & 0 & 0 & 0 & 0 & 0 \\\\\n",
       "0 & 0 & 0 & 0 & 0 & 0 \\\\\n",
       "0 & 1 & 0 & 0 & 0 & 0 \\\\\n",
       "0 & 0 & 0 & 0 & 0 & 0 \\\\\n",
       "0 & 0 & 0 & 0 & 0 & 0 \\\\\n",
       "0 & 1 & 0 & 0 & 0 & 0\n",
       "\\end{array}\\right), \\left(\\begin{array}{rrrrrr}\n",
       "0 & 0 & 0 & 0 & 0 & 0 \\\\\n",
       "0 & 0 & 0 & 0 & 0 & 0 \\\\\n",
       "0 & 0 & 1 & 0 & 0 & 0 \\\\\n",
       "0 & 0 & 0 & 0 & 0 & 0 \\\\\n",
       "0 & 0 & 0 & 0 & 0 & 0 \\\\\n",
       "0 & 0 & 1 & 0 & 0 & 0\n",
       "\\end{array}\\right), \\left(\\begin{array}{rrrrrr}\n",
       "0 & 0 & 0 & 0 & 0 & 0 \\\\\n",
       "0 & 0 & 0 & 0 & 0 & 0 \\\\\n",
       "0 & 0 & 0 & 1 & 0 & 0 \\\\\n",
       "0 & 0 & 0 & 0 & 0 & 0 \\\\\n",
       "0 & 0 & 0 & 0 & 0 & 0 \\\\\n",
       "0 & 0 & 0 & 1 & 0 & 0\n",
       "\\end{array}\\right), \\left(\\begin{array}{rrrrrr}\n",
       "0 & 0 & 0 & 0 & 0 & 0 \\\\\n",
       "0 & 0 & 0 & 0 & 0 & 0 \\\\\n",
       "0 & 0 & 0 & 0 & 1 & 0 \\\\\n",
       "0 & 0 & 0 & 0 & 0 & 0 \\\\\n",
       "0 & 0 & 0 & 0 & 0 & 0 \\\\\n",
       "0 & 0 & 0 & 0 & 1 & 0\n",
       "\\end{array}\\right), \\left(\\begin{array}{rrrrrr}\n",
       "0 & 0 & 0 & 0 & 0 & 0 \\\\\n",
       "0 & 0 & 0 & 0 & 0 & 0 \\\\\n",
       "0 & 0 & 0 & 0 & 0 & 1 \\\\\n",
       "0 & 0 & 0 & 0 & 0 & 0 \\\\\n",
       "0 & 0 & 0 & 0 & 0 & 0 \\\\\n",
       "0 & 0 & 0 & 0 & 0 & 1\n",
       "\\end{array}\\right), \\left(\\begin{array}{rrrrrr}\n",
       "0 & 0 & 0 & 0 & 0 & 0 \\\\\n",
       "0 & 0 & 0 & 0 & 0 & 0 \\\\\n",
       "0 & 0 & 0 & 0 & 0 & 0 \\\\\n",
       "1 & 0 & 0 & 0 & 0 & 0 \\\\\n",
       "0 & 1 & 0 & 0 & 0 & 0 \\\\\n",
       "0 & 0 & 0 & 2 & 0 & 0\n",
       "\\end{array}\\right)\\right]\\)</html>"
      ],
      "text/latex": [
       "$\\displaystyle \\left[\\left(\\begin{array}{rrrrrr}\n",
       "1 & 0 & 0 & 0 & 0 & 0 \\\\\n",
       "0 & 0 & 0 & 0 & 0 & 0 \\\\\n",
       "0 & 0 & 0 & 0 & 0 & 0 \\\\\n",
       "0 & 0 & 0 & 0 & 0 & 0 \\\\\n",
       "0 & 0 & 0 & 0 & -1 & 0 \\\\\n",
       "0 & 0 & 1 & 0 & 0 & -1\n",
       "\\end{array}\\right), \\left(\\begin{array}{rrrrrr}\n",
       "0 & 0 & 0 & 0 & 0 & 0 \\\\\n",
       "1 & 0 & 0 & 0 & 0 & 0 \\\\\n",
       "0 & 0 & 0 & 0 & 0 & 0 \\\\\n",
       "0 & 0 & 0 & 0 & 0 & 0 \\\\\n",
       "0 & 0 & 0 & 1 & 0 & 0 \\\\\n",
       "0 & -2 & 0 & 0 & 0 & 0\n",
       "\\end{array}\\right), \\left(\\begin{array}{rrrrrr}\n",
       "0 & 0 & 0 & 0 & 0 & 0 \\\\\n",
       "0 & 1 & 0 & 0 & 0 & 0 \\\\\n",
       "0 & 0 & 0 & 0 & 0 & 0 \\\\\n",
       "0 & 0 & 0 & 1 & 0 & 0 \\\\\n",
       "0 & 0 & 0 & 0 & 2 & 0 \\\\\n",
       "0 & 0 & -2 & 0 & 0 & 2\n",
       "\\end{array}\\right), \\left(\\begin{array}{rrrrrr}\n",
       "0 & 0 & 0 & 0 & 0 & 0 \\\\\n",
       "0 & 0 & 0 & 1 & 0 & 0 \\\\\n",
       "0 & 0 & 0 & 0 & 0 & 0 \\\\\n",
       "0 & -1 & 0 & 0 & 0 & 0 \\\\\n",
       "0 & 0 & -1 & 0 & 0 & 1 \\\\\n",
       "0 & 0 & 0 & 0 & -4 & 0\n",
       "\\end{array}\\right), \\left(\\begin{array}{rrrrrr}\n",
       "0 & 0 & 0 & 0 & 0 & 0 \\\\\n",
       "0 & 0 & 0 & 0 & 0 & 0 \\\\\n",
       "1 & 0 & 0 & 0 & 0 & 0 \\\\\n",
       "0 & 0 & 0 & 0 & 0 & 0 \\\\\n",
       "0 & 0 & 0 & 0 & 0 & 0 \\\\\n",
       "1 & 0 & 0 & 0 & 0 & 0\n",
       "\\end{array}\\right), \\left(\\begin{array}{rrrrrr}\n",
       "0 & 0 & 0 & 0 & 0 & 0 \\\\\n",
       "0 & 0 & 0 & 0 & 0 & 0 \\\\\n",
       "0 & 1 & 0 & 0 & 0 & 0 \\\\\n",
       "0 & 0 & 0 & 0 & 0 & 0 \\\\\n",
       "0 & 0 & 0 & 0 & 0 & 0 \\\\\n",
       "0 & 1 & 0 & 0 & 0 & 0\n",
       "\\end{array}\\right), \\left(\\begin{array}{rrrrrr}\n",
       "0 & 0 & 0 & 0 & 0 & 0 \\\\\n",
       "0 & 0 & 0 & 0 & 0 & 0 \\\\\n",
       "0 & 0 & 1 & 0 & 0 & 0 \\\\\n",
       "0 & 0 & 0 & 0 & 0 & 0 \\\\\n",
       "0 & 0 & 0 & 0 & 0 & 0 \\\\\n",
       "0 & 0 & 1 & 0 & 0 & 0\n",
       "\\end{array}\\right), \\left(\\begin{array}{rrrrrr}\n",
       "0 & 0 & 0 & 0 & 0 & 0 \\\\\n",
       "0 & 0 & 0 & 0 & 0 & 0 \\\\\n",
       "0 & 0 & 0 & 1 & 0 & 0 \\\\\n",
       "0 & 0 & 0 & 0 & 0 & 0 \\\\\n",
       "0 & 0 & 0 & 0 & 0 & 0 \\\\\n",
       "0 & 0 & 0 & 1 & 0 & 0\n",
       "\\end{array}\\right), \\left(\\begin{array}{rrrrrr}\n",
       "0 & 0 & 0 & 0 & 0 & 0 \\\\\n",
       "0 & 0 & 0 & 0 & 0 & 0 \\\\\n",
       "0 & 0 & 0 & 0 & 1 & 0 \\\\\n",
       "0 & 0 & 0 & 0 & 0 & 0 \\\\\n",
       "0 & 0 & 0 & 0 & 0 & 0 \\\\\n",
       "0 & 0 & 0 & 0 & 1 & 0\n",
       "\\end{array}\\right), \\left(\\begin{array}{rrrrrr}\n",
       "0 & 0 & 0 & 0 & 0 & 0 \\\\\n",
       "0 & 0 & 0 & 0 & 0 & 0 \\\\\n",
       "0 & 0 & 0 & 0 & 0 & 1 \\\\\n",
       "0 & 0 & 0 & 0 & 0 & 0 \\\\\n",
       "0 & 0 & 0 & 0 & 0 & 0 \\\\\n",
       "0 & 0 & 0 & 0 & 0 & 1\n",
       "\\end{array}\\right), \\left(\\begin{array}{rrrrrr}\n",
       "0 & 0 & 0 & 0 & 0 & 0 \\\\\n",
       "0 & 0 & 0 & 0 & 0 & 0 \\\\\n",
       "0 & 0 & 0 & 0 & 0 & 0 \\\\\n",
       "1 & 0 & 0 & 0 & 0 & 0 \\\\\n",
       "0 & 1 & 0 & 0 & 0 & 0 \\\\\n",
       "0 & 0 & 0 & 2 & 0 & 0\n",
       "\\end{array}\\right)\\right]$"
      ],
      "text/plain": [
       "[\n",
       "[ 1  0  0  0  0  0]  [ 0  0  0  0  0  0]  [ 0  0  0  0  0  0]\n",
       "[ 0  0  0  0  0  0]  [ 1  0  0  0  0  0]  [ 0  1  0  0  0  0]\n",
       "[ 0  0  0  0  0  0]  [ 0  0  0  0  0  0]  [ 0  0  0  0  0  0]\n",
       "[ 0  0  0  0  0  0]  [ 0  0  0  0  0  0]  [ 0  0  0  1  0  0]\n",
       "[ 0  0  0  0 -1  0]  [ 0  0  0  1  0  0]  [ 0  0  0  0  2  0]\n",
       "[ 0  0  1  0  0 -1], [ 0 -2  0  0  0  0], [ 0  0 -2  0  0  2],\n",
       "\n",
       "[ 0  0  0  0  0  0]  [0 0 0 0 0 0]  [0 0 0 0 0 0]  [0 0 0 0 0 0]\n",
       "[ 0  0  0  1  0  0]  [0 0 0 0 0 0]  [0 0 0 0 0 0]  [0 0 0 0 0 0]\n",
       "[ 0  0  0  0  0  0]  [1 0 0 0 0 0]  [0 1 0 0 0 0]  [0 0 1 0 0 0]\n",
       "[ 0 -1  0  0  0  0]  [0 0 0 0 0 0]  [0 0 0 0 0 0]  [0 0 0 0 0 0]\n",
       "[ 0  0 -1  0  0  1]  [0 0 0 0 0 0]  [0 0 0 0 0 0]  [0 0 0 0 0 0]\n",
       "[ 0  0  0  0 -4  0], [1 0 0 0 0 0], [0 1 0 0 0 0], [0 0 1 0 0 0],\n",
       "\n",
       "[0 0 0 0 0 0]  [0 0 0 0 0 0]  [0 0 0 0 0 0]  [0 0 0 0 0 0]\n",
       "[0 0 0 0 0 0]  [0 0 0 0 0 0]  [0 0 0 0 0 0]  [0 0 0 0 0 0]\n",
       "[0 0 0 1 0 0]  [0 0 0 0 1 0]  [0 0 0 0 0 1]  [0 0 0 0 0 0]\n",
       "[0 0 0 0 0 0]  [0 0 0 0 0 0]  [0 0 0 0 0 0]  [1 0 0 0 0 0]\n",
       "[0 0 0 0 0 0]  [0 0 0 0 0 0]  [0 0 0 0 0 0]  [0 1 0 0 0 0]\n",
       "[0 0 0 1 0 0], [0 0 0 0 1 0], [0 0 0 0 0 1], [0 0 0 2 0 0]\n",
       "]"
      ]
     },
     "metadata": {},
     "output_type": "display_data"
    }
   ],
   "source": [
    "L = []\n",
    "for m in LieI.Basis():\n",
    "    L.append(matrix(QQ,m))\n",
    "show(L)"
   ]
  },
  {
   "cell_type": "code",
   "execution_count": 27,
   "id": "b9269bc8",
   "metadata": {},
   "outputs": [],
   "source": [
    "K = QQ[sqrt(-1)]\n",
    "V = VectorSpace(K,6)\n",
    "espaces = []\n",
    "for l in L:\n",
    "    espace = []\n",
    "    for S in l.right_eigenspaces():\n",
    "        espace.append(V.subspace(S[1]))\n",
    "    espaces.append(espace)\n"
   ]
  },
  {
   "cell_type": "code",
   "execution_count": 34,
   "id": "e4474097",
   "metadata": {},
   "outputs": [
    {
     "data": {
      "text/plain": [
       "[Vector space of degree 6 and dimension 1 over Number Field in I with defining polynomial x^2 + 1 with I = 1*I\n",
       " Basis matrix:\n",
       " [0 0 1 0 0 1]]"
      ]
     },
     "execution_count": 34,
     "metadata": {},
     "output_type": "execute_result"
    }
   ],
   "source": [
    "Spaces = espaces[0]\n",
    "for e in espaces:\n",
    "    temp = []\n",
    "    for v in e:\n",
    "        for s in Spaces:\n",
    "            t = v.intersection(s)\n",
    "            if dim(t)!=0 and t not in temp:\n",
    "                temp.append(t)\n",
    "    Spaces = temp\n",
    "v = Spaces[0].basis()[0]\n",
    "Spaces"
   ]
  },
  {
   "cell_type": "raw",
   "id": "4932d59f",
   "metadata": {},
   "source": [
    "vm = vector(QQ,v)\n",
    "#(L[6]*vm).stack(vm)\n",
    "matrix(QQ,[vm, L[6]*vm]).rank()\n",
    "L[8]*vm in Spaces[0]"
   ]
  },
  {
   "cell_type": "code",
   "execution_count": 31,
   "id": "1d39bd0a",
   "metadata": {},
   "outputs": [
    {
     "data": {
      "text/html": [
       "<html>\\(\\displaystyle \\left(\\begin{array}{rrrrrr}\n",
       "0 & 0 & 1 & 0 & 0 & 0 \\\\\n",
       "0 & 1 & 0 & 0 & 0 & 0 \\\\\n",
       "1 & 0 & 0 & 0 & 0 & 0 \\\\\n",
       "0 & 0 & 0 & 1 & 0 & 0 \\\\\n",
       "0 & 0 & 0 & 0 & 1 & 0 \\\\\n",
       "1 & 0 & 0 & 0 & 0 & 1\n",
       "\\end{array}\\right)\\)</html>"
      ],
      "text/latex": [
       "$\\displaystyle \\left(\\begin{array}{rrrrrr}\n",
       "0 & 0 & 1 & 0 & 0 & 0 \\\\\n",
       "0 & 1 & 0 & 0 & 0 & 0 \\\\\n",
       "1 & 0 & 0 & 0 & 0 & 0 \\\\\n",
       "0 & 0 & 0 & 1 & 0 & 0 \\\\\n",
       "0 & 0 & 0 & 0 & 1 & 0 \\\\\n",
       "1 & 0 & 0 & 0 & 0 & 1\n",
       "\\end{array}\\right)$"
      ],
      "text/plain": [
       "[0 0 1 0 0 0]\n",
       "[0 1 0 0 0 0]\n",
       "[1 0 0 0 0 0]\n",
       "[0 0 0 1 0 0]\n",
       "[0 0 0 0 1 0]\n",
       "[1 0 0 0 0 1]"
      ]
     },
     "metadata": {},
     "output_type": "display_data"
    },
    {
     "data": {
      "text/html": [
       "<html>\\(\\displaystyle \\left(\\begin{array}{rrrrrr}\n",
       "0 & 0 & 0 & 0 & 0 & 0 \\\\\n",
       "0 & 0 & 0 & 0 & 0 & 0 \\\\\n",
       "0 & 0 & 1 & 0 & 0 & 0 \\\\\n",
       "0 & 0 & 0 & 0 & 0 & 0 \\\\\n",
       "0 & 0 & 0 & 0 & -1 & 0 \\\\\n",
       "0 & 0 & 0 & 0 & 0 & -1\n",
       "\\end{array}\\right)\\)</html>"
      ],
      "text/latex": [
       "$\\displaystyle \\left(\\begin{array}{rrrrrr}\n",
       "0 & 0 & 0 & 0 & 0 & 0 \\\\\n",
       "0 & 0 & 0 & 0 & 0 & 0 \\\\\n",
       "0 & 0 & 1 & 0 & 0 & 0 \\\\\n",
       "0 & 0 & 0 & 0 & 0 & 0 \\\\\n",
       "0 & 0 & 0 & 0 & -1 & 0 \\\\\n",
       "0 & 0 & 0 & 0 & 0 & -1\n",
       "\\end{array}\\right)$"
      ],
      "text/plain": [
       "[ 0  0  0  0  0  0]\n",
       "[ 0  0  0  0  0  0]\n",
       "[ 0  0  1  0  0  0]\n",
       "[ 0  0  0  0  0  0]\n",
       "[ 0  0  0  0 -1  0]\n",
       "[ 0  0  0  0  0 -1]"
      ]
     },
     "metadata": {},
     "output_type": "display_data"
    },
    {
     "data": {
      "text/html": [
       "<html>\\(\\displaystyle \\left(\\begin{array}{rrrrrr}\n",
       "0 & 0 & 0 & 0 & 0 & 0 \\\\\n",
       "0 & 0 & 1 & 0 & 0 & 0 \\\\\n",
       "0 & 0 & 0 & 0 & 0 & 0 \\\\\n",
       "0 & 0 & 0 & 0 & 0 & 0 \\\\\n",
       "0 & 0 & 0 & 1 & 0 & 0 \\\\\n",
       "0 & -2 & 0 & 0 & 0 & 0\n",
       "\\end{array}\\right)\\)</html>"
      ],
      "text/latex": [
       "$\\displaystyle \\left(\\begin{array}{rrrrrr}\n",
       "0 & 0 & 0 & 0 & 0 & 0 \\\\\n",
       "0 & 0 & 1 & 0 & 0 & 0 \\\\\n",
       "0 & 0 & 0 & 0 & 0 & 0 \\\\\n",
       "0 & 0 & 0 & 0 & 0 & 0 \\\\\n",
       "0 & 0 & 0 & 1 & 0 & 0 \\\\\n",
       "0 & -2 & 0 & 0 & 0 & 0\n",
       "\\end{array}\\right)$"
      ],
      "text/plain": [
       "[ 0  0  0  0  0  0]\n",
       "[ 0  0  1  0  0  0]\n",
       "[ 0  0  0  0  0  0]\n",
       "[ 0  0  0  0  0  0]\n",
       "[ 0  0  0  1  0  0]\n",
       "[ 0 -2  0  0  0  0]"
      ]
     },
     "metadata": {},
     "output_type": "display_data"
    },
    {
     "data": {
      "text/html": [
       "<html>\\(\\displaystyle \\left(\\begin{array}{rrrrrr}\n",
       "0 & 0 & 0 & 0 & 0 & 0 \\\\\n",
       "0 & 1 & 0 & 0 & 0 & 0 \\\\\n",
       "0 & 0 & 0 & 0 & 0 & 0 \\\\\n",
       "0 & 0 & 0 & 1 & 0 & 0 \\\\\n",
       "0 & 0 & 0 & 0 & 2 & 0 \\\\\n",
       "0 & 0 & 0 & 0 & 0 & 2\n",
       "\\end{array}\\right)\\)</html>"
      ],
      "text/latex": [
       "$\\displaystyle \\left(\\begin{array}{rrrrrr}\n",
       "0 & 0 & 0 & 0 & 0 & 0 \\\\\n",
       "0 & 1 & 0 & 0 & 0 & 0 \\\\\n",
       "0 & 0 & 0 & 0 & 0 & 0 \\\\\n",
       "0 & 0 & 0 & 1 & 0 & 0 \\\\\n",
       "0 & 0 & 0 & 0 & 2 & 0 \\\\\n",
       "0 & 0 & 0 & 0 & 0 & 2\n",
       "\\end{array}\\right)$"
      ],
      "text/plain": [
       "[0 0 0 0 0 0]\n",
       "[0 1 0 0 0 0]\n",
       "[0 0 0 0 0 0]\n",
       "[0 0 0 1 0 0]\n",
       "[0 0 0 0 2 0]\n",
       "[0 0 0 0 0 2]"
      ]
     },
     "metadata": {},
     "output_type": "display_data"
    },
    {
     "data": {
      "text/html": [
       "<html>\\(\\displaystyle \\left(\\begin{array}{rrrrrr}\n",
       "0 & 0 & 0 & 0 & 0 & 0 \\\\\n",
       "0 & 0 & 0 & 1 & 0 & 0 \\\\\n",
       "0 & 0 & 0 & 0 & 0 & 0 \\\\\n",
       "0 & -1 & 0 & 0 & 0 & 0 \\\\\n",
       "0 & 0 & 0 & 0 & 0 & 1 \\\\\n",
       "0 & 0 & 0 & 0 & -4 & 0\n",
       "\\end{array}\\right)\\)</html>"
      ],
      "text/latex": [
       "$\\displaystyle \\left(\\begin{array}{rrrrrr}\n",
       "0 & 0 & 0 & 0 & 0 & 0 \\\\\n",
       "0 & 0 & 0 & 1 & 0 & 0 \\\\\n",
       "0 & 0 & 0 & 0 & 0 & 0 \\\\\n",
       "0 & -1 & 0 & 0 & 0 & 0 \\\\\n",
       "0 & 0 & 0 & 0 & 0 & 1 \\\\\n",
       "0 & 0 & 0 & 0 & -4 & 0\n",
       "\\end{array}\\right)$"
      ],
      "text/plain": [
       "[ 0  0  0  0  0  0]\n",
       "[ 0  0  0  1  0  0]\n",
       "[ 0  0  0  0  0  0]\n",
       "[ 0 -1  0  0  0  0]\n",
       "[ 0  0  0  0  0  1]\n",
       "[ 0  0  0  0 -4  0]"
      ]
     },
     "metadata": {},
     "output_type": "display_data"
    },
    {
     "data": {
      "text/html": [
       "<html>\\(\\displaystyle \\left(\\begin{array}{rrrrrr}\n",
       "0 & 0 & 1 & 0 & 0 & 0 \\\\\n",
       "0 & 0 & 0 & 0 & 0 & 0 \\\\\n",
       "0 & 0 & 0 & 0 & 0 & 0 \\\\\n",
       "0 & 0 & 0 & 0 & 0 & 0 \\\\\n",
       "0 & 0 & 0 & 0 & 0 & 0 \\\\\n",
       "0 & 0 & 0 & 0 & 0 & 0\n",
       "\\end{array}\\right)\\)</html>"
      ],
      "text/latex": [
       "$\\displaystyle \\left(\\begin{array}{rrrrrr}\n",
       "0 & 0 & 1 & 0 & 0 & 0 \\\\\n",
       "0 & 0 & 0 & 0 & 0 & 0 \\\\\n",
       "0 & 0 & 0 & 0 & 0 & 0 \\\\\n",
       "0 & 0 & 0 & 0 & 0 & 0 \\\\\n",
       "0 & 0 & 0 & 0 & 0 & 0 \\\\\n",
       "0 & 0 & 0 & 0 & 0 & 0\n",
       "\\end{array}\\right)$"
      ],
      "text/plain": [
       "[0 0 1 0 0 0]\n",
       "[0 0 0 0 0 0]\n",
       "[0 0 0 0 0 0]\n",
       "[0 0 0 0 0 0]\n",
       "[0 0 0 0 0 0]\n",
       "[0 0 0 0 0 0]"
      ]
     },
     "metadata": {},
     "output_type": "display_data"
    },
    {
     "data": {
      "text/html": [
       "<html>\\(\\displaystyle \\left(\\begin{array}{rrrrrr}\n",
       "0 & 1 & 0 & 0 & 0 & 0 \\\\\n",
       "0 & 0 & 0 & 0 & 0 & 0 \\\\\n",
       "0 & 0 & 0 & 0 & 0 & 0 \\\\\n",
       "0 & 0 & 0 & 0 & 0 & 0 \\\\\n",
       "0 & 0 & 0 & 0 & 0 & 0 \\\\\n",
       "0 & 0 & 0 & 0 & 0 & 0\n",
       "\\end{array}\\right)\\)</html>"
      ],
      "text/latex": [
       "$\\displaystyle \\left(\\begin{array}{rrrrrr}\n",
       "0 & 1 & 0 & 0 & 0 & 0 \\\\\n",
       "0 & 0 & 0 & 0 & 0 & 0 \\\\\n",
       "0 & 0 & 0 & 0 & 0 & 0 \\\\\n",
       "0 & 0 & 0 & 0 & 0 & 0 \\\\\n",
       "0 & 0 & 0 & 0 & 0 & 0 \\\\\n",
       "0 & 0 & 0 & 0 & 0 & 0\n",
       "\\end{array}\\right)$"
      ],
      "text/plain": [
       "[0 1 0 0 0 0]\n",
       "[0 0 0 0 0 0]\n",
       "[0 0 0 0 0 0]\n",
       "[0 0 0 0 0 0]\n",
       "[0 0 0 0 0 0]\n",
       "[0 0 0 0 0 0]"
      ]
     },
     "metadata": {},
     "output_type": "display_data"
    },
    {
     "data": {
      "text/html": [
       "<html>\\(\\displaystyle \\left(\\begin{array}{rrrrrr}\n",
       "1 & 0 & 0 & 0 & 0 & 0 \\\\\n",
       "0 & 0 & 0 & 0 & 0 & 0 \\\\\n",
       "0 & 0 & 0 & 0 & 0 & 0 \\\\\n",
       "0 & 0 & 0 & 0 & 0 & 0 \\\\\n",
       "0 & 0 & 0 & 0 & 0 & 0 \\\\\n",
       "0 & 0 & 0 & 0 & 0 & 0\n",
       "\\end{array}\\right)\\)</html>"
      ],
      "text/latex": [
       "$\\displaystyle \\left(\\begin{array}{rrrrrr}\n",
       "1 & 0 & 0 & 0 & 0 & 0 \\\\\n",
       "0 & 0 & 0 & 0 & 0 & 0 \\\\\n",
       "0 & 0 & 0 & 0 & 0 & 0 \\\\\n",
       "0 & 0 & 0 & 0 & 0 & 0 \\\\\n",
       "0 & 0 & 0 & 0 & 0 & 0 \\\\\n",
       "0 & 0 & 0 & 0 & 0 & 0\n",
       "\\end{array}\\right)$"
      ],
      "text/plain": [
       "[1 0 0 0 0 0]\n",
       "[0 0 0 0 0 0]\n",
       "[0 0 0 0 0 0]\n",
       "[0 0 0 0 0 0]\n",
       "[0 0 0 0 0 0]\n",
       "[0 0 0 0 0 0]"
      ]
     },
     "metadata": {},
     "output_type": "display_data"
    },
    {
     "data": {
      "text/html": [
       "<html>\\(\\displaystyle \\left(\\begin{array}{rrrrrr}\n",
       "0 & 0 & 0 & 1 & 0 & 0 \\\\\n",
       "0 & 0 & 0 & 0 & 0 & 0 \\\\\n",
       "0 & 0 & 0 & 0 & 0 & 0 \\\\\n",
       "0 & 0 & 0 & 0 & 0 & 0 \\\\\n",
       "0 & 0 & 0 & 0 & 0 & 0 \\\\\n",
       "0 & 0 & 0 & 0 & 0 & 0\n",
       "\\end{array}\\right)\\)</html>"
      ],
      "text/latex": [
       "$\\displaystyle \\left(\\begin{array}{rrrrrr}\n",
       "0 & 0 & 0 & 1 & 0 & 0 \\\\\n",
       "0 & 0 & 0 & 0 & 0 & 0 \\\\\n",
       "0 & 0 & 0 & 0 & 0 & 0 \\\\\n",
       "0 & 0 & 0 & 0 & 0 & 0 \\\\\n",
       "0 & 0 & 0 & 0 & 0 & 0 \\\\\n",
       "0 & 0 & 0 & 0 & 0 & 0\n",
       "\\end{array}\\right)$"
      ],
      "text/plain": [
       "[0 0 0 1 0 0]\n",
       "[0 0 0 0 0 0]\n",
       "[0 0 0 0 0 0]\n",
       "[0 0 0 0 0 0]\n",
       "[0 0 0 0 0 0]\n",
       "[0 0 0 0 0 0]"
      ]
     },
     "metadata": {},
     "output_type": "display_data"
    },
    {
     "data": {
      "text/html": [
       "<html>\\(\\displaystyle \\left(\\begin{array}{rrrrrr}\n",
       "0 & 0 & 0 & 0 & 1 & 0 \\\\\n",
       "0 & 0 & 0 & 0 & 0 & 0 \\\\\n",
       "0 & 0 & 0 & 0 & 0 & 0 \\\\\n",
       "0 & 0 & 0 & 0 & 0 & 0 \\\\\n",
       "0 & 0 & 0 & 0 & 0 & 0 \\\\\n",
       "0 & 0 & 0 & 0 & 0 & 0\n",
       "\\end{array}\\right)\\)</html>"
      ],
      "text/latex": [
       "$\\displaystyle \\left(\\begin{array}{rrrrrr}\n",
       "0 & 0 & 0 & 0 & 1 & 0 \\\\\n",
       "0 & 0 & 0 & 0 & 0 & 0 \\\\\n",
       "0 & 0 & 0 & 0 & 0 & 0 \\\\\n",
       "0 & 0 & 0 & 0 & 0 & 0 \\\\\n",
       "0 & 0 & 0 & 0 & 0 & 0 \\\\\n",
       "0 & 0 & 0 & 0 & 0 & 0\n",
       "\\end{array}\\right)$"
      ],
      "text/plain": [
       "[0 0 0 0 1 0]\n",
       "[0 0 0 0 0 0]\n",
       "[0 0 0 0 0 0]\n",
       "[0 0 0 0 0 0]\n",
       "[0 0 0 0 0 0]\n",
       "[0 0 0 0 0 0]"
      ]
     },
     "metadata": {},
     "output_type": "display_data"
    },
    {
     "data": {
      "text/html": [
       "<html>\\(\\displaystyle \\left(\\begin{array}{rrrrrr}\n",
       "1 & 0 & 0 & 0 & 0 & 1 \\\\\n",
       "0 & 0 & 0 & 0 & 0 & 0 \\\\\n",
       "0 & 0 & 0 & 0 & 0 & 0 \\\\\n",
       "0 & 0 & 0 & 0 & 0 & 0 \\\\\n",
       "0 & 0 & 0 & 0 & 0 & 0 \\\\\n",
       "0 & 0 & 0 & 0 & 0 & 0\n",
       "\\end{array}\\right)\\)</html>"
      ],
      "text/latex": [
       "$\\displaystyle \\left(\\begin{array}{rrrrrr}\n",
       "1 & 0 & 0 & 0 & 0 & 1 \\\\\n",
       "0 & 0 & 0 & 0 & 0 & 0 \\\\\n",
       "0 & 0 & 0 & 0 & 0 & 0 \\\\\n",
       "0 & 0 & 0 & 0 & 0 & 0 \\\\\n",
       "0 & 0 & 0 & 0 & 0 & 0 \\\\\n",
       "0 & 0 & 0 & 0 & 0 & 0\n",
       "\\end{array}\\right)$"
      ],
      "text/plain": [
       "[1 0 0 0 0 1]\n",
       "[0 0 0 0 0 0]\n",
       "[0 0 0 0 0 0]\n",
       "[0 0 0 0 0 0]\n",
       "[0 0 0 0 0 0]\n",
       "[0 0 0 0 0 0]"
      ]
     },
     "metadata": {},
     "output_type": "display_data"
    },
    {
     "data": {
      "text/html": [
       "<html>\\(\\displaystyle \\left(\\begin{array}{rrrrrr}\n",
       "0 & 0 & 0 & 0 & 0 & 0 \\\\\n",
       "0 & 0 & 0 & 0 & 0 & 0 \\\\\n",
       "0 & 0 & 0 & 0 & 0 & 0 \\\\\n",
       "0 & 0 & 1 & 0 & 0 & 0 \\\\\n",
       "0 & 1 & 0 & 0 & 0 & 0 \\\\\n",
       "0 & 0 & 0 & 2 & 0 & 0\n",
       "\\end{array}\\right)\\)</html>"
      ],
      "text/latex": [
       "$\\displaystyle \\left(\\begin{array}{rrrrrr}\n",
       "0 & 0 & 0 & 0 & 0 & 0 \\\\\n",
       "0 & 0 & 0 & 0 & 0 & 0 \\\\\n",
       "0 & 0 & 0 & 0 & 0 & 0 \\\\\n",
       "0 & 0 & 1 & 0 & 0 & 0 \\\\\n",
       "0 & 1 & 0 & 0 & 0 & 0 \\\\\n",
       "0 & 0 & 0 & 2 & 0 & 0\n",
       "\\end{array}\\right)$"
      ],
      "text/plain": [
       "[0 0 0 0 0 0]\n",
       "[0 0 0 0 0 0]\n",
       "[0 0 0 0 0 0]\n",
       "[0 0 1 0 0 0]\n",
       "[0 1 0 0 0 0]\n",
       "[0 0 0 2 0 0]"
      ]
     },
     "metadata": {},
     "output_type": "display_data"
    }
   ],
   "source": [
    "I1 = matrix.identity(6)\n",
    "I1 = I1.change_ring(K)\n",
    "I1[:,2] = v\n",
    "t = I1[:,0]\n",
    "I1[:,0] = I1[:,2]\n",
    "I1[:,2] = t\n",
    "show(I1)\n",
    "L1 = []\n",
    "for l in L:\n",
    "    k = I1.inverse()*l*I1\n",
    "    L1.append(k[1:,1:])\n",
    "    show(k)"
   ]
  },
  {
   "cell_type": "code",
   "execution_count": 35,
   "id": "aafe0a10",
   "metadata": {},
   "outputs": [],
   "source": [
    "V = VectorSpace(K,5)\n",
    "espaces = []\n",
    "for l in L1:\n",
    "    espace = []\n",
    "    for S in l.right_eigenspaces():\n",
    "        espace.append(V.subspace(S[1]))\n",
    "    espaces.append(espace)"
   ]
  },
  {
   "cell_type": "code",
   "execution_count": 36,
   "id": "b10334cf",
   "metadata": {},
   "outputs": [],
   "source": [
    "Spaces = espaces[0]\n",
    "for e in espaces:\n",
    "    temp = []\n",
    "    for v in e:\n",
    "        for s in Spaces:\n",
    "            t = v.intersection(s)\n",
    "            if dim(t)!=0 and t not in temp:\n",
    "                temp.append(t)\n",
    "    Spaces = temp"
   ]
  },
  {
   "cell_type": "code",
   "execution_count": 37,
   "id": "c589e5d2",
   "metadata": {},
   "outputs": [
    {
     "data": {
      "text/html": [
       "<html>\\(\\displaystyle \\left(\\begin{array}{rrrrr}\n",
       "0 & 0 & 0 & 1 & 0 \\\\\n",
       "0 & 1 & 0 & 0 & 0 \\\\\n",
       "0 & 0 & 1 & 0 & 0 \\\\\n",
       "1 & 0 & 0 & 0 & 0 \\\\\n",
       "-2 I & 0 & 0 & 0 & 1\n",
       "\\end{array}\\right)\\)</html>"
      ],
      "text/latex": [
       "$\\displaystyle \\left(\\begin{array}{rrrrr}\n",
       "0 & 0 & 0 & 1 & 0 \\\\\n",
       "0 & 1 & 0 & 0 & 0 \\\\\n",
       "0 & 0 & 1 & 0 & 0 \\\\\n",
       "1 & 0 & 0 & 0 & 0 \\\\\n",
       "-2 I & 0 & 0 & 0 & 1\n",
       "\\end{array}\\right)$"
      ],
      "text/plain": [
       "[   0    0    0    1    0]\n",
       "[   0    1    0    0    0]\n",
       "[   0    0    1    0    0]\n",
       "[   1    0    0    0    0]\n",
       "[-2*I    0    0    0    1]"
      ]
     },
     "metadata": {},
     "output_type": "display_data"
    },
    {
     "data": {
      "text/html": [
       "<html>\\(\\displaystyle \\left(\\begin{array}{rrrrr}\n",
       "-1 & 0 & 0 & 0 & 0 \\\\\n",
       "0 & 1 & 0 & 0 & 0 \\\\\n",
       "0 & 0 & 0 & 0 & 0 \\\\\n",
       "0 & 0 & 0 & 0 & 0 \\\\\n",
       "0 & 0 & 0 & 0 & -1\n",
       "\\end{array}\\right)\\)</html>"
      ],
      "text/latex": [
       "$\\displaystyle \\left(\\begin{array}{rrrrr}\n",
       "-1 & 0 & 0 & 0 & 0 \\\\\n",
       "0 & 1 & 0 & 0 & 0 \\\\\n",
       "0 & 0 & 0 & 0 & 0 \\\\\n",
       "0 & 0 & 0 & 0 & 0 \\\\\n",
       "0 & 0 & 0 & 0 & -1\n",
       "\\end{array}\\right)$"
      ],
      "text/plain": [
       "[-1  0  0  0  0]\n",
       "[ 0  1  0  0  0]\n",
       "[ 0  0  0  0  0]\n",
       "[ 0  0  0  0  0]\n",
       "[ 0  0  0  0 -1]"
      ]
     },
     "metadata": {},
     "output_type": "display_data"
    },
    {
     "data": {
      "text/html": [
       "<html>\\(\\displaystyle \\left(\\begin{array}{rrrrr}\n",
       "0 & 0 & 1 & 0 & 0 \\\\\n",
       "0 & 0 & 0 & 0 & 0 \\\\\n",
       "0 & 0 & 0 & 0 & 0 \\\\\n",
       "0 & 1 & 0 & 0 & 0 \\\\\n",
       "0 & 0 & 2 I & -2 & 0\n",
       "\\end{array}\\right)\\)</html>"
      ],
      "text/latex": [
       "$\\displaystyle \\left(\\begin{array}{rrrrr}\n",
       "0 & 0 & 1 & 0 & 0 \\\\\n",
       "0 & 0 & 0 & 0 & 0 \\\\\n",
       "0 & 0 & 0 & 0 & 0 \\\\\n",
       "0 & 1 & 0 & 0 & 0 \\\\\n",
       "0 & 0 & 2 I & -2 & 0\n",
       "\\end{array}\\right)$"
      ],
      "text/plain": [
       "[  0   0   1   0   0]\n",
       "[  0   0   0   0   0]\n",
       "[  0   0   0   0   0]\n",
       "[  0   1   0   0   0]\n",
       "[  0   0 2*I  -2   0]"
      ]
     },
     "metadata": {},
     "output_type": "display_data"
    },
    {
     "data": {
      "text/html": [
       "<html>\\(\\displaystyle \\left(\\begin{array}{rrrrr}\n",
       "2 & 0 & 0 & 0 & 0 \\\\\n",
       "0 & 0 & 0 & 0 & 0 \\\\\n",
       "0 & 0 & 1 & 0 & 0 \\\\\n",
       "0 & 0 & 0 & 1 & 0 \\\\\n",
       "0 & 0 & 0 & 0 & 2\n",
       "\\end{array}\\right)\\)</html>"
      ],
      "text/latex": [
       "$\\displaystyle \\left(\\begin{array}{rrrrr}\n",
       "2 & 0 & 0 & 0 & 0 \\\\\n",
       "0 & 0 & 0 & 0 & 0 \\\\\n",
       "0 & 0 & 1 & 0 & 0 \\\\\n",
       "0 & 0 & 0 & 1 & 0 \\\\\n",
       "0 & 0 & 0 & 0 & 2\n",
       "\\end{array}\\right)$"
      ],
      "text/plain": [
       "[2 0 0 0 0]\n",
       "[0 0 0 0 0]\n",
       "[0 0 1 0 0]\n",
       "[0 0 0 1 0]\n",
       "[0 0 0 0 2]"
      ]
     },
     "metadata": {},
     "output_type": "display_data"
    },
    {
     "data": {
      "text/html": [
       "<html>\\(\\displaystyle \\left(\\begin{array}{rrrrr}\n",
       "-2 I & 0 & 0 & 0 & 1 \\\\\n",
       "0 & 0 & 0 & 0 & 0 \\\\\n",
       "0 & 0 & 0 & -1 & 0 \\\\\n",
       "0 & 0 & 1 & 0 & 0 \\\\\n",
       "0 & 0 & 0 & 0 & 2 I\n",
       "\\end{array}\\right)\\)</html>"
      ],
      "text/latex": [
       "$\\displaystyle \\left(\\begin{array}{rrrrr}\n",
       "-2 I & 0 & 0 & 0 & 1 \\\\\n",
       "0 & 0 & 0 & 0 & 0 \\\\\n",
       "0 & 0 & 0 & -1 & 0 \\\\\n",
       "0 & 0 & 1 & 0 & 0 \\\\\n",
       "0 & 0 & 0 & 0 & 2 I\n",
       "\\end{array}\\right)$"
      ],
      "text/plain": [
       "[-2*I    0    0    0    1]\n",
       "[   0    0    0    0    0]\n",
       "[   0    0    0   -1    0]\n",
       "[   0    0    1    0    0]\n",
       "[   0    0    0    0  2*I]"
      ]
     },
     "metadata": {},
     "output_type": "display_data"
    },
    {
     "data": {
      "text/html": [
       "<html>\\(\\displaystyle \\left(\\begin{array}{rrrrr}\n",
       "0 & 0 & 0 & 0 & 0 \\\\\n",
       "0 & 0 & 0 & 0 & 0 \\\\\n",
       "0 & 0 & 0 & 0 & 0 \\\\\n",
       "0 & 0 & 0 & 0 & 0 \\\\\n",
       "0 & 0 & 0 & 0 & 0\n",
       "\\end{array}\\right)\\)</html>"
      ],
      "text/latex": [
       "$\\displaystyle \\left(\\begin{array}{rrrrr}\n",
       "0 & 0 & 0 & 0 & 0 \\\\\n",
       "0 & 0 & 0 & 0 & 0 \\\\\n",
       "0 & 0 & 0 & 0 & 0 \\\\\n",
       "0 & 0 & 0 & 0 & 0 \\\\\n",
       "0 & 0 & 0 & 0 & 0\n",
       "\\end{array}\\right)$"
      ],
      "text/plain": [
       "[0 0 0 0 0]\n",
       "[0 0 0 0 0]\n",
       "[0 0 0 0 0]\n",
       "[0 0 0 0 0]\n",
       "[0 0 0 0 0]"
      ]
     },
     "metadata": {},
     "output_type": "display_data"
    },
    {
     "data": {
      "text/html": [
       "<html>\\(\\displaystyle \\left(\\begin{array}{rrrrr}\n",
       "0 & 0 & 0 & 0 & 0 \\\\\n",
       "0 & 0 & 0 & 0 & 0 \\\\\n",
       "0 & 0 & 0 & 0 & 0 \\\\\n",
       "0 & 0 & 0 & 0 & 0 \\\\\n",
       "0 & 0 & 0 & 0 & 0\n",
       "\\end{array}\\right)\\)</html>"
      ],
      "text/latex": [
       "$\\displaystyle \\left(\\begin{array}{rrrrr}\n",
       "0 & 0 & 0 & 0 & 0 \\\\\n",
       "0 & 0 & 0 & 0 & 0 \\\\\n",
       "0 & 0 & 0 & 0 & 0 \\\\\n",
       "0 & 0 & 0 & 0 & 0 \\\\\n",
       "0 & 0 & 0 & 0 & 0\n",
       "\\end{array}\\right)$"
      ],
      "text/plain": [
       "[0 0 0 0 0]\n",
       "[0 0 0 0 0]\n",
       "[0 0 0 0 0]\n",
       "[0 0 0 0 0]\n",
       "[0 0 0 0 0]"
      ]
     },
     "metadata": {},
     "output_type": "display_data"
    },
    {
     "data": {
      "text/html": [
       "<html>\\(\\displaystyle \\left(\\begin{array}{rrrrr}\n",
       "0 & 0 & 0 & 0 & 0 \\\\\n",
       "0 & 0 & 0 & 0 & 0 \\\\\n",
       "0 & 0 & 0 & 0 & 0 \\\\\n",
       "0 & 0 & 0 & 0 & 0 \\\\\n",
       "0 & 0 & 0 & 0 & 0\n",
       "\\end{array}\\right)\\)</html>"
      ],
      "text/latex": [
       "$\\displaystyle \\left(\\begin{array}{rrrrr}\n",
       "0 & 0 & 0 & 0 & 0 \\\\\n",
       "0 & 0 & 0 & 0 & 0 \\\\\n",
       "0 & 0 & 0 & 0 & 0 \\\\\n",
       "0 & 0 & 0 & 0 & 0 \\\\\n",
       "0 & 0 & 0 & 0 & 0\n",
       "\\end{array}\\right)$"
      ],
      "text/plain": [
       "[0 0 0 0 0]\n",
       "[0 0 0 0 0]\n",
       "[0 0 0 0 0]\n",
       "[0 0 0 0 0]\n",
       "[0 0 0 0 0]"
      ]
     },
     "metadata": {},
     "output_type": "display_data"
    },
    {
     "data": {
      "text/html": [
       "<html>\\(\\displaystyle \\left(\\begin{array}{rrrrr}\n",
       "0 & 0 & 0 & 0 & 0 \\\\\n",
       "0 & 0 & 0 & 0 & 0 \\\\\n",
       "0 & 0 & 0 & 0 & 0 \\\\\n",
       "0 & 0 & 0 & 0 & 0 \\\\\n",
       "0 & 0 & 0 & 0 & 0\n",
       "\\end{array}\\right)\\)</html>"
      ],
      "text/latex": [
       "$\\displaystyle \\left(\\begin{array}{rrrrr}\n",
       "0 & 0 & 0 & 0 & 0 \\\\\n",
       "0 & 0 & 0 & 0 & 0 \\\\\n",
       "0 & 0 & 0 & 0 & 0 \\\\\n",
       "0 & 0 & 0 & 0 & 0 \\\\\n",
       "0 & 0 & 0 & 0 & 0\n",
       "\\end{array}\\right)$"
      ],
      "text/plain": [
       "[0 0 0 0 0]\n",
       "[0 0 0 0 0]\n",
       "[0 0 0 0 0]\n",
       "[0 0 0 0 0]\n",
       "[0 0 0 0 0]"
      ]
     },
     "metadata": {},
     "output_type": "display_data"
    },
    {
     "data": {
      "text/html": [
       "<html>\\(\\displaystyle \\left(\\begin{array}{rrrrr}\n",
       "0 & 0 & 0 & 0 & 0 \\\\\n",
       "0 & 0 & 0 & 0 & 0 \\\\\n",
       "0 & 0 & 0 & 0 & 0 \\\\\n",
       "0 & 0 & 0 & 0 & 0 \\\\\n",
       "0 & 0 & 0 & 0 & 0\n",
       "\\end{array}\\right)\\)</html>"
      ],
      "text/latex": [
       "$\\displaystyle \\left(\\begin{array}{rrrrr}\n",
       "0 & 0 & 0 & 0 & 0 \\\\\n",
       "0 & 0 & 0 & 0 & 0 \\\\\n",
       "0 & 0 & 0 & 0 & 0 \\\\\n",
       "0 & 0 & 0 & 0 & 0 \\\\\n",
       "0 & 0 & 0 & 0 & 0\n",
       "\\end{array}\\right)$"
      ],
      "text/plain": [
       "[0 0 0 0 0]\n",
       "[0 0 0 0 0]\n",
       "[0 0 0 0 0]\n",
       "[0 0 0 0 0]\n",
       "[0 0 0 0 0]"
      ]
     },
     "metadata": {},
     "output_type": "display_data"
    },
    {
     "data": {
      "text/html": [
       "<html>\\(\\displaystyle \\left(\\begin{array}{rrrrr}\n",
       "0 & 0 & 0 & 0 & 0 \\\\\n",
       "0 & 0 & 0 & 0 & 0 \\\\\n",
       "0 & 0 & 0 & 0 & 0 \\\\\n",
       "0 & 0 & 0 & 0 & 0 \\\\\n",
       "0 & 0 & 0 & 0 & 0\n",
       "\\end{array}\\right)\\)</html>"
      ],
      "text/latex": [
       "$\\displaystyle \\left(\\begin{array}{rrrrr}\n",
       "0 & 0 & 0 & 0 & 0 \\\\\n",
       "0 & 0 & 0 & 0 & 0 \\\\\n",
       "0 & 0 & 0 & 0 & 0 \\\\\n",
       "0 & 0 & 0 & 0 & 0 \\\\\n",
       "0 & 0 & 0 & 0 & 0\n",
       "\\end{array}\\right)$"
      ],
      "text/plain": [
       "[0 0 0 0 0]\n",
       "[0 0 0 0 0]\n",
       "[0 0 0 0 0]\n",
       "[0 0 0 0 0]\n",
       "[0 0 0 0 0]"
      ]
     },
     "metadata": {},
     "output_type": "display_data"
    },
    {
     "data": {
      "text/html": [
       "<html>\\(\\displaystyle \\left(\\begin{array}{rrrrr}\n",
       "0 & 0 & 0 & 1 & 0 \\\\\n",
       "0 & 0 & 0 & 0 & 0 \\\\\n",
       "0 & 1 & 0 & 0 & 0 \\\\\n",
       "0 & 0 & 0 & 0 & 0 \\\\\n",
       "0 & 0 & 2 & 2 I & 0\n",
       "\\end{array}\\right)\\)</html>"
      ],
      "text/latex": [
       "$\\displaystyle \\left(\\begin{array}{rrrrr}\n",
       "0 & 0 & 0 & 1 & 0 \\\\\n",
       "0 & 0 & 0 & 0 & 0 \\\\\n",
       "0 & 1 & 0 & 0 & 0 \\\\\n",
       "0 & 0 & 0 & 0 & 0 \\\\\n",
       "0 & 0 & 2 & 2 I & 0\n",
       "\\end{array}\\right)$"
      ],
      "text/plain": [
       "[  0   0   0   1   0]\n",
       "[  0   0   0   0   0]\n",
       "[  0   1   0   0   0]\n",
       "[  0   0   0   0   0]\n",
       "[  0   0   2 2*I   0]"
      ]
     },
     "metadata": {},
     "output_type": "display_data"
    }
   ],
   "source": [
    "v = Spaces[1].basis()\n",
    "vm = vector(K,v[0])\n",
    "I2 = matrix.identity(5)\n",
    "I2 = I2.change_ring(K)\n",
    "I2[:,3] = v[0]\n",
    "t = I2[:,3]\n",
    "I2[:,3] = I2[:,0]\n",
    "I2[:,0] = t\n",
    "show(I2)\n",
    "L2 = []\n",
    "for l in L1:\n",
    "    k = I2.inverse()*l*I2\n",
    "    L2.append(k[1:,1:])\n",
    "    show(k)\n"
   ]
  },
  {
   "cell_type": "code",
   "execution_count": 38,
   "id": "6101f8a9",
   "metadata": {},
   "outputs": [],
   "source": [
    "V = VectorSpace(K,4)\n",
    "espaces = []\n",
    "for l in L2:\n",
    "    espace = []\n",
    "    for S in l.right_eigenspaces():\n",
    "        espace.append(V.subspace(S[1]))\n",
    "    espaces.append(espace)"
   ]
  },
  {
   "cell_type": "code",
   "execution_count": 39,
   "id": "4b9246b2",
   "metadata": {},
   "outputs": [
    {
     "data": {
      "text/plain": [
       "(0, 0, 0, 1)"
      ]
     },
     "execution_count": 39,
     "metadata": {},
     "output_type": "execute_result"
    }
   ],
   "source": [
    "Spaces = espaces[0]\n",
    "for e in espaces:\n",
    "    temp = []\n",
    "    for v in e:\n",
    "        for s in Spaces:\n",
    "            t = v.intersection(s)\n",
    "            if dim(t)!=0 and t not in temp:\n",
    "                temp.append(t)\n",
    "    Spaces = temp\n",
    "v = Spaces[0].basis()[0]\n",
    "v"
   ]
  },
  {
   "cell_type": "code",
   "execution_count": 41,
   "id": "f222930e",
   "metadata": {},
   "outputs": [
    {
     "data": {
      "text/html": [
       "<html>\\(\\displaystyle \\left(\\begin{array}{rrrr}\n",
       "0 & 0 & 0 & 1 \\\\\n",
       "0 & 1 & 0 & 0 \\\\\n",
       "0 & 0 & 1 & 0 \\\\\n",
       "1 & 0 & 0 & 0\n",
       "\\end{array}\\right)\\)</html>"
      ],
      "text/latex": [
       "$\\displaystyle \\left(\\begin{array}{rrrr}\n",
       "0 & 0 & 0 & 1 \\\\\n",
       "0 & 1 & 0 & 0 \\\\\n",
       "0 & 0 & 1 & 0 \\\\\n",
       "1 & 0 & 0 & 0\n",
       "\\end{array}\\right)$"
      ],
      "text/plain": [
       "[0 0 0 1]\n",
       "[0 1 0 0]\n",
       "[0 0 1 0]\n",
       "[1 0 0 0]"
      ]
     },
     "metadata": {},
     "output_type": "display_data"
    },
    {
     "data": {
      "text/html": [
       "<html>\\(\\displaystyle \\left(\\begin{array}{rrrr}\n",
       "-1 & 0 & 0 & 0 \\\\\n",
       "0 & 0 & 0 & 0 \\\\\n",
       "0 & 0 & 0 & 0 \\\\\n",
       "0 & 0 & 0 & 1\n",
       "\\end{array}\\right)\\)</html>"
      ],
      "text/latex": [
       "$\\displaystyle \\left(\\begin{array}{rrrr}\n",
       "-1 & 0 & 0 & 0 \\\\\n",
       "0 & 0 & 0 & 0 \\\\\n",
       "0 & 0 & 0 & 0 \\\\\n",
       "0 & 0 & 0 & 1\n",
       "\\end{array}\\right)$"
      ],
      "text/plain": [
       "[-1  0  0  0]\n",
       "[ 0  0  0  0]\n",
       "[ 0  0  0  0]\n",
       "[ 0  0  0  1]"
      ]
     },
     "metadata": {},
     "output_type": "display_data"
    },
    {
     "data": {
      "text/html": [
       "<html>\\(\\displaystyle \\left(\\begin{array}{rrrr}\n",
       "0 & 2 I & -2 & 0 \\\\\n",
       "0 & 0 & 0 & 0 \\\\\n",
       "0 & 0 & 0 & 1 \\\\\n",
       "0 & 0 & 0 & 0\n",
       "\\end{array}\\right)\\)</html>"
      ],
      "text/latex": [
       "$\\displaystyle \\left(\\begin{array}{rrrr}\n",
       "0 & 2 I & -2 & 0 \\\\\n",
       "0 & 0 & 0 & 0 \\\\\n",
       "0 & 0 & 0 & 1 \\\\\n",
       "0 & 0 & 0 & 0\n",
       "\\end{array}\\right)$"
      ],
      "text/plain": [
       "[  0 2*I  -2   0]\n",
       "[  0   0   0   0]\n",
       "[  0   0   0   1]\n",
       "[  0   0   0   0]"
      ]
     },
     "metadata": {},
     "output_type": "display_data"
    },
    {
     "data": {
      "text/html": [
       "<html>\\(\\displaystyle \\left(\\begin{array}{rrrr}\n",
       "2 & 0 & 0 & 0 \\\\\n",
       "0 & 1 & 0 & 0 \\\\\n",
       "0 & 0 & 1 & 0 \\\\\n",
       "0 & 0 & 0 & 0\n",
       "\\end{array}\\right)\\)</html>"
      ],
      "text/latex": [
       "$\\displaystyle \\left(\\begin{array}{rrrr}\n",
       "2 & 0 & 0 & 0 \\\\\n",
       "0 & 1 & 0 & 0 \\\\\n",
       "0 & 0 & 1 & 0 \\\\\n",
       "0 & 0 & 0 & 0\n",
       "\\end{array}\\right)$"
      ],
      "text/plain": [
       "[2 0 0 0]\n",
       "[0 1 0 0]\n",
       "[0 0 1 0]\n",
       "[0 0 0 0]"
      ]
     },
     "metadata": {},
     "output_type": "display_data"
    },
    {
     "data": {
      "text/html": [
       "<html>\\(\\displaystyle \\left(\\begin{array}{rrrr}\n",
       "2 I & 0 & 0 & 0 \\\\\n",
       "0 & 0 & -1 & 0 \\\\\n",
       "0 & 1 & 0 & 0 \\\\\n",
       "0 & 0 & 0 & 0\n",
       "\\end{array}\\right)\\)</html>"
      ],
      "text/latex": [
       "$\\displaystyle \\left(\\begin{array}{rrrr}\n",
       "2 I & 0 & 0 & 0 \\\\\n",
       "0 & 0 & -1 & 0 \\\\\n",
       "0 & 1 & 0 & 0 \\\\\n",
       "0 & 0 & 0 & 0\n",
       "\\end{array}\\right)$"
      ],
      "text/plain": [
       "[2*I   0   0   0]\n",
       "[  0   0  -1   0]\n",
       "[  0   1   0   0]\n",
       "[  0   0   0   0]"
      ]
     },
     "metadata": {},
     "output_type": "display_data"
    },
    {
     "data": {
      "text/html": [
       "<html>\\(\\displaystyle \\left(\\begin{array}{rrrr}\n",
       "0 & 0 & 0 & 0 \\\\\n",
       "0 & 0 & 0 & 0 \\\\\n",
       "0 & 0 & 0 & 0 \\\\\n",
       "0 & 0 & 0 & 0\n",
       "\\end{array}\\right)\\)</html>"
      ],
      "text/latex": [
       "$\\displaystyle \\left(\\begin{array}{rrrr}\n",
       "0 & 0 & 0 & 0 \\\\\n",
       "0 & 0 & 0 & 0 \\\\\n",
       "0 & 0 & 0 & 0 \\\\\n",
       "0 & 0 & 0 & 0\n",
       "\\end{array}\\right)$"
      ],
      "text/plain": [
       "[0 0 0 0]\n",
       "[0 0 0 0]\n",
       "[0 0 0 0]\n",
       "[0 0 0 0]"
      ]
     },
     "metadata": {},
     "output_type": "display_data"
    },
    {
     "data": {
      "text/html": [
       "<html>\\(\\displaystyle \\left(\\begin{array}{rrrr}\n",
       "0 & 0 & 0 & 0 \\\\\n",
       "0 & 0 & 0 & 0 \\\\\n",
       "0 & 0 & 0 & 0 \\\\\n",
       "0 & 0 & 0 & 0\n",
       "\\end{array}\\right)\\)</html>"
      ],
      "text/latex": [
       "$\\displaystyle \\left(\\begin{array}{rrrr}\n",
       "0 & 0 & 0 & 0 \\\\\n",
       "0 & 0 & 0 & 0 \\\\\n",
       "0 & 0 & 0 & 0 \\\\\n",
       "0 & 0 & 0 & 0\n",
       "\\end{array}\\right)$"
      ],
      "text/plain": [
       "[0 0 0 0]\n",
       "[0 0 0 0]\n",
       "[0 0 0 0]\n",
       "[0 0 0 0]"
      ]
     },
     "metadata": {},
     "output_type": "display_data"
    },
    {
     "data": {
      "text/html": [
       "<html>\\(\\displaystyle \\left(\\begin{array}{rrrr}\n",
       "0 & 0 & 0 & 0 \\\\\n",
       "0 & 0 & 0 & 0 \\\\\n",
       "0 & 0 & 0 & 0 \\\\\n",
       "0 & 0 & 0 & 0\n",
       "\\end{array}\\right)\\)</html>"
      ],
      "text/latex": [
       "$\\displaystyle \\left(\\begin{array}{rrrr}\n",
       "0 & 0 & 0 & 0 \\\\\n",
       "0 & 0 & 0 & 0 \\\\\n",
       "0 & 0 & 0 & 0 \\\\\n",
       "0 & 0 & 0 & 0\n",
       "\\end{array}\\right)$"
      ],
      "text/plain": [
       "[0 0 0 0]\n",
       "[0 0 0 0]\n",
       "[0 0 0 0]\n",
       "[0 0 0 0]"
      ]
     },
     "metadata": {},
     "output_type": "display_data"
    },
    {
     "data": {
      "text/html": [
       "<html>\\(\\displaystyle \\left(\\begin{array}{rrrr}\n",
       "0 & 0 & 0 & 0 \\\\\n",
       "0 & 0 & 0 & 0 \\\\\n",
       "0 & 0 & 0 & 0 \\\\\n",
       "0 & 0 & 0 & 0\n",
       "\\end{array}\\right)\\)</html>"
      ],
      "text/latex": [
       "$\\displaystyle \\left(\\begin{array}{rrrr}\n",
       "0 & 0 & 0 & 0 \\\\\n",
       "0 & 0 & 0 & 0 \\\\\n",
       "0 & 0 & 0 & 0 \\\\\n",
       "0 & 0 & 0 & 0\n",
       "\\end{array}\\right)$"
      ],
      "text/plain": [
       "[0 0 0 0]\n",
       "[0 0 0 0]\n",
       "[0 0 0 0]\n",
       "[0 0 0 0]"
      ]
     },
     "metadata": {},
     "output_type": "display_data"
    },
    {
     "data": {
      "text/html": [
       "<html>\\(\\displaystyle \\left(\\begin{array}{rrrr}\n",
       "0 & 0 & 0 & 0 \\\\\n",
       "0 & 0 & 0 & 0 \\\\\n",
       "0 & 0 & 0 & 0 \\\\\n",
       "0 & 0 & 0 & 0\n",
       "\\end{array}\\right)\\)</html>"
      ],
      "text/latex": [
       "$\\displaystyle \\left(\\begin{array}{rrrr}\n",
       "0 & 0 & 0 & 0 \\\\\n",
       "0 & 0 & 0 & 0 \\\\\n",
       "0 & 0 & 0 & 0 \\\\\n",
       "0 & 0 & 0 & 0\n",
       "\\end{array}\\right)$"
      ],
      "text/plain": [
       "[0 0 0 0]\n",
       "[0 0 0 0]\n",
       "[0 0 0 0]\n",
       "[0 0 0 0]"
      ]
     },
     "metadata": {},
     "output_type": "display_data"
    },
    {
     "data": {
      "text/html": [
       "<html>\\(\\displaystyle \\left(\\begin{array}{rrrr}\n",
       "0 & 0 & 0 & 0 \\\\\n",
       "0 & 0 & 0 & 0 \\\\\n",
       "0 & 0 & 0 & 0 \\\\\n",
       "0 & 0 & 0 & 0\n",
       "\\end{array}\\right)\\)</html>"
      ],
      "text/latex": [
       "$\\displaystyle \\left(\\begin{array}{rrrr}\n",
       "0 & 0 & 0 & 0 \\\\\n",
       "0 & 0 & 0 & 0 \\\\\n",
       "0 & 0 & 0 & 0 \\\\\n",
       "0 & 0 & 0 & 0\n",
       "\\end{array}\\right)$"
      ],
      "text/plain": [
       "[0 0 0 0]\n",
       "[0 0 0 0]\n",
       "[0 0 0 0]\n",
       "[0 0 0 0]"
      ]
     },
     "metadata": {},
     "output_type": "display_data"
    },
    {
     "data": {
      "text/html": [
       "<html>\\(\\displaystyle \\left(\\begin{array}{rrrr}\n",
       "0 & 2 & 2 I & 0 \\\\\n",
       "0 & 0 & 0 & 1 \\\\\n",
       "0 & 0 & 0 & 0 \\\\\n",
       "0 & 0 & 0 & 0\n",
       "\\end{array}\\right)\\)</html>"
      ],
      "text/latex": [
       "$\\displaystyle \\left(\\begin{array}{rrrr}\n",
       "0 & 2 & 2 I & 0 \\\\\n",
       "0 & 0 & 0 & 1 \\\\\n",
       "0 & 0 & 0 & 0 \\\\\n",
       "0 & 0 & 0 & 0\n",
       "\\end{array}\\right)$"
      ],
      "text/plain": [
       "[  0   2 2*I   0]\n",
       "[  0   0   0   1]\n",
       "[  0   0   0   0]\n",
       "[  0   0   0   0]"
      ]
     },
     "metadata": {},
     "output_type": "display_data"
    }
   ],
   "source": [
    "I3 = matrix.identity(4)\n",
    "I3 = I3.change_ring(K)\n",
    "I3[:,3] = I3[:,0]\n",
    "I3[:,0] = v\n",
    "L3 = []\n",
    "show(I3)\n",
    "for l in L2:\n",
    "    k = I3.inverse()*l*I3\n",
    "    L3.append(k[1:,1:])\n",
    "    show(k)"
   ]
  },
  {
   "cell_type": "code",
   "execution_count": 42,
   "id": "6a972c87",
   "metadata": {},
   "outputs": [],
   "source": [
    "V = VectorSpace(K,3)\n",
    "espaces = []\n",
    "for l in L3:\n",
    "    espace = []\n",
    "    for S in l.right_eigenspaces():\n",
    "        espace.append(V.subspace(S[1]))\n",
    "    espaces.append(espace)"
   ]
  },
  {
   "cell_type": "code",
   "execution_count": 43,
   "id": "6ee68f0f",
   "metadata": {},
   "outputs": [
    {
     "data": {
      "text/plain": [
       "(1, -I, 0)"
      ]
     },
     "execution_count": 43,
     "metadata": {},
     "output_type": "execute_result"
    }
   ],
   "source": [
    "Spaces = espaces[0]\n",
    "for e in espaces:\n",
    "    temp = []\n",
    "    for v in e:\n",
    "        for s in Spaces:\n",
    "            t = v.intersection(s)\n",
    "            if dim(t)!=0 and t not in temp:\n",
    "                temp.append(t)\n",
    "    Spaces = temp\n",
    "v = Spaces[0].basis()[0]\n",
    "v"
   ]
  },
  {
   "cell_type": "code",
   "execution_count": 44,
   "id": "e9b8bf96",
   "metadata": {},
   "outputs": [
    {
     "data": {
      "text/html": [
       "<html>\\(\\displaystyle \\left(\\begin{array}{rrr}\n",
       "1 & 0 & 0 \\\\\n",
       "-I & 1 & 0 \\\\\n",
       "0 & 0 & 1\n",
       "\\end{array}\\right)\\)</html>"
      ],
      "text/latex": [
       "$\\displaystyle \\left(\\begin{array}{rrr}\n",
       "1 & 0 & 0 \\\\\n",
       "-I & 1 & 0 \\\\\n",
       "0 & 0 & 1\n",
       "\\end{array}\\right)$"
      ],
      "text/plain": [
       "[ 1  0  0]\n",
       "[-I  1  0]\n",
       "[ 0  0  1]"
      ]
     },
     "metadata": {},
     "output_type": "display_data"
    },
    {
     "data": {
      "text/html": [
       "<html>\\(\\displaystyle \\left(\\begin{array}{rrr}\n",
       "0 & 0 & 0 \\\\\n",
       "0 & 0 & 0 \\\\\n",
       "0 & 0 & 1\n",
       "\\end{array}\\right)\\)</html>"
      ],
      "text/latex": [
       "$\\displaystyle \\left(\\begin{array}{rrr}\n",
       "0 & 0 & 0 \\\\\n",
       "0 & 0 & 0 \\\\\n",
       "0 & 0 & 1\n",
       "\\end{array}\\right)$"
      ],
      "text/plain": [
       "[0 0 0]\n",
       "[0 0 0]\n",
       "[0 0 1]"
      ]
     },
     "metadata": {},
     "output_type": "display_data"
    },
    {
     "data": {
      "text/html": [
       "<html>\\(\\displaystyle \\left(\\begin{array}{rrr}\n",
       "0 & 0 & 0 \\\\\n",
       "0 & 0 & 1 \\\\\n",
       "0 & 0 & 0\n",
       "\\end{array}\\right)\\)</html>"
      ],
      "text/latex": [
       "$\\displaystyle \\left(\\begin{array}{rrr}\n",
       "0 & 0 & 0 \\\\\n",
       "0 & 0 & 1 \\\\\n",
       "0 & 0 & 0\n",
       "\\end{array}\\right)$"
      ],
      "text/plain": [
       "[0 0 0]\n",
       "[0 0 1]\n",
       "[0 0 0]"
      ]
     },
     "metadata": {},
     "output_type": "display_data"
    },
    {
     "data": {
      "text/html": [
       "<html>\\(\\displaystyle \\left(\\begin{array}{rrr}\n",
       "1 & 0 & 0 \\\\\n",
       "0 & 1 & 0 \\\\\n",
       "0 & 0 & 0\n",
       "\\end{array}\\right)\\)</html>"
      ],
      "text/latex": [
       "$\\displaystyle \\left(\\begin{array}{rrr}\n",
       "1 & 0 & 0 \\\\\n",
       "0 & 1 & 0 \\\\\n",
       "0 & 0 & 0\n",
       "\\end{array}\\right)$"
      ],
      "text/plain": [
       "[1 0 0]\n",
       "[0 1 0]\n",
       "[0 0 0]"
      ]
     },
     "metadata": {},
     "output_type": "display_data"
    },
    {
     "data": {
      "text/html": [
       "<html>\\(\\displaystyle \\left(\\begin{array}{rrr}\n",
       "I & -1 & 0 \\\\\n",
       "0 & -I & 0 \\\\\n",
       "0 & 0 & 0\n",
       "\\end{array}\\right)\\)</html>"
      ],
      "text/latex": [
       "$\\displaystyle \\left(\\begin{array}{rrr}\n",
       "I & -1 & 0 \\\\\n",
       "0 & -I & 0 \\\\\n",
       "0 & 0 & 0\n",
       "\\end{array}\\right)$"
      ],
      "text/plain": [
       "[ I -1  0]\n",
       "[ 0 -I  0]\n",
       "[ 0  0  0]"
      ]
     },
     "metadata": {},
     "output_type": "display_data"
    },
    {
     "data": {
      "text/html": [
       "<html>\\(\\displaystyle \\left(\\begin{array}{rrr}\n",
       "0 & 0 & 0 \\\\\n",
       "0 & 0 & 0 \\\\\n",
       "0 & 0 & 0\n",
       "\\end{array}\\right)\\)</html>"
      ],
      "text/latex": [
       "$\\displaystyle \\left(\\begin{array}{rrr}\n",
       "0 & 0 & 0 \\\\\n",
       "0 & 0 & 0 \\\\\n",
       "0 & 0 & 0\n",
       "\\end{array}\\right)$"
      ],
      "text/plain": [
       "[0 0 0]\n",
       "[0 0 0]\n",
       "[0 0 0]"
      ]
     },
     "metadata": {},
     "output_type": "display_data"
    },
    {
     "data": {
      "text/html": [
       "<html>\\(\\displaystyle \\left(\\begin{array}{rrr}\n",
       "0 & 0 & 0 \\\\\n",
       "0 & 0 & 0 \\\\\n",
       "0 & 0 & 0\n",
       "\\end{array}\\right)\\)</html>"
      ],
      "text/latex": [
       "$\\displaystyle \\left(\\begin{array}{rrr}\n",
       "0 & 0 & 0 \\\\\n",
       "0 & 0 & 0 \\\\\n",
       "0 & 0 & 0\n",
       "\\end{array}\\right)$"
      ],
      "text/plain": [
       "[0 0 0]\n",
       "[0 0 0]\n",
       "[0 0 0]"
      ]
     },
     "metadata": {},
     "output_type": "display_data"
    },
    {
     "data": {
      "text/html": [
       "<html>\\(\\displaystyle \\left(\\begin{array}{rrr}\n",
       "0 & 0 & 0 \\\\\n",
       "0 & 0 & 0 \\\\\n",
       "0 & 0 & 0\n",
       "\\end{array}\\right)\\)</html>"
      ],
      "text/latex": [
       "$\\displaystyle \\left(\\begin{array}{rrr}\n",
       "0 & 0 & 0 \\\\\n",
       "0 & 0 & 0 \\\\\n",
       "0 & 0 & 0\n",
       "\\end{array}\\right)$"
      ],
      "text/plain": [
       "[0 0 0]\n",
       "[0 0 0]\n",
       "[0 0 0]"
      ]
     },
     "metadata": {},
     "output_type": "display_data"
    },
    {
     "data": {
      "text/html": [
       "<html>\\(\\displaystyle \\left(\\begin{array}{rrr}\n",
       "0 & 0 & 0 \\\\\n",
       "0 & 0 & 0 \\\\\n",
       "0 & 0 & 0\n",
       "\\end{array}\\right)\\)</html>"
      ],
      "text/latex": [
       "$\\displaystyle \\left(\\begin{array}{rrr}\n",
       "0 & 0 & 0 \\\\\n",
       "0 & 0 & 0 \\\\\n",
       "0 & 0 & 0\n",
       "\\end{array}\\right)$"
      ],
      "text/plain": [
       "[0 0 0]\n",
       "[0 0 0]\n",
       "[0 0 0]"
      ]
     },
     "metadata": {},
     "output_type": "display_data"
    },
    {
     "data": {
      "text/html": [
       "<html>\\(\\displaystyle \\left(\\begin{array}{rrr}\n",
       "0 & 0 & 0 \\\\\n",
       "0 & 0 & 0 \\\\\n",
       "0 & 0 & 0\n",
       "\\end{array}\\right)\\)</html>"
      ],
      "text/latex": [
       "$\\displaystyle \\left(\\begin{array}{rrr}\n",
       "0 & 0 & 0 \\\\\n",
       "0 & 0 & 0 \\\\\n",
       "0 & 0 & 0\n",
       "\\end{array}\\right)$"
      ],
      "text/plain": [
       "[0 0 0]\n",
       "[0 0 0]\n",
       "[0 0 0]"
      ]
     },
     "metadata": {},
     "output_type": "display_data"
    },
    {
     "data": {
      "text/html": [
       "<html>\\(\\displaystyle \\left(\\begin{array}{rrr}\n",
       "0 & 0 & 0 \\\\\n",
       "0 & 0 & 0 \\\\\n",
       "0 & 0 & 0\n",
       "\\end{array}\\right)\\)</html>"
      ],
      "text/latex": [
       "$\\displaystyle \\left(\\begin{array}{rrr}\n",
       "0 & 0 & 0 \\\\\n",
       "0 & 0 & 0 \\\\\n",
       "0 & 0 & 0\n",
       "\\end{array}\\right)$"
      ],
      "text/plain": [
       "[0 0 0]\n",
       "[0 0 0]\n",
       "[0 0 0]"
      ]
     },
     "metadata": {},
     "output_type": "display_data"
    },
    {
     "data": {
      "text/html": [
       "<html>\\(\\displaystyle \\left(\\begin{array}{rrr}\n",
       "0 & 0 & 1 \\\\\n",
       "0 & 0 & I \\\\\n",
       "0 & 0 & 0\n",
       "\\end{array}\\right)\\)</html>"
      ],
      "text/latex": [
       "$\\displaystyle \\left(\\begin{array}{rrr}\n",
       "0 & 0 & 1 \\\\\n",
       "0 & 0 & I \\\\\n",
       "0 & 0 & 0\n",
       "\\end{array}\\right)$"
      ],
      "text/plain": [
       "[0 0 1]\n",
       "[0 0 I]\n",
       "[0 0 0]"
      ]
     },
     "metadata": {},
     "output_type": "display_data"
    }
   ],
   "source": [
    "I4 = matrix.identity(3)\n",
    "I4 = I4.change_ring(K)\n",
    "I4[:,0] = v\n",
    "show(I4)\n",
    "L4 = []\n",
    "for l in L3:\n",
    "    k = I4.inverse()*l*I4\n",
    "    L4.append(k[1:,1:])\n",
    "    show(k)"
   ]
  },
  {
   "cell_type": "code",
   "execution_count": 48,
   "id": "ebdf5a2f",
   "metadata": {},
   "outputs": [
    {
     "data": {
      "text/html": [
       "<html>\\(\\displaystyle \\left(\\begin{array}{rrrrrr}\n",
       "0 & 0 & 0 & 0 & 0 & 0 \\\\\n",
       "0 & -1 & 0 & 0 & 0 & 0 \\\\\n",
       "0 & 0 & -1 & 0 & 0 & 0 \\\\\n",
       "0 & 0 & 0 & 0 & 0 & 0 \\\\\n",
       "0 & 0 & 0 & 0 & 0 & 0 \\\\\n",
       "0 & 0 & 0 & 0 & 0 & 1\n",
       "\\end{array}\\right)\\)</html>"
      ],
      "text/latex": [
       "$\\displaystyle \\left(\\begin{array}{rrrrrr}\n",
       "0 & 0 & 0 & 0 & 0 & 0 \\\\\n",
       "0 & -1 & 0 & 0 & 0 & 0 \\\\\n",
       "0 & 0 & -1 & 0 & 0 & 0 \\\\\n",
       "0 & 0 & 0 & 0 & 0 & 0 \\\\\n",
       "0 & 0 & 0 & 0 & 0 & 0 \\\\\n",
       "0 & 0 & 0 & 0 & 0 & 1\n",
       "\\end{array}\\right)$"
      ],
      "text/plain": [
       "[ 0  0  0  0  0  0]\n",
       "[ 0 -1  0  0  0  0]\n",
       "[ 0  0 -1  0  0  0]\n",
       "[ 0  0  0  0  0  0]\n",
       "[ 0  0  0  0  0  0]\n",
       "[ 0  0  0  0  0  1]"
      ]
     },
     "metadata": {},
     "output_type": "display_data"
    },
    {
     "data": {
      "text/html": [
       "<html>\\(\\displaystyle \\left(\\begin{array}{rrrrrr}\n",
       "0 & 0 & 0 & 0 & 0 & 0 \\\\\n",
       "0 & 0 & 0 & 1 & 0 & 0 \\\\\n",
       "0 & 0 & 0 & 4 I & -2 & 0 \\\\\n",
       "0 & 0 & 0 & 0 & 0 & 0 \\\\\n",
       "0 & 0 & 0 & 0 & 0 & 1 \\\\\n",
       "0 & 0 & 0 & 0 & 0 & 0\n",
       "\\end{array}\\right)\\)</html>"
      ],
      "text/latex": [
       "$\\displaystyle \\left(\\begin{array}{rrrrrr}\n",
       "0 & 0 & 0 & 0 & 0 & 0 \\\\\n",
       "0 & 0 & 0 & 1 & 0 & 0 \\\\\n",
       "0 & 0 & 0 & 4 I & -2 & 0 \\\\\n",
       "0 & 0 & 0 & 0 & 0 & 0 \\\\\n",
       "0 & 0 & 0 & 0 & 0 & 1 \\\\\n",
       "0 & 0 & 0 & 0 & 0 & 0\n",
       "\\end{array}\\right)$"
      ],
      "text/plain": [
       "[  0   0   0   0   0   0]\n",
       "[  0   0   0   1   0   0]\n",
       "[  0   0   0 4*I  -2   0]\n",
       "[  0   0   0   0   0   0]\n",
       "[  0   0   0   0   0   1]\n",
       "[  0   0   0   0   0   0]"
      ]
     },
     "metadata": {},
     "output_type": "display_data"
    },
    {
     "data": {
      "text/html": [
       "<html>\\(\\displaystyle \\left(\\begin{array}{rrrrrr}\n",
       "0 & 0 & 0 & 0 & 0 & 0 \\\\\n",
       "0 & 2 & 0 & 0 & 0 & 0 \\\\\n",
       "0 & 0 & 2 & 0 & 0 & 0 \\\\\n",
       "0 & 0 & 0 & 1 & 0 & 0 \\\\\n",
       "0 & 0 & 0 & 0 & 1 & 0 \\\\\n",
       "0 & 0 & 0 & 0 & 0 & 0\n",
       "\\end{array}\\right)\\)</html>"
      ],
      "text/latex": [
       "$\\displaystyle \\left(\\begin{array}{rrrrrr}\n",
       "0 & 0 & 0 & 0 & 0 & 0 \\\\\n",
       "0 & 2 & 0 & 0 & 0 & 0 \\\\\n",
       "0 & 0 & 2 & 0 & 0 & 0 \\\\\n",
       "0 & 0 & 0 & 1 & 0 & 0 \\\\\n",
       "0 & 0 & 0 & 0 & 1 & 0 \\\\\n",
       "0 & 0 & 0 & 0 & 0 & 0\n",
       "\\end{array}\\right)$"
      ],
      "text/plain": [
       "[0 0 0 0 0 0]\n",
       "[0 2 0 0 0 0]\n",
       "[0 0 2 0 0 0]\n",
       "[0 0 0 1 0 0]\n",
       "[0 0 0 0 1 0]\n",
       "[0 0 0 0 0 0]"
      ]
     },
     "metadata": {},
     "output_type": "display_data"
    },
    {
     "data": {
      "text/html": [
       "<html>\\(\\displaystyle \\left(\\begin{array}{rrrrrr}\n",
       "0 & 0 & 0 & 0 & 0 & 0 \\\\\n",
       "0 & -2 I & 1 & 0 & 0 & 0 \\\\\n",
       "0 & 0 & 2 I & 0 & 0 & 0 \\\\\n",
       "0 & 0 & 0 & I & -1 & 0 \\\\\n",
       "0 & 0 & 0 & 0 & -I & 0 \\\\\n",
       "0 & 0 & 0 & 0 & 0 & 0\n",
       "\\end{array}\\right)\\)</html>"
      ],
      "text/latex": [
       "$\\displaystyle \\left(\\begin{array}{rrrrrr}\n",
       "0 & 0 & 0 & 0 & 0 & 0 \\\\\n",
       "0 & -2 I & 1 & 0 & 0 & 0 \\\\\n",
       "0 & 0 & 2 I & 0 & 0 & 0 \\\\\n",
       "0 & 0 & 0 & I & -1 & 0 \\\\\n",
       "0 & 0 & 0 & 0 & -I & 0 \\\\\n",
       "0 & 0 & 0 & 0 & 0 & 0\n",
       "\\end{array}\\right)$"
      ],
      "text/plain": [
       "[   0    0    0    0    0    0]\n",
       "[   0 -2*I    1    0    0    0]\n",
       "[   0    0  2*I    0    0    0]\n",
       "[   0    0    0    I   -1    0]\n",
       "[   0    0    0    0   -I    0]\n",
       "[   0    0    0    0    0    0]"
      ]
     },
     "metadata": {},
     "output_type": "display_data"
    },
    {
     "data": {
      "text/html": [
       "<html>\\(\\displaystyle \\left(\\begin{array}{rrrrrr}\n",
       "0 & 0 & 0 & 0 & 0 & 1 \\\\\n",
       "0 & 0 & 0 & 0 & 0 & 0 \\\\\n",
       "0 & 0 & 0 & 0 & 0 & 0 \\\\\n",
       "0 & 0 & 0 & 0 & 0 & 0 \\\\\n",
       "0 & 0 & 0 & 0 & 0 & 0 \\\\\n",
       "0 & 0 & 0 & 0 & 0 & 0\n",
       "\\end{array}\\right)\\)</html>"
      ],
      "text/latex": [
       "$\\displaystyle \\left(\\begin{array}{rrrrrr}\n",
       "0 & 0 & 0 & 0 & 0 & 1 \\\\\n",
       "0 & 0 & 0 & 0 & 0 & 0 \\\\\n",
       "0 & 0 & 0 & 0 & 0 & 0 \\\\\n",
       "0 & 0 & 0 & 0 & 0 & 0 \\\\\n",
       "0 & 0 & 0 & 0 & 0 & 0 \\\\\n",
       "0 & 0 & 0 & 0 & 0 & 0\n",
       "\\end{array}\\right)$"
      ],
      "text/plain": [
       "[0 0 0 0 0 1]\n",
       "[0 0 0 0 0 0]\n",
       "[0 0 0 0 0 0]\n",
       "[0 0 0 0 0 0]\n",
       "[0 0 0 0 0 0]\n",
       "[0 0 0 0 0 0]"
      ]
     },
     "metadata": {},
     "output_type": "display_data"
    },
    {
     "data": {
      "text/html": [
       "<html>\\(\\displaystyle \\left(\\begin{array}{rrrrrr}\n",
       "0 & 0 & 0 & -I & 1 & 0 \\\\\n",
       "0 & 0 & 0 & 0 & 0 & 0 \\\\\n",
       "0 & 0 & 0 & 0 & 0 & 0 \\\\\n",
       "0 & 0 & 0 & 0 & 0 & 0 \\\\\n",
       "0 & 0 & 0 & 0 & 0 & 0 \\\\\n",
       "0 & 0 & 0 & 0 & 0 & 0\n",
       "\\end{array}\\right)\\)</html>"
      ],
      "text/latex": [
       "$\\displaystyle \\left(\\begin{array}{rrrrrr}\n",
       "0 & 0 & 0 & -I & 1 & 0 \\\\\n",
       "0 & 0 & 0 & 0 & 0 & 0 \\\\\n",
       "0 & 0 & 0 & 0 & 0 & 0 \\\\\n",
       "0 & 0 & 0 & 0 & 0 & 0 \\\\\n",
       "0 & 0 & 0 & 0 & 0 & 0 \\\\\n",
       "0 & 0 & 0 & 0 & 0 & 0\n",
       "\\end{array}\\right)$"
      ],
      "text/plain": [
       "[ 0  0  0 -I  1  0]\n",
       "[ 0  0  0  0  0  0]\n",
       "[ 0  0  0  0  0  0]\n",
       "[ 0  0  0  0  0  0]\n",
       "[ 0  0  0  0  0  0]\n",
       "[ 0  0  0  0  0  0]"
      ]
     },
     "metadata": {},
     "output_type": "display_data"
    },
    {
     "data": {
      "text/html": [
       "<html>\\(\\displaystyle \\left(\\begin{array}{rrrrrr}\n",
       "1 & 0 & 0 & 0 & 0 & 0 \\\\\n",
       "0 & 0 & 0 & 0 & 0 & 0 \\\\\n",
       "0 & 0 & 0 & 0 & 0 & 0 \\\\\n",
       "0 & 0 & 0 & 0 & 0 & 0 \\\\\n",
       "0 & 0 & 0 & 0 & 0 & 0 \\\\\n",
       "0 & 0 & 0 & 0 & 0 & 0\n",
       "\\end{array}\\right)\\)</html>"
      ],
      "text/latex": [
       "$\\displaystyle \\left(\\begin{array}{rrrrrr}\n",
       "1 & 0 & 0 & 0 & 0 & 0 \\\\\n",
       "0 & 0 & 0 & 0 & 0 & 0 \\\\\n",
       "0 & 0 & 0 & 0 & 0 & 0 \\\\\n",
       "0 & 0 & 0 & 0 & 0 & 0 \\\\\n",
       "0 & 0 & 0 & 0 & 0 & 0 \\\\\n",
       "0 & 0 & 0 & 0 & 0 & 0\n",
       "\\end{array}\\right)$"
      ],
      "text/plain": [
       "[1 0 0 0 0 0]\n",
       "[0 0 0 0 0 0]\n",
       "[0 0 0 0 0 0]\n",
       "[0 0 0 0 0 0]\n",
       "[0 0 0 0 0 0]\n",
       "[0 0 0 0 0 0]"
      ]
     },
     "metadata": {},
     "output_type": "display_data"
    },
    {
     "data": {
      "text/html": [
       "<html>\\(\\displaystyle \\left(\\begin{array}{rrrrrr}\n",
       "0 & 0 & 0 & 1 & 0 & 0 \\\\\n",
       "0 & 0 & 0 & 0 & 0 & 0 \\\\\n",
       "0 & 0 & 0 & 0 & 0 & 0 \\\\\n",
       "0 & 0 & 0 & 0 & 0 & 0 \\\\\n",
       "0 & 0 & 0 & 0 & 0 & 0 \\\\\n",
       "0 & 0 & 0 & 0 & 0 & 0\n",
       "\\end{array}\\right)\\)</html>"
      ],
      "text/latex": [
       "$\\displaystyle \\left(\\begin{array}{rrrrrr}\n",
       "0 & 0 & 0 & 1 & 0 & 0 \\\\\n",
       "0 & 0 & 0 & 0 & 0 & 0 \\\\\n",
       "0 & 0 & 0 & 0 & 0 & 0 \\\\\n",
       "0 & 0 & 0 & 0 & 0 & 0 \\\\\n",
       "0 & 0 & 0 & 0 & 0 & 0 \\\\\n",
       "0 & 0 & 0 & 0 & 0 & 0\n",
       "\\end{array}\\right)$"
      ],
      "text/plain": [
       "[0 0 0 1 0 0]\n",
       "[0 0 0 0 0 0]\n",
       "[0 0 0 0 0 0]\n",
       "[0 0 0 0 0 0]\n",
       "[0 0 0 0 0 0]\n",
       "[0 0 0 0 0 0]"
      ]
     },
     "metadata": {},
     "output_type": "display_data"
    },
    {
     "data": {
      "text/html": [
       "<html>\\(\\displaystyle \\left(\\begin{array}{rrrrrr}\n",
       "0 & 1 & 0 & 0 & 0 & 0 \\\\\n",
       "0 & 0 & 0 & 0 & 0 & 0 \\\\\n",
       "0 & 0 & 0 & 0 & 0 & 0 \\\\\n",
       "0 & 0 & 0 & 0 & 0 & 0 \\\\\n",
       "0 & 0 & 0 & 0 & 0 & 0 \\\\\n",
       "0 & 0 & 0 & 0 & 0 & 0\n",
       "\\end{array}\\right)\\)</html>"
      ],
      "text/latex": [
       "$\\displaystyle \\left(\\begin{array}{rrrrrr}\n",
       "0 & 1 & 0 & 0 & 0 & 0 \\\\\n",
       "0 & 0 & 0 & 0 & 0 & 0 \\\\\n",
       "0 & 0 & 0 & 0 & 0 & 0 \\\\\n",
       "0 & 0 & 0 & 0 & 0 & 0 \\\\\n",
       "0 & 0 & 0 & 0 & 0 & 0 \\\\\n",
       "0 & 0 & 0 & 0 & 0 & 0\n",
       "\\end{array}\\right)$"
      ],
      "text/plain": [
       "[0 1 0 0 0 0]\n",
       "[0 0 0 0 0 0]\n",
       "[0 0 0 0 0 0]\n",
       "[0 0 0 0 0 0]\n",
       "[0 0 0 0 0 0]\n",
       "[0 0 0 0 0 0]"
      ]
     },
     "metadata": {},
     "output_type": "display_data"
    },
    {
     "data": {
      "text/html": [
       "<html>\\(\\displaystyle \\left(\\begin{array}{rrrrrr}\n",
       "1 & -2 I & 1 & 0 & 0 & 0 \\\\\n",
       "0 & 0 & 0 & 0 & 0 & 0 \\\\\n",
       "0 & 0 & 0 & 0 & 0 & 0 \\\\\n",
       "0 & 0 & 0 & 0 & 0 & 0 \\\\\n",
       "0 & 0 & 0 & 0 & 0 & 0 \\\\\n",
       "0 & 0 & 0 & 0 & 0 & 0\n",
       "\\end{array}\\right)\\)</html>"
      ],
      "text/latex": [
       "$\\displaystyle \\left(\\begin{array}{rrrrrr}\n",
       "1 & -2 I & 1 & 0 & 0 & 0 \\\\\n",
       "0 & 0 & 0 & 0 & 0 & 0 \\\\\n",
       "0 & 0 & 0 & 0 & 0 & 0 \\\\\n",
       "0 & 0 & 0 & 0 & 0 & 0 \\\\\n",
       "0 & 0 & 0 & 0 & 0 & 0 \\\\\n",
       "0 & 0 & 0 & 0 & 0 & 0\n",
       "\\end{array}\\right)$"
      ],
      "text/plain": [
       "[   1 -2*I    1    0    0    0]\n",
       "[   0    0    0    0    0    0]\n",
       "[   0    0    0    0    0    0]\n",
       "[   0    0    0    0    0    0]\n",
       "[   0    0    0    0    0    0]\n",
       "[   0    0    0    0    0    0]"
      ]
     },
     "metadata": {},
     "output_type": "display_data"
    },
    {
     "data": {
      "text/html": [
       "<html>\\(\\displaystyle \\left(\\begin{array}{rrrrrr}\n",
       "0 & 0 & 0 & 0 & 0 & 0 \\\\\n",
       "0 & 0 & 0 & -I & 1 & 0 \\\\\n",
       "0 & 0 & 0 & 4 & 2 I & 0 \\\\\n",
       "0 & 0 & 0 & 0 & 0 & 1 \\\\\n",
       "0 & 0 & 0 & 0 & 0 & I \\\\\n",
       "0 & 0 & 0 & 0 & 0 & 0\n",
       "\\end{array}\\right)\\)</html>"
      ],
      "text/latex": [
       "$\\displaystyle \\left(\\begin{array}{rrrrrr}\n",
       "0 & 0 & 0 & 0 & 0 & 0 \\\\\n",
       "0 & 0 & 0 & -I & 1 & 0 \\\\\n",
       "0 & 0 & 0 & 4 & 2 I & 0 \\\\\n",
       "0 & 0 & 0 & 0 & 0 & 1 \\\\\n",
       "0 & 0 & 0 & 0 & 0 & I \\\\\n",
       "0 & 0 & 0 & 0 & 0 & 0\n",
       "\\end{array}\\right)$"
      ],
      "text/plain": [
       "[  0   0   0   0   0   0]\n",
       "[  0   0   0  -I   1   0]\n",
       "[  0   0   0   4 2*I   0]\n",
       "[  0   0   0   0   0   1]\n",
       "[  0   0   0   0   0   I]\n",
       "[  0   0   0   0   0   0]"
      ]
     },
     "metadata": {},
     "output_type": "display_data"
    }
   ],
   "source": [
    "I2_1 = matrix.identity(K,6)\n",
    "I2_1[1:,1:] = I2\n",
    "I3_1 = matrix.identity(K,6)\n",
    "I3_1[2:,2:] = I3\n",
    "I4_1 = matrix.identity(K,6)\n",
    "I4_1[3:,3:] = I4\n",
    "I = I1*I2_1*I3_1*I4_1\n",
    "L_upper = []\n",
    "for l in L:\n",
    "    k = I.inverse()*l*I\n",
    "    L_upper.append(k)\n",
    "    show(k)"
   ]
  },
  {
   "cell_type": "code",
   "execution_count": 49,
   "id": "7dbf30e5",
   "metadata": {},
   "outputs": [
    {
     "data": {
      "text/plain": [
       "{s11: s33,\n",
       " s12: s23,\n",
       " s22: s11 - s22,\n",
       " s13: s13 + I*s23,\n",
       " s23: s12 + (2*I)*s22,\n",
       " s33: s22}"
      ]
     },
     "execution_count": 49,
     "metadata": {},
     "output_type": "execute_result"
    }
   ],
   "source": [
    "X = matrix(R,n_vars,1,R.gens()[:n_vars])\n",
    "#vector(X)*g\n",
    "sub = {}\n",
    "for i in range(6):\n",
    "    sub[X[i][0].change_ring(K)] = (vector(X)*I.inverse())[i]\n",
    "sub"
   ]
  },
  {
   "cell_type": "code",
   "execution_count": 50,
   "id": "da0f4516",
   "metadata": {},
   "outputs": [
    {
     "data": {
      "text/html": [
       "<html>\\(\\displaystyle s_{13} s_{23} + I s_{23}^{2} - s_{12} s_{33} - 2 I s_{22} s_{33}\\)</html>"
      ],
      "text/latex": [
       "$\\displaystyle s_{13} s_{23} + I s_{23}^{2} - s_{12} s_{33} - 2 I s_{22} s_{33}$"
      ],
      "text/plain": [
       "s13*s23 + I*s23^2 - s12*s33 + (-2*I)*s22*s33"
      ]
     },
     "metadata": {},
     "output_type": "display_data"
    },
    {
     "data": {
      "text/html": [
       "<html>\\(\\displaystyle -s_{13}^{2} - 2 I s_{13} s_{23} + 2 s_{23}^{2} - s_{11} s_{33} + 2 s_{22} s_{33}\\)</html>"
      ],
      "text/latex": [
       "$\\displaystyle -s_{13}^{2} - 2 I s_{13} s_{23} + 2 s_{23}^{2} - s_{11} s_{33} + 2 s_{22} s_{33}$"
      ],
      "text/plain": [
       "-s13^2 + (-2*I)*s13*s23 + 2*s23^2 - s11*s33 + 2*s22*s33"
      ]
     },
     "metadata": {},
     "output_type": "display_data"
    }
   ],
   "source": [
    "p1 = (gens[0].change_ring(K))\n",
    "show(p1.subs(sub))\n",
    "p2 = (gens[1].change_ring(K))\n",
    "show(p2.subs(sub))"
   ]
  },
  {
   "cell_type": "code",
   "execution_count": 36,
   "id": "b9b5903d",
   "metadata": {},
   "outputs": [
    {
     "data": {
      "text/plain": [
       "[(2*I, 1), (I, 1), (0, 1), (-I, 1), (-2*I, 1)]"
      ]
     },
     "execution_count": 36,
     "metadata": {},
     "output_type": "execute_result"
    }
   ],
   "source": [
    "L_upper[3].minpoly().roots()"
   ]
  },
  {
   "cell_type": "code",
   "execution_count": 37,
   "id": "ac94a509",
   "metadata": {},
   "outputs": [
    {
     "name": "stdout",
     "output_type": "stream",
     "text": [
      "True\n",
      "False\n",
      "True\n",
      "True\n",
      "False\n",
      "False\n",
      "True\n",
      "False\n",
      "False\n",
      "True\n",
      "False\n"
     ]
    }
   ],
   "source": [
    "for l in L_upper:\n",
    "    print(l.is_diagonalizable())"
   ]
  },
  {
   "cell_type": "code",
   "execution_count": 38,
   "id": "67823533",
   "metadata": {},
   "outputs": [
    {
     "data": {
      "text/plain": [
       "False"
      ]
     },
     "execution_count": 38,
     "metadata": {},
     "output_type": "execute_result"
    }
   ],
   "source": [
    "L_upper[10].is_diagonalizable()"
   ]
  },
  {
   "cell_type": "code",
   "execution_count": 51,
   "id": "ee28abf4",
   "metadata": {},
   "outputs": [
    {
     "data": {
      "text/html": [
       "<html>\\(\\displaystyle \\left(\\begin{array}{rrrrrr}\n",
       "0 & 0 & 0 & 0 & 0 & 0 \\\\\n",
       "0 & -1 & 0 & 0 & 0 & 0 \\\\\n",
       "0 & 0 & -1 & 0 & 0 & 0 \\\\\n",
       "0 & 0 & 0 & 0 & 0 & 0 \\\\\n",
       "0 & 0 & 0 & 0 & 0 & 0 \\\\\n",
       "0 & 0 & 0 & 0 & 0 & 1\n",
       "\\end{array}\\right) \\mathrm{True}\\)</html>"
      ],
      "text/latex": [
       "$\\displaystyle \\left(\\begin{array}{rrrrrr}\n",
       "0 & 0 & 0 & 0 & 0 & 0 \\\\\n",
       "0 & -1 & 0 & 0 & 0 & 0 \\\\\n",
       "0 & 0 & -1 & 0 & 0 & 0 \\\\\n",
       "0 & 0 & 0 & 0 & 0 & 0 \\\\\n",
       "0 & 0 & 0 & 0 & 0 & 0 \\\\\n",
       "0 & 0 & 0 & 0 & 0 & 1\n",
       "\\end{array}\\right) \\mathrm{True}$"
      ],
      "text/plain": [
       "[ 0  0  0  0  0  0]\n",
       "[ 0 -1  0  0  0  0]\n",
       "[ 0  0 -1  0  0  0]\n",
       "[ 0  0  0  0  0  0]\n",
       "[ 0  0  0  0  0  0]\n",
       "[ 0  0  0  0  0  1] True"
      ]
     },
     "metadata": {},
     "output_type": "display_data"
    },
    {
     "data": {
      "text/html": [
       "<html>\\(\\displaystyle \\left(\\begin{array}{rrrrrr}\n",
       "0 & 0 & 0 & 0 & 0 & 0 \\\\\n",
       "0 & 0 & 0 & 1 & 0 & 0 \\\\\n",
       "0 & 0 & 0 & 4 I & -2 & 0 \\\\\n",
       "0 & 0 & 0 & 0 & 0 & 0 \\\\\n",
       "0 & 0 & 0 & 0 & 0 & 1 \\\\\n",
       "0 & 0 & 0 & 0 & 0 & 0\n",
       "\\end{array}\\right) \\mathrm{False}\\)</html>"
      ],
      "text/latex": [
       "$\\displaystyle \\left(\\begin{array}{rrrrrr}\n",
       "0 & 0 & 0 & 0 & 0 & 0 \\\\\n",
       "0 & 0 & 0 & 1 & 0 & 0 \\\\\n",
       "0 & 0 & 0 & 4 I & -2 & 0 \\\\\n",
       "0 & 0 & 0 & 0 & 0 & 0 \\\\\n",
       "0 & 0 & 0 & 0 & 0 & 1 \\\\\n",
       "0 & 0 & 0 & 0 & 0 & 0\n",
       "\\end{array}\\right) \\mathrm{False}$"
      ],
      "text/plain": [
       "[  0   0   0   0   0   0]\n",
       "[  0   0   0   1   0   0]\n",
       "[  0   0   0 4*I  -2   0]\n",
       "[  0   0   0   0   0   0]\n",
       "[  0   0   0   0   0   1]\n",
       "[  0   0   0   0   0   0] False"
      ]
     },
     "metadata": {},
     "output_type": "display_data"
    },
    {
     "data": {
      "text/html": [
       "<html>\\(\\displaystyle \\left(\\begin{array}{rrrrrr}\n",
       "0 & 0 & 0 & 0 & 0 & 0 \\\\\n",
       "0 & 2 & 0 & 0 & 0 & 0 \\\\\n",
       "0 & 0 & 2 & 0 & 0 & 0 \\\\\n",
       "0 & 0 & 0 & 1 & 0 & 0 \\\\\n",
       "0 & 0 & 0 & 0 & 1 & 0 \\\\\n",
       "0 & 0 & 0 & 0 & 0 & 0\n",
       "\\end{array}\\right) \\mathrm{True}\\)</html>"
      ],
      "text/latex": [
       "$\\displaystyle \\left(\\begin{array}{rrrrrr}\n",
       "0 & 0 & 0 & 0 & 0 & 0 \\\\\n",
       "0 & 2 & 0 & 0 & 0 & 0 \\\\\n",
       "0 & 0 & 2 & 0 & 0 & 0 \\\\\n",
       "0 & 0 & 0 & 1 & 0 & 0 \\\\\n",
       "0 & 0 & 0 & 0 & 1 & 0 \\\\\n",
       "0 & 0 & 0 & 0 & 0 & 0\n",
       "\\end{array}\\right) \\mathrm{True}$"
      ],
      "text/plain": [
       "[0 0 0 0 0 0]\n",
       "[0 2 0 0 0 0]\n",
       "[0 0 2 0 0 0]\n",
       "[0 0 0 1 0 0]\n",
       "[0 0 0 0 1 0]\n",
       "[0 0 0 0 0 0] True"
      ]
     },
     "metadata": {},
     "output_type": "display_data"
    },
    {
     "data": {
      "text/html": [
       "<html>\\(\\displaystyle \\left(\\begin{array}{rrrrrr}\n",
       "0 & 0 & 0 & 0 & 0 & 0 \\\\\n",
       "0 & -2 I & 1 & 0 & 0 & 0 \\\\\n",
       "0 & 0 & 2 I & 0 & 0 & 0 \\\\\n",
       "0 & 0 & 0 & I & -1 & 0 \\\\\n",
       "0 & 0 & 0 & 0 & -I & 0 \\\\\n",
       "0 & 0 & 0 & 0 & 0 & 0\n",
       "\\end{array}\\right) \\mathrm{True}\\)</html>"
      ],
      "text/latex": [
       "$\\displaystyle \\left(\\begin{array}{rrrrrr}\n",
       "0 & 0 & 0 & 0 & 0 & 0 \\\\\n",
       "0 & -2 I & 1 & 0 & 0 & 0 \\\\\n",
       "0 & 0 & 2 I & 0 & 0 & 0 \\\\\n",
       "0 & 0 & 0 & I & -1 & 0 \\\\\n",
       "0 & 0 & 0 & 0 & -I & 0 \\\\\n",
       "0 & 0 & 0 & 0 & 0 & 0\n",
       "\\end{array}\\right) \\mathrm{True}$"
      ],
      "text/plain": [
       "[   0    0    0    0    0    0]\n",
       "[   0 -2*I    1    0    0    0]\n",
       "[   0    0  2*I    0    0    0]\n",
       "[   0    0    0    I   -1    0]\n",
       "[   0    0    0    0   -I    0]\n",
       "[   0    0    0    0    0    0] True"
      ]
     },
     "metadata": {},
     "output_type": "display_data"
    },
    {
     "data": {
      "text/html": [
       "<html>\\(\\displaystyle \\left(\\begin{array}{rrrrrr}\n",
       "0 & 0 & 0 & 0 & 0 & 1 \\\\\n",
       "0 & 0 & 0 & 0 & 0 & 0 \\\\\n",
       "0 & 0 & 0 & 0 & 0 & 0 \\\\\n",
       "0 & 0 & 0 & 0 & 0 & 0 \\\\\n",
       "0 & 0 & 0 & 0 & 0 & 0 \\\\\n",
       "0 & 0 & 0 & 0 & 0 & 0\n",
       "\\end{array}\\right) \\mathrm{False}\\)</html>"
      ],
      "text/latex": [
       "$\\displaystyle \\left(\\begin{array}{rrrrrr}\n",
       "0 & 0 & 0 & 0 & 0 & 1 \\\\\n",
       "0 & 0 & 0 & 0 & 0 & 0 \\\\\n",
       "0 & 0 & 0 & 0 & 0 & 0 \\\\\n",
       "0 & 0 & 0 & 0 & 0 & 0 \\\\\n",
       "0 & 0 & 0 & 0 & 0 & 0 \\\\\n",
       "0 & 0 & 0 & 0 & 0 & 0\n",
       "\\end{array}\\right) \\mathrm{False}$"
      ],
      "text/plain": [
       "[0 0 0 0 0 1]\n",
       "[0 0 0 0 0 0]\n",
       "[0 0 0 0 0 0]\n",
       "[0 0 0 0 0 0]\n",
       "[0 0 0 0 0 0]\n",
       "[0 0 0 0 0 0] False"
      ]
     },
     "metadata": {},
     "output_type": "display_data"
    },
    {
     "data": {
      "text/html": [
       "<html>\\(\\displaystyle \\left(\\begin{array}{rrrrrr}\n",
       "0 & 0 & 0 & -I & 1 & 0 \\\\\n",
       "0 & 0 & 0 & 0 & 0 & 0 \\\\\n",
       "0 & 0 & 0 & 0 & 0 & 0 \\\\\n",
       "0 & 0 & 0 & 0 & 0 & 0 \\\\\n",
       "0 & 0 & 0 & 0 & 0 & 0 \\\\\n",
       "0 & 0 & 0 & 0 & 0 & 0\n",
       "\\end{array}\\right) \\mathrm{False}\\)</html>"
      ],
      "text/latex": [
       "$\\displaystyle \\left(\\begin{array}{rrrrrr}\n",
       "0 & 0 & 0 & -I & 1 & 0 \\\\\n",
       "0 & 0 & 0 & 0 & 0 & 0 \\\\\n",
       "0 & 0 & 0 & 0 & 0 & 0 \\\\\n",
       "0 & 0 & 0 & 0 & 0 & 0 \\\\\n",
       "0 & 0 & 0 & 0 & 0 & 0 \\\\\n",
       "0 & 0 & 0 & 0 & 0 & 0\n",
       "\\end{array}\\right) \\mathrm{False}$"
      ],
      "text/plain": [
       "[ 0  0  0 -I  1  0]\n",
       "[ 0  0  0  0  0  0]\n",
       "[ 0  0  0  0  0  0]\n",
       "[ 0  0  0  0  0  0]\n",
       "[ 0  0  0  0  0  0]\n",
       "[ 0  0  0  0  0  0] False"
      ]
     },
     "metadata": {},
     "output_type": "display_data"
    },
    {
     "data": {
      "text/html": [
       "<html>\\(\\displaystyle \\left(\\begin{array}{rrrrrr}\n",
       "1 & 0 & 0 & 0 & 0 & 0 \\\\\n",
       "0 & 0 & 0 & 0 & 0 & 0 \\\\\n",
       "0 & 0 & 0 & 0 & 0 & 0 \\\\\n",
       "0 & 0 & 0 & 0 & 0 & 0 \\\\\n",
       "0 & 0 & 0 & 0 & 0 & 0 \\\\\n",
       "0 & 0 & 0 & 0 & 0 & 0\n",
       "\\end{array}\\right) \\mathrm{True}\\)</html>"
      ],
      "text/latex": [
       "$\\displaystyle \\left(\\begin{array}{rrrrrr}\n",
       "1 & 0 & 0 & 0 & 0 & 0 \\\\\n",
       "0 & 0 & 0 & 0 & 0 & 0 \\\\\n",
       "0 & 0 & 0 & 0 & 0 & 0 \\\\\n",
       "0 & 0 & 0 & 0 & 0 & 0 \\\\\n",
       "0 & 0 & 0 & 0 & 0 & 0 \\\\\n",
       "0 & 0 & 0 & 0 & 0 & 0\n",
       "\\end{array}\\right) \\mathrm{True}$"
      ],
      "text/plain": [
       "[1 0 0 0 0 0]\n",
       "[0 0 0 0 0 0]\n",
       "[0 0 0 0 0 0]\n",
       "[0 0 0 0 0 0]\n",
       "[0 0 0 0 0 0]\n",
       "[0 0 0 0 0 0] True"
      ]
     },
     "metadata": {},
     "output_type": "display_data"
    },
    {
     "data": {
      "text/html": [
       "<html>\\(\\displaystyle \\left(\\begin{array}{rrrrrr}\n",
       "0 & 0 & 0 & 1 & 0 & 0 \\\\\n",
       "0 & 0 & 0 & 0 & 0 & 0 \\\\\n",
       "0 & 0 & 0 & 0 & 0 & 0 \\\\\n",
       "0 & 0 & 0 & 0 & 0 & 0 \\\\\n",
       "0 & 0 & 0 & 0 & 0 & 0 \\\\\n",
       "0 & 0 & 0 & 0 & 0 & 0\n",
       "\\end{array}\\right) \\mathrm{False}\\)</html>"
      ],
      "text/latex": [
       "$\\displaystyle \\left(\\begin{array}{rrrrrr}\n",
       "0 & 0 & 0 & 1 & 0 & 0 \\\\\n",
       "0 & 0 & 0 & 0 & 0 & 0 \\\\\n",
       "0 & 0 & 0 & 0 & 0 & 0 \\\\\n",
       "0 & 0 & 0 & 0 & 0 & 0 \\\\\n",
       "0 & 0 & 0 & 0 & 0 & 0 \\\\\n",
       "0 & 0 & 0 & 0 & 0 & 0\n",
       "\\end{array}\\right) \\mathrm{False}$"
      ],
      "text/plain": [
       "[0 0 0 1 0 0]\n",
       "[0 0 0 0 0 0]\n",
       "[0 0 0 0 0 0]\n",
       "[0 0 0 0 0 0]\n",
       "[0 0 0 0 0 0]\n",
       "[0 0 0 0 0 0] False"
      ]
     },
     "metadata": {},
     "output_type": "display_data"
    },
    {
     "data": {
      "text/html": [
       "<html>\\(\\displaystyle \\left(\\begin{array}{rrrrrr}\n",
       "0 & 1 & 0 & 0 & 0 & 0 \\\\\n",
       "0 & 0 & 0 & 0 & 0 & 0 \\\\\n",
       "0 & 0 & 0 & 0 & 0 & 0 \\\\\n",
       "0 & 0 & 0 & 0 & 0 & 0 \\\\\n",
       "0 & 0 & 0 & 0 & 0 & 0 \\\\\n",
       "0 & 0 & 0 & 0 & 0 & 0\n",
       "\\end{array}\\right) \\mathrm{False}\\)</html>"
      ],
      "text/latex": [
       "$\\displaystyle \\left(\\begin{array}{rrrrrr}\n",
       "0 & 1 & 0 & 0 & 0 & 0 \\\\\n",
       "0 & 0 & 0 & 0 & 0 & 0 \\\\\n",
       "0 & 0 & 0 & 0 & 0 & 0 \\\\\n",
       "0 & 0 & 0 & 0 & 0 & 0 \\\\\n",
       "0 & 0 & 0 & 0 & 0 & 0 \\\\\n",
       "0 & 0 & 0 & 0 & 0 & 0\n",
       "\\end{array}\\right) \\mathrm{False}$"
      ],
      "text/plain": [
       "[0 1 0 0 0 0]\n",
       "[0 0 0 0 0 0]\n",
       "[0 0 0 0 0 0]\n",
       "[0 0 0 0 0 0]\n",
       "[0 0 0 0 0 0]\n",
       "[0 0 0 0 0 0] False"
      ]
     },
     "metadata": {},
     "output_type": "display_data"
    },
    {
     "data": {
      "text/html": [
       "<html>\\(\\displaystyle \\left(\\begin{array}{rrrrrr}\n",
       "1 & -2 I & 1 & 0 & 0 & 0 \\\\\n",
       "0 & 0 & 0 & 0 & 0 & 0 \\\\\n",
       "0 & 0 & 0 & 0 & 0 & 0 \\\\\n",
       "0 & 0 & 0 & 0 & 0 & 0 \\\\\n",
       "0 & 0 & 0 & 0 & 0 & 0 \\\\\n",
       "0 & 0 & 0 & 0 & 0 & 0\n",
       "\\end{array}\\right) \\mathrm{True}\\)</html>"
      ],
      "text/latex": [
       "$\\displaystyle \\left(\\begin{array}{rrrrrr}\n",
       "1 & -2 I & 1 & 0 & 0 & 0 \\\\\n",
       "0 & 0 & 0 & 0 & 0 & 0 \\\\\n",
       "0 & 0 & 0 & 0 & 0 & 0 \\\\\n",
       "0 & 0 & 0 & 0 & 0 & 0 \\\\\n",
       "0 & 0 & 0 & 0 & 0 & 0 \\\\\n",
       "0 & 0 & 0 & 0 & 0 & 0\n",
       "\\end{array}\\right) \\mathrm{True}$"
      ],
      "text/plain": [
       "[   1 -2*I    1    0    0    0]\n",
       "[   0    0    0    0    0    0]\n",
       "[   0    0    0    0    0    0]\n",
       "[   0    0    0    0    0    0]\n",
       "[   0    0    0    0    0    0]\n",
       "[   0    0    0    0    0    0] True"
      ]
     },
     "metadata": {},
     "output_type": "display_data"
    },
    {
     "data": {
      "text/html": [
       "<html>\\(\\displaystyle \\left(\\begin{array}{rrrrrr}\n",
       "0 & 0 & 0 & 0 & 0 & 0 \\\\\n",
       "0 & 0 & 0 & -I & 1 & 0 \\\\\n",
       "0 & 0 & 0 & 4 & 2 I & 0 \\\\\n",
       "0 & 0 & 0 & 0 & 0 & 1 \\\\\n",
       "0 & 0 & 0 & 0 & 0 & I \\\\\n",
       "0 & 0 & 0 & 0 & 0 & 0\n",
       "\\end{array}\\right) \\mathrm{False}\\)</html>"
      ],
      "text/latex": [
       "$\\displaystyle \\left(\\begin{array}{rrrrrr}\n",
       "0 & 0 & 0 & 0 & 0 & 0 \\\\\n",
       "0 & 0 & 0 & -I & 1 & 0 \\\\\n",
       "0 & 0 & 0 & 4 & 2 I & 0 \\\\\n",
       "0 & 0 & 0 & 0 & 0 & 1 \\\\\n",
       "0 & 0 & 0 & 0 & 0 & I \\\\\n",
       "0 & 0 & 0 & 0 & 0 & 0\n",
       "\\end{array}\\right) \\mathrm{False}$"
      ],
      "text/plain": [
       "[  0   0   0   0   0   0]\n",
       "[  0   0   0  -I   1   0]\n",
       "[  0   0   0   4 2*I   0]\n",
       "[  0   0   0   0   0   1]\n",
       "[  0   0   0   0   0   I]\n",
       "[  0   0   0   0   0   0] False"
      ]
     },
     "metadata": {},
     "output_type": "display_data"
    }
   ],
   "source": [
    "for l in L_upper:\n",
    "    show(l, l.is_diagonalizable())"
   ]
  },
  {
   "cell_type": "code",
   "execution_count": 54,
   "id": "9af64fea",
   "metadata": {},
   "outputs": [
    {
     "data": {
      "text/html": [
       "<html>\\(\\displaystyle \\left(\\begin{array}{rrrrrr}\n",
       "0 & 0 & 0 & 0 & 0 & 0 \\\\\n",
       "0 & 0 & 0 & -I & 1 & 0 \\\\\n",
       "0 & 0 & 0 & 4 & 2 I & 0 \\\\\n",
       "0 & 0 & 0 & 0 & 0 & 1 \\\\\n",
       "0 & 0 & 0 & 0 & 0 & I \\\\\n",
       "0 & 0 & 0 & 0 & 0 & 0\n",
       "\\end{array}\\right) \\left(\\begin{array}{rrrrrr}\n",
       "0 & 0 & 0 & 0 & 0 & 0 \\\\\n",
       "0 & -2 I & 1 & 0 & 0 & 0 \\\\\n",
       "0 & 0 & 2 I & 0 & 0 & 0 \\\\\n",
       "0 & 0 & 0 & I & -1 & 0 \\\\\n",
       "0 & 0 & 0 & 0 & -I & 0 \\\\\n",
       "0 & 0 & 0 & 0 & 0 & 0\n",
       "\\end{array}\\right)\\)</html>"
      ],
      "text/latex": [
       "$\\displaystyle \\left(\\begin{array}{rrrrrr}\n",
       "0 & 0 & 0 & 0 & 0 & 0 \\\\\n",
       "0 & 0 & 0 & -I & 1 & 0 \\\\\n",
       "0 & 0 & 0 & 4 & 2 I & 0 \\\\\n",
       "0 & 0 & 0 & 0 & 0 & 1 \\\\\n",
       "0 & 0 & 0 & 0 & 0 & I \\\\\n",
       "0 & 0 & 0 & 0 & 0 & 0\n",
       "\\end{array}\\right) \\left(\\begin{array}{rrrrrr}\n",
       "0 & 0 & 0 & 0 & 0 & 0 \\\\\n",
       "0 & -2 I & 1 & 0 & 0 & 0 \\\\\n",
       "0 & 0 & 2 I & 0 & 0 & 0 \\\\\n",
       "0 & 0 & 0 & I & -1 & 0 \\\\\n",
       "0 & 0 & 0 & 0 & -I & 0 \\\\\n",
       "0 & 0 & 0 & 0 & 0 & 0\n",
       "\\end{array}\\right)$"
      ],
      "text/plain": [
       "[  0   0   0   0   0   0]\n",
       "[  0   0   0  -I   1   0]\n",
       "[  0   0   0   4 2*I   0]\n",
       "[  0   0   0   0   0   1]\n",
       "[  0   0   0   0   0   I]\n",
       "[  0   0   0   0   0   0] [   0    0    0    0    0    0]\n",
       "[   0 -2*I    1    0    0    0]\n",
       "[   0    0  2*I    0    0    0]\n",
       "[   0    0    0    I   -1    0]\n",
       "[   0    0    0    0   -I    0]\n",
       "[   0    0    0    0    0    0]"
      ]
     },
     "metadata": {},
     "output_type": "display_data"
    }
   ],
   "source": [
    "show(L_upper[-1], L_upper[3])"
   ]
  },
  {
   "cell_type": "code",
   "execution_count": 61,
   "id": "c2202644",
   "metadata": {},
   "outputs": [
    {
     "data": {
      "text/plain": [
       "[ 2*I    0    0    0    0    0]\n",
       "[   0    I    0    0    0    0]\n",
       "[   0    0   -I    0    0    0]\n",
       "[   0    0    0 -2*I    0    0]\n",
       "[   0    0    0    0    0    0]\n",
       "[   0    0    0    0    0    0]"
      ]
     },
     "execution_count": 61,
     "metadata": {},
     "output_type": "execute_result"
    }
   ],
   "source": [
    "P = L_upper[3].diagonalization()[1]\n",
    "P.inverse()*L_upper[3]*P"
   ]
  },
  {
   "cell_type": "code",
   "execution_count": 62,
   "id": "33206567",
   "metadata": {},
   "outputs": [
    {
     "data": {
      "text/html": [
       "<html>\\(\\displaystyle \\left(\\begin{array}{rrrrrr}\n",
       "-1 & 0 & 0 & 0 & 0 & 0 \\\\\n",
       "0 & 0 & 0 & 0 & 0 & 0 \\\\\n",
       "0 & 0 & 0 & 0 & 0 & 0 \\\\\n",
       "0 & 0 & 0 & -1 & 0 & 0 \\\\\n",
       "0 & 0 & 0 & 0 & 0 & 0 \\\\\n",
       "0 & 0 & 0 & 0 & 0 & 1\n",
       "\\end{array}\\right) \\mathrm{True}\\)</html>"
      ],
      "text/latex": [
       "$\\displaystyle \\left(\\begin{array}{rrrrrr}\n",
       "-1 & 0 & 0 & 0 & 0 & 0 \\\\\n",
       "0 & 0 & 0 & 0 & 0 & 0 \\\\\n",
       "0 & 0 & 0 & 0 & 0 & 0 \\\\\n",
       "0 & 0 & 0 & -1 & 0 & 0 \\\\\n",
       "0 & 0 & 0 & 0 & 0 & 0 \\\\\n",
       "0 & 0 & 0 & 0 & 0 & 1\n",
       "\\end{array}\\right) \\mathrm{True}$"
      ],
      "text/plain": [
       "[-1  0  0  0  0  0]\n",
       "[ 0  0  0  0  0  0]\n",
       "[ 0  0  0  0  0  0]\n",
       "[ 0  0  0 -1  0  0]\n",
       "[ 0  0  0  0  0  0]\n",
       "[ 0  0  0  0  0  1] True"
      ]
     },
     "metadata": {},
     "output_type": "display_data"
    },
    {
     "data": {
      "text/html": [
       "<html>\\(\\displaystyle \\left(\\begin{array}{rrrrrr}\n",
       "0 & 1 & 0 & 0 & 0 & 0 \\\\\n",
       "0 & 0 & 0 & 0 & 0 & \\frac{1}{2} I \\\\\n",
       "0 & 0 & 0 & 0 & 0 & -\\frac{1}{2} I \\\\\n",
       "0 & 0 & 1 & 0 & 0 & 0 \\\\\n",
       "0 & 0 & 0 & 0 & 0 & 0 \\\\\n",
       "0 & 0 & 0 & 0 & 0 & 0\n",
       "\\end{array}\\right) \\mathrm{False}\\)</html>"
      ],
      "text/latex": [
       "$\\displaystyle \\left(\\begin{array}{rrrrrr}\n",
       "0 & 1 & 0 & 0 & 0 & 0 \\\\\n",
       "0 & 0 & 0 & 0 & 0 & \\frac{1}{2} I \\\\\n",
       "0 & 0 & 0 & 0 & 0 & -\\frac{1}{2} I \\\\\n",
       "0 & 0 & 1 & 0 & 0 & 0 \\\\\n",
       "0 & 0 & 0 & 0 & 0 & 0 \\\\\n",
       "0 & 0 & 0 & 0 & 0 & 0\n",
       "\\end{array}\\right) \\mathrm{False}$"
      ],
      "text/plain": [
       "[     0      1      0      0      0      0]\n",
       "[     0      0      0      0      0  1/2*I]\n",
       "[     0      0      0      0      0 -1/2*I]\n",
       "[     0      0      1      0      0      0]\n",
       "[     0      0      0      0      0      0]\n",
       "[     0      0      0      0      0      0] False"
      ]
     },
     "metadata": {},
     "output_type": "display_data"
    },
    {
     "data": {
      "text/html": [
       "<html>\\(\\displaystyle \\left(\\begin{array}{rrrrrr}\n",
       "2 & 0 & 0 & 0 & 0 & 0 \\\\\n",
       "0 & 1 & 0 & 0 & 0 & 0 \\\\\n",
       "0 & 0 & 1 & 0 & 0 & 0 \\\\\n",
       "0 & 0 & 0 & 2 & 0 & 0 \\\\\n",
       "0 & 0 & 0 & 0 & 0 & 0 \\\\\n",
       "0 & 0 & 0 & 0 & 0 & 0\n",
       "\\end{array}\\right) \\mathrm{True}\\)</html>"
      ],
      "text/latex": [
       "$\\displaystyle \\left(\\begin{array}{rrrrrr}\n",
       "2 & 0 & 0 & 0 & 0 & 0 \\\\\n",
       "0 & 1 & 0 & 0 & 0 & 0 \\\\\n",
       "0 & 0 & 1 & 0 & 0 & 0 \\\\\n",
       "0 & 0 & 0 & 2 & 0 & 0 \\\\\n",
       "0 & 0 & 0 & 0 & 0 & 0 \\\\\n",
       "0 & 0 & 0 & 0 & 0 & 0\n",
       "\\end{array}\\right) \\mathrm{True}$"
      ],
      "text/plain": [
       "[2 0 0 0 0 0]\n",
       "[0 1 0 0 0 0]\n",
       "[0 0 1 0 0 0]\n",
       "[0 0 0 2 0 0]\n",
       "[0 0 0 0 0 0]\n",
       "[0 0 0 0 0 0] True"
      ]
     },
     "metadata": {},
     "output_type": "display_data"
    },
    {
     "data": {
      "text/html": [
       "<html>\\(\\displaystyle \\left(\\begin{array}{rrrrrr}\n",
       "2 I & 0 & 0 & 0 & 0 & 0 \\\\\n",
       "0 & I & 0 & 0 & 0 & 0 \\\\\n",
       "0 & 0 & -I & 0 & 0 & 0 \\\\\n",
       "0 & 0 & 0 & -2 I & 0 & 0 \\\\\n",
       "0 & 0 & 0 & 0 & 0 & 0 \\\\\n",
       "0 & 0 & 0 & 0 & 0 & 0\n",
       "\\end{array}\\right) \\mathrm{True}\\)</html>"
      ],
      "text/latex": [
       "$\\displaystyle \\left(\\begin{array}{rrrrrr}\n",
       "2 I & 0 & 0 & 0 & 0 & 0 \\\\\n",
       "0 & I & 0 & 0 & 0 & 0 \\\\\n",
       "0 & 0 & -I & 0 & 0 & 0 \\\\\n",
       "0 & 0 & 0 & -2 I & 0 & 0 \\\\\n",
       "0 & 0 & 0 & 0 & 0 & 0 \\\\\n",
       "0 & 0 & 0 & 0 & 0 & 0\n",
       "\\end{array}\\right) \\mathrm{True}$"
      ],
      "text/plain": [
       "[ 2*I    0    0    0    0    0]\n",
       "[   0    I    0    0    0    0]\n",
       "[   0    0   -I    0    0    0]\n",
       "[   0    0    0 -2*I    0    0]\n",
       "[   0    0    0    0    0    0]\n",
       "[   0    0    0    0    0    0] True"
      ]
     },
     "metadata": {},
     "output_type": "display_data"
    },
    {
     "data": {
      "text/html": [
       "<html>\\(\\displaystyle \\left(\\begin{array}{rrrrrr}\n",
       "0 & 0 & 0 & 0 & 0 & 0 \\\\\n",
       "0 & 0 & 0 & 0 & 0 & 0 \\\\\n",
       "0 & 0 & 0 & 0 & 0 & 0 \\\\\n",
       "0 & 0 & 0 & 0 & 0 & 0 \\\\\n",
       "0 & 0 & 0 & 0 & 0 & 1 \\\\\n",
       "0 & 0 & 0 & 0 & 0 & 0\n",
       "\\end{array}\\right) \\mathrm{False}\\)</html>"
      ],
      "text/latex": [
       "$\\displaystyle \\left(\\begin{array}{rrrrrr}\n",
       "0 & 0 & 0 & 0 & 0 & 0 \\\\\n",
       "0 & 0 & 0 & 0 & 0 & 0 \\\\\n",
       "0 & 0 & 0 & 0 & 0 & 0 \\\\\n",
       "0 & 0 & 0 & 0 & 0 & 0 \\\\\n",
       "0 & 0 & 0 & 0 & 0 & 1 \\\\\n",
       "0 & 0 & 0 & 0 & 0 & 0\n",
       "\\end{array}\\right) \\mathrm{False}$"
      ],
      "text/plain": [
       "[0 0 0 0 0 0]\n",
       "[0 0 0 0 0 0]\n",
       "[0 0 0 0 0 0]\n",
       "[0 0 0 0 0 0]\n",
       "[0 0 0 0 0 1]\n",
       "[0 0 0 0 0 0] False"
      ]
     },
     "metadata": {},
     "output_type": "display_data"
    },
    {
     "data": {
      "text/html": [
       "<html>\\(\\displaystyle \\left(\\begin{array}{rrrrrr}\n",
       "0 & 0 & 0 & 0 & 0 & 0 \\\\\n",
       "0 & 0 & 0 & 0 & 0 & 0 \\\\\n",
       "0 & 0 & 0 & 0 & 0 & 0 \\\\\n",
       "0 & 0 & 0 & 0 & 0 & 0 \\\\\n",
       "0 & -I & I & 0 & 0 & 0 \\\\\n",
       "0 & 0 & 0 & 0 & 0 & 0\n",
       "\\end{array}\\right) \\mathrm{False}\\)</html>"
      ],
      "text/latex": [
       "$\\displaystyle \\left(\\begin{array}{rrrrrr}\n",
       "0 & 0 & 0 & 0 & 0 & 0 \\\\\n",
       "0 & 0 & 0 & 0 & 0 & 0 \\\\\n",
       "0 & 0 & 0 & 0 & 0 & 0 \\\\\n",
       "0 & 0 & 0 & 0 & 0 & 0 \\\\\n",
       "0 & -I & I & 0 & 0 & 0 \\\\\n",
       "0 & 0 & 0 & 0 & 0 & 0\n",
       "\\end{array}\\right) \\mathrm{False}$"
      ],
      "text/plain": [
       "[ 0  0  0  0  0  0]\n",
       "[ 0  0  0  0  0  0]\n",
       "[ 0  0  0  0  0  0]\n",
       "[ 0  0  0  0  0  0]\n",
       "[ 0 -I  I  0  0  0]\n",
       "[ 0  0  0  0  0  0] False"
      ]
     },
     "metadata": {},
     "output_type": "display_data"
    },
    {
     "data": {
      "text/html": [
       "<html>\\(\\displaystyle \\left(\\begin{array}{rrrrrr}\n",
       "0 & 0 & 0 & 0 & 0 & 0 \\\\\n",
       "0 & 0 & 0 & 0 & 0 & 0 \\\\\n",
       "0 & 0 & 0 & 0 & 0 & 0 \\\\\n",
       "0 & 0 & 0 & 0 & 0 & 0 \\\\\n",
       "0 & 0 & 0 & 0 & 1 & 0 \\\\\n",
       "0 & 0 & 0 & 0 & 0 & 0\n",
       "\\end{array}\\right) \\mathrm{True}\\)</html>"
      ],
      "text/latex": [
       "$\\displaystyle \\left(\\begin{array}{rrrrrr}\n",
       "0 & 0 & 0 & 0 & 0 & 0 \\\\\n",
       "0 & 0 & 0 & 0 & 0 & 0 \\\\\n",
       "0 & 0 & 0 & 0 & 0 & 0 \\\\\n",
       "0 & 0 & 0 & 0 & 0 & 0 \\\\\n",
       "0 & 0 & 0 & 0 & 1 & 0 \\\\\n",
       "0 & 0 & 0 & 0 & 0 & 0\n",
       "\\end{array}\\right) \\mathrm{True}$"
      ],
      "text/plain": [
       "[0 0 0 0 0 0]\n",
       "[0 0 0 0 0 0]\n",
       "[0 0 0 0 0 0]\n",
       "[0 0 0 0 0 0]\n",
       "[0 0 0 0 1 0]\n",
       "[0 0 0 0 0 0] True"
      ]
     },
     "metadata": {},
     "output_type": "display_data"
    },
    {
     "data": {
      "text/html": [
       "<html>\\(\\displaystyle \\left(\\begin{array}{rrrrrr}\n",
       "0 & 0 & 0 & 0 & 0 & 0 \\\\\n",
       "0 & 0 & 0 & 0 & 0 & 0 \\\\\n",
       "0 & 0 & 0 & 0 & 0 & 0 \\\\\n",
       "0 & 0 & 0 & 0 & 0 & 0 \\\\\n",
       "0 & 1 & 1 & 0 & 0 & 0 \\\\\n",
       "0 & 0 & 0 & 0 & 0 & 0\n",
       "\\end{array}\\right) \\mathrm{False}\\)</html>"
      ],
      "text/latex": [
       "$\\displaystyle \\left(\\begin{array}{rrrrrr}\n",
       "0 & 0 & 0 & 0 & 0 & 0 \\\\\n",
       "0 & 0 & 0 & 0 & 0 & 0 \\\\\n",
       "0 & 0 & 0 & 0 & 0 & 0 \\\\\n",
       "0 & 0 & 0 & 0 & 0 & 0 \\\\\n",
       "0 & 1 & 1 & 0 & 0 & 0 \\\\\n",
       "0 & 0 & 0 & 0 & 0 & 0\n",
       "\\end{array}\\right) \\mathrm{False}$"
      ],
      "text/plain": [
       "[0 0 0 0 0 0]\n",
       "[0 0 0 0 0 0]\n",
       "[0 0 0 0 0 0]\n",
       "[0 0 0 0 0 0]\n",
       "[0 1 1 0 0 0]\n",
       "[0 0 0 0 0 0] False"
      ]
     },
     "metadata": {},
     "output_type": "display_data"
    },
    {
     "data": {
      "text/html": [
       "<html>\\(\\displaystyle \\left(\\begin{array}{rrrrrr}\n",
       "0 & 0 & 0 & 0 & 0 & 0 \\\\\n",
       "0 & 0 & 0 & 0 & 0 & 0 \\\\\n",
       "0 & 0 & 0 & 0 & 0 & 0 \\\\\n",
       "0 & 0 & 0 & 0 & 0 & 0 \\\\\n",
       "1 & 0 & 0 & 1 & 0 & 0 \\\\\n",
       "0 & 0 & 0 & 0 & 0 & 0\n",
       "\\end{array}\\right) \\mathrm{False}\\)</html>"
      ],
      "text/latex": [
       "$\\displaystyle \\left(\\begin{array}{rrrrrr}\n",
       "0 & 0 & 0 & 0 & 0 & 0 \\\\\n",
       "0 & 0 & 0 & 0 & 0 & 0 \\\\\n",
       "0 & 0 & 0 & 0 & 0 & 0 \\\\\n",
       "0 & 0 & 0 & 0 & 0 & 0 \\\\\n",
       "1 & 0 & 0 & 1 & 0 & 0 \\\\\n",
       "0 & 0 & 0 & 0 & 0 & 0\n",
       "\\end{array}\\right) \\mathrm{False}$"
      ],
      "text/plain": [
       "[0 0 0 0 0 0]\n",
       "[0 0 0 0 0 0]\n",
       "[0 0 0 0 0 0]\n",
       "[0 0 0 0 0 0]\n",
       "[1 0 0 1 0 0]\n",
       "[0 0 0 0 0 0] False"
      ]
     },
     "metadata": {},
     "output_type": "display_data"
    },
    {
     "data": {
      "text/html": [
       "<html>\\(\\displaystyle \\left(\\begin{array}{rrrrrr}\n",
       "0 & 0 & 0 & 0 & 0 & 0 \\\\\n",
       "0 & 0 & 0 & 0 & 0 & 0 \\\\\n",
       "0 & 0 & 0 & 0 & 0 & 0 \\\\\n",
       "0 & 0 & 0 & 0 & 0 & 0 \\\\\n",
       "2 I & 0 & 0 & -2 I & 1 & 0 \\\\\n",
       "0 & 0 & 0 & 0 & 0 & 0\n",
       "\\end{array}\\right) \\mathrm{True}\\)</html>"
      ],
      "text/latex": [
       "$\\displaystyle \\left(\\begin{array}{rrrrrr}\n",
       "0 & 0 & 0 & 0 & 0 & 0 \\\\\n",
       "0 & 0 & 0 & 0 & 0 & 0 \\\\\n",
       "0 & 0 & 0 & 0 & 0 & 0 \\\\\n",
       "0 & 0 & 0 & 0 & 0 & 0 \\\\\n",
       "2 I & 0 & 0 & -2 I & 1 & 0 \\\\\n",
       "0 & 0 & 0 & 0 & 0 & 0\n",
       "\\end{array}\\right) \\mathrm{True}$"
      ],
      "text/plain": [
       "[   0    0    0    0    0    0]\n",
       "[   0    0    0    0    0    0]\n",
       "[   0    0    0    0    0    0]\n",
       "[   0    0    0    0    0    0]\n",
       "[ 2*I    0    0 -2*I    1    0]\n",
       "[   0    0    0    0    0    0] True"
      ]
     },
     "metadata": {},
     "output_type": "display_data"
    },
    {
     "data": {
      "text/html": [
       "<html>\\(\\displaystyle \\left(\\begin{array}{rrrrrr}\n",
       "0 & -I & 0 & 0 & 0 & 0 \\\\\n",
       "0 & 0 & 0 & 0 & 0 & \\frac{1}{2} \\\\\n",
       "0 & 0 & 0 & 0 & 0 & \\frac{1}{2} \\\\\n",
       "0 & 0 & I & 0 & 0 & 0 \\\\\n",
       "0 & 0 & 0 & 0 & 0 & 0 \\\\\n",
       "0 & 0 & 0 & 0 & 0 & 0\n",
       "\\end{array}\\right) \\mathrm{False}\\)</html>"
      ],
      "text/latex": [
       "$\\displaystyle \\left(\\begin{array}{rrrrrr}\n",
       "0 & -I & 0 & 0 & 0 & 0 \\\\\n",
       "0 & 0 & 0 & 0 & 0 & \\frac{1}{2} \\\\\n",
       "0 & 0 & 0 & 0 & 0 & \\frac{1}{2} \\\\\n",
       "0 & 0 & I & 0 & 0 & 0 \\\\\n",
       "0 & 0 & 0 & 0 & 0 & 0 \\\\\n",
       "0 & 0 & 0 & 0 & 0 & 0\n",
       "\\end{array}\\right) \\mathrm{False}$"
      ],
      "text/plain": [
       "[  0  -I   0   0   0   0]\n",
       "[  0   0   0   0   0 1/2]\n",
       "[  0   0   0   0   0 1/2]\n",
       "[  0   0   I   0   0   0]\n",
       "[  0   0   0   0   0   0]\n",
       "[  0   0   0   0   0   0] False"
      ]
     },
     "metadata": {},
     "output_type": "display_data"
    }
   ],
   "source": [
    "for l in L_upper:\n",
    "    show(P.inverse()*l*P, l.is_diagonalizable())"
   ]
  },
  {
   "cell_type": "code",
   "execution_count": 64,
   "id": "05a3c365",
   "metadata": {},
   "outputs": [
    {
     "data": {
      "text/html": [
       "<html>\\(\\displaystyle \\left\\{s_{11} : s_{33}, s_{12} : -I s_{12} + I s_{22}, s_{22} : s_{23}, s_{13} : s_{12} + s_{22}, s_{23} : s_{11} + s_{13}, s_{33} : 2 I s_{11} - 2 I s_{13} + s_{23}\\right\\}\\)</html>"
      ],
      "text/latex": [
       "$\\displaystyle \\left\\{s_{11} : s_{33}, s_{12} : -I s_{12} + I s_{22}, s_{22} : s_{23}, s_{13} : s_{12} + s_{22}, s_{23} : s_{11} + s_{13}, s_{33} : 2 I s_{11} - 2 I s_{13} + s_{23}\\right\\}$"
      ],
      "text/plain": [
       "{s11: s33,\n",
       " s12: (-I)*s12 + I*s22,\n",
       " s22: s23,\n",
       " s13: s12 + s22,\n",
       " s23: s11 + s13,\n",
       " s33: (2*I)*s11 + (-2*I)*s13 + s23}"
      ]
     },
     "metadata": {},
     "output_type": "display_data"
    },
    {
     "data": {
      "text/html": [
       "<html>\\(\\displaystyle -I s_{12}^{2} + I s_{22}^{2} - s_{11} s_{33} - s_{13} s_{33}\\)</html>"
      ],
      "text/latex": [
       "$\\displaystyle -I s_{12}^{2} + I s_{22}^{2} - s_{11} s_{33} - s_{13} s_{33}$"
      ],
      "text/plain": [
       "(-I)*s12^2 + I*s22^2 - s11*s33 - s13*s33"
      ]
     },
     "metadata": {},
     "output_type": "display_data"
    },
    {
     "data": {
      "text/html": [
       "<html>\\(\\displaystyle -2 s_{12}^{2} - 2 s_{22}^{2} + 2 I s_{11} s_{33} - 2 I s_{13} s_{33}\\)</html>"
      ],
      "text/latex": [
       "$\\displaystyle -2 s_{12}^{2} - 2 s_{22}^{2} + 2 I s_{11} s_{33} - 2 I s_{13} s_{33}$"
      ],
      "text/plain": [
       "-2*s12^2 - 2*s22^2 + (2*I)*s11*s33 + (-2*I)*s13*s33"
      ]
     },
     "metadata": {},
     "output_type": "display_data"
    }
   ],
   "source": [
    "G = I*P\n",
    "sub = {}\n",
    "for i in range(6):\n",
    "    sub[X[i][0].change_ring(K)] = (G*vector(X))[i]\n",
    "show(sub)\n",
    "p1 = (gens[0].change_ring(K))\n",
    "show(p1.subs(sub))\n",
    "p2 = (gens[1].change_ring(K))\n",
    "show(p2.subs(sub))"
   ]
  },
  {
   "cell_type": "code",
   "execution_count": 65,
   "id": "e4e8ce19",
   "metadata": {},
   "outputs": [
    {
     "data": {
      "text/html": [
       "<html>\\(\\displaystyle \\left(\\begin{array}{rrrrrr}\n",
       "0 & 0 & 0 & 0 & 0 & 1 \\\\\n",
       "0 & -I & I & 0 & 0 & 0 \\\\\n",
       "0 & 0 & 0 & 0 & 1 & 0 \\\\\n",
       "0 & 1 & 1 & 0 & 0 & 0 \\\\\n",
       "1 & 0 & 0 & 1 & 0 & 0 \\\\\n",
       "2 I & 0 & 0 & -2 I & 1 & 0\n",
       "\\end{array}\\right)\\)</html>"
      ],
      "text/latex": [
       "$\\displaystyle \\left(\\begin{array}{rrrrrr}\n",
       "0 & 0 & 0 & 0 & 0 & 1 \\\\\n",
       "0 & -I & I & 0 & 0 & 0 \\\\\n",
       "0 & 0 & 0 & 0 & 1 & 0 \\\\\n",
       "0 & 1 & 1 & 0 & 0 & 0 \\\\\n",
       "1 & 0 & 0 & 1 & 0 & 0 \\\\\n",
       "2 I & 0 & 0 & -2 I & 1 & 0\n",
       "\\end{array}\\right)$"
      ],
      "text/plain": [
       "[   0    0    0    0    0    1]\n",
       "[   0   -I    I    0    0    0]\n",
       "[   0    0    0    0    1    0]\n",
       "[   0    1    1    0    0    0]\n",
       "[   1    0    0    1    0    0]\n",
       "[ 2*I    0    0 -2*I    1    0]"
      ]
     },
     "metadata": {},
     "output_type": "display_data"
    }
   ],
   "source": [
    "show(G)"
   ]
  },
  {
   "cell_type": "code",
   "execution_count": 72,
   "id": "632848e5",
   "metadata": {},
   "outputs": [
    {
     "data": {
      "text/html": [
       "<html>\\(\\displaystyle \\left(\\begin{array}{rrrrrr}\n",
       "1 & 0 & 0 & 0 & 0 & 0 \\\\\n",
       "0 & 0 & 0 & 0 & 0 & 0 \\\\\n",
       "0 & 0 & 0 & 0 & 0 & 0 \\\\\n",
       "0 & 0 & 0 & 0 & 0 & 0 \\\\\n",
       "0 & 0 & 0 & 0 & -1 & 0 \\\\\n",
       "0 & 0 & 1 & 0 & 0 & -1\n",
       "\\end{array}\\right) \\mathrm{True}\\)</html>"
      ],
      "text/latex": [
       "$\\displaystyle \\left(\\begin{array}{rrrrrr}\n",
       "1 & 0 & 0 & 0 & 0 & 0 \\\\\n",
       "0 & 0 & 0 & 0 & 0 & 0 \\\\\n",
       "0 & 0 & 0 & 0 & 0 & 0 \\\\\n",
       "0 & 0 & 0 & 0 & 0 & 0 \\\\\n",
       "0 & 0 & 0 & 0 & -1 & 0 \\\\\n",
       "0 & 0 & 1 & 0 & 0 & -1\n",
       "\\end{array}\\right) \\mathrm{True}$"
      ],
      "text/plain": [
       "[ 1  0  0  0  0  0]\n",
       "[ 0  0  0  0  0  0]\n",
       "[ 0  0  0  0  0  0]\n",
       "[ 0  0  0  0  0  0]\n",
       "[ 0  0  0  0 -1  0]\n",
       "[ 0  0  1  0  0 -1] True"
      ]
     },
     "metadata": {},
     "output_type": "display_data"
    },
    {
     "data": {
      "text/html": [
       "<html>\\(\\displaystyle \\left(\\begin{array}{rrrrrr}\n",
       "0 & 0 & 0 & 0 & 0 & 0 \\\\\n",
       "1 & 0 & 0 & 0 & 0 & 0 \\\\\n",
       "0 & 0 & 0 & 0 & 0 & 0 \\\\\n",
       "0 & 0 & 0 & 0 & 0 & 0 \\\\\n",
       "0 & 0 & 0 & 1 & 0 & 0 \\\\\n",
       "0 & -2 & 0 & 0 & 0 & 0\n",
       "\\end{array}\\right) \\mathrm{False}\\)</html>"
      ],
      "text/latex": [
       "$\\displaystyle \\left(\\begin{array}{rrrrrr}\n",
       "0 & 0 & 0 & 0 & 0 & 0 \\\\\n",
       "1 & 0 & 0 & 0 & 0 & 0 \\\\\n",
       "0 & 0 & 0 & 0 & 0 & 0 \\\\\n",
       "0 & 0 & 0 & 0 & 0 & 0 \\\\\n",
       "0 & 0 & 0 & 1 & 0 & 0 \\\\\n",
       "0 & -2 & 0 & 0 & 0 & 0\n",
       "\\end{array}\\right) \\mathrm{False}$"
      ],
      "text/plain": [
       "[ 0  0  0  0  0  0]\n",
       "[ 1  0  0  0  0  0]\n",
       "[ 0  0  0  0  0  0]\n",
       "[ 0  0  0  0  0  0]\n",
       "[ 0  0  0  1  0  0]\n",
       "[ 0 -2  0  0  0  0] False"
      ]
     },
     "metadata": {},
     "output_type": "display_data"
    },
    {
     "data": {
      "text/html": [
       "<html>\\(\\displaystyle \\left(\\begin{array}{rrrrrr}\n",
       "0 & 0 & 0 & 0 & 0 & 0 \\\\\n",
       "0 & 1 & 0 & 0 & 0 & 0 \\\\\n",
       "0 & 0 & 0 & 0 & 0 & 0 \\\\\n",
       "0 & 0 & 0 & 1 & 0 & 0 \\\\\n",
       "0 & 0 & 0 & 0 & 2 & 0 \\\\\n",
       "0 & 0 & -2 & 0 & 0 & 2\n",
       "\\end{array}\\right) \\mathrm{True}\\)</html>"
      ],
      "text/latex": [
       "$\\displaystyle \\left(\\begin{array}{rrrrrr}\n",
       "0 & 0 & 0 & 0 & 0 & 0 \\\\\n",
       "0 & 1 & 0 & 0 & 0 & 0 \\\\\n",
       "0 & 0 & 0 & 0 & 0 & 0 \\\\\n",
       "0 & 0 & 0 & 1 & 0 & 0 \\\\\n",
       "0 & 0 & 0 & 0 & 2 & 0 \\\\\n",
       "0 & 0 & -2 & 0 & 0 & 2\n",
       "\\end{array}\\right) \\mathrm{True}$"
      ],
      "text/plain": [
       "[ 0  0  0  0  0  0]\n",
       "[ 0  1  0  0  0  0]\n",
       "[ 0  0  0  0  0  0]\n",
       "[ 0  0  0  1  0  0]\n",
       "[ 0  0  0  0  2  0]\n",
       "[ 0  0 -2  0  0  2] True"
      ]
     },
     "metadata": {},
     "output_type": "display_data"
    },
    {
     "data": {
      "text/html": [
       "<html>\\(\\displaystyle \\left(\\begin{array}{rrrrrr}\n",
       "0 & 0 & 0 & 0 & 0 & 0 \\\\\n",
       "0 & 0 & 0 & 1 & 0 & 0 \\\\\n",
       "0 & 0 & 0 & 0 & 0 & 0 \\\\\n",
       "0 & -1 & 0 & 0 & 0 & 0 \\\\\n",
       "0 & 0 & -1 & 0 & 0 & 1 \\\\\n",
       "0 & 0 & 0 & 0 & -4 & 0\n",
       "\\end{array}\\right) \\mathrm{True}\\)</html>"
      ],
      "text/latex": [
       "$\\displaystyle \\left(\\begin{array}{rrrrrr}\n",
       "0 & 0 & 0 & 0 & 0 & 0 \\\\\n",
       "0 & 0 & 0 & 1 & 0 & 0 \\\\\n",
       "0 & 0 & 0 & 0 & 0 & 0 \\\\\n",
       "0 & -1 & 0 & 0 & 0 & 0 \\\\\n",
       "0 & 0 & -1 & 0 & 0 & 1 \\\\\n",
       "0 & 0 & 0 & 0 & -4 & 0\n",
       "\\end{array}\\right) \\mathrm{True}$"
      ],
      "text/plain": [
       "[ 0  0  0  0  0  0]\n",
       "[ 0  0  0  1  0  0]\n",
       "[ 0  0  0  0  0  0]\n",
       "[ 0 -1  0  0  0  0]\n",
       "[ 0  0 -1  0  0  1]\n",
       "[ 0  0  0  0 -4  0] True"
      ]
     },
     "metadata": {},
     "output_type": "display_data"
    },
    {
     "data": {
      "text/html": [
       "<html>\\(\\displaystyle \\left(\\begin{array}{rrrrrr}\n",
       "0 & 0 & 0 & 0 & 0 & 0 \\\\\n",
       "0 & 0 & 0 & 0 & 0 & 0 \\\\\n",
       "1 & 0 & 0 & 0 & 0 & 0 \\\\\n",
       "0 & 0 & 0 & 0 & 0 & 0 \\\\\n",
       "0 & 0 & 0 & 0 & 0 & 0 \\\\\n",
       "1 & 0 & 0 & 0 & 0 & 0\n",
       "\\end{array}\\right) \\mathrm{False}\\)</html>"
      ],
      "text/latex": [
       "$\\displaystyle \\left(\\begin{array}{rrrrrr}\n",
       "0 & 0 & 0 & 0 & 0 & 0 \\\\\n",
       "0 & 0 & 0 & 0 & 0 & 0 \\\\\n",
       "1 & 0 & 0 & 0 & 0 & 0 \\\\\n",
       "0 & 0 & 0 & 0 & 0 & 0 \\\\\n",
       "0 & 0 & 0 & 0 & 0 & 0 \\\\\n",
       "1 & 0 & 0 & 0 & 0 & 0\n",
       "\\end{array}\\right) \\mathrm{False}$"
      ],
      "text/plain": [
       "[0 0 0 0 0 0]\n",
       "[0 0 0 0 0 0]\n",
       "[1 0 0 0 0 0]\n",
       "[0 0 0 0 0 0]\n",
       "[0 0 0 0 0 0]\n",
       "[1 0 0 0 0 0] False"
      ]
     },
     "metadata": {},
     "output_type": "display_data"
    },
    {
     "data": {
      "text/html": [
       "<html>\\(\\displaystyle \\left(\\begin{array}{rrrrrr}\n",
       "0 & 0 & 0 & 0 & 0 & 0 \\\\\n",
       "0 & 0 & 0 & 0 & 0 & 0 \\\\\n",
       "0 & 1 & 0 & 0 & 0 & 0 \\\\\n",
       "0 & 0 & 0 & 0 & 0 & 0 \\\\\n",
       "0 & 0 & 0 & 0 & 0 & 0 \\\\\n",
       "0 & 1 & 0 & 0 & 0 & 0\n",
       "\\end{array}\\right) \\mathrm{False}\\)</html>"
      ],
      "text/latex": [
       "$\\displaystyle \\left(\\begin{array}{rrrrrr}\n",
       "0 & 0 & 0 & 0 & 0 & 0 \\\\\n",
       "0 & 0 & 0 & 0 & 0 & 0 \\\\\n",
       "0 & 1 & 0 & 0 & 0 & 0 \\\\\n",
       "0 & 0 & 0 & 0 & 0 & 0 \\\\\n",
       "0 & 0 & 0 & 0 & 0 & 0 \\\\\n",
       "0 & 1 & 0 & 0 & 0 & 0\n",
       "\\end{array}\\right) \\mathrm{False}$"
      ],
      "text/plain": [
       "[0 0 0 0 0 0]\n",
       "[0 0 0 0 0 0]\n",
       "[0 1 0 0 0 0]\n",
       "[0 0 0 0 0 0]\n",
       "[0 0 0 0 0 0]\n",
       "[0 1 0 0 0 0] False"
      ]
     },
     "metadata": {},
     "output_type": "display_data"
    },
    {
     "data": {
      "text/html": [
       "<html>\\(\\displaystyle \\left(\\begin{array}{rrrrrr}\n",
       "0 & 0 & 0 & 0 & 0 & 0 \\\\\n",
       "0 & 0 & 0 & 0 & 0 & 0 \\\\\n",
       "0 & 0 & 1 & 0 & 0 & 0 \\\\\n",
       "0 & 0 & 0 & 0 & 0 & 0 \\\\\n",
       "0 & 0 & 0 & 0 & 0 & 0 \\\\\n",
       "0 & 0 & 1 & 0 & 0 & 0\n",
       "\\end{array}\\right) \\mathrm{True}\\)</html>"
      ],
      "text/latex": [
       "$\\displaystyle \\left(\\begin{array}{rrrrrr}\n",
       "0 & 0 & 0 & 0 & 0 & 0 \\\\\n",
       "0 & 0 & 0 & 0 & 0 & 0 \\\\\n",
       "0 & 0 & 1 & 0 & 0 & 0 \\\\\n",
       "0 & 0 & 0 & 0 & 0 & 0 \\\\\n",
       "0 & 0 & 0 & 0 & 0 & 0 \\\\\n",
       "0 & 0 & 1 & 0 & 0 & 0\n",
       "\\end{array}\\right) \\mathrm{True}$"
      ],
      "text/plain": [
       "[0 0 0 0 0 0]\n",
       "[0 0 0 0 0 0]\n",
       "[0 0 1 0 0 0]\n",
       "[0 0 0 0 0 0]\n",
       "[0 0 0 0 0 0]\n",
       "[0 0 1 0 0 0] True"
      ]
     },
     "metadata": {},
     "output_type": "display_data"
    },
    {
     "data": {
      "text/html": [
       "<html>\\(\\displaystyle \\left(\\begin{array}{rrrrrr}\n",
       "0 & 0 & 0 & 0 & 0 & 0 \\\\\n",
       "0 & 0 & 0 & 0 & 0 & 0 \\\\\n",
       "0 & 0 & 0 & 1 & 0 & 0 \\\\\n",
       "0 & 0 & 0 & 0 & 0 & 0 \\\\\n",
       "0 & 0 & 0 & 0 & 0 & 0 \\\\\n",
       "0 & 0 & 0 & 1 & 0 & 0\n",
       "\\end{array}\\right) \\mathrm{False}\\)</html>"
      ],
      "text/latex": [
       "$\\displaystyle \\left(\\begin{array}{rrrrrr}\n",
       "0 & 0 & 0 & 0 & 0 & 0 \\\\\n",
       "0 & 0 & 0 & 0 & 0 & 0 \\\\\n",
       "0 & 0 & 0 & 1 & 0 & 0 \\\\\n",
       "0 & 0 & 0 & 0 & 0 & 0 \\\\\n",
       "0 & 0 & 0 & 0 & 0 & 0 \\\\\n",
       "0 & 0 & 0 & 1 & 0 & 0\n",
       "\\end{array}\\right) \\mathrm{False}$"
      ],
      "text/plain": [
       "[0 0 0 0 0 0]\n",
       "[0 0 0 0 0 0]\n",
       "[0 0 0 1 0 0]\n",
       "[0 0 0 0 0 0]\n",
       "[0 0 0 0 0 0]\n",
       "[0 0 0 1 0 0] False"
      ]
     },
     "metadata": {},
     "output_type": "display_data"
    },
    {
     "data": {
      "text/html": [
       "<html>\\(\\displaystyle \\left(\\begin{array}{rrrrrr}\n",
       "0 & 0 & 0 & 0 & 0 & 0 \\\\\n",
       "0 & 0 & 0 & 0 & 0 & 0 \\\\\n",
       "0 & 0 & 0 & 0 & 1 & 0 \\\\\n",
       "0 & 0 & 0 & 0 & 0 & 0 \\\\\n",
       "0 & 0 & 0 & 0 & 0 & 0 \\\\\n",
       "0 & 0 & 0 & 0 & 1 & 0\n",
       "\\end{array}\\right) \\mathrm{False}\\)</html>"
      ],
      "text/latex": [
       "$\\displaystyle \\left(\\begin{array}{rrrrrr}\n",
       "0 & 0 & 0 & 0 & 0 & 0 \\\\\n",
       "0 & 0 & 0 & 0 & 0 & 0 \\\\\n",
       "0 & 0 & 0 & 0 & 1 & 0 \\\\\n",
       "0 & 0 & 0 & 0 & 0 & 0 \\\\\n",
       "0 & 0 & 0 & 0 & 0 & 0 \\\\\n",
       "0 & 0 & 0 & 0 & 1 & 0\n",
       "\\end{array}\\right) \\mathrm{False}$"
      ],
      "text/plain": [
       "[0 0 0 0 0 0]\n",
       "[0 0 0 0 0 0]\n",
       "[0 0 0 0 1 0]\n",
       "[0 0 0 0 0 0]\n",
       "[0 0 0 0 0 0]\n",
       "[0 0 0 0 1 0] False"
      ]
     },
     "metadata": {},
     "output_type": "display_data"
    },
    {
     "data": {
      "text/html": [
       "<html>\\(\\displaystyle \\left(\\begin{array}{rrrrrr}\n",
       "0 & 0 & 0 & 0 & 0 & 0 \\\\\n",
       "0 & 0 & 0 & 0 & 0 & 0 \\\\\n",
       "0 & 0 & 0 & 0 & 0 & 1 \\\\\n",
       "0 & 0 & 0 & 0 & 0 & 0 \\\\\n",
       "0 & 0 & 0 & 0 & 0 & 0 \\\\\n",
       "0 & 0 & 0 & 0 & 0 & 1\n",
       "\\end{array}\\right) \\mathrm{True}\\)</html>"
      ],
      "text/latex": [
       "$\\displaystyle \\left(\\begin{array}{rrrrrr}\n",
       "0 & 0 & 0 & 0 & 0 & 0 \\\\\n",
       "0 & 0 & 0 & 0 & 0 & 0 \\\\\n",
       "0 & 0 & 0 & 0 & 0 & 1 \\\\\n",
       "0 & 0 & 0 & 0 & 0 & 0 \\\\\n",
       "0 & 0 & 0 & 0 & 0 & 0 \\\\\n",
       "0 & 0 & 0 & 0 & 0 & 1\n",
       "\\end{array}\\right) \\mathrm{True}$"
      ],
      "text/plain": [
       "[0 0 0 0 0 0]\n",
       "[0 0 0 0 0 0]\n",
       "[0 0 0 0 0 1]\n",
       "[0 0 0 0 0 0]\n",
       "[0 0 0 0 0 0]\n",
       "[0 0 0 0 0 1] True"
      ]
     },
     "metadata": {},
     "output_type": "display_data"
    },
    {
     "data": {
      "text/html": [
       "<html>\\(\\displaystyle \\left(\\begin{array}{rrrrrr}\n",
       "0 & 0 & 0 & 0 & 0 & 0 \\\\\n",
       "0 & 0 & 0 & 0 & 0 & 0 \\\\\n",
       "0 & 0 & 0 & 0 & 0 & 0 \\\\\n",
       "1 & 0 & 0 & 0 & 0 & 0 \\\\\n",
       "0 & 1 & 0 & 0 & 0 & 0 \\\\\n",
       "0 & 0 & 0 & 2 & 0 & 0\n",
       "\\end{array}\\right) \\mathrm{False}\\)</html>"
      ],
      "text/latex": [
       "$\\displaystyle \\left(\\begin{array}{rrrrrr}\n",
       "0 & 0 & 0 & 0 & 0 & 0 \\\\\n",
       "0 & 0 & 0 & 0 & 0 & 0 \\\\\n",
       "0 & 0 & 0 & 0 & 0 & 0 \\\\\n",
       "1 & 0 & 0 & 0 & 0 & 0 \\\\\n",
       "0 & 1 & 0 & 0 & 0 & 0 \\\\\n",
       "0 & 0 & 0 & 2 & 0 & 0\n",
       "\\end{array}\\right) \\mathrm{False}$"
      ],
      "text/plain": [
       "[0 0 0 0 0 0]\n",
       "[0 0 0 0 0 0]\n",
       "[0 0 0 0 0 0]\n",
       "[1 0 0 0 0 0]\n",
       "[0 1 0 0 0 0]\n",
       "[0 0 0 2 0 0] False"
      ]
     },
     "metadata": {},
     "output_type": "display_data"
    }
   ],
   "source": [
    "L = [l.change_ring(K) for l in L]\n",
    "for l in L:\n",
    "    show(l, l.is_diagonalizable())"
   ]
  },
  {
   "cell_type": "code",
   "execution_count": 73,
   "id": "1b2a018f",
   "metadata": {},
   "outputs": [
    {
     "data": {
      "text/html": [
       "<html>\\(\\displaystyle \\left(\\begin{array}{rrrrrr}\n",
       "1 & 0 & 0 & 0 & 0 & 0 \\\\\n",
       "0 & -1 & 0 & 0 & 0 & 0 \\\\\n",
       "0 & 0 & -1 & 0 & 0 & 0 \\\\\n",
       "0 & 0 & 0 & 0 & 0 & 0 \\\\\n",
       "0 & 0 & 0 & 0 & 0 & 0 \\\\\n",
       "0 & 0 & 0 & 0 & 0 & 0\n",
       "\\end{array}\\right) \\mathrm{True}\\)</html>"
      ],
      "text/latex": [
       "$\\displaystyle \\left(\\begin{array}{rrrrrr}\n",
       "1 & 0 & 0 & 0 & 0 & 0 \\\\\n",
       "0 & -1 & 0 & 0 & 0 & 0 \\\\\n",
       "0 & 0 & -1 & 0 & 0 & 0 \\\\\n",
       "0 & 0 & 0 & 0 & 0 & 0 \\\\\n",
       "0 & 0 & 0 & 0 & 0 & 0 \\\\\n",
       "0 & 0 & 0 & 0 & 0 & 0\n",
       "\\end{array}\\right) \\mathrm{True}$"
      ],
      "text/plain": [
       "[ 1  0  0  0  0  0]\n",
       "[ 0 -1  0  0  0  0]\n",
       "[ 0  0 -1  0  0  0]\n",
       "[ 0  0  0  0  0  0]\n",
       "[ 0  0  0  0  0  0]\n",
       "[ 0  0  0  0  0  0] True"
      ]
     },
     "metadata": {},
     "output_type": "display_data"
    },
    {
     "data": {
      "text/html": [
       "<html>\\(\\displaystyle \\left(\\begin{array}{rrrrrr}\n",
       "0 & 0 & 0 & 0 & 0 & 0 \\\\\n",
       "0 & 0 & 0 & 0 & 0 & 1 \\\\\n",
       "0 & 0 & 0 & -2 & 0 & 0 \\\\\n",
       "1 & 0 & 0 & 0 & 0 & 0 \\\\\n",
       "0 & 0 & 0 & 0 & 0 & 0 \\\\\n",
       "0 & 0 & 0 & 0 & 0 & 0\n",
       "\\end{array}\\right) \\mathrm{False}\\)</html>"
      ],
      "text/latex": [
       "$\\displaystyle \\left(\\begin{array}{rrrrrr}\n",
       "0 & 0 & 0 & 0 & 0 & 0 \\\\\n",
       "0 & 0 & 0 & 0 & 0 & 1 \\\\\n",
       "0 & 0 & 0 & -2 & 0 & 0 \\\\\n",
       "1 & 0 & 0 & 0 & 0 & 0 \\\\\n",
       "0 & 0 & 0 & 0 & 0 & 0 \\\\\n",
       "0 & 0 & 0 & 0 & 0 & 0\n",
       "\\end{array}\\right) \\mathrm{False}$"
      ],
      "text/plain": [
       "[ 0  0  0  0  0  0]\n",
       "[ 0  0  0  0  0  1]\n",
       "[ 0  0  0 -2  0  0]\n",
       "[ 1  0  0  0  0  0]\n",
       "[ 0  0  0  0  0  0]\n",
       "[ 0  0  0  0  0  0] False"
      ]
     },
     "metadata": {},
     "output_type": "display_data"
    },
    {
     "data": {
      "text/html": [
       "<html>\\(\\displaystyle \\left(\\begin{array}{rrrrrr}\n",
       "0 & 0 & 0 & 0 & 0 & 0 \\\\\n",
       "0 & 2 & 0 & 0 & 0 & 0 \\\\\n",
       "0 & 0 & 2 & 0 & 0 & 0 \\\\\n",
       "0 & 0 & 0 & 1 & 0 & 0 \\\\\n",
       "0 & 0 & 0 & 0 & 0 & 0 \\\\\n",
       "0 & 0 & 0 & 0 & 0 & 1\n",
       "\\end{array}\\right) \\mathrm{True}\\)</html>"
      ],
      "text/latex": [
       "$\\displaystyle \\left(\\begin{array}{rrrrrr}\n",
       "0 & 0 & 0 & 0 & 0 & 0 \\\\\n",
       "0 & 2 & 0 & 0 & 0 & 0 \\\\\n",
       "0 & 0 & 2 & 0 & 0 & 0 \\\\\n",
       "0 & 0 & 0 & 1 & 0 & 0 \\\\\n",
       "0 & 0 & 0 & 0 & 0 & 0 \\\\\n",
       "0 & 0 & 0 & 0 & 0 & 1\n",
       "\\end{array}\\right) \\mathrm{True}$"
      ],
      "text/plain": [
       "[0 0 0 0 0 0]\n",
       "[0 2 0 0 0 0]\n",
       "[0 0 2 0 0 0]\n",
       "[0 0 0 1 0 0]\n",
       "[0 0 0 0 0 0]\n",
       "[0 0 0 0 0 1] True"
      ]
     },
     "metadata": {},
     "output_type": "display_data"
    },
    {
     "data": {
      "text/html": [
       "<html>\\(\\displaystyle \\left(\\begin{array}{rrrrrr}\n",
       "0 & 0 & 0 & 0 & 0 & 0 \\\\\n",
       "0 & 0 & 1 & 0 & 0 & 0 \\\\\n",
       "0 & -4 & 0 & 0 & 0 & 0 \\\\\n",
       "0 & 0 & 0 & 0 & 0 & 1 \\\\\n",
       "0 & 0 & 0 & 0 & 0 & 0 \\\\\n",
       "0 & 0 & 0 & -1 & 0 & 0\n",
       "\\end{array}\\right) \\mathrm{True}\\)</html>"
      ],
      "text/latex": [
       "$\\displaystyle \\left(\\begin{array}{rrrrrr}\n",
       "0 & 0 & 0 & 0 & 0 & 0 \\\\\n",
       "0 & 0 & 1 & 0 & 0 & 0 \\\\\n",
       "0 & -4 & 0 & 0 & 0 & 0 \\\\\n",
       "0 & 0 & 0 & 0 & 0 & 1 \\\\\n",
       "0 & 0 & 0 & 0 & 0 & 0 \\\\\n",
       "0 & 0 & 0 & -1 & 0 & 0\n",
       "\\end{array}\\right) \\mathrm{True}$"
      ],
      "text/plain": [
       "[ 0  0  0  0  0  0]\n",
       "[ 0  0  1  0  0  0]\n",
       "[ 0 -4  0  0  0  0]\n",
       "[ 0  0  0  0  0  1]\n",
       "[ 0  0  0  0  0  0]\n",
       "[ 0  0  0 -1  0  0] True"
      ]
     },
     "metadata": {},
     "output_type": "display_data"
    },
    {
     "data": {
      "text/html": [
       "<html>\\(\\displaystyle \\left(\\begin{array}{rrrrrr}\n",
       "0 & 0 & 0 & 0 & 0 & 0 \\\\\n",
       "0 & 0 & 0 & 0 & 0 & 0 \\\\\n",
       "0 & 0 & 0 & 0 & 0 & 0 \\\\\n",
       "0 & 0 & 0 & 0 & 0 & 0 \\\\\n",
       "1 & 0 & 0 & 0 & 0 & 0 \\\\\n",
       "0 & 0 & 0 & 0 & 0 & 0\n",
       "\\end{array}\\right) \\mathrm{False}\\)</html>"
      ],
      "text/latex": [
       "$\\displaystyle \\left(\\begin{array}{rrrrrr}\n",
       "0 & 0 & 0 & 0 & 0 & 0 \\\\\n",
       "0 & 0 & 0 & 0 & 0 & 0 \\\\\n",
       "0 & 0 & 0 & 0 & 0 & 0 \\\\\n",
       "0 & 0 & 0 & 0 & 0 & 0 \\\\\n",
       "1 & 0 & 0 & 0 & 0 & 0 \\\\\n",
       "0 & 0 & 0 & 0 & 0 & 0\n",
       "\\end{array}\\right) \\mathrm{False}$"
      ],
      "text/plain": [
       "[0 0 0 0 0 0]\n",
       "[0 0 0 0 0 0]\n",
       "[0 0 0 0 0 0]\n",
       "[0 0 0 0 0 0]\n",
       "[1 0 0 0 0 0]\n",
       "[0 0 0 0 0 0] False"
      ]
     },
     "metadata": {},
     "output_type": "display_data"
    },
    {
     "data": {
      "text/html": [
       "<html>\\(\\displaystyle \\left(\\begin{array}{rrrrrr}\n",
       "0 & 0 & 0 & 0 & 0 & 0 \\\\\n",
       "0 & 0 & 0 & 0 & 0 & 0 \\\\\n",
       "0 & 0 & 0 & 0 & 0 & 0 \\\\\n",
       "0 & 0 & 0 & 0 & 0 & 0 \\\\\n",
       "0 & 0 & 0 & 1 & 0 & 0 \\\\\n",
       "0 & 0 & 0 & 0 & 0 & 0\n",
       "\\end{array}\\right) \\mathrm{False}\\)</html>"
      ],
      "text/latex": [
       "$\\displaystyle \\left(\\begin{array}{rrrrrr}\n",
       "0 & 0 & 0 & 0 & 0 & 0 \\\\\n",
       "0 & 0 & 0 & 0 & 0 & 0 \\\\\n",
       "0 & 0 & 0 & 0 & 0 & 0 \\\\\n",
       "0 & 0 & 0 & 0 & 0 & 0 \\\\\n",
       "0 & 0 & 0 & 1 & 0 & 0 \\\\\n",
       "0 & 0 & 0 & 0 & 0 & 0\n",
       "\\end{array}\\right) \\mathrm{False}$"
      ],
      "text/plain": [
       "[0 0 0 0 0 0]\n",
       "[0 0 0 0 0 0]\n",
       "[0 0 0 0 0 0]\n",
       "[0 0 0 0 0 0]\n",
       "[0 0 0 1 0 0]\n",
       "[0 0 0 0 0 0] False"
      ]
     },
     "metadata": {},
     "output_type": "display_data"
    },
    {
     "data": {
      "text/html": [
       "<html>\\(\\displaystyle \\left(\\begin{array}{rrrrrr}\n",
       "0 & 0 & 0 & 0 & 0 & 0 \\\\\n",
       "0 & 0 & 0 & 0 & 0 & 0 \\\\\n",
       "0 & 0 & 0 & 0 & 0 & 0 \\\\\n",
       "0 & 0 & 0 & 0 & 0 & 0 \\\\\n",
       "0 & 0 & 0 & 0 & 1 & 0 \\\\\n",
       "0 & 0 & 0 & 0 & 0 & 0\n",
       "\\end{array}\\right) \\mathrm{True}\\)</html>"
      ],
      "text/latex": [
       "$\\displaystyle \\left(\\begin{array}{rrrrrr}\n",
       "0 & 0 & 0 & 0 & 0 & 0 \\\\\n",
       "0 & 0 & 0 & 0 & 0 & 0 \\\\\n",
       "0 & 0 & 0 & 0 & 0 & 0 \\\\\n",
       "0 & 0 & 0 & 0 & 0 & 0 \\\\\n",
       "0 & 0 & 0 & 0 & 1 & 0 \\\\\n",
       "0 & 0 & 0 & 0 & 0 & 0\n",
       "\\end{array}\\right) \\mathrm{True}$"
      ],
      "text/plain": [
       "[0 0 0 0 0 0]\n",
       "[0 0 0 0 0 0]\n",
       "[0 0 0 0 0 0]\n",
       "[0 0 0 0 0 0]\n",
       "[0 0 0 0 1 0]\n",
       "[0 0 0 0 0 0] True"
      ]
     },
     "metadata": {},
     "output_type": "display_data"
    },
    {
     "data": {
      "text/html": [
       "<html>\\(\\displaystyle \\left(\\begin{array}{rrrrrr}\n",
       "0 & 0 & 0 & 0 & 0 & 0 \\\\\n",
       "0 & 0 & 0 & 0 & 0 & 0 \\\\\n",
       "0 & 0 & 0 & 0 & 0 & 0 \\\\\n",
       "0 & 0 & 0 & 0 & 0 & 0 \\\\\n",
       "0 & 0 & 0 & 0 & 0 & 1 \\\\\n",
       "0 & 0 & 0 & 0 & 0 & 0\n",
       "\\end{array}\\right) \\mathrm{False}\\)</html>"
      ],
      "text/latex": [
       "$\\displaystyle \\left(\\begin{array}{rrrrrr}\n",
       "0 & 0 & 0 & 0 & 0 & 0 \\\\\n",
       "0 & 0 & 0 & 0 & 0 & 0 \\\\\n",
       "0 & 0 & 0 & 0 & 0 & 0 \\\\\n",
       "0 & 0 & 0 & 0 & 0 & 0 \\\\\n",
       "0 & 0 & 0 & 0 & 0 & 1 \\\\\n",
       "0 & 0 & 0 & 0 & 0 & 0\n",
       "\\end{array}\\right) \\mathrm{False}$"
      ],
      "text/plain": [
       "[0 0 0 0 0 0]\n",
       "[0 0 0 0 0 0]\n",
       "[0 0 0 0 0 0]\n",
       "[0 0 0 0 0 0]\n",
       "[0 0 0 0 0 1]\n",
       "[0 0 0 0 0 0] False"
      ]
     },
     "metadata": {},
     "output_type": "display_data"
    },
    {
     "data": {
      "text/html": [
       "<html>\\(\\displaystyle \\left(\\begin{array}{rrrrrr}\n",
       "0 & 0 & 0 & 0 & 0 & 0 \\\\\n",
       "0 & 0 & 0 & 0 & 0 & 0 \\\\\n",
       "0 & 0 & 0 & 0 & 0 & 0 \\\\\n",
       "0 & 0 & 0 & 0 & 0 & 0 \\\\\n",
       "0 & 1 & 0 & 0 & 0 & 0 \\\\\n",
       "0 & 0 & 0 & 0 & 0 & 0\n",
       "\\end{array}\\right) \\mathrm{False}\\)</html>"
      ],
      "text/latex": [
       "$\\displaystyle \\left(\\begin{array}{rrrrrr}\n",
       "0 & 0 & 0 & 0 & 0 & 0 \\\\\n",
       "0 & 0 & 0 & 0 & 0 & 0 \\\\\n",
       "0 & 0 & 0 & 0 & 0 & 0 \\\\\n",
       "0 & 0 & 0 & 0 & 0 & 0 \\\\\n",
       "0 & 1 & 0 & 0 & 0 & 0 \\\\\n",
       "0 & 0 & 0 & 0 & 0 & 0\n",
       "\\end{array}\\right) \\mathrm{False}$"
      ],
      "text/plain": [
       "[0 0 0 0 0 0]\n",
       "[0 0 0 0 0 0]\n",
       "[0 0 0 0 0 0]\n",
       "[0 0 0 0 0 0]\n",
       "[0 1 0 0 0 0]\n",
       "[0 0 0 0 0 0] False"
      ]
     },
     "metadata": {},
     "output_type": "display_data"
    },
    {
     "data": {
      "text/html": [
       "<html>\\(\\displaystyle \\left(\\begin{array}{rrrrrr}\n",
       "0 & 0 & 0 & 0 & 0 & 0 \\\\\n",
       "0 & 0 & 0 & 0 & 0 & 0 \\\\\n",
       "0 & 0 & 0 & 0 & 0 & 0 \\\\\n",
       "0 & 0 & 0 & 0 & 0 & 0 \\\\\n",
       "0 & 0 & 1 & 0 & 1 & 0 \\\\\n",
       "0 & 0 & 0 & 0 & 0 & 0\n",
       "\\end{array}\\right) \\mathrm{True}\\)</html>"
      ],
      "text/latex": [
       "$\\displaystyle \\left(\\begin{array}{rrrrrr}\n",
       "0 & 0 & 0 & 0 & 0 & 0 \\\\\n",
       "0 & 0 & 0 & 0 & 0 & 0 \\\\\n",
       "0 & 0 & 0 & 0 & 0 & 0 \\\\\n",
       "0 & 0 & 0 & 0 & 0 & 0 \\\\\n",
       "0 & 0 & 1 & 0 & 1 & 0 \\\\\n",
       "0 & 0 & 0 & 0 & 0 & 0\n",
       "\\end{array}\\right) \\mathrm{True}$"
      ],
      "text/plain": [
       "[0 0 0 0 0 0]\n",
       "[0 0 0 0 0 0]\n",
       "[0 0 0 0 0 0]\n",
       "[0 0 0 0 0 0]\n",
       "[0 0 1 0 1 0]\n",
       "[0 0 0 0 0 0] True"
      ]
     },
     "metadata": {},
     "output_type": "display_data"
    },
    {
     "data": {
      "text/html": [
       "<html>\\(\\displaystyle \\left(\\begin{array}{rrrrrr}\n",
       "0 & 0 & 0 & 0 & 0 & 0 \\\\\n",
       "0 & 0 & 0 & 1 & 0 & 0 \\\\\n",
       "0 & 0 & 0 & 0 & 0 & 2 \\\\\n",
       "0 & 0 & 0 & 0 & 0 & 0 \\\\\n",
       "0 & 0 & 0 & 0 & 0 & 0 \\\\\n",
       "1 & 0 & 0 & 0 & 0 & 0\n",
       "\\end{array}\\right) \\mathrm{False}\\)</html>"
      ],
      "text/latex": [
       "$\\displaystyle \\left(\\begin{array}{rrrrrr}\n",
       "0 & 0 & 0 & 0 & 0 & 0 \\\\\n",
       "0 & 0 & 0 & 1 & 0 & 0 \\\\\n",
       "0 & 0 & 0 & 0 & 0 & 2 \\\\\n",
       "0 & 0 & 0 & 0 & 0 & 0 \\\\\n",
       "0 & 0 & 0 & 0 & 0 & 0 \\\\\n",
       "1 & 0 & 0 & 0 & 0 & 0\n",
       "\\end{array}\\right) \\mathrm{False}$"
      ],
      "text/plain": [
       "[0 0 0 0 0 0]\n",
       "[0 0 0 1 0 0]\n",
       "[0 0 0 0 0 2]\n",
       "[0 0 0 0 0 0]\n",
       "[0 0 0 0 0 0]\n",
       "[1 0 0 0 0 0] False"
      ]
     },
     "metadata": {},
     "output_type": "display_data"
    }
   ],
   "source": [
    "P1 = L[0].diagonalization()[1]\n",
    "for l in L:\n",
    "    l1 = P1.inverse()*l*P1\n",
    "    show(l1, l1.is_diagonalizable())"
   ]
  },
  {
   "cell_type": "code",
   "execution_count": 77,
   "id": "a11b4c0e",
   "metadata": {},
   "outputs": [
    {
     "data": {
      "text/plain": [
       "[   0    0    0    0    1    0]\n",
       "[   1    0    0    1    0    0]\n",
       "[ 2*I    0    0 -2*I    0    0]\n",
       "[   0    1    1    0    0    0]\n",
       "[   0    0    0    0    0    1]\n",
       "[   0    I   -I    0    0    0]"
      ]
     },
     "execution_count": 77,
     "metadata": {},
     "output_type": "execute_result"
    }
   ],
   "source": [
    "L_1 = [P1.inverse()*l*P1 for l in L]\n",
    "P2 = L_1[3].diagonalization()[1]\n"
   ]
  },
  {
   "cell_type": "code",
   "execution_count": 80,
   "id": "420e53cf",
   "metadata": {},
   "outputs": [
    {
     "data": {
      "text/html": [
       "<html>\\(\\displaystyle \\left(\\begin{array}{rrrrrr}\n",
       "-1 & 0 & 0 & 0 & 0 & 0 \\\\\n",
       "0 & 0 & 0 & 0 & 0 & 0 \\\\\n",
       "0 & 0 & 0 & 0 & 0 & 0 \\\\\n",
       "0 & 0 & 0 & -1 & 0 & 0 \\\\\n",
       "0 & 0 & 0 & 0 & 1 & 0 \\\\\n",
       "0 & 0 & 0 & 0 & 0 & 0\n",
       "\\end{array}\\right) \\mathrm{True}\\)</html>"
      ],
      "text/latex": [
       "$\\displaystyle \\left(\\begin{array}{rrrrrr}\n",
       "-1 & 0 & 0 & 0 & 0 & 0 \\\\\n",
       "0 & 0 & 0 & 0 & 0 & 0 \\\\\n",
       "0 & 0 & 0 & 0 & 0 & 0 \\\\\n",
       "0 & 0 & 0 & -1 & 0 & 0 \\\\\n",
       "0 & 0 & 0 & 0 & 1 & 0 \\\\\n",
       "0 & 0 & 0 & 0 & 0 & 0\n",
       "\\end{array}\\right) \\mathrm{True}$"
      ],
      "text/plain": [
       "[-1  0  0  0  0  0]\n",
       "[ 0  0  0  0  0  0]\n",
       "[ 0  0  0  0  0  0]\n",
       "[ 0  0  0 -1  0  0]\n",
       "[ 0  0  0  0  1  0]\n",
       "[ 0  0  0  0  0  0] True"
      ]
     },
     "metadata": {},
     "output_type": "display_data"
    },
    {
     "data": {
      "text/html": [
       "<html>\\(\\displaystyle \\left(\\begin{array}{rrrrrr}\n",
       "0 & I & 0 & 0 & 0 & 0 \\\\\n",
       "0 & 0 & 0 & 0 & \\frac{1}{2} & 0 \\\\\n",
       "0 & 0 & 0 & 0 & \\frac{1}{2} & 0 \\\\\n",
       "0 & 0 & -I & 0 & 0 & 0 \\\\\n",
       "0 & 0 & 0 & 0 & 0 & 0 \\\\\n",
       "0 & 0 & 0 & 0 & 0 & 0\n",
       "\\end{array}\\right) \\mathrm{False}\\)</html>"
      ],
      "text/latex": [
       "$\\displaystyle \\left(\\begin{array}{rrrrrr}\n",
       "0 & I & 0 & 0 & 0 & 0 \\\\\n",
       "0 & 0 & 0 & 0 & \\frac{1}{2} & 0 \\\\\n",
       "0 & 0 & 0 & 0 & \\frac{1}{2} & 0 \\\\\n",
       "0 & 0 & -I & 0 & 0 & 0 \\\\\n",
       "0 & 0 & 0 & 0 & 0 & 0 \\\\\n",
       "0 & 0 & 0 & 0 & 0 & 0\n",
       "\\end{array}\\right) \\mathrm{False}$"
      ],
      "text/plain": [
       "[  0   I   0   0   0   0]\n",
       "[  0   0   0   0 1/2   0]\n",
       "[  0   0   0   0 1/2   0]\n",
       "[  0   0  -I   0   0   0]\n",
       "[  0   0   0   0   0   0]\n",
       "[  0   0   0   0   0   0] False"
      ]
     },
     "metadata": {},
     "output_type": "display_data"
    },
    {
     "data": {
      "text/html": [
       "<html>\\(\\displaystyle \\left(\\begin{array}{rrrrrr}\n",
       "2 & 0 & 0 & 0 & 0 & 0 \\\\\n",
       "0 & 1 & 0 & 0 & 0 & 0 \\\\\n",
       "0 & 0 & 1 & 0 & 0 & 0 \\\\\n",
       "0 & 0 & 0 & 2 & 0 & 0 \\\\\n",
       "0 & 0 & 0 & 0 & 0 & 0 \\\\\n",
       "0 & 0 & 0 & 0 & 0 & 0\n",
       "\\end{array}\\right) \\mathrm{True}\\)</html>"
      ],
      "text/latex": [
       "$\\displaystyle \\left(\\begin{array}{rrrrrr}\n",
       "2 & 0 & 0 & 0 & 0 & 0 \\\\\n",
       "0 & 1 & 0 & 0 & 0 & 0 \\\\\n",
       "0 & 0 & 1 & 0 & 0 & 0 \\\\\n",
       "0 & 0 & 0 & 2 & 0 & 0 \\\\\n",
       "0 & 0 & 0 & 0 & 0 & 0 \\\\\n",
       "0 & 0 & 0 & 0 & 0 & 0\n",
       "\\end{array}\\right) \\mathrm{True}$"
      ],
      "text/plain": [
       "[2 0 0 0 0 0]\n",
       "[0 1 0 0 0 0]\n",
       "[0 0 1 0 0 0]\n",
       "[0 0 0 2 0 0]\n",
       "[0 0 0 0 0 0]\n",
       "[0 0 0 0 0 0] True"
      ]
     },
     "metadata": {},
     "output_type": "display_data"
    },
    {
     "data": {
      "text/html": [
       "<html>\\(\\displaystyle \\left(\\begin{array}{rrrrrr}\n",
       "2 I & 0 & 0 & 0 & 0 & 0 \\\\\n",
       "0 & I & 0 & 0 & 0 & 0 \\\\\n",
       "0 & 0 & -I & 0 & 0 & 0 \\\\\n",
       "0 & 0 & 0 & -2 I & 0 & 0 \\\\\n",
       "0 & 0 & 0 & 0 & 0 & 0 \\\\\n",
       "0 & 0 & 0 & 0 & 0 & 0\n",
       "\\end{array}\\right) \\mathrm{True}\\)</html>"
      ],
      "text/latex": [
       "$\\displaystyle \\left(\\begin{array}{rrrrrr}\n",
       "2 I & 0 & 0 & 0 & 0 & 0 \\\\\n",
       "0 & I & 0 & 0 & 0 & 0 \\\\\n",
       "0 & 0 & -I & 0 & 0 & 0 \\\\\n",
       "0 & 0 & 0 & -2 I & 0 & 0 \\\\\n",
       "0 & 0 & 0 & 0 & 0 & 0 \\\\\n",
       "0 & 0 & 0 & 0 & 0 & 0\n",
       "\\end{array}\\right) \\mathrm{True}$"
      ],
      "text/plain": [
       "[ 2*I    0    0    0    0    0]\n",
       "[   0    I    0    0    0    0]\n",
       "[   0    0   -I    0    0    0]\n",
       "[   0    0    0 -2*I    0    0]\n",
       "[   0    0    0    0    0    0]\n",
       "[   0    0    0    0    0    0] True"
      ]
     },
     "metadata": {},
     "output_type": "display_data"
    },
    {
     "data": {
      "text/html": [
       "<html>\\(\\displaystyle \\left(\\begin{array}{rrrrrr}\n",
       "0 & 0 & 0 & 0 & 0 & 0 \\\\\n",
       "0 & 0 & 0 & 0 & 0 & 0 \\\\\n",
       "0 & 0 & 0 & 0 & 0 & 0 \\\\\n",
       "0 & 0 & 0 & 0 & 0 & 0 \\\\\n",
       "0 & 0 & 0 & 0 & 0 & 0 \\\\\n",
       "0 & 0 & 0 & 0 & 1 & 0\n",
       "\\end{array}\\right) \\mathrm{False}\\)</html>"
      ],
      "text/latex": [
       "$\\displaystyle \\left(\\begin{array}{rrrrrr}\n",
       "0 & 0 & 0 & 0 & 0 & 0 \\\\\n",
       "0 & 0 & 0 & 0 & 0 & 0 \\\\\n",
       "0 & 0 & 0 & 0 & 0 & 0 \\\\\n",
       "0 & 0 & 0 & 0 & 0 & 0 \\\\\n",
       "0 & 0 & 0 & 0 & 0 & 0 \\\\\n",
       "0 & 0 & 0 & 0 & 1 & 0\n",
       "\\end{array}\\right) \\mathrm{False}$"
      ],
      "text/plain": [
       "[0 0 0 0 0 0]\n",
       "[0 0 0 0 0 0]\n",
       "[0 0 0 0 0 0]\n",
       "[0 0 0 0 0 0]\n",
       "[0 0 0 0 0 0]\n",
       "[0 0 0 0 1 0] False"
      ]
     },
     "metadata": {},
     "output_type": "display_data"
    },
    {
     "data": {
      "text/html": [
       "<html>\\(\\displaystyle \\left(\\begin{array}{rrrrrr}\n",
       "0 & 0 & 0 & 0 & 0 & 0 \\\\\n",
       "0 & 0 & 0 & 0 & 0 & 0 \\\\\n",
       "0 & 0 & 0 & 0 & 0 & 0 \\\\\n",
       "0 & 0 & 0 & 0 & 0 & 0 \\\\\n",
       "0 & 0 & 0 & 0 & 0 & 0 \\\\\n",
       "0 & 1 & 1 & 0 & 0 & 0\n",
       "\\end{array}\\right) \\mathrm{False}\\)</html>"
      ],
      "text/latex": [
       "$\\displaystyle \\left(\\begin{array}{rrrrrr}\n",
       "0 & 0 & 0 & 0 & 0 & 0 \\\\\n",
       "0 & 0 & 0 & 0 & 0 & 0 \\\\\n",
       "0 & 0 & 0 & 0 & 0 & 0 \\\\\n",
       "0 & 0 & 0 & 0 & 0 & 0 \\\\\n",
       "0 & 0 & 0 & 0 & 0 & 0 \\\\\n",
       "0 & 1 & 1 & 0 & 0 & 0\n",
       "\\end{array}\\right) \\mathrm{False}$"
      ],
      "text/plain": [
       "[0 0 0 0 0 0]\n",
       "[0 0 0 0 0 0]\n",
       "[0 0 0 0 0 0]\n",
       "[0 0 0 0 0 0]\n",
       "[0 0 0 0 0 0]\n",
       "[0 1 1 0 0 0] False"
      ]
     },
     "metadata": {},
     "output_type": "display_data"
    },
    {
     "data": {
      "text/html": [
       "<html>\\(\\displaystyle \\left(\\begin{array}{rrrrrr}\n",
       "0 & 0 & 0 & 0 & 0 & 0 \\\\\n",
       "0 & 0 & 0 & 0 & 0 & 0 \\\\\n",
       "0 & 0 & 0 & 0 & 0 & 0 \\\\\n",
       "0 & 0 & 0 & 0 & 0 & 0 \\\\\n",
       "0 & 0 & 0 & 0 & 0 & 0 \\\\\n",
       "0 & 0 & 0 & 0 & 0 & 1\n",
       "\\end{array}\\right) \\mathrm{True}\\)</html>"
      ],
      "text/latex": [
       "$\\displaystyle \\left(\\begin{array}{rrrrrr}\n",
       "0 & 0 & 0 & 0 & 0 & 0 \\\\\n",
       "0 & 0 & 0 & 0 & 0 & 0 \\\\\n",
       "0 & 0 & 0 & 0 & 0 & 0 \\\\\n",
       "0 & 0 & 0 & 0 & 0 & 0 \\\\\n",
       "0 & 0 & 0 & 0 & 0 & 0 \\\\\n",
       "0 & 0 & 0 & 0 & 0 & 1\n",
       "\\end{array}\\right) \\mathrm{True}$"
      ],
      "text/plain": [
       "[0 0 0 0 0 0]\n",
       "[0 0 0 0 0 0]\n",
       "[0 0 0 0 0 0]\n",
       "[0 0 0 0 0 0]\n",
       "[0 0 0 0 0 0]\n",
       "[0 0 0 0 0 1] True"
      ]
     },
     "metadata": {},
     "output_type": "display_data"
    },
    {
     "data": {
      "text/html": [
       "<html>\\(\\displaystyle \\left(\\begin{array}{rrrrrr}\n",
       "0 & 0 & 0 & 0 & 0 & 0 \\\\\n",
       "0 & 0 & 0 & 0 & 0 & 0 \\\\\n",
       "0 & 0 & 0 & 0 & 0 & 0 \\\\\n",
       "0 & 0 & 0 & 0 & 0 & 0 \\\\\n",
       "0 & 0 & 0 & 0 & 0 & 0 \\\\\n",
       "0 & I & -I & 0 & 0 & 0\n",
       "\\end{array}\\right) \\mathrm{False}\\)</html>"
      ],
      "text/latex": [
       "$\\displaystyle \\left(\\begin{array}{rrrrrr}\n",
       "0 & 0 & 0 & 0 & 0 & 0 \\\\\n",
       "0 & 0 & 0 & 0 & 0 & 0 \\\\\n",
       "0 & 0 & 0 & 0 & 0 & 0 \\\\\n",
       "0 & 0 & 0 & 0 & 0 & 0 \\\\\n",
       "0 & 0 & 0 & 0 & 0 & 0 \\\\\n",
       "0 & I & -I & 0 & 0 & 0\n",
       "\\end{array}\\right) \\mathrm{False}$"
      ],
      "text/plain": [
       "[ 0  0  0  0  0  0]\n",
       "[ 0  0  0  0  0  0]\n",
       "[ 0  0  0  0  0  0]\n",
       "[ 0  0  0  0  0  0]\n",
       "[ 0  0  0  0  0  0]\n",
       "[ 0  I -I  0  0  0] False"
      ]
     },
     "metadata": {},
     "output_type": "display_data"
    },
    {
     "data": {
      "text/html": [
       "<html>\\(\\displaystyle \\left(\\begin{array}{rrrrrr}\n",
       "0 & 0 & 0 & 0 & 0 & 0 \\\\\n",
       "0 & 0 & 0 & 0 & 0 & 0 \\\\\n",
       "0 & 0 & 0 & 0 & 0 & 0 \\\\\n",
       "0 & 0 & 0 & 0 & 0 & 0 \\\\\n",
       "0 & 0 & 0 & 0 & 0 & 0 \\\\\n",
       "1 & 0 & 0 & 1 & 0 & 0\n",
       "\\end{array}\\right) \\mathrm{False}\\)</html>"
      ],
      "text/latex": [
       "$\\displaystyle \\left(\\begin{array}{rrrrrr}\n",
       "0 & 0 & 0 & 0 & 0 & 0 \\\\\n",
       "0 & 0 & 0 & 0 & 0 & 0 \\\\\n",
       "0 & 0 & 0 & 0 & 0 & 0 \\\\\n",
       "0 & 0 & 0 & 0 & 0 & 0 \\\\\n",
       "0 & 0 & 0 & 0 & 0 & 0 \\\\\n",
       "1 & 0 & 0 & 1 & 0 & 0\n",
       "\\end{array}\\right) \\mathrm{False}$"
      ],
      "text/plain": [
       "[0 0 0 0 0 0]\n",
       "[0 0 0 0 0 0]\n",
       "[0 0 0 0 0 0]\n",
       "[0 0 0 0 0 0]\n",
       "[0 0 0 0 0 0]\n",
       "[1 0 0 1 0 0] False"
      ]
     },
     "metadata": {},
     "output_type": "display_data"
    },
    {
     "data": {
      "text/html": [
       "<html>\\(\\displaystyle \\left(\\begin{array}{rrrrrr}\n",
       "0 & 0 & 0 & 0 & 0 & 0 \\\\\n",
       "0 & 0 & 0 & 0 & 0 & 0 \\\\\n",
       "0 & 0 & 0 & 0 & 0 & 0 \\\\\n",
       "0 & 0 & 0 & 0 & 0 & 0 \\\\\n",
       "0 & 0 & 0 & 0 & 0 & 0 \\\\\n",
       "2 I & 0 & 0 & -2 I & 0 & 1\n",
       "\\end{array}\\right) \\mathrm{True}\\)</html>"
      ],
      "text/latex": [
       "$\\displaystyle \\left(\\begin{array}{rrrrrr}\n",
       "0 & 0 & 0 & 0 & 0 & 0 \\\\\n",
       "0 & 0 & 0 & 0 & 0 & 0 \\\\\n",
       "0 & 0 & 0 & 0 & 0 & 0 \\\\\n",
       "0 & 0 & 0 & 0 & 0 & 0 \\\\\n",
       "0 & 0 & 0 & 0 & 0 & 0 \\\\\n",
       "2 I & 0 & 0 & -2 I & 0 & 1\n",
       "\\end{array}\\right) \\mathrm{True}$"
      ],
      "text/plain": [
       "[   0    0    0    0    0    0]\n",
       "[   0    0    0    0    0    0]\n",
       "[   0    0    0    0    0    0]\n",
       "[   0    0    0    0    0    0]\n",
       "[   0    0    0    0    0    0]\n",
       "[ 2*I    0    0 -2*I    0    1] True"
      ]
     },
     "metadata": {},
     "output_type": "display_data"
    },
    {
     "data": {
      "text/html": [
       "<html>\\(\\displaystyle \\left(\\begin{array}{rrrrrr}\n",
       "0 & 1 & 0 & 0 & 0 & 0 \\\\\n",
       "0 & 0 & 0 & 0 & -\\frac{1}{2} I & 0 \\\\\n",
       "0 & 0 & 0 & 0 & \\frac{1}{2} I & 0 \\\\\n",
       "0 & 0 & 1 & 0 & 0 & 0 \\\\\n",
       "0 & 0 & 0 & 0 & 0 & 0 \\\\\n",
       "0 & 0 & 0 & 0 & 0 & 0\n",
       "\\end{array}\\right) \\mathrm{False}\\)</html>"
      ],
      "text/latex": [
       "$\\displaystyle \\left(\\begin{array}{rrrrrr}\n",
       "0 & 1 & 0 & 0 & 0 & 0 \\\\\n",
       "0 & 0 & 0 & 0 & -\\frac{1}{2} I & 0 \\\\\n",
       "0 & 0 & 0 & 0 & \\frac{1}{2} I & 0 \\\\\n",
       "0 & 0 & 1 & 0 & 0 & 0 \\\\\n",
       "0 & 0 & 0 & 0 & 0 & 0 \\\\\n",
       "0 & 0 & 0 & 0 & 0 & 0\n",
       "\\end{array}\\right) \\mathrm{False}$"
      ],
      "text/plain": [
       "[     0      1      0      0      0      0]\n",
       "[     0      0      0      0 -1/2*I      0]\n",
       "[     0      0      0      0  1/2*I      0]\n",
       "[     0      0      1      0      0      0]\n",
       "[     0      0      0      0      0      0]\n",
       "[     0      0      0      0      0      0] False"
      ]
     },
     "metadata": {},
     "output_type": "display_data"
    }
   ],
   "source": [
    "for l in L_1:\n",
    "    l1 = P2.inverse()*l*P2\n",
    "    show(l1, l1.is_diagonalizable())"
   ]
  },
  {
   "cell_type": "code",
   "execution_count": 82,
   "id": "e86487ba",
   "metadata": {},
   "outputs": [
    {
     "data": {
      "text/html": [
       "<html>\\(\\displaystyle \\left\\{s_{11} : s_{12}, s_{12} : s_{11} + s_{33}, s_{22} : 2 I s_{11} - 2 I s_{33}, s_{13} : s_{13} + s_{23}, s_{23} : s_{22} + s_{23}, s_{33} : I s_{13} - I s_{23}\\right\\}\\)</html>"
      ],
      "text/latex": [
       "$\\displaystyle \\left\\{s_{11} : s_{12}, s_{12} : s_{11} + s_{33}, s_{22} : 2 I s_{11} - 2 I s_{33}, s_{13} : s_{13} + s_{23}, s_{23} : s_{22} + s_{23}, s_{33} : I s_{13} - I s_{23}\\right\\}$"
      ],
      "text/plain": [
       "{s11: s12,\n",
       " s12: s11 + s33,\n",
       " s22: (2*I)*s11 + (-2*I)*s33,\n",
       " s13: s13 + s23,\n",
       " s23: s22 + s23,\n",
       " s33: I*s13 + (-I)*s23}"
      ]
     },
     "metadata": {},
     "output_type": "display_data"
    },
    {
     "data": {
      "text/html": [
       "<html>\\(\\displaystyle -s_{12} s_{22} + s_{11} s_{13} + s_{11} s_{23} - s_{12} s_{23} + s_{13} s_{33} + s_{23} s_{33}\\)</html>"
      ],
      "text/latex": [
       "$\\displaystyle -s_{12} s_{22} + s_{11} s_{13} + s_{11} s_{23} - s_{12} s_{23} + s_{13} s_{33} + s_{23} s_{33}$"
      ],
      "text/plain": [
       "-s12*s22 + s11*s13 + s11*s23 - s12*s23 + s13*s33 + s23*s33"
      ]
     },
     "metadata": {},
     "output_type": "display_data"
    },
    {
     "data": {
      "text/html": [
       "<html>\\(\\displaystyle s_{11}^{2} - 2 I s_{11} s_{12} + I s_{12} s_{13} - s_{13}^{2} - I s_{12} s_{23} - 2 s_{13} s_{23} - s_{23}^{2} + 2 s_{11} s_{33} + 2 I s_{12} s_{33} + s_{33}^{2}\\)</html>"
      ],
      "text/latex": [
       "$\\displaystyle s_{11}^{2} - 2 I s_{11} s_{12} + I s_{12} s_{13} - s_{13}^{2} - I s_{12} s_{23} - 2 s_{13} s_{23} - s_{23}^{2} + 2 s_{11} s_{33} + 2 I s_{12} s_{33} + s_{33}^{2}$"
      ],
      "text/plain": [
       "s11^2 + (-2*I)*s11*s12 + I*s12*s13 - s13^2 + (-I)*s12*s23 - 2*s13*s23 - s23^2 + 2*s11*s33 + (2*I)*s12*s33 + s33^2"
      ]
     },
     "metadata": {},
     "output_type": "display_data"
    }
   ],
   "source": [
    "P2*P1\n",
    "G = P2*P1\n",
    "sub = {}\n",
    "for i in range(6):\n",
    "    sub[X[i][0].change_ring(K)] = (G*vector(X))[i]\n",
    "show(sub)\n",
    "p1 = (gens[0].change_ring(K))\n",
    "show(p1.subs(sub))\n",
    "p2 = (gens[1].change_ring(K))\n",
    "show(p2.subs(sub))"
   ]
  },
  {
   "cell_type": "code",
   "execution_count": null,
   "id": "84f6f0c7",
   "metadata": {},
   "outputs": [],
   "source": []
  }
 ],
 "metadata": {
  "kernelspec": {
   "display_name": "SageMath 9.6",
   "language": "sage",
   "name": "sagemath-9.6"
  },
  "language_info": {
   "codemirror_mode": {
    "name": "ipython",
    "version": 3
   },
   "file_extension": ".py",
   "mimetype": "text/x-python",
   "name": "python",
   "nbconvert_exporter": "python",
   "pygments_lexer": "ipython3",
   "version": "3.10.3"
  }
 },
 "nbformat": 4,
 "nbformat_minor": 5
}
