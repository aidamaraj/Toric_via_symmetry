{
 "cells": [
  {
   "cell_type": "markdown",
   "id": "73011970",
   "metadata": {},
   "source": [
    "## Initiating\n",
    "Initiating the polynomial ring with necessary variables."
   ]
  },
  {
   "cell_type": "code",
   "execution_count": 2,
   "id": "e3d390f3",
   "metadata": {},
   "outputs": [
    {
     "name": "stdout",
     "output_type": "stream",
     "text": [
      "Defining p1, p2, p3, p4, p5, p6, p7, p8, p9, g11, g12, g13, g14, g15, g16, g17, g18, g19, g21, g22, g23, g24, g25, g26, g27, g28, g29, g31, g32, g33, g34, g35, g36, g37, g38, g39, g41, g42, g43, g44, g45, g46, g47, g48, g49, g51, g52, g53, g54, g55, g56, g57, g58, g59, g61, g62, g63, g64, g65, g66, g67, g68, g69, g71, g72, g73, g74, g75, g76, g77, g78, g79, g81, g82, g83, g84, g85, g86, g87, g88, g89, g91, g92, g93, g94, g95, g96, g97, g98, g99\n"
     ]
    }
   ],
   "source": [
    "load(\"Symmalg.sage\")\n",
    "import random\n",
    "n_vars = 9\n",
    "var = ['p%i'%j for j in range(1,n_vars+1)]\n",
    "var+= ['g%i%i'%(i,j) for i in range(1,n_vars+1) for j in range(1,n_vars+1)]\n",
    "R = PolynomialRing(QQ, var)\n",
    "R.inject_variables()"
   ]
  },
  {
   "cell_type": "markdown",
   "id": "25443485",
   "metadata": {},
   "source": [
    "## Calculating the generators\n",
    "\n",
    "Calculating the generators for the ideal. In this case we have 18 generators of degree 2 (homogeneous) in 9 variables."
   ]
  },
  {
   "cell_type": "code",
   "execution_count": 6,
   "id": "0c915c9b",
   "metadata": {},
   "outputs": [
    {
     "data": {
      "text/html": [
       "<html>\\(\\displaystyle p_{1} p_{2} + p_{2}^{2} + p_{1} p_{3} + 2 p_{2} p_{3} + p_{3}^{2} + p_{1} p_{4} + 2 p_{2} p_{4} + 2 p_{3} p_{4} + p_{4}^{2} + p_{1} p_{5} + 2 p_{2} p_{5} + 2 p_{3} p_{5} + 2 p_{4} p_{5} + p_{5}^{2} + p_{1} p_{6} + 2 p_{2} p_{6} + 2 p_{3} p_{6} + 2 p_{4} p_{6} + 2 p_{5} p_{6} + p_{6}^{2} + p_{2} p_{7} + p_{3} p_{7} + p_{4} p_{7} + p_{5} p_{7} + p_{6} p_{7} - p_{1} p_{8}\\)</html>"
      ],
      "text/latex": [
       "$\\displaystyle p_{1} p_{2} + p_{2}^{2} + p_{1} p_{3} + 2 p_{2} p_{3} + p_{3}^{2} + p_{1} p_{4} + 2 p_{2} p_{4} + 2 p_{3} p_{4} + p_{4}^{2} + p_{1} p_{5} + 2 p_{2} p_{5} + 2 p_{3} p_{5} + 2 p_{4} p_{5} + p_{5}^{2} + p_{1} p_{6} + 2 p_{2} p_{6} + 2 p_{3} p_{6} + 2 p_{4} p_{6} + 2 p_{5} p_{6} + p_{6}^{2} + p_{2} p_{7} + p_{3} p_{7} + p_{4} p_{7} + p_{5} p_{7} + p_{6} p_{7} - p_{1} p_{8}$"
      ],
      "text/plain": [
       "p1*p2 + p2^2 + p1*p3 + 2*p2*p3 + p3^2 + p1*p4 + 2*p2*p4 + 2*p3*p4 + p4^2 + p1*p5 + 2*p2*p5 + 2*p3*p5 + 2*p4*p5 + p5^2 + p1*p6 + 2*p2*p6 + 2*p3*p6 + 2*p4*p6 + 2*p5*p6 + p6^2 + p2*p7 + p3*p7 + p4*p7 + p5*p7 + p6*p7 - p1*p8"
      ]
     },
     "metadata": {},
     "output_type": "display_data"
    },
    {
     "data": {
      "text/html": [
       "<html>\\(\\displaystyle p_{1} p_{3} + p_{2} p_{3} + p_{3}^{2} + p_{3} p_{4} + p_{3} p_{5} + p_{3} p_{6} + p_{3} p_{7} - p_{2} p_{8}\\)</html>"
      ],
      "text/latex": [
       "$\\displaystyle p_{1} p_{3} + p_{2} p_{3} + p_{3}^{2} + p_{3} p_{4} + p_{3} p_{5} + p_{3} p_{6} + p_{3} p_{7} - p_{2} p_{8}$"
      ],
      "text/plain": [
       "p1*p3 + p2*p3 + p3^2 + p3*p4 + p3*p5 + p3*p6 + p3*p7 - p2*p8"
      ]
     },
     "metadata": {},
     "output_type": "display_data"
    },
    {
     "data": {
      "text/html": [
       "<html>\\(\\displaystyle p_{1} p_{5} + p_{2} p_{5} + p_{3} p_{5} + p_{4} p_{5} + p_{5}^{2} + p_{5} p_{6} + p_{5} p_{7} - p_{4} p_{8}\\)</html>"
      ],
      "text/latex": [
       "$\\displaystyle p_{1} p_{5} + p_{2} p_{5} + p_{3} p_{5} + p_{4} p_{5} + p_{5}^{2} + p_{5} p_{6} + p_{5} p_{7} - p_{4} p_{8}$"
      ],
      "text/plain": [
       "p1*p5 + p2*p5 + p3*p5 + p4*p5 + p5^2 + p5*p6 + p5*p7 - p4*p8"
      ]
     },
     "metadata": {},
     "output_type": "display_data"
    },
    {
     "data": {
      "text/html": [
       "<html>\\(\\displaystyle -p_{2}^{2} + p_{1} p_{3} - p_{2} p_{3} - p_{2} p_{4} - p_{2} p_{5} - p_{2} p_{6}\\)</html>"
      ],
      "text/latex": [
       "$\\displaystyle -p_{2}^{2} + p_{1} p_{3} - p_{2} p_{3} - p_{2} p_{4} - p_{2} p_{5} - p_{2} p_{6}$"
      ],
      "text/plain": [
       "-p2^2 + p1*p3 - p2*p3 - p2*p4 - p2*p5 - p2*p6"
      ]
     },
     "metadata": {},
     "output_type": "display_data"
    },
    {
     "data": {
      "text/html": [
       "<html>\\(\\displaystyle -p_{2} p_{4} - p_{3} p_{4} - p_{4}^{2} + p_{1} p_{5} - p_{4} p_{5} - p_{4} p_{6}\\)</html>"
      ],
      "text/latex": [
       "$\\displaystyle -p_{2} p_{4} - p_{3} p_{4} - p_{4}^{2} + p_{1} p_{5} - p_{4} p_{5} - p_{4} p_{6}$"
      ],
      "text/plain": [
       "-p2*p4 - p3*p4 - p4^2 + p1*p5 - p4*p5 - p4*p6"
      ]
     },
     "metadata": {},
     "output_type": "display_data"
    },
    {
     "data": {
      "text/html": [
       "<html>\\(\\displaystyle -p_{3} p_{4} + p_{2} p_{5}\\)</html>"
      ],
      "text/latex": [
       "$\\displaystyle -p_{3} p_{4} + p_{2} p_{5}$"
      ],
      "text/plain": [
       "-p3*p4 + p2*p5"
      ]
     },
     "metadata": {},
     "output_type": "display_data"
    },
    {
     "data": {
      "text/html": [
       "<html>\\(\\displaystyle p_{1} p_{7} + p_{2} p_{7} + p_{3} p_{7} + p_{4} p_{7} + p_{5} p_{7} + p_{6} p_{7} + p_{7}^{2} - p_{1} p_{9}\\)</html>"
      ],
      "text/latex": [
       "$\\displaystyle p_{1} p_{7} + p_{2} p_{7} + p_{3} p_{7} + p_{4} p_{7} + p_{5} p_{7} + p_{6} p_{7} + p_{7}^{2} - p_{1} p_{9}$"
      ],
      "text/plain": [
       "p1*p7 + p2*p7 + p3*p7 + p4*p7 + p5*p7 + p6*p7 + p7^2 - p1*p9"
      ]
     },
     "metadata": {},
     "output_type": "display_data"
    },
    {
     "data": {
      "text/html": [
       "<html>\\(\\displaystyle p_{1} p_{4} + p_{2} p_{4} + p_{3} p_{4} + p_{4}^{2} + p_{1} p_{5} + p_{2} p_{5} + p_{3} p_{5} + 2 p_{4} p_{5} + p_{5}^{2} + p_{1} p_{6} + p_{2} p_{6} + p_{3} p_{6} + 2 p_{4} p_{6} + 2 p_{5} p_{6} + p_{6}^{2} + p_{4} p_{7} + p_{5} p_{7} + p_{6} p_{7} - p_{2} p_{9}\\)</html>"
      ],
      "text/latex": [
       "$\\displaystyle p_{1} p_{4} + p_{2} p_{4} + p_{3} p_{4} + p_{4}^{2} + p_{1} p_{5} + p_{2} p_{5} + p_{3} p_{5} + 2 p_{4} p_{5} + p_{5}^{2} + p_{1} p_{6} + p_{2} p_{6} + p_{3} p_{6} + 2 p_{4} p_{6} + 2 p_{5} p_{6} + p_{6}^{2} + p_{4} p_{7} + p_{5} p_{7} + p_{6} p_{7} - p_{2} p_{9}$"
      ],
      "text/plain": [
       "p1*p4 + p2*p4 + p3*p4 + p4^2 + p1*p5 + p2*p5 + p3*p5 + 2*p4*p5 + p5^2 + p1*p6 + p2*p6 + p3*p6 + 2*p4*p6 + 2*p5*p6 + p6^2 + p4*p7 + p5*p7 + p6*p7 - p2*p9"
      ]
     },
     "metadata": {},
     "output_type": "display_data"
    },
    {
     "data": {
      "text/html": [
       "<html>\\(\\displaystyle p_{1} p_{6} + p_{2} p_{6} + p_{3} p_{6} + p_{4} p_{6} + p_{5} p_{6} + p_{6}^{2} + p_{6} p_{7} - p_{4} p_{9}\\)</html>"
      ],
      "text/latex": [
       "$\\displaystyle p_{1} p_{6} + p_{2} p_{6} + p_{3} p_{6} + p_{4} p_{6} + p_{5} p_{6} + p_{6}^{2} + p_{6} p_{7} - p_{4} p_{9}$"
      ],
      "text/plain": [
       "p1*p6 + p2*p6 + p3*p6 + p4*p6 + p5*p6 + p6^2 + p6*p7 - p4*p9"
      ]
     },
     "metadata": {},
     "output_type": "display_data"
    },
    {
     "data": {
      "text/html": [
       "<html>\\(\\displaystyle p_{1} p_{4} + p_{1} p_{5} + p_{1} p_{6} - p_{2} p_{7}\\)</html>"
      ],
      "text/latex": [
       "$\\displaystyle p_{1} p_{4} + p_{1} p_{5} + p_{1} p_{6} - p_{2} p_{7}$"
      ],
      "text/plain": [
       "p1*p4 + p1*p5 + p1*p6 - p2*p7"
      ]
     },
     "metadata": {},
     "output_type": "display_data"
    },
    {
     "data": {
      "text/html": [
       "<html>\\(\\displaystyle p_{1} p_{6} - p_{4} p_{7}\\)</html>"
      ],
      "text/latex": [
       "$\\displaystyle p_{1} p_{6} - p_{4} p_{7}$"
      ],
      "text/plain": [
       "p1*p6 - p4*p7"
      ]
     },
     "metadata": {},
     "output_type": "display_data"
    },
    {
     "data": {
      "text/html": [
       "<html>\\(\\displaystyle -p_{4}^{2} - p_{4} p_{5} + p_{2} p_{6} - p_{4} p_{6}\\)</html>"
      ],
      "text/latex": [
       "$\\displaystyle -p_{4}^{2} - p_{4} p_{5} + p_{2} p_{6} - p_{4} p_{6}$"
      ],
      "text/plain": [
       "-p4^2 - p4*p5 + p2*p6 - p4*p6"
      ]
     },
     "metadata": {},
     "output_type": "display_data"
    },
    {
     "data": {
      "text/html": [
       "<html>\\(\\displaystyle p_{7} p_{8} - p_{2} p_{9} - p_{3} p_{9} - p_{4} p_{9} - p_{5} p_{9} - p_{6} p_{9}\\)</html>"
      ],
      "text/latex": [
       "$\\displaystyle p_{7} p_{8} - p_{2} p_{9} - p_{3} p_{9} - p_{4} p_{9} - p_{5} p_{9} - p_{6} p_{9}$"
      ],
      "text/plain": [
       "p7*p8 - p2*p9 - p3*p9 - p4*p9 - p5*p9 - p6*p9"
      ]
     },
     "metadata": {},
     "output_type": "display_data"
    },
    {
     "data": {
      "text/html": [
       "<html>\\(\\displaystyle p_{4} p_{8} + p_{5} p_{8} + p_{6} p_{8} - p_{3} p_{9}\\)</html>"
      ],
      "text/latex": [
       "$\\displaystyle p_{4} p_{8} + p_{5} p_{8} + p_{6} p_{8} - p_{3} p_{9}$"
      ],
      "text/plain": [
       "p4*p8 + p5*p8 + p6*p8 - p3*p9"
      ]
     },
     "metadata": {},
     "output_type": "display_data"
    },
    {
     "data": {
      "text/html": [
       "<html>\\(\\displaystyle p_{6} p_{8} - p_{5} p_{9}\\)</html>"
      ],
      "text/latex": [
       "$\\displaystyle p_{6} p_{8} - p_{5} p_{9}$"
      ],
      "text/plain": [
       "p6*p8 - p5*p9"
      ]
     },
     "metadata": {},
     "output_type": "display_data"
    },
    {
     "data": {
      "text/html": [
       "<html>\\(\\displaystyle p_{2} p_{4} + p_{3} p_{4} + p_{4}^{2} + p_{2} p_{5} + p_{3} p_{5} + 2 p_{4} p_{5} + p_{5}^{2} + p_{2} p_{6} + p_{3} p_{6} + 2 p_{4} p_{6} + 2 p_{5} p_{6} + p_{6}^{2} - p_{3} p_{7}\\)</html>"
      ],
      "text/latex": [
       "$\\displaystyle p_{2} p_{4} + p_{3} p_{4} + p_{4}^{2} + p_{2} p_{5} + p_{3} p_{5} + 2 p_{4} p_{5} + p_{5}^{2} + p_{2} p_{6} + p_{3} p_{6} + 2 p_{4} p_{6} + 2 p_{5} p_{6} + p_{6}^{2} - p_{3} p_{7}$"
      ],
      "text/plain": [
       "p2*p4 + p3*p4 + p4^2 + p2*p5 + p3*p5 + 2*p4*p5 + p5^2 + p2*p6 + p3*p6 + 2*p4*p6 + 2*p5*p6 + p6^2 - p3*p7"
      ]
     },
     "metadata": {},
     "output_type": "display_data"
    },
    {
     "data": {
      "text/html": [
       "<html>\\(\\displaystyle p_{2} p_{6} + p_{3} p_{6} + p_{4} p_{6} + p_{5} p_{6} + p_{6}^{2} - p_{5} p_{7}\\)</html>"
      ],
      "text/latex": [
       "$\\displaystyle p_{2} p_{6} + p_{3} p_{6} + p_{4} p_{6} + p_{5} p_{6} + p_{6}^{2} - p_{5} p_{7}$"
      ],
      "text/plain": [
       "p2*p6 + p3*p6 + p4*p6 + p5*p6 + p6^2 - p5*p7"
      ]
     },
     "metadata": {},
     "output_type": "display_data"
    },
    {
     "data": {
      "text/html": [
       "<html>\\(\\displaystyle -p_{4} p_{5} - p_{5}^{2} + p_{3} p_{6} - p_{5} p_{6}\\)</html>"
      ],
      "text/latex": [
       "$\\displaystyle -p_{4} p_{5} - p_{5}^{2} + p_{3} p_{6} - p_{5} p_{6}$"
      ],
      "text/plain": [
       "-p4*p5 - p5^2 + p3*p6 - p5*p6"
      ]
     },
     "metadata": {},
     "output_type": "display_data"
    }
   ],
   "source": [
    "Mat = matrix(R,3,4)\n",
    "Mat[0, 0] = p1 + p2 + p3 + p4 + p5 + p6 + p7\n",
    "Mat[1, 0] = p8\n",
    "Mat[2, 0] = p9\n",
    "\n",
    "Mat[0, 1] = p1\n",
    "Mat[1, 1] = p2 + p3 + p4 + p5 + p6\n",
    "Mat[2, 1] = p7\n",
    "\n",
    "Mat[0, 2] = p2\n",
    "Mat[1, 2] = p3\n",
    "Mat[2, 2] = p4 + p5 + p6\n",
    "\n",
    "Mat[0, 3] = p4\n",
    "Mat[1, 3] = p5\n",
    "Mat[2, 3] = p6\n",
    "gens = Mat.minors(2)\n",
    "# The list 'gens' contains the generators of the ideal\n",
    "for gen in gens:\n",
    "    show(gen)"
   ]
  },
  {
   "cell_type": "markdown",
   "id": "17b80352",
   "metadata": {},
   "source": [
    "## Precalculating global variables\n",
    "\n",
    "We are pre-calculating some values, which are used as global variables in the functions defined in the next block."
   ]
  },
  {
   "cell_type": "code",
   "execution_count": 9,
   "id": "a285e0f1",
   "metadata": {},
   "outputs": [
    {
     "data": {
      "text/plain": [
       "[g11 g12 g13 g14 g15 g16 g17 g18 g19]\n",
       "[g21 g22 g23 g24 g25 g26 g27 g28 g29]\n",
       "[g31 g32 g33 g34 g35 g36 g37 g38 g39]\n",
       "[g41 g42 g43 g44 g45 g46 g47 g48 g49]\n",
       "[g51 g52 g53 g54 g55 g56 g57 g58 g59]\n",
       "[g61 g62 g63 g64 g65 g66 g67 g68 g69]\n",
       "[g71 g72 g73 g74 g75 g76 g77 g78 g79]\n",
       "[g81 g82 g83 g84 g85 g86 g87 g88 g89]\n",
       "[g91 g92 g93 g94 g95 g96 g97 g98 g99]"
      ]
     },
     "execution_count": 9,
     "metadata": {},
     "output_type": "execute_result"
    }
   ],
   "source": [
    "degs = list(WeightedIntegerVectors(2,[1 for i in range(n_vars)]))\n",
    "n_2 = binomial(n_vars+1,2)\n",
    "monomials_2 = [] # It'll contain all monomials of degree 2\n",
    "for d in degs:\n",
    "    mon = 1\n",
    "    for i in range(n_vars):\n",
    "        mon = mon*R.gens()[i]^d[i]\n",
    "    monomials_2.append(mon)\n",
    "gen_index = {} # Setting up variable to its index dictionary. To be used as a global variable in the \"lie_derivative_mono\" function\n",
    "count = 0\n",
    "for i in R.gens():\n",
    "    gen_index[i] = count\n",
    "    count+= 1\n",
    "X = matrix(R,n_vars,1,R.gens()[:n_vars])\n",
    "g = matrix(R,n_vars,n_vars,R.gens()[n_vars:])\n",
    "g # A 9x9 matrix with all variables entries"
   ]
  },
  {
   "cell_type": "code",
   "execution_count": 10,
   "id": "e5c56342",
   "metadata": {},
   "outputs": [],
   "source": [
    "# Defining some functions to be used later in the code\n",
    "def lie_derivative_mono(monomial, g):\n",
    "    '''\n",
    "    Takes a monomial and a matrix with variable entries as inputs, and finds the Lie derivative of the monomial with respect to the variable mtrix.\n",
    "    For more on definition and how to calculate the Lie derivative, consult the paper.\n",
    "    '''\n",
    "    s = 0\n",
    "    for x in monomial.factor():\n",
    "        l = (g[gen_index[x[0]],:]*X)[0,0]\n",
    "        s+= l*R(monomial/x[0])*x[1]\n",
    "    return s\n",
    "\n",
    "def lie_derivative_poly(poly,g):\n",
    "    '''\n",
    "    Takes a polynomial and a matrix with variable entries as inputs, and finds the Lie derivative of the polynomial with respect to the variable mtrix.\n",
    "    For more on definition and how to calculate the Lie derivative, consult the paper.\n",
    "    '''\n",
    "    der = 0\n",
    "    for mon, coef in list(zip(poly.monomials(),poly.coefficients())):\n",
    "        der+= lie_derivative_mono(mon,g)*coef\n",
    "    return der\n",
    "\n",
    "def poly_to_vec(polynomial):\n",
    "    '''\n",
    "    Recall that the degree 2 part of a polynomial ring in 9 variables is a vector space of dimension 45.\n",
    "    This function takes a homogeneous polynomial of degree 2 as input and reurns (a list) the vector representation\n",
    "    of that function in the 45 dimentional vector space as output. The vector representation is with respect to a ordered\n",
    "    basis stored in a list \"monomials_2\". It's treated as a global variable for this function.\n",
    "    '''\n",
    "    vec = [0 for j in range(n_2)]\n",
    "    for i in range(n_2):\n",
    "        vec[i] = polynomial.coefficient(monomials_2[i])\n",
    "    return vec"
   ]
  },
  {
   "cell_type": "markdown",
   "id": "7da7341e",
   "metadata": {},
   "source": [
    "## Calculation reduction\n",
    "\n",
    "First we compute the $19\\times 45$ matrices and store them in the list `matrices`. To calculate the Lie algebra we need to find the equations such that the rank of these matrices is no more than 18. In other words, we need to calculate all the $19\\times19$ minors of these matrices.\n",
    "\n",
    "We realized that some of the matrices in the list `matrices` have zero columns. That's why it is harmless to remove those columns. We do that and store the less redundant matrices in the list `matrices_1`."
   ]
  },
  {
   "cell_type": "code",
   "execution_count": 12,
   "id": "217a9112",
   "metadata": {},
   "outputs": [],
   "source": [
    "gens_vecs = [poly_to_vec(gen) for gen in gens]\n",
    "der_gens_vecs = [poly_to_vec(lie_derivative_poly(gen,g)) for gen in gens]\n",
    "matrices = [matrix(gens_vecs+[i]) for i in der_gens_vecs]\n",
    "matrices_1 = []\n",
    "for M in matrices:\n",
    "    cols = list(range(45))\n",
    "    for i in range(45):\n",
    "        if M[:,i] == 0:\n",
    "            cols.remove(i)\n",
    "    matrices_1.append(M[:,cols])"
   ]
  },
  {
   "cell_type": "code",
   "execution_count": 13,
   "id": "1c62057e",
   "metadata": {},
   "outputs": [
    {
     "name": "stdout",
     "output_type": "stream",
     "text": [
      "(19, 44)\n",
      "(19, 44)\n",
      "(19, 44)\n",
      "(19, 41)\n",
      "(19, 41)\n",
      "(19, 40)\n",
      "(19, 44)\n",
      "(19, 44)\n",
      "(19, 44)\n",
      "(19, 41)\n",
      "(19, 41)\n",
      "(19, 39)\n",
      "(19, 44)\n",
      "(19, 44)\n",
      "(19, 44)\n",
      "(19, 41)\n",
      "(19, 41)\n",
      "(19, 40)\n"
     ]
    }
   ],
   "source": [
    "# Showing the dimensions of the less redundant matrices stored in \"matrices_1\"\n",
    "for m in matrices_1:\n",
    "    print(m.dimensions())"
   ]
  },
  {
   "cell_type": "markdown",
   "id": "ec2e4752",
   "metadata": {},
   "source": [
    "## It's time to compute the equations\n",
    "In the next few blocks we're going to calculate the linear equations defining the _symmetry Lie algebra_.\n",
    "\n",
    "We have 18 equations in 9 variables. That gives us 18 matrices of size $19 \\times 45$. To compute the symmetry Lie algebra, we'd need to find all the $19\\times 19$ minors of these 18 matrices. This process has a lot of redundancies. One redundancy we removed in the previous block, namely, zero columns. That left us with 18 matries of size $19\\times (39 - 44)$.\n",
    "\n",
    "It's not practical to compute all the $19\\times 19$ minors of the 18 matrices of size $19\\times (39-44)$. Here is the strategy we'll apply to get around this long calculation.\n",
    "\n",
    "- First we'll look for simplest type of equation. Namely equations which has only one term, like $g_{11}$. Then in all the matrices we'll substitute $g_{11} = 0$.\n",
    "\n",
    "- Next up, we look for equations which are slightly more complicated, namely have two terms. E.g. $\\alpha g_{11} - \\beta g_{22}$. When we find such an equation we substitute $g_{11} = \\frac{\\beta}{\\alpha} g_{22}$ in all the matrices.\n",
    "\n",
    "- Finally we'll look for equations with equations involving three terms, e.g. $\\alpha g_{11} - \\beta g_{22} - \\gamma g_{33}$. Once we find one such, we'll substitute $g_{11} = \\frac{\\beta}{\\alpha} g_{22} +\\frac{\\gamma}{\\alpha} g_{33}$ in all the matrices.\n",
    "\n",
    "We look for all the possible equations, prioritizing equations with one terms over equations with two terms, and equations with two terms over equations with three terms.\n",
    "\n",
    "We'll call the build equations function. In this function we'll pass the list `matrices_1`, the dictionary that'll store the equations, `eqns_dic`, and the dictionary storing random values corresponding to the variables of the ambient polynomial ring `R`. While this function is running, it'll ask the user for inputing the `length` parameter. As the name suggests, the `lenght` parameter is the the desired number of monomials involved in the next equation to look for. We'll prioritize `length = 1` over `length = 2` over `length = 3`."
   ]
  },
  {
   "cell_type": "code",
   "execution_count": 20,
   "id": "8cbad88b",
   "metadata": {},
   "outputs": [],
   "source": [
    "vals = {} # The dictionary \"vals\" contains random rational values corresponding to each variable of the parent polynomial ring \"R\"\n",
    "for i in R.gens():\n",
    "    vals[i] = QQ.random_element(num_bound=10^3, den_bound=10^3)\n",
    "# Initiating the dictionary to that'll store the equations\n",
    "eqns_dic = {}"
   ]
  },
  {
   "cell_type": "code",
   "execution_count": 21,
   "id": "72ec42a2",
   "metadata": {},
   "outputs": [
    {
     "name": "stdout",
     "output_type": "stream",
     "text": [
      "Input the lenght parameter (an integer between 0 and 4):1\n",
      "Working with matrix 1\n"
     ]
    },
    {
     "data": {
      "text/html": [
       "<html>\\(\\displaystyle -3 g_{19}\\)</html>"
      ],
      "text/latex": [
       "$\\displaystyle -3 g_{19}$"
      ],
      "text/plain": [
       "-3*g19"
      ]
     },
     "metadata": {},
     "output_type": "display_data"
    },
    {
     "name": "stdout",
     "output_type": "stream",
     "text": [
      "Would you like to accept this equation? ([Y]/N): y\n",
      "eqns_dic = \n"
     ]
    },
    {
     "data": {
      "text/html": [
       "<html>\\(\\displaystyle \\left\\{g_{19} : 0\\right\\}\\)</html>"
      ],
      "text/latex": [
       "$\\displaystyle \\left\\{g_{19} : 0\\right\\}$"
      ],
      "text/plain": [
       "{g19: 0}"
      ]
     },
     "metadata": {},
     "output_type": "display_data"
    },
    {
     "name": "stdout",
     "output_type": "stream",
     "text": [
      "Input the lenght parameter (an integer between 0 and 4):1\n",
      "Working with matrix 1\n"
     ]
    },
    {
     "data": {
      "text/html": [
       "<html>\\(\\displaystyle -g_{18}\\)</html>"
      ],
      "text/latex": [
       "$\\displaystyle -g_{18}$"
      ],
      "text/plain": [
       "-g18"
      ]
     },
     "metadata": {},
     "output_type": "display_data"
    },
    {
     "name": "stdout",
     "output_type": "stream",
     "text": [
      "Would you like to accept this equation? ([Y]/N): y\n",
      "eqns_dic = \n"
     ]
    },
    {
     "data": {
      "text/html": [
       "<html>\\(\\displaystyle \\left\\{g_{19} : 0, g_{18} : 0\\right\\}\\)</html>"
      ],
      "text/latex": [
       "$\\displaystyle \\left\\{g_{19} : 0, g_{18} : 0\\right\\}$"
      ],
      "text/plain": [
       "{g19: 0, g18: 0}"
      ]
     },
     "metadata": {},
     "output_type": "display_data"
    },
    {
     "name": "stdout",
     "output_type": "stream",
     "text": [
      "Input the lenght parameter (an integer between 0 and 4):1\n",
      "Working with matrix 1\n",
      "No equation found of desired length.\n",
      "Working with matrix 2\n"
     ]
    },
    {
     "data": {
      "text/html": [
       "<html>\\(\\displaystyle 2 g_{39}\\)</html>"
      ],
      "text/latex": [
       "$\\displaystyle 2 g_{39}$"
      ],
      "text/plain": [
       "2*g39"
      ]
     },
     "metadata": {},
     "output_type": "display_data"
    },
    {
     "name": "stdout",
     "output_type": "stream",
     "text": [
      "Would you like to accept this equation? ([Y]/N): y\n",
      "eqns_dic = \n"
     ]
    },
    {
     "data": {
      "text/html": [
       "<html>\\(\\displaystyle \\left\\{g_{19} : 0, g_{18} : 0, g_{39} : 0\\right\\}\\)</html>"
      ],
      "text/latex": [
       "$\\displaystyle \\left\\{g_{19} : 0, g_{18} : 0, g_{39} : 0\\right\\}$"
      ],
      "text/plain": [
       "{g19: 0, g18: 0, g39: 0}"
      ]
     },
     "metadata": {},
     "output_type": "display_data"
    },
    {
     "name": "stdout",
     "output_type": "stream",
     "text": [
      "Input the lenght parameter (an integer between 0 and 4):1\n",
      "Working with matrix 1\n",
      "No equation found of desired length.\n",
      "Working with matrix 2\n"
     ]
    },
    {
     "data": {
      "text/html": [
       "<html>\\(\\displaystyle -2 g_{31}\\)</html>"
      ],
      "text/latex": [
       "$\\displaystyle -2 g_{31}$"
      ],
      "text/plain": [
       "-2*g31"
      ]
     },
     "metadata": {},
     "output_type": "display_data"
    },
    {
     "name": "stdout",
     "output_type": "stream",
     "text": [
      "Would you like to accept this equation? ([Y]/N): y\n",
      "eqns_dic = \n"
     ]
    },
    {
     "data": {
      "text/html": [
       "<html>\\(\\displaystyle \\left\\{g_{19} : 0, g_{18} : 0, g_{39} : 0, g_{31} : 0\\right\\}\\)</html>"
      ],
      "text/latex": [
       "$\\displaystyle \\left\\{g_{19} : 0, g_{18} : 0, g_{39} : 0, g_{31} : 0\\right\\}$"
      ],
      "text/plain": [
       "{g19: 0, g18: 0, g39: 0, g31: 0}"
      ]
     },
     "metadata": {},
     "output_type": "display_data"
    },
    {
     "name": "stdout",
     "output_type": "stream",
     "text": [
      "Input the lenght parameter (an integer between 0 and 4):1\n",
      "Working with matrix 1\n",
      "No equation found of desired length.\n",
      "Working with matrix 2\n"
     ]
    },
    {
     "data": {
      "text/html": [
       "<html>\\(\\displaystyle -g_{29}\\)</html>"
      ],
      "text/latex": [
       "$\\displaystyle -g_{29}$"
      ],
      "text/plain": [
       "-g29"
      ]
     },
     "metadata": {},
     "output_type": "display_data"
    },
    {
     "name": "stdout",
     "output_type": "stream",
     "text": [
      "Would you like to accept this equation? ([Y]/N): y\n",
      "eqns_dic = \n"
     ]
    },
    {
     "data": {
      "text/html": [
       "<html>\\(\\displaystyle \\left\\{g_{19} : 0, g_{18} : 0, g_{39} : 0, g_{31} : 0, g_{29} : 0\\right\\}\\)</html>"
      ],
      "text/latex": [
       "$\\displaystyle \\left\\{g_{19} : 0, g_{18} : 0, g_{39} : 0, g_{31} : 0, g_{29} : 0\\right\\}$"
      ],
      "text/plain": [
       "{g19: 0, g18: 0, g39: 0, g31: 0, g29: 0}"
      ]
     },
     "metadata": {},
     "output_type": "display_data"
    },
    {
     "name": "stdout",
     "output_type": "stream",
     "text": [
      "Input the lenght parameter (an integer between 0 and 4):1\n",
      "Working with matrix 1\n",
      "No equation found of desired length.\n",
      "Working with matrix 2\n"
     ]
    },
    {
     "data": {
      "text/html": [
       "<html>\\(\\displaystyle g_{37}\\)</html>"
      ],
      "text/latex": [
       "$\\displaystyle g_{37}$"
      ],
      "text/plain": [
       "g37"
      ]
     },
     "metadata": {},
     "output_type": "display_data"
    },
    {
     "name": "stdout",
     "output_type": "stream",
     "text": [
      "Would you like to accept this equation? ([Y]/N): y\n",
      "eqns_dic = \n"
     ]
    },
    {
     "data": {
      "text/html": [
       "<html>\\(\\displaystyle \\left\\{g_{19} : 0, g_{18} : 0, g_{39} : 0, g_{31} : 0, g_{29} : 0, g_{37} : 0\\right\\}\\)</html>"
      ],
      "text/latex": [
       "$\\displaystyle \\left\\{g_{19} : 0, g_{18} : 0, g_{39} : 0, g_{31} : 0, g_{29} : 0, g_{37} : 0\\right\\}$"
      ],
      "text/plain": [
       "{g19: 0, g18: 0, g39: 0, g31: 0, g29: 0, g37: 0}"
      ]
     },
     "metadata": {},
     "output_type": "display_data"
    },
    {
     "name": "stdout",
     "output_type": "stream",
     "text": [
      "Input the lenght parameter (an integer between 0 and 4):1\n",
      "Working with matrix 1\n",
      "No equation found of desired length.\n",
      "Working with matrix 2\n"
     ]
    },
    {
     "data": {
      "text/html": [
       "<html>\\(\\displaystyle -g_{28}\\)</html>"
      ],
      "text/latex": [
       "$\\displaystyle -g_{28}$"
      ],
      "text/plain": [
       "-g28"
      ]
     },
     "metadata": {},
     "output_type": "display_data"
    },
    {
     "name": "stdout",
     "output_type": "stream",
     "text": [
      "Would you like to accept this equation? ([Y]/N): y\n",
      "eqns_dic = \n"
     ]
    },
    {
     "data": {
      "text/html": [
       "<html>\\(\\displaystyle \\left\\{g_{19} : 0, g_{18} : 0, g_{39} : 0, g_{31} : 0, g_{29} : 0, g_{37} : 0, g_{28} : 0\\right\\}\\)</html>"
      ],
      "text/latex": [
       "$\\displaystyle \\left\\{g_{19} : 0, g_{18} : 0, g_{39} : 0, g_{31} : 0, g_{29} : 0, g_{37} : 0, g_{28} : 0\\right\\}$"
      ],
      "text/plain": [
       "{g19: 0, g18: 0, g39: 0, g31: 0, g29: 0, g37: 0, g28: 0}"
      ]
     },
     "metadata": {},
     "output_type": "display_data"
    },
    {
     "name": "stdout",
     "output_type": "stream",
     "text": [
      "Input the lenght parameter (an integer between 0 and 4):1\n",
      "Working with matrix 1\n",
      "No equation found of desired length.\n",
      "Working with matrix 2\n",
      "No equation found of desired length.\n",
      "Working with matrix 3\n"
     ]
    },
    {
     "data": {
      "text/html": [
       "<html>\\(\\displaystyle -g_{48}\\)</html>"
      ],
      "text/latex": [
       "$\\displaystyle -g_{48}$"
      ],
      "text/plain": [
       "-g48"
      ]
     },
     "metadata": {},
     "output_type": "display_data"
    },
    {
     "name": "stdout",
     "output_type": "stream",
     "text": [
      "Would you like to accept this equation? ([Y]/N): y\n",
      "eqns_dic = \n"
     ]
    },
    {
     "data": {
      "text/html": [
       "<html>\\(\\displaystyle \\left\\{g_{19} : 0, g_{18} : 0, g_{39} : 0, g_{31} : 0, g_{29} : 0, g_{37} : 0, g_{28} : 0, g_{48} : 0\\right\\}\\)</html>"
      ],
      "text/latex": [
       "$\\displaystyle \\left\\{g_{19} : 0, g_{18} : 0, g_{39} : 0, g_{31} : 0, g_{29} : 0, g_{37} : 0, g_{28} : 0, g_{48} : 0\\right\\}$"
      ],
      "text/plain": [
       "{g19: 0, g18: 0, g39: 0, g31: 0, g29: 0, g37: 0, g28: 0, g48: 0}"
      ]
     },
     "metadata": {},
     "output_type": "display_data"
    },
    {
     "name": "stdout",
     "output_type": "stream",
     "text": [
      "Input the lenght parameter (an integer between 0 and 4):1\n",
      "Working with matrix 1\n",
      "No equation found of desired length.\n",
      "Working with matrix 2\n",
      "No equation found of desired length.\n",
      "Working with matrix 3\n"
     ]
    },
    {
     "data": {
      "text/html": [
       "<html>\\(\\displaystyle g_{51}\\)</html>"
      ],
      "text/latex": [
       "$\\displaystyle g_{51}$"
      ],
      "text/plain": [
       "g51"
      ]
     },
     "metadata": {},
     "output_type": "display_data"
    },
    {
     "name": "stdout",
     "output_type": "stream",
     "text": [
      "Would you like to accept this equation? ([Y]/N): y\n",
      "eqns_dic = \n"
     ]
    },
    {
     "data": {
      "text/html": [
       "<html>\\(\\displaystyle \\left\\{g_{19} : 0, g_{18} : 0, g_{39} : 0, g_{31} : 0, g_{29} : 0, g_{37} : 0, g_{28} : 0, g_{48} : 0, g_{51} : 0\\right\\}\\)</html>"
      ],
      "text/latex": [
       "$\\displaystyle \\left\\{g_{19} : 0, g_{18} : 0, g_{39} : 0, g_{31} : 0, g_{29} : 0, g_{37} : 0, g_{28} : 0, g_{48} : 0, g_{51} : 0\\right\\}$"
      ],
      "text/plain": [
       "{g19: 0, g18: 0, g39: 0, g31: 0, g29: 0, g37: 0, g28: 0, g48: 0, g51: 0}"
      ]
     },
     "metadata": {},
     "output_type": "display_data"
    },
    {
     "name": "stdout",
     "output_type": "stream",
     "text": [
      "Input the lenght parameter (an integer between 0 and 4):1\n",
      "Working with matrix 1\n",
      "No equation found of desired length.\n",
      "Working with matrix 2\n",
      "No equation found of desired length.\n",
      "Working with matrix 3\n"
     ]
    },
    {
     "data": {
      "text/html": [
       "<html>\\(\\displaystyle -g_{59}\\)</html>"
      ],
      "text/latex": [
       "$\\displaystyle -g_{59}$"
      ],
      "text/plain": [
       "-g59"
      ]
     },
     "metadata": {},
     "output_type": "display_data"
    },
    {
     "name": "stdout",
     "output_type": "stream",
     "text": [
      "Would you like to accept this equation? ([Y]/N): y\n",
      "eqns_dic = \n"
     ]
    },
    {
     "data": {
      "text/html": [
       "<html>\\(\\displaystyle \\left\\{g_{19} : 0, g_{18} : 0, g_{39} : 0, g_{31} : 0, g_{29} : 0, g_{37} : 0, g_{28} : 0, g_{48} : 0, g_{51} : 0, g_{59} : 0\\right\\}\\)</html>"
      ],
      "text/latex": [
       "$\\displaystyle \\left\\{g_{19} : 0, g_{18} : 0, g_{39} : 0, g_{31} : 0, g_{29} : 0, g_{37} : 0, g_{28} : 0, g_{48} : 0, g_{51} : 0, g_{59} : 0\\right\\}$"
      ],
      "text/plain": [
       "{g19: 0,\n",
       " g18: 0,\n",
       " g39: 0,\n",
       " g31: 0,\n",
       " g29: 0,\n",
       " g37: 0,\n",
       " g28: 0,\n",
       " g48: 0,\n",
       " g51: 0,\n",
       " g59: 0}"
      ]
     },
     "metadata": {},
     "output_type": "display_data"
    },
    {
     "name": "stdout",
     "output_type": "stream",
     "text": [
      "Input the lenght parameter (an integer between 0 and 4):1\n",
      "Working with matrix 1\n",
      "No equation found of desired length.\n",
      "Working with matrix 2\n",
      "No equation found of desired length.\n",
      "Working with matrix 3\n"
     ]
    },
    {
     "data": {
      "text/html": [
       "<html>\\(\\displaystyle g_{57}\\)</html>"
      ],
      "text/latex": [
       "$\\displaystyle g_{57}$"
      ],
      "text/plain": [
       "g57"
      ]
     },
     "metadata": {},
     "output_type": "display_data"
    },
    {
     "name": "stdout",
     "output_type": "stream",
     "text": [
      "Would you like to accept this equation? ([Y]/N): y\n",
      "eqns_dic = \n"
     ]
    },
    {
     "data": {
      "text/html": [
       "<html>\\(\\displaystyle \\left\\{g_{19} : 0, g_{18} : 0, g_{39} : 0, g_{31} : 0, g_{29} : 0, g_{37} : 0, g_{28} : 0, g_{48} : 0, g_{51} : 0, g_{59} : 0, g_{57} : 0\\right\\}\\)</html>"
      ],
      "text/latex": [
       "$\\displaystyle \\left\\{g_{19} : 0, g_{18} : 0, g_{39} : 0, g_{31} : 0, g_{29} : 0, g_{37} : 0, g_{28} : 0, g_{48} : 0, g_{51} : 0, g_{59} : 0, g_{57} : 0\\right\\}$"
      ],
      "text/plain": [
       "{g19: 0,\n",
       " g18: 0,\n",
       " g39: 0,\n",
       " g31: 0,\n",
       " g29: 0,\n",
       " g37: 0,\n",
       " g28: 0,\n",
       " g48: 0,\n",
       " g51: 0,\n",
       " g59: 0,\n",
       " g57: 0}"
      ]
     },
     "metadata": {},
     "output_type": "display_data"
    },
    {
     "name": "stdout",
     "output_type": "stream",
     "text": [
      "Input the lenght parameter (an integer between 0 and 4):1\n",
      "Working with matrix 1\n",
      "No equation found of desired length.\n",
      "Working with matrix 2\n",
      "No equation found of desired length.\n",
      "Working with matrix 3\n"
     ]
    },
    {
     "data": {
      "text/html": [
       "<html>\\(\\displaystyle g_{49}\\)</html>"
      ],
      "text/latex": [
       "$\\displaystyle g_{49}$"
      ],
      "text/plain": [
       "g49"
      ]
     },
     "metadata": {},
     "output_type": "display_data"
    },
    {
     "name": "stdout",
     "output_type": "stream",
     "text": [
      "Would you like to accept this equation? ([Y]/N): y\n",
      "eqns_dic = \n"
     ]
    },
    {
     "data": {
      "text/html": [
       "<html>\\(\\displaystyle \\left\\{g_{19} : 0, g_{18} : 0, g_{39} : 0, g_{31} : 0, g_{29} : 0, g_{37} : 0, g_{28} : 0, g_{48} : 0, g_{51} : 0, g_{59} : 0, g_{57} : 0, g_{49} : 0\\right\\}\\)</html>"
      ],
      "text/latex": [
       "$\\displaystyle \\left\\{g_{19} : 0, g_{18} : 0, g_{39} : 0, g_{31} : 0, g_{29} : 0, g_{37} : 0, g_{28} : 0, g_{48} : 0, g_{51} : 0, g_{59} : 0, g_{57} : 0, g_{49} : 0\\right\\}$"
      ],
      "text/plain": [
       "{g19: 0,\n",
       " g18: 0,\n",
       " g39: 0,\n",
       " g31: 0,\n",
       " g29: 0,\n",
       " g37: 0,\n",
       " g28: 0,\n",
       " g48: 0,\n",
       " g51: 0,\n",
       " g59: 0,\n",
       " g57: 0,\n",
       " g49: 0}"
      ]
     },
     "metadata": {},
     "output_type": "display_data"
    },
    {
     "name": "stdout",
     "output_type": "stream",
     "text": [
      "Input the lenght parameter (an integer between 0 and 4):1\n",
      "Working with matrix 1\n"
     ]
    },
    {
     "data": {
      "text/html": [
       "<html>\\(\\displaystyle 2 g_{69}\\)</html>"
      ],
      "text/latex": [
       "$\\displaystyle 2 g_{69}$"
      ],
      "text/plain": [
       "2*g69"
      ]
     },
     "metadata": {},
     "output_type": "display_data"
    },
    {
     "name": "stdout",
     "output_type": "stream",
     "text": [
      "Would you like to accept this equation? ([Y]/N): y\n",
      "eqns_dic = \n"
     ]
    },
    {
     "data": {
      "text/html": [
       "<html>\\(\\displaystyle \\left\\{g_{19} : 0, g_{18} : 0, g_{39} : 0, g_{31} : 0, g_{29} : 0, g_{37} : 0, g_{28} : 0, g_{48} : 0, g_{51} : 0, g_{59} : 0, g_{57} : 0, g_{49} : 0, g_{69} : 0\\right\\}\\)</html>"
      ],
      "text/latex": [
       "$\\displaystyle \\left\\{g_{19} : 0, g_{18} : 0, g_{39} : 0, g_{31} : 0, g_{29} : 0, g_{37} : 0, g_{28} : 0, g_{48} : 0, g_{51} : 0, g_{59} : 0, g_{57} : 0, g_{49} : 0, g_{69} : 0\\right\\}$"
      ],
      "text/plain": [
       "{g19: 0,\n",
       " g18: 0,\n",
       " g39: 0,\n",
       " g31: 0,\n",
       " g29: 0,\n",
       " g37: 0,\n",
       " g28: 0,\n",
       " g48: 0,\n",
       " g51: 0,\n",
       " g59: 0,\n",
       " g57: 0,\n",
       " g49: 0,\n",
       " g69: 0}"
      ]
     },
     "metadata": {},
     "output_type": "display_data"
    },
    {
     "name": "stdout",
     "output_type": "stream",
     "text": [
      "Input the lenght parameter (an integer between 0 and 4):1\n",
      "Working with matrix 1\n",
      "No equation found of desired length.\n",
      "Working with matrix 2\n",
      "No equation found of desired length.\n",
      "Working with matrix 3\n",
      "No equation found of desired length.\n",
      "Working with matrix 4\n",
      "No equation found of desired length.\n",
      "Working with matrix 5\n",
      "No equation found of desired length.\n",
      "Working with matrix 6\n",
      "No equation found of desired length.\n",
      "Working with matrix 7\n"
     ]
    },
    {
     "data": {
      "text/html": [
       "<html>\\(\\displaystyle g_{78}\\)</html>"
      ],
      "text/latex": [
       "$\\displaystyle g_{78}$"
      ],
      "text/plain": [
       "g78"
      ]
     },
     "metadata": {},
     "output_type": "display_data"
    },
    {
     "name": "stdout",
     "output_type": "stream",
     "text": [
      "Would you like to accept this equation? ([Y]/N): y\n",
      "eqns_dic = \n"
     ]
    },
    {
     "data": {
      "text/html": [
       "<html>\\(\\displaystyle \\left\\{g_{19} : 0, g_{18} : 0, g_{39} : 0, g_{31} : 0, g_{29} : 0, g_{37} : 0, g_{28} : 0, g_{48} : 0, g_{51} : 0, g_{59} : 0, g_{57} : 0, g_{49} : 0, g_{69} : 0, g_{78} : 0\\right\\}\\)</html>"
      ],
      "text/latex": [
       "$\\displaystyle \\left\\{g_{19} : 0, g_{18} : 0, g_{39} : 0, g_{31} : 0, g_{29} : 0, g_{37} : 0, g_{28} : 0, g_{48} : 0, g_{51} : 0, g_{59} : 0, g_{57} : 0, g_{49} : 0, g_{69} : 0, g_{78} : 0\\right\\}$"
      ],
      "text/plain": [
       "{g19: 0,\n",
       " g18: 0,\n",
       " g39: 0,\n",
       " g31: 0,\n",
       " g29: 0,\n",
       " g37: 0,\n",
       " g28: 0,\n",
       " g48: 0,\n",
       " g51: 0,\n",
       " g59: 0,\n",
       " g57: 0,\n",
       " g49: 0,\n",
       " g69: 0,\n",
       " g78: 0}"
      ]
     },
     "metadata": {},
     "output_type": "display_data"
    },
    {
     "name": "stdout",
     "output_type": "stream",
     "text": [
      "Input the lenght parameter (an integer between 0 and 4):1\n",
      "Working with matrix 1\n",
      "No equation found of desired length.\n",
      "Working with matrix 2\n",
      "No equation found of desired length.\n",
      "Working with matrix 3\n",
      "No equation found of desired length.\n",
      "Working with matrix 4\n",
      "No equation found of desired length.\n",
      "Working with matrix 5\n",
      "No equation found of desired length.\n",
      "Working with matrix 6\n",
      "No equation found of desired length.\n",
      "Working with matrix 7\n",
      "No equation found of desired length.\n",
      "Working with matrix 8\n"
     ]
    },
    {
     "data": {
      "text/html": [
       "<html>\\(\\displaystyle g_{27}\\)</html>"
      ],
      "text/latex": [
       "$\\displaystyle g_{27}$"
      ],
      "text/plain": [
       "g27"
      ]
     },
     "metadata": {},
     "output_type": "display_data"
    },
    {
     "name": "stdout",
     "output_type": "stream",
     "text": [
      "Would you like to accept this equation? ([Y]/N): y\n",
      "eqns_dic = \n"
     ]
    },
    {
     "data": {
      "text/html": [
       "<html>\\(\\displaystyle \\left\\{g_{19} : 0, g_{18} : 0, g_{39} : 0, g_{31} : 0, g_{29} : 0, g_{37} : 0, g_{28} : 0, g_{48} : 0, g_{51} : 0, g_{59} : 0, g_{57} : 0, g_{49} : 0, g_{69} : 0, g_{78} : 0, g_{27} : 0\\right\\}\\)</html>"
      ],
      "text/latex": [
       "$\\displaystyle \\left\\{g_{19} : 0, g_{18} : 0, g_{39} : 0, g_{31} : 0, g_{29} : 0, g_{37} : 0, g_{28} : 0, g_{48} : 0, g_{51} : 0, g_{59} : 0, g_{57} : 0, g_{49} : 0, g_{69} : 0, g_{78} : 0, g_{27} : 0\\right\\}$"
      ],
      "text/plain": [
       "{g19: 0,\n",
       " g18: 0,\n",
       " g39: 0,\n",
       " g31: 0,\n",
       " g29: 0,\n",
       " g37: 0,\n",
       " g28: 0,\n",
       " g48: 0,\n",
       " g51: 0,\n",
       " g59: 0,\n",
       " g57: 0,\n",
       " g49: 0,\n",
       " g69: 0,\n",
       " g78: 0,\n",
       " g27: 0}"
      ]
     },
     "metadata": {},
     "output_type": "display_data"
    },
    {
     "name": "stdout",
     "output_type": "stream",
     "text": [
      "Input the lenght parameter (an integer between 0 and 4):1\n",
      "Working with matrix 1\n",
      "No equation found of desired length.\n",
      "Working with matrix 2\n"
     ]
    },
    {
     "data": {
      "text/html": [
       "<html>\\(\\displaystyle -g_{38}\\)</html>"
      ],
      "text/latex": [
       "$\\displaystyle -g_{38}$"
      ],
      "text/plain": [
       "-g38"
      ]
     },
     "metadata": {},
     "output_type": "display_data"
    },
    {
     "name": "stdout",
     "output_type": "stream",
     "text": [
      "Would you like to accept this equation? ([Y]/N): y\n",
      "eqns_dic = \n"
     ]
    },
    {
     "data": {
      "text/html": [
       "<html>\\(\\displaystyle \\left\\{g_{19} : 0, g_{18} : 0, g_{39} : 0, g_{31} : 0, g_{29} : 0, g_{37} : 0, g_{28} : 0, g_{48} : 0, g_{51} : 0, g_{59} : 0, g_{57} : 0, g_{49} : 0, g_{69} : 0, g_{78} : 0, g_{27} : 0, g_{38} : 0\\right\\}\\)</html>"
      ],
      "text/latex": [
       "$\\displaystyle \\left\\{g_{19} : 0, g_{18} : 0, g_{39} : 0, g_{31} : 0, g_{29} : 0, g_{37} : 0, g_{28} : 0, g_{48} : 0, g_{51} : 0, g_{59} : 0, g_{57} : 0, g_{49} : 0, g_{69} : 0, g_{78} : 0, g_{27} : 0, g_{38} : 0\\right\\}$"
      ],
      "text/plain": [
       "{g19: 0,\n",
       " g18: 0,\n",
       " g39: 0,\n",
       " g31: 0,\n",
       " g29: 0,\n",
       " g37: 0,\n",
       " g28: 0,\n",
       " g48: 0,\n",
       " g51: 0,\n",
       " g59: 0,\n",
       " g57: 0,\n",
       " g49: 0,\n",
       " g69: 0,\n",
       " g78: 0,\n",
       " g27: 0,\n",
       " g38: 0}"
      ]
     },
     "metadata": {},
     "output_type": "display_data"
    },
    {
     "name": "stdout",
     "output_type": "stream",
     "text": [
      "Input the lenght parameter (an integer between 0 and 4):1\n",
      "Working with matrix 1\n",
      "No equation found of desired length.\n",
      "Working with matrix 2\n",
      "No equation found of desired length.\n",
      "Working with matrix 3\n",
      "No equation found of desired length.\n",
      "Working with matrix 4\n",
      "No equation found of desired length.\n",
      "Working with matrix 5\n",
      "No equation found of desired length.\n",
      "Working with matrix 6\n",
      "No equation found of desired length.\n",
      "Working with matrix 7\n",
      "No equation found of desired length.\n",
      "Working with matrix 8\n",
      "No equation found of desired length.\n",
      "Working with matrix 9\n"
     ]
    },
    {
     "data": {
      "text/html": [
       "<html>\\(\\displaystyle -2 g_{47}\\)</html>"
      ],
      "text/latex": [
       "$\\displaystyle -2 g_{47}$"
      ],
      "text/plain": [
       "-2*g47"
      ]
     },
     "metadata": {},
     "output_type": "display_data"
    },
    {
     "name": "stdout",
     "output_type": "stream",
     "text": [
      "Would you like to accept this equation? ([Y]/N): y\n",
      "eqns_dic = \n"
     ]
    },
    {
     "data": {
      "text/html": [
       "<html>\\(\\displaystyle \\left\\{g_{19} : 0, g_{18} : 0, g_{39} : 0, g_{31} : 0, g_{29} : 0, g_{37} : 0, g_{28} : 0, g_{48} : 0, g_{51} : 0, g_{59} : 0, g_{57} : 0, g_{49} : 0, g_{69} : 0, g_{78} : 0, g_{27} : 0, g_{38} : 0, g_{47} : 0\\right\\}\\)</html>"
      ],
      "text/latex": [
       "$\\displaystyle \\left\\{g_{19} : 0, g_{18} : 0, g_{39} : 0, g_{31} : 0, g_{29} : 0, g_{37} : 0, g_{28} : 0, g_{48} : 0, g_{51} : 0, g_{59} : 0, g_{57} : 0, g_{49} : 0, g_{69} : 0, g_{78} : 0, g_{27} : 0, g_{38} : 0, g_{47} : 0\\right\\}$"
      ],
      "text/plain": [
       "{g19: 0,\n",
       " g18: 0,\n",
       " g39: 0,\n",
       " g31: 0,\n",
       " g29: 0,\n",
       " g37: 0,\n",
       " g28: 0,\n",
       " g48: 0,\n",
       " g51: 0,\n",
       " g59: 0,\n",
       " g57: 0,\n",
       " g49: 0,\n",
       " g69: 0,\n",
       " g78: 0,\n",
       " g27: 0,\n",
       " g38: 0,\n",
       " g47: 0}"
      ]
     },
     "metadata": {},
     "output_type": "display_data"
    },
    {
     "name": "stdout",
     "output_type": "stream",
     "text": [
      "Input the lenght parameter (an integer between 0 and 4):1\n",
      "Working with matrix 1\n",
      "No equation found of desired length.\n",
      "Working with matrix 2\n",
      "No equation found of desired length.\n",
      "Working with matrix 3\n"
     ]
    },
    {
     "data": {
      "text/html": [
       "<html>\\(\\displaystyle 2 g_{58}\\)</html>"
      ],
      "text/latex": [
       "$\\displaystyle 2 g_{58}$"
      ],
      "text/plain": [
       "2*g58"
      ]
     },
     "metadata": {},
     "output_type": "display_data"
    },
    {
     "name": "stdout",
     "output_type": "stream",
     "text": [
      "Would you like to accept this equation? ([Y]/N): y\n",
      "eqns_dic = \n"
     ]
    },
    {
     "data": {
      "text/html": [
       "<html>\\(\\displaystyle \\left\\{g_{19} : 0, g_{18} : 0, g_{39} : 0, g_{31} : 0, g_{29} : 0, g_{37} : 0, g_{28} : 0, g_{48} : 0, g_{51} : 0, g_{59} : 0, g_{57} : 0, g_{49} : 0, g_{69} : 0, g_{78} : 0, g_{27} : 0, g_{38} : 0, g_{47} : 0, g_{58} : 0\\right\\}\\)</html>"
      ],
      "text/latex": [
       "$\\displaystyle \\left\\{g_{19} : 0, g_{18} : 0, g_{39} : 0, g_{31} : 0, g_{29} : 0, g_{37} : 0, g_{28} : 0, g_{48} : 0, g_{51} : 0, g_{59} : 0, g_{57} : 0, g_{49} : 0, g_{69} : 0, g_{78} : 0, g_{27} : 0, g_{38} : 0, g_{47} : 0, g_{58} : 0\\right\\}$"
      ],
      "text/plain": [
       "{g19: 0,\n",
       " g18: 0,\n",
       " g39: 0,\n",
       " g31: 0,\n",
       " g29: 0,\n",
       " g37: 0,\n",
       " g28: 0,\n",
       " g48: 0,\n",
       " g51: 0,\n",
       " g59: 0,\n",
       " g57: 0,\n",
       " g49: 0,\n",
       " g69: 0,\n",
       " g78: 0,\n",
       " g27: 0,\n",
       " g38: 0,\n",
       " g47: 0,\n",
       " g58: 0}"
      ]
     },
     "metadata": {},
     "output_type": "display_data"
    },
    {
     "name": "stdout",
     "output_type": "stream",
     "text": [
      "Input the lenght parameter (an integer between 0 and 4):1\n",
      "Working with matrix 1\n",
      "No equation found of desired length.\n",
      "Working with matrix 2\n",
      "No equation found of desired length.\n",
      "Working with matrix 3\n"
     ]
    },
    {
     "data": {
      "text/html": [
       "<html>\\(\\displaystyle g_{43}\\)</html>"
      ],
      "text/latex": [
       "$\\displaystyle g_{43}$"
      ],
      "text/plain": [
       "g43"
      ]
     },
     "metadata": {},
     "output_type": "display_data"
    },
    {
     "name": "stdout",
     "output_type": "stream",
     "text": [
      "Would you like to accept this equation? ([Y]/N): y\n",
      "eqns_dic = \n"
     ]
    },
    {
     "data": {
      "text/html": [
       "<html>\\(\\displaystyle \\left\\{g_{19} : 0, g_{18} : 0, g_{39} : 0, g_{31} : 0, g_{29} : 0, g_{37} : 0, g_{28} : 0, g_{48} : 0, g_{51} : 0, g_{59} : 0, g_{57} : 0, g_{49} : 0, g_{69} : 0, g_{78} : 0, g_{27} : 0, g_{38} : 0, g_{47} : 0, g_{58} : 0, g_{43} : 0\\right\\}\\)</html>"
      ],
      "text/latex": [
       "$\\displaystyle \\left\\{g_{19} : 0, g_{18} : 0, g_{39} : 0, g_{31} : 0, g_{29} : 0, g_{37} : 0, g_{28} : 0, g_{48} : 0, g_{51} : 0, g_{59} : 0, g_{57} : 0, g_{49} : 0, g_{69} : 0, g_{78} : 0, g_{27} : 0, g_{38} : 0, g_{47} : 0, g_{58} : 0, g_{43} : 0\\right\\}$"
      ],
      "text/plain": [
       "{g19: 0,\n",
       " g18: 0,\n",
       " g39: 0,\n",
       " g31: 0,\n",
       " g29: 0,\n",
       " g37: 0,\n",
       " g28: 0,\n",
       " g48: 0,\n",
       " g51: 0,\n",
       " g59: 0,\n",
       " g57: 0,\n",
       " g49: 0,\n",
       " g69: 0,\n",
       " g78: 0,\n",
       " g27: 0,\n",
       " g38: 0,\n",
       " g47: 0,\n",
       " g58: 0,\n",
       " g43: 0}"
      ]
     },
     "metadata": {},
     "output_type": "display_data"
    },
    {
     "name": "stdout",
     "output_type": "stream",
     "text": [
      "Input the lenght parameter (an integer between 0 and 4):1\n",
      "Working with matrix 1\n",
      "No equation found of desired length.\n",
      "Working with matrix 2\n",
      "No equation found of desired length.\n",
      "Working with matrix 3\n",
      "No equation found of desired length.\n",
      "Working with matrix 4\n",
      "No equation found of desired length.\n",
      "Working with matrix 5\n",
      "No equation found of desired length.\n",
      "Working with matrix 6\n",
      "No equation found of desired length.\n",
      "Working with matrix 7\n",
      "No equation found of desired length.\n",
      "Working with matrix 8\n"
     ]
    },
    {
     "data": {
      "text/html": [
       "<html>\\(\\displaystyle 2 g_{68}\\)</html>"
      ],
      "text/latex": [
       "$\\displaystyle 2 g_{68}$"
      ],
      "text/plain": [
       "2*g68"
      ]
     },
     "metadata": {},
     "output_type": "display_data"
    },
    {
     "name": "stdout",
     "output_type": "stream",
     "text": [
      "Would you like to accept this equation? ([Y]/N): y\n",
      "eqns_dic = \n"
     ]
    },
    {
     "data": {
      "text/html": [
       "<html>\\(\\displaystyle \\left\\{g_{19} : 0, g_{18} : 0, g_{39} : 0, g_{31} : 0, g_{29} : 0, g_{37} : 0, g_{28} : 0, g_{48} : 0, g_{51} : 0, g_{59} : 0, g_{57} : 0, g_{49} : 0, g_{69} : 0, g_{78} : 0, g_{27} : 0, g_{38} : 0, g_{47} : 0, g_{58} : 0, g_{43} : 0, g_{68} : 0\\right\\}\\)</html>"
      ],
      "text/latex": [
       "$\\displaystyle \\left\\{g_{19} : 0, g_{18} : 0, g_{39} : 0, g_{31} : 0, g_{29} : 0, g_{37} : 0, g_{28} : 0, g_{48} : 0, g_{51} : 0, g_{59} : 0, g_{57} : 0, g_{49} : 0, g_{69} : 0, g_{78} : 0, g_{27} : 0, g_{38} : 0, g_{47} : 0, g_{58} : 0, g_{43} : 0, g_{68} : 0\\right\\}$"
      ],
      "text/plain": [
       "{g19: 0,\n",
       " g18: 0,\n",
       " g39: 0,\n",
       " g31: 0,\n",
       " g29: 0,\n",
       " g37: 0,\n",
       " g28: 0,\n",
       " g48: 0,\n",
       " g51: 0,\n",
       " g59: 0,\n",
       " g57: 0,\n",
       " g49: 0,\n",
       " g69: 0,\n",
       " g78: 0,\n",
       " g27: 0,\n",
       " g38: 0,\n",
       " g47: 0,\n",
       " g58: 0,\n",
       " g43: 0,\n",
       " g68: 0}"
      ]
     },
     "metadata": {},
     "output_type": "display_data"
    },
    {
     "name": "stdout",
     "output_type": "stream",
     "text": [
      "Input the lenght parameter (an integer between 0 and 4):1\n",
      "Working with matrix 1\n"
     ]
    },
    {
     "data": {
      "text/html": [
       "<html>\\(\\displaystyle g_{13}\\)</html>"
      ],
      "text/latex": [
       "$\\displaystyle g_{13}$"
      ],
      "text/plain": [
       "g13"
      ]
     },
     "metadata": {},
     "output_type": "display_data"
    },
    {
     "name": "stdout",
     "output_type": "stream",
     "text": [
      "Would you like to accept this equation? ([Y]/N): y\n",
      "eqns_dic = \n"
     ]
    },
    {
     "data": {
      "text/html": [
       "<html>\\(\\displaystyle \\left\\{g_{19} : 0, g_{18} : 0, g_{39} : 0, g_{31} : 0, g_{29} : 0, g_{37} : 0, g_{28} : 0, g_{48} : 0, g_{51} : 0, g_{59} : 0, g_{57} : 0, g_{49} : 0, g_{69} : 0, g_{78} : 0, g_{27} : 0, g_{38} : 0, g_{47} : 0, g_{58} : 0, g_{43} : 0, g_{68} : 0, g_{13} : 0\\right\\}\\)</html>"
      ],
      "text/latex": [
       "$\\displaystyle \\left\\{g_{19} : 0, g_{18} : 0, g_{39} : 0, g_{31} : 0, g_{29} : 0, g_{37} : 0, g_{28} : 0, g_{48} : 0, g_{51} : 0, g_{59} : 0, g_{57} : 0, g_{49} : 0, g_{69} : 0, g_{78} : 0, g_{27} : 0, g_{38} : 0, g_{47} : 0, g_{58} : 0, g_{43} : 0, g_{68} : 0, g_{13} : 0\\right\\}$"
      ],
      "text/plain": [
       "{g19: 0,\n",
       " g18: 0,\n",
       " g39: 0,\n",
       " g31: 0,\n",
       " g29: 0,\n",
       " g37: 0,\n",
       " g28: 0,\n",
       " g48: 0,\n",
       " g51: 0,\n",
       " g59: 0,\n",
       " g57: 0,\n",
       " g49: 0,\n",
       " g69: 0,\n",
       " g78: 0,\n",
       " g27: 0,\n",
       " g38: 0,\n",
       " g47: 0,\n",
       " g58: 0,\n",
       " g43: 0,\n",
       " g68: 0,\n",
       " g13: 0}"
      ]
     },
     "metadata": {},
     "output_type": "display_data"
    },
    {
     "name": "stdout",
     "output_type": "stream",
     "text": [
      "Input the lenght parameter (an integer between 0 and 4):1\n",
      "Working with matrix 1\n"
     ]
    },
    {
     "data": {
      "text/html": [
       "<html>\\(\\displaystyle 2 g_{16}\\)</html>"
      ],
      "text/latex": [
       "$\\displaystyle 2 g_{16}$"
      ],
      "text/plain": [
       "2*g16"
      ]
     },
     "metadata": {},
     "output_type": "display_data"
    },
    {
     "name": "stdout",
     "output_type": "stream",
     "text": [
      "Would you like to accept this equation? ([Y]/N): y\n",
      "eqns_dic = \n"
     ]
    },
    {
     "data": {
      "text/html": [
       "<html>\\(\\displaystyle \\left\\{g_{19} : 0, g_{18} : 0, g_{39} : 0, g_{31} : 0, g_{29} : 0, g_{37} : 0, g_{28} : 0, g_{48} : 0, g_{51} : 0, g_{59} : 0, g_{57} : 0, g_{49} : 0, g_{69} : 0, g_{78} : 0, g_{27} : 0, g_{38} : 0, g_{47} : 0, g_{58} : 0, g_{43} : 0, g_{68} : 0, g_{13} : 0, g_{16} : 0\\right\\}\\)</html>"
      ],
      "text/latex": [
       "$\\displaystyle \\left\\{g_{19} : 0, g_{18} : 0, g_{39} : 0, g_{31} : 0, g_{29} : 0, g_{37} : 0, g_{28} : 0, g_{48} : 0, g_{51} : 0, g_{59} : 0, g_{57} : 0, g_{49} : 0, g_{69} : 0, g_{78} : 0, g_{27} : 0, g_{38} : 0, g_{47} : 0, g_{58} : 0, g_{43} : 0, g_{68} : 0, g_{13} : 0, g_{16} : 0\\right\\}$"
      ],
      "text/plain": [
       "{g19: 0,\n",
       " g18: 0,\n",
       " g39: 0,\n",
       " g31: 0,\n",
       " g29: 0,\n",
       " g37: 0,\n",
       " g28: 0,\n",
       " g48: 0,\n",
       " g51: 0,\n",
       " g59: 0,\n",
       " g57: 0,\n",
       " g49: 0,\n",
       " g69: 0,\n",
       " g78: 0,\n",
       " g27: 0,\n",
       " g38: 0,\n",
       " g47: 0,\n",
       " g58: 0,\n",
       " g43: 0,\n",
       " g68: 0,\n",
       " g13: 0,\n",
       " g16: 0}"
      ]
     },
     "metadata": {},
     "output_type": "display_data"
    },
    {
     "name": "stdout",
     "output_type": "stream",
     "text": [
      "Input the lenght parameter (an integer between 0 and 4):1\n",
      "Working with matrix 1\n"
     ]
    },
    {
     "data": {
      "text/html": [
       "<html>\\(\\displaystyle -2 g_{15}\\)</html>"
      ],
      "text/latex": [
       "$\\displaystyle -2 g_{15}$"
      ],
      "text/plain": [
       "-2*g15"
      ]
     },
     "metadata": {},
     "output_type": "display_data"
    },
    {
     "name": "stdout",
     "output_type": "stream",
     "text": [
      "Would you like to accept this equation? ([Y]/N): y\n",
      "eqns_dic = \n"
     ]
    },
    {
     "data": {
      "text/html": [
       "<html>\\(\\displaystyle \\left\\{g_{19} : 0, g_{18} : 0, g_{39} : 0, g_{31} : 0, g_{29} : 0, g_{37} : 0, g_{28} : 0, g_{48} : 0, g_{51} : 0, g_{59} : 0, g_{57} : 0, g_{49} : 0, g_{69} : 0, g_{78} : 0, g_{27} : 0, g_{38} : 0, g_{47} : 0, g_{58} : 0, g_{43} : 0, g_{68} : 0, g_{13} : 0, g_{16} : 0, g_{15} : 0\\right\\}\\)</html>"
      ],
      "text/latex": [
       "$\\displaystyle \\left\\{g_{19} : 0, g_{18} : 0, g_{39} : 0, g_{31} : 0, g_{29} : 0, g_{37} : 0, g_{28} : 0, g_{48} : 0, g_{51} : 0, g_{59} : 0, g_{57} : 0, g_{49} : 0, g_{69} : 0, g_{78} : 0, g_{27} : 0, g_{38} : 0, g_{47} : 0, g_{58} : 0, g_{43} : 0, g_{68} : 0, g_{13} : 0, g_{16} : 0, g_{15} : 0\\right\\}$"
      ],
      "text/plain": [
       "{g19: 0,\n",
       " g18: 0,\n",
       " g39: 0,\n",
       " g31: 0,\n",
       " g29: 0,\n",
       " g37: 0,\n",
       " g28: 0,\n",
       " g48: 0,\n",
       " g51: 0,\n",
       " g59: 0,\n",
       " g57: 0,\n",
       " g49: 0,\n",
       " g69: 0,\n",
       " g78: 0,\n",
       " g27: 0,\n",
       " g38: 0,\n",
       " g47: 0,\n",
       " g58: 0,\n",
       " g43: 0,\n",
       " g68: 0,\n",
       " g13: 0,\n",
       " g16: 0,\n",
       " g15: 0}"
      ]
     },
     "metadata": {},
     "output_type": "display_data"
    },
    {
     "name": "stdout",
     "output_type": "stream",
     "text": [
      "Input the lenght parameter (an integer between 0 and 4):1\n",
      "Working with matrix 1\n",
      "No equation found of desired length.\n",
      "Working with matrix 2\n"
     ]
    },
    {
     "data": {
      "text/html": [
       "<html>\\(\\displaystyle -g_{23}\\)</html>"
      ],
      "text/latex": [
       "$\\displaystyle -g_{23}$"
      ],
      "text/plain": [
       "-g23"
      ]
     },
     "metadata": {},
     "output_type": "display_data"
    },
    {
     "name": "stdout",
     "output_type": "stream",
     "text": [
      "Would you like to accept this equation? ([Y]/N): y\n",
      "eqns_dic = \n"
     ]
    },
    {
     "data": {
      "text/html": [
       "<html>\\(\\displaystyle \\left\\{g_{19} : 0, g_{18} : 0, g_{39} : 0, g_{31} : 0, g_{29} : 0, g_{37} : 0, g_{28} : 0, g_{48} : 0, g_{51} : 0, g_{59} : 0, g_{57} : 0, g_{49} : 0, g_{69} : 0, g_{78} : 0, g_{27} : 0, g_{38} : 0, g_{47} : 0, g_{58} : 0, g_{43} : 0, g_{68} : 0, g_{13} : 0, g_{16} : 0, g_{15} : 0, g_{23} : 0\\right\\}\\)</html>"
      ],
      "text/latex": [
       "$\\displaystyle \\left\\{g_{19} : 0, g_{18} : 0, g_{39} : 0, g_{31} : 0, g_{29} : 0, g_{37} : 0, g_{28} : 0, g_{48} : 0, g_{51} : 0, g_{59} : 0, g_{57} : 0, g_{49} : 0, g_{69} : 0, g_{78} : 0, g_{27} : 0, g_{38} : 0, g_{47} : 0, g_{58} : 0, g_{43} : 0, g_{68} : 0, g_{13} : 0, g_{16} : 0, g_{15} : 0, g_{23} : 0\\right\\}$"
      ],
      "text/plain": [
       "{g19: 0,\n",
       " g18: 0,\n",
       " g39: 0,\n",
       " g31: 0,\n",
       " g29: 0,\n",
       " g37: 0,\n",
       " g28: 0,\n",
       " g48: 0,\n",
       " g51: 0,\n",
       " g59: 0,\n",
       " g57: 0,\n",
       " g49: 0,\n",
       " g69: 0,\n",
       " g78: 0,\n",
       " g27: 0,\n",
       " g38: 0,\n",
       " g47: 0,\n",
       " g58: 0,\n",
       " g43: 0,\n",
       " g68: 0,\n",
       " g13: 0,\n",
       " g16: 0,\n",
       " g15: 0,\n",
       " g23: 0}"
      ]
     },
     "metadata": {},
     "output_type": "display_data"
    },
    {
     "name": "stdout",
     "output_type": "stream",
     "text": [
      "Input the lenght parameter (an integer between 0 and 4):4\n",
      "Working with matrix 1\n",
      "You did not enter a value between (excluding) 0 and 4.\n",
      "Reassigning length to 1.\n",
      "No equation found of desired length.\n",
      "Working with matrix 2\n",
      "No equation found of desired length.\n",
      "Working with matrix 3\n"
     ]
    },
    {
     "data": {
      "text/html": [
       "<html>\\(\\displaystyle -2 g_{45}\\)</html>"
      ],
      "text/latex": [
       "$\\displaystyle -2 g_{45}$"
      ],
      "text/plain": [
       "-2*g45"
      ]
     },
     "metadata": {},
     "output_type": "display_data"
    },
    {
     "name": "stdout",
     "output_type": "stream",
     "text": [
      "Would you like to accept this equation? ([Y]/N): y\n",
      "eqns_dic = \n"
     ]
    },
    {
     "data": {
      "text/html": [
       "<html>\\(\\displaystyle \\left\\{g_{19} : 0, g_{18} : 0, g_{39} : 0, g_{31} : 0, g_{29} : 0, g_{37} : 0, g_{28} : 0, g_{48} : 0, g_{51} : 0, g_{59} : 0, g_{57} : 0, g_{49} : 0, g_{69} : 0, g_{78} : 0, g_{27} : 0, g_{38} : 0, g_{47} : 0, g_{58} : 0, g_{43} : 0, g_{68} : 0, g_{13} : 0, g_{16} : 0, g_{15} : 0, g_{23} : 0, g_{45} : 0\\right\\}\\)</html>"
      ],
      "text/latex": [
       "$\\displaystyle \\left\\{g_{19} : 0, g_{18} : 0, g_{39} : 0, g_{31} : 0, g_{29} : 0, g_{37} : 0, g_{28} : 0, g_{48} : 0, g_{51} : 0, g_{59} : 0, g_{57} : 0, g_{49} : 0, g_{69} : 0, g_{78} : 0, g_{27} : 0, g_{38} : 0, g_{47} : 0, g_{58} : 0, g_{43} : 0, g_{68} : 0, g_{13} : 0, g_{16} : 0, g_{15} : 0, g_{23} : 0, g_{45} : 0\\right\\}$"
      ],
      "text/plain": [
       "{g19: 0,\n",
       " g18: 0,\n",
       " g39: 0,\n",
       " g31: 0,\n",
       " g29: 0,\n",
       " g37: 0,\n",
       " g28: 0,\n",
       " g48: 0,\n",
       " g51: 0,\n",
       " g59: 0,\n",
       " g57: 0,\n",
       " g49: 0,\n",
       " g69: 0,\n",
       " g78: 0,\n",
       " g27: 0,\n",
       " g38: 0,\n",
       " g47: 0,\n",
       " g58: 0,\n",
       " g43: 0,\n",
       " g68: 0,\n",
       " g13: 0,\n",
       " g16: 0,\n",
       " g15: 0,\n",
       " g23: 0,\n",
       " g45: 0}"
      ]
     },
     "metadata": {},
     "output_type": "display_data"
    },
    {
     "name": "stdout",
     "output_type": "stream",
     "text": [
      "Input the lenght parameter (an integer between 0 and 4):1\n",
      "Working with matrix 1\n",
      "No equation found of desired length.\n",
      "Working with matrix 2\n",
      "No equation found of desired length.\n",
      "Working with matrix 3\n",
      "No equation found of desired length.\n",
      "Working with matrix 4\n",
      "No equation found of desired length.\n",
      "Working with matrix 5\n",
      "No equation found of desired length.\n",
      "Working with matrix 6\n",
      "No equation found of desired length.\n",
      "Working with matrix 7\n"
     ]
    },
    {
     "data": {
      "text/html": [
       "<html>\\(\\displaystyle 2 g_{79}\\)</html>"
      ],
      "text/latex": [
       "$\\displaystyle 2 g_{79}$"
      ],
      "text/plain": [
       "2*g79"
      ]
     },
     "metadata": {},
     "output_type": "display_data"
    },
    {
     "name": "stdout",
     "output_type": "stream",
     "text": [
      "Would you like to accept this equation? ([Y]/N): y\n",
      "eqns_dic = \n"
     ]
    },
    {
     "data": {
      "text/html": [
       "<html>\\(\\displaystyle \\left\\{g_{19} : 0, g_{18} : 0, g_{39} : 0, g_{31} : 0, g_{29} : 0, g_{37} : 0, g_{28} : 0, g_{48} : 0, g_{51} : 0, g_{59} : 0, g_{57} : 0, g_{49} : 0, g_{69} : 0, g_{78} : 0, g_{27} : 0, g_{38} : 0, g_{47} : 0, g_{58} : 0, g_{43} : 0, g_{68} : 0, g_{13} : 0, g_{16} : 0, g_{15} : 0, g_{23} : 0, g_{45} : 0, g_{79} : 0\\right\\}\\)</html>"
      ],
      "text/latex": [
       "$\\displaystyle \\left\\{g_{19} : 0, g_{18} : 0, g_{39} : 0, g_{31} : 0, g_{29} : 0, g_{37} : 0, g_{28} : 0, g_{48} : 0, g_{51} : 0, g_{59} : 0, g_{57} : 0, g_{49} : 0, g_{69} : 0, g_{78} : 0, g_{27} : 0, g_{38} : 0, g_{47} : 0, g_{58} : 0, g_{43} : 0, g_{68} : 0, g_{13} : 0, g_{16} : 0, g_{15} : 0, g_{23} : 0, g_{45} : 0, g_{79} : 0\\right\\}$"
      ],
      "text/plain": [
       "{g19: 0,\n",
       " g18: 0,\n",
       " g39: 0,\n",
       " g31: 0,\n",
       " g29: 0,\n",
       " g37: 0,\n",
       " g28: 0,\n",
       " g48: 0,\n",
       " g51: 0,\n",
       " g59: 0,\n",
       " g57: 0,\n",
       " g49: 0,\n",
       " g69: 0,\n",
       " g78: 0,\n",
       " g27: 0,\n",
       " g38: 0,\n",
       " g47: 0,\n",
       " g58: 0,\n",
       " g43: 0,\n",
       " g68: 0,\n",
       " g13: 0,\n",
       " g16: 0,\n",
       " g15: 0,\n",
       " g23: 0,\n",
       " g45: 0,\n",
       " g79: 0}"
      ]
     },
     "metadata": {},
     "output_type": "display_data"
    },
    {
     "name": "stdout",
     "output_type": "stream",
     "text": [
      "Input the lenght parameter (an integer between 0 and 4):1\n",
      "Working with matrix 1\n"
     ]
    },
    {
     "data": {
      "text/html": [
       "<html>\\(\\displaystyle 2 g_{17}\\)</html>"
      ],
      "text/latex": [
       "$\\displaystyle 2 g_{17}$"
      ],
      "text/plain": [
       "2*g17"
      ]
     },
     "metadata": {},
     "output_type": "display_data"
    },
    {
     "name": "stdout",
     "output_type": "stream",
     "text": [
      "Would you like to accept this equation? ([Y]/N): y\n",
      "eqns_dic = \n"
     ]
    },
    {
     "data": {
      "text/html": [
       "<html>\\(\\displaystyle \\left\\{g_{19} : 0, g_{18} : 0, g_{39} : 0, g_{31} : 0, g_{29} : 0, g_{37} : 0, g_{28} : 0, g_{48} : 0, g_{51} : 0, g_{59} : 0, g_{57} : 0, g_{49} : 0, g_{69} : 0, g_{78} : 0, g_{27} : 0, g_{38} : 0, g_{47} : 0, g_{58} : 0, g_{43} : 0, g_{68} : 0, g_{13} : 0, g_{16} : 0, g_{15} : 0, g_{23} : 0, g_{45} : 0, g_{79} : 0, g_{17} : 0\\right\\}\\)</html>"
      ],
      "text/latex": [
       "$\\displaystyle \\left\\{g_{19} : 0, g_{18} : 0, g_{39} : 0, g_{31} : 0, g_{29} : 0, g_{37} : 0, g_{28} : 0, g_{48} : 0, g_{51} : 0, g_{59} : 0, g_{57} : 0, g_{49} : 0, g_{69} : 0, g_{78} : 0, g_{27} : 0, g_{38} : 0, g_{47} : 0, g_{58} : 0, g_{43} : 0, g_{68} : 0, g_{13} : 0, g_{16} : 0, g_{15} : 0, g_{23} : 0, g_{45} : 0, g_{79} : 0, g_{17} : 0\\right\\}$"
      ],
      "text/plain": [
       "{g19: 0,\n",
       " g18: 0,\n",
       " g39: 0,\n",
       " g31: 0,\n",
       " g29: 0,\n",
       " g37: 0,\n",
       " g28: 0,\n",
       " g48: 0,\n",
       " g51: 0,\n",
       " g59: 0,\n",
       " g57: 0,\n",
       " g49: 0,\n",
       " g69: 0,\n",
       " g78: 0,\n",
       " g27: 0,\n",
       " g38: 0,\n",
       " g47: 0,\n",
       " g58: 0,\n",
       " g43: 0,\n",
       " g68: 0,\n",
       " g13: 0,\n",
       " g16: 0,\n",
       " g15: 0,\n",
       " g23: 0,\n",
       " g45: 0,\n",
       " g79: 0,\n",
       " g17: 0}"
      ]
     },
     "metadata": {},
     "output_type": "display_data"
    },
    {
     "name": "stdout",
     "output_type": "stream",
     "text": [
      "Input the lenght parameter (an integer between 0 and 4):1\n",
      "Working with matrix 1\n",
      "No equation found of desired length.\n",
      "Working with matrix 2\n"
     ]
    },
    {
     "data": {
      "text/html": [
       "<html>\\(\\displaystyle -g_{25}\\)</html>"
      ],
      "text/latex": [
       "$\\displaystyle -g_{25}$"
      ],
      "text/plain": [
       "-g25"
      ]
     },
     "metadata": {},
     "output_type": "display_data"
    },
    {
     "name": "stdout",
     "output_type": "stream",
     "text": [
      "Would you like to accept this equation? ([Y]/N): y\n",
      "eqns_dic = \n"
     ]
    },
    {
     "data": {
      "text/html": [
       "<html>\\(\\displaystyle \\left\\{g_{19} : 0, g_{18} : 0, g_{39} : 0, g_{31} : 0, g_{29} : 0, g_{37} : 0, g_{28} : 0, g_{48} : 0, g_{51} : 0, g_{59} : 0, g_{57} : 0, g_{49} : 0, g_{69} : 0, g_{78} : 0, g_{27} : 0, g_{38} : 0, g_{47} : 0, g_{58} : 0, g_{43} : 0, g_{68} : 0, g_{13} : 0, g_{16} : 0, g_{15} : 0, g_{23} : 0, g_{45} : 0, g_{79} : 0, g_{17} : 0, g_{25} : 0\\right\\}\\)</html>"
      ],
      "text/latex": [
       "$\\displaystyle \\left\\{g_{19} : 0, g_{18} : 0, g_{39} : 0, g_{31} : 0, g_{29} : 0, g_{37} : 0, g_{28} : 0, g_{48} : 0, g_{51} : 0, g_{59} : 0, g_{57} : 0, g_{49} : 0, g_{69} : 0, g_{78} : 0, g_{27} : 0, g_{38} : 0, g_{47} : 0, g_{58} : 0, g_{43} : 0, g_{68} : 0, g_{13} : 0, g_{16} : 0, g_{15} : 0, g_{23} : 0, g_{45} : 0, g_{79} : 0, g_{17} : 0, g_{25} : 0\\right\\}$"
      ],
      "text/plain": [
       "{g19: 0,\n",
       " g18: 0,\n",
       " g39: 0,\n",
       " g31: 0,\n",
       " g29: 0,\n",
       " g37: 0,\n",
       " g28: 0,\n",
       " g48: 0,\n",
       " g51: 0,\n",
       " g59: 0,\n",
       " g57: 0,\n",
       " g49: 0,\n",
       " g69: 0,\n",
       " g78: 0,\n",
       " g27: 0,\n",
       " g38: 0,\n",
       " g47: 0,\n",
       " g58: 0,\n",
       " g43: 0,\n",
       " g68: 0,\n",
       " g13: 0,\n",
       " g16: 0,\n",
       " g15: 0,\n",
       " g23: 0,\n",
       " g45: 0,\n",
       " g79: 0,\n",
       " g17: 0,\n",
       " g25: 0}"
      ]
     },
     "metadata": {},
     "output_type": "display_data"
    },
    {
     "name": "stdout",
     "output_type": "stream",
     "text": [
      "Input the lenght parameter (an integer between 0 and 4):1\n",
      "Working with matrix 1\n",
      "No equation found of desired length.\n",
      "Working with matrix 2\n"
     ]
    },
    {
     "data": {
      "text/html": [
       "<html>\\(\\displaystyle g_{26}\\)</html>"
      ],
      "text/latex": [
       "$\\displaystyle g_{26}$"
      ],
      "text/plain": [
       "g26"
      ]
     },
     "metadata": {},
     "output_type": "display_data"
    },
    {
     "name": "stdout",
     "output_type": "stream",
     "text": [
      "Would you like to accept this equation? ([Y]/N): y\n",
      "eqns_dic = \n"
     ]
    },
    {
     "data": {
      "text/html": [
       "<html>\\(\\displaystyle \\left\\{g_{19} : 0, g_{18} : 0, g_{39} : 0, g_{31} : 0, g_{29} : 0, g_{37} : 0, g_{28} : 0, g_{48} : 0, g_{51} : 0, g_{59} : 0, g_{57} : 0, g_{49} : 0, g_{69} : 0, g_{78} : 0, g_{27} : 0, g_{38} : 0, g_{47} : 0, g_{58} : 0, g_{43} : 0, g_{68} : 0, g_{13} : 0, g_{16} : 0, g_{15} : 0, g_{23} : 0, g_{45} : 0, g_{79} : 0, g_{17} : 0, g_{25} : 0, g_{26} : 0\\right\\}\\)</html>"
      ],
      "text/latex": [
       "$\\displaystyle \\left\\{g_{19} : 0, g_{18} : 0, g_{39} : 0, g_{31} : 0, g_{29} : 0, g_{37} : 0, g_{28} : 0, g_{48} : 0, g_{51} : 0, g_{59} : 0, g_{57} : 0, g_{49} : 0, g_{69} : 0, g_{78} : 0, g_{27} : 0, g_{38} : 0, g_{47} : 0, g_{58} : 0, g_{43} : 0, g_{68} : 0, g_{13} : 0, g_{16} : 0, g_{15} : 0, g_{23} : 0, g_{45} : 0, g_{79} : 0, g_{17} : 0, g_{25} : 0, g_{26} : 0\\right\\}$"
      ],
      "text/plain": [
       "{g19: 0,\n",
       " g18: 0,\n",
       " g39: 0,\n",
       " g31: 0,\n",
       " g29: 0,\n",
       " g37: 0,\n",
       " g28: 0,\n",
       " g48: 0,\n",
       " g51: 0,\n",
       " g59: 0,\n",
       " g57: 0,\n",
       " g49: 0,\n",
       " g69: 0,\n",
       " g78: 0,\n",
       " g27: 0,\n",
       " g38: 0,\n",
       " g47: 0,\n",
       " g58: 0,\n",
       " g43: 0,\n",
       " g68: 0,\n",
       " g13: 0,\n",
       " g16: 0,\n",
       " g15: 0,\n",
       " g23: 0,\n",
       " g45: 0,\n",
       " g79: 0,\n",
       " g17: 0,\n",
       " g25: 0,\n",
       " g26: 0}"
      ]
     },
     "metadata": {},
     "output_type": "display_data"
    },
    {
     "name": "stdout",
     "output_type": "stream",
     "text": [
      "Input the lenght parameter (an integer between 0 and 4):1\n",
      "Working with matrix 1\n",
      "No equation found of desired length.\n",
      "Working with matrix 2\n",
      "No equation found of desired length.\n",
      "Working with matrix 3\n"
     ]
    },
    {
     "data": {
      "text/html": [
       "<html>\\(\\displaystyle -2 g_{46}\\)</html>"
      ],
      "text/latex": [
       "$\\displaystyle -2 g_{46}$"
      ],
      "text/plain": [
       "-2*g46"
      ]
     },
     "metadata": {},
     "output_type": "display_data"
    },
    {
     "name": "stdout",
     "output_type": "stream",
     "text": [
      "Would you like to accept this equation? ([Y]/N): y\n",
      "eqns_dic = \n"
     ]
    },
    {
     "data": {
      "text/html": [
       "<html>\\(\\displaystyle \\left\\{g_{19} : 0, g_{18} : 0, g_{39} : 0, g_{31} : 0, g_{29} : 0, g_{37} : 0, g_{28} : 0, g_{48} : 0, g_{51} : 0, g_{59} : 0, g_{57} : 0, g_{49} : 0, g_{69} : 0, g_{78} : 0, g_{27} : 0, g_{38} : 0, g_{47} : 0, g_{58} : 0, g_{43} : 0, g_{68} : 0, g_{13} : 0, g_{16} : 0, g_{15} : 0, g_{23} : 0, g_{45} : 0, g_{79} : 0, g_{17} : 0, g_{25} : 0, g_{26} : 0, g_{46} : 0\\right\\}\\)</html>"
      ],
      "text/latex": [
       "$\\displaystyle \\left\\{g_{19} : 0, g_{18} : 0, g_{39} : 0, g_{31} : 0, g_{29} : 0, g_{37} : 0, g_{28} : 0, g_{48} : 0, g_{51} : 0, g_{59} : 0, g_{57} : 0, g_{49} : 0, g_{69} : 0, g_{78} : 0, g_{27} : 0, g_{38} : 0, g_{47} : 0, g_{58} : 0, g_{43} : 0, g_{68} : 0, g_{13} : 0, g_{16} : 0, g_{15} : 0, g_{23} : 0, g_{45} : 0, g_{79} : 0, g_{17} : 0, g_{25} : 0, g_{26} : 0, g_{46} : 0\\right\\}$"
      ],
      "text/plain": [
       "{g19: 0,\n",
       " g18: 0,\n",
       " g39: 0,\n",
       " g31: 0,\n",
       " g29: 0,\n",
       " g37: 0,\n",
       " g28: 0,\n",
       " g48: 0,\n",
       " g51: 0,\n",
       " g59: 0,\n",
       " g57: 0,\n",
       " g49: 0,\n",
       " g69: 0,\n",
       " g78: 0,\n",
       " g27: 0,\n",
       " g38: 0,\n",
       " g47: 0,\n",
       " g58: 0,\n",
       " g43: 0,\n",
       " g68: 0,\n",
       " g13: 0,\n",
       " g16: 0,\n",
       " g15: 0,\n",
       " g23: 0,\n",
       " g45: 0,\n",
       " g79: 0,\n",
       " g17: 0,\n",
       " g25: 0,\n",
       " g26: 0,\n",
       " g46: 0}"
      ]
     },
     "metadata": {},
     "output_type": "display_data"
    },
    {
     "name": "stdout",
     "output_type": "stream",
     "text": [
      "Input the lenght parameter (an integer between 0 and 4):1\n",
      "Working with matrix 1\n",
      "No equation found of desired length.\n",
      "Working with matrix 2\n",
      "No equation found of desired length.\n",
      "Working with matrix 3\n",
      "No equation found of desired length.\n",
      "Working with matrix 4\n",
      "No equation found of desired length.\n",
      "Working with matrix 5\n",
      "No equation found of desired length.\n",
      "Working with matrix 6\n",
      "No equation found of desired length.\n",
      "Working with matrix 7\n",
      "No equation found of desired length.\n",
      "Working with matrix 8\n",
      "No equation found of desired length.\n",
      "Working with matrix 9\n"
     ]
    },
    {
     "data": {
      "text/html": [
       "<html>\\(\\displaystyle 4 g_{61}\\)</html>"
      ],
      "text/latex": [
       "$\\displaystyle 4 g_{61}$"
      ],
      "text/plain": [
       "4*g61"
      ]
     },
     "metadata": {},
     "output_type": "display_data"
    },
    {
     "name": "stdout",
     "output_type": "stream",
     "text": [
      "Would you like to accept this equation? ([Y]/N): y\n",
      "eqns_dic = \n"
     ]
    },
    {
     "data": {
      "text/html": [
       "<html>\\(\\displaystyle \\left\\{g_{19} : 0, g_{18} : 0, g_{39} : 0, g_{31} : 0, g_{29} : 0, g_{37} : 0, g_{28} : 0, g_{48} : 0, g_{51} : 0, g_{59} : 0, g_{57} : 0, g_{49} : 0, g_{69} : 0, g_{78} : 0, g_{27} : 0, g_{38} : 0, g_{47} : 0, g_{58} : 0, g_{43} : 0, g_{68} : 0, g_{13} : 0, g_{16} : 0, g_{15} : 0, g_{23} : 0, g_{45} : 0, g_{79} : 0, g_{17} : 0, g_{25} : 0, g_{26} : 0, g_{46} : 0, g_{61} : 0\\right\\}\\)</html>"
      ],
      "text/latex": [
       "$\\displaystyle \\left\\{g_{19} : 0, g_{18} : 0, g_{39} : 0, g_{31} : 0, g_{29} : 0, g_{37} : 0, g_{28} : 0, g_{48} : 0, g_{51} : 0, g_{59} : 0, g_{57} : 0, g_{49} : 0, g_{69} : 0, g_{78} : 0, g_{27} : 0, g_{38} : 0, g_{47} : 0, g_{58} : 0, g_{43} : 0, g_{68} : 0, g_{13} : 0, g_{16} : 0, g_{15} : 0, g_{23} : 0, g_{45} : 0, g_{79} : 0, g_{17} : 0, g_{25} : 0, g_{26} : 0, g_{46} : 0, g_{61} : 0\\right\\}$"
      ],
      "text/plain": [
       "{g19: 0,\n",
       " g18: 0,\n",
       " g39: 0,\n",
       " g31: 0,\n",
       " g29: 0,\n",
       " g37: 0,\n",
       " g28: 0,\n",
       " g48: 0,\n",
       " g51: 0,\n",
       " g59: 0,\n",
       " g57: 0,\n",
       " g49: 0,\n",
       " g69: 0,\n",
       " g78: 0,\n",
       " g27: 0,\n",
       " g38: 0,\n",
       " g47: 0,\n",
       " g58: 0,\n",
       " g43: 0,\n",
       " g68: 0,\n",
       " g13: 0,\n",
       " g16: 0,\n",
       " g15: 0,\n",
       " g23: 0,\n",
       " g45: 0,\n",
       " g79: 0,\n",
       " g17: 0,\n",
       " g25: 0,\n",
       " g26: 0,\n",
       " g46: 0,\n",
       " g61: 0}"
      ]
     },
     "metadata": {},
     "output_type": "display_data"
    },
    {
     "name": "stdout",
     "output_type": "stream",
     "text": [
      "Input the lenght parameter (an integer between 0 and 4):1\n",
      "Working with matrix 1\n",
      "No equation found of desired length.\n",
      "Working with matrix 2\n",
      "No equation found of desired length.\n",
      "Working with matrix 3\n",
      "No equation found of desired length.\n",
      "Working with matrix 4\n",
      "No equation found of desired length.\n",
      "Working with matrix 5\n",
      "No equation found of desired length.\n",
      "Working with matrix 6\n",
      "No equation found of desired length.\n",
      "Working with matrix 7\n",
      "No equation found of desired length.\n",
      "Working with matrix 8\n"
     ]
    },
    {
     "data": {
      "text/html": [
       "<html>\\(\\displaystyle -2 g_{41}\\)</html>"
      ],
      "text/latex": [
       "$\\displaystyle -2 g_{41}$"
      ],
      "text/plain": [
       "-2*g41"
      ]
     },
     "metadata": {},
     "output_type": "display_data"
    },
    {
     "name": "stdout",
     "output_type": "stream",
     "text": [
      "Would you like to accept this equation? ([Y]/N): y\n",
      "eqns_dic = \n"
     ]
    },
    {
     "data": {
      "text/html": [
       "<html>\\(\\displaystyle \\left\\{g_{19} : 0, g_{18} : 0, g_{39} : 0, g_{31} : 0, g_{29} : 0, g_{37} : 0, g_{28} : 0, g_{48} : 0, g_{51} : 0, g_{59} : 0, g_{57} : 0, g_{49} : 0, g_{69} : 0, g_{78} : 0, g_{27} : 0, g_{38} : 0, g_{47} : 0, g_{58} : 0, g_{43} : 0, g_{68} : 0, g_{13} : 0, g_{16} : 0, g_{15} : 0, g_{23} : 0, g_{45} : 0, g_{79} : 0, g_{17} : 0, g_{25} : 0, g_{26} : 0, g_{46} : 0, g_{61} : 0, g_{41} : 0\\right\\}\\)</html>"
      ],
      "text/latex": [
       "$\\displaystyle \\left\\{g_{19} : 0, g_{18} : 0, g_{39} : 0, g_{31} : 0, g_{29} : 0, g_{37} : 0, g_{28} : 0, g_{48} : 0, g_{51} : 0, g_{59} : 0, g_{57} : 0, g_{49} : 0, g_{69} : 0, g_{78} : 0, g_{27} : 0, g_{38} : 0, g_{47} : 0, g_{58} : 0, g_{43} : 0, g_{68} : 0, g_{13} : 0, g_{16} : 0, g_{15} : 0, g_{23} : 0, g_{45} : 0, g_{79} : 0, g_{17} : 0, g_{25} : 0, g_{26} : 0, g_{46} : 0, g_{61} : 0, g_{41} : 0\\right\\}$"
      ],
      "text/plain": [
       "{g19: 0,\n",
       " g18: 0,\n",
       " g39: 0,\n",
       " g31: 0,\n",
       " g29: 0,\n",
       " g37: 0,\n",
       " g28: 0,\n",
       " g48: 0,\n",
       " g51: 0,\n",
       " g59: 0,\n",
       " g57: 0,\n",
       " g49: 0,\n",
       " g69: 0,\n",
       " g78: 0,\n",
       " g27: 0,\n",
       " g38: 0,\n",
       " g47: 0,\n",
       " g58: 0,\n",
       " g43: 0,\n",
       " g68: 0,\n",
       " g13: 0,\n",
       " g16: 0,\n",
       " g15: 0,\n",
       " g23: 0,\n",
       " g45: 0,\n",
       " g79: 0,\n",
       " g17: 0,\n",
       " g25: 0,\n",
       " g26: 0,\n",
       " g46: 0,\n",
       " g61: 0,\n",
       " g41: 0}"
      ]
     },
     "metadata": {},
     "output_type": "display_data"
    },
    {
     "name": "stdout",
     "output_type": "stream",
     "text": [
      "Input the lenght parameter (an integer between 0 and 4):1\n",
      "Working with matrix 1\n",
      "No equation found of desired length.\n",
      "Working with matrix 2\n",
      "No equation found of desired length.\n",
      "Working with matrix 3\n"
     ]
    },
    {
     "data": {
      "text/html": [
       "<html>\\(\\displaystyle -g_{52}\\)</html>"
      ],
      "text/latex": [
       "$\\displaystyle -g_{52}$"
      ],
      "text/plain": [
       "-g52"
      ]
     },
     "metadata": {},
     "output_type": "display_data"
    },
    {
     "name": "stdout",
     "output_type": "stream",
     "text": [
      "Would you like to accept this equation? ([Y]/N): y\n",
      "eqns_dic = \n"
     ]
    },
    {
     "data": {
      "text/html": [
       "<html>\\(\\displaystyle \\left\\{g_{19} : 0, g_{18} : 0, g_{39} : 0, g_{31} : 0, g_{29} : 0, g_{37} : 0, g_{28} : 0, g_{48} : 0, g_{51} : 0, g_{59} : 0, g_{57} : 0, g_{49} : 0, g_{69} : 0, g_{78} : 0, g_{27} : 0, g_{38} : 0, g_{47} : 0, g_{58} : 0, g_{43} : 0, g_{68} : 0, g_{13} : 0, g_{16} : 0, g_{15} : 0, g_{23} : 0, g_{45} : 0, g_{79} : 0, g_{17} : 0, g_{25} : 0, g_{26} : 0, g_{46} : 0, g_{61} : 0, g_{41} : 0, g_{52} : 0\\right\\}\\)</html>"
      ],
      "text/latex": [
       "$\\displaystyle \\left\\{g_{19} : 0, g_{18} : 0, g_{39} : 0, g_{31} : 0, g_{29} : 0, g_{37} : 0, g_{28} : 0, g_{48} : 0, g_{51} : 0, g_{59} : 0, g_{57} : 0, g_{49} : 0, g_{69} : 0, g_{78} : 0, g_{27} : 0, g_{38} : 0, g_{47} : 0, g_{58} : 0, g_{43} : 0, g_{68} : 0, g_{13} : 0, g_{16} : 0, g_{15} : 0, g_{23} : 0, g_{45} : 0, g_{79} : 0, g_{17} : 0, g_{25} : 0, g_{26} : 0, g_{46} : 0, g_{61} : 0, g_{41} : 0, g_{52} : 0\\right\\}$"
      ],
      "text/plain": [
       "{g19: 0,\n",
       " g18: 0,\n",
       " g39: 0,\n",
       " g31: 0,\n",
       " g29: 0,\n",
       " g37: 0,\n",
       " g28: 0,\n",
       " g48: 0,\n",
       " g51: 0,\n",
       " g59: 0,\n",
       " g57: 0,\n",
       " g49: 0,\n",
       " g69: 0,\n",
       " g78: 0,\n",
       " g27: 0,\n",
       " g38: 0,\n",
       " g47: 0,\n",
       " g58: 0,\n",
       " g43: 0,\n",
       " g68: 0,\n",
       " g13: 0,\n",
       " g16: 0,\n",
       " g15: 0,\n",
       " g23: 0,\n",
       " g45: 0,\n",
       " g79: 0,\n",
       " g17: 0,\n",
       " g25: 0,\n",
       " g26: 0,\n",
       " g46: 0,\n",
       " g61: 0,\n",
       " g41: 0,\n",
       " g52: 0}"
      ]
     },
     "metadata": {},
     "output_type": "display_data"
    },
    {
     "name": "stdout",
     "output_type": "stream",
     "text": [
      "Input the lenght parameter (an integer between 0 and 4):1\n",
      "Working with matrix 1\n",
      "No equation found of desired length.\n",
      "Working with matrix 2\n",
      "No equation found of desired length.\n",
      "Working with matrix 3\n",
      "No equation found of desired length.\n",
      "Working with matrix 4\n",
      "No equation found of desired length.\n",
      "Working with matrix 5\n",
      "No equation found of desired length.\n",
      "Working with matrix 6\n",
      "No equation found of desired length.\n",
      "Working with matrix 7\n",
      "No equation found of desired length.\n",
      "Working with matrix 8\n",
      "No equation found of desired length.\n",
      "Working with matrix 9\n"
     ]
    },
    {
     "data": {
      "text/html": [
       "<html>\\(\\displaystyle g_{62}\\)</html>"
      ],
      "text/latex": [
       "$\\displaystyle g_{62}$"
      ],
      "text/plain": [
       "g62"
      ]
     },
     "metadata": {},
     "output_type": "display_data"
    },
    {
     "name": "stdout",
     "output_type": "stream",
     "text": [
      "Would you like to accept this equation? ([Y]/N): y\n",
      "eqns_dic = \n"
     ]
    },
    {
     "data": {
      "text/html": [
       "<html>\\(\\displaystyle \\left\\{g_{19} : 0, g_{18} : 0, g_{39} : 0, g_{31} : 0, g_{29} : 0, g_{37} : 0, g_{28} : 0, g_{48} : 0, g_{51} : 0, g_{59} : 0, g_{57} : 0, g_{49} : 0, g_{69} : 0, g_{78} : 0, g_{27} : 0, g_{38} : 0, g_{47} : 0, g_{58} : 0, g_{43} : 0, g_{68} : 0, g_{13} : 0, g_{16} : 0, g_{15} : 0, g_{23} : 0, g_{45} : 0, g_{79} : 0, g_{17} : 0, g_{25} : 0, g_{26} : 0, g_{46} : 0, g_{61} : 0, g_{41} : 0, g_{52} : 0, g_{62} : 0\\right\\}\\)</html>"
      ],
      "text/latex": [
       "$\\displaystyle \\left\\{g_{19} : 0, g_{18} : 0, g_{39} : 0, g_{31} : 0, g_{29} : 0, g_{37} : 0, g_{28} : 0, g_{48} : 0, g_{51} : 0, g_{59} : 0, g_{57} : 0, g_{49} : 0, g_{69} : 0, g_{78} : 0, g_{27} : 0, g_{38} : 0, g_{47} : 0, g_{58} : 0, g_{43} : 0, g_{68} : 0, g_{13} : 0, g_{16} : 0, g_{15} : 0, g_{23} : 0, g_{45} : 0, g_{79} : 0, g_{17} : 0, g_{25} : 0, g_{26} : 0, g_{46} : 0, g_{61} : 0, g_{41} : 0, g_{52} : 0, g_{62} : 0\\right\\}$"
      ],
      "text/plain": [
       "{g19: 0,\n",
       " g18: 0,\n",
       " g39: 0,\n",
       " g31: 0,\n",
       " g29: 0,\n",
       " g37: 0,\n",
       " g28: 0,\n",
       " g48: 0,\n",
       " g51: 0,\n",
       " g59: 0,\n",
       " g57: 0,\n",
       " g49: 0,\n",
       " g69: 0,\n",
       " g78: 0,\n",
       " g27: 0,\n",
       " g38: 0,\n",
       " g47: 0,\n",
       " g58: 0,\n",
       " g43: 0,\n",
       " g68: 0,\n",
       " g13: 0,\n",
       " g16: 0,\n",
       " g15: 0,\n",
       " g23: 0,\n",
       " g45: 0,\n",
       " g79: 0,\n",
       " g17: 0,\n",
       " g25: 0,\n",
       " g26: 0,\n",
       " g46: 0,\n",
       " g61: 0,\n",
       " g41: 0,\n",
       " g52: 0,\n",
       " g62: 0}"
      ]
     },
     "metadata": {},
     "output_type": "display_data"
    },
    {
     "name": "stdout",
     "output_type": "stream",
     "text": [
      "Input the lenght parameter (an integer between 0 and 4):1\n",
      "Working with matrix 1\n",
      "No equation found of desired length.\n",
      "Working with matrix 2\n",
      "No equation found of desired length.\n",
      "Working with matrix 3\n",
      "No equation found of desired length.\n",
      "Working with matrix 4\n",
      "No equation found of desired length.\n",
      "Working with matrix 5\n",
      "No equation found of desired length.\n",
      "Working with matrix 6\n",
      "No equation found of desired length.\n",
      "Working with matrix 7\n",
      "No equation found of desired length.\n",
      "Working with matrix 8\n",
      "No equation found of desired length.\n",
      "Working with matrix 9\n"
     ]
    },
    {
     "data": {
      "text/html": [
       "<html>\\(\\displaystyle -4 g_{67}\\)</html>"
      ],
      "text/latex": [
       "$\\displaystyle -4 g_{67}$"
      ],
      "text/plain": [
       "-4*g67"
      ]
     },
     "metadata": {},
     "output_type": "display_data"
    },
    {
     "name": "stdout",
     "output_type": "stream",
     "text": [
      "Would you like to accept this equation? ([Y]/N): y\n",
      "eqns_dic = \n"
     ]
    },
    {
     "data": {
      "text/html": [
       "<html>\\(\\displaystyle \\left\\{g_{19} : 0, g_{18} : 0, g_{39} : 0, g_{31} : 0, g_{29} : 0, g_{37} : 0, g_{28} : 0, g_{48} : 0, g_{51} : 0, g_{59} : 0, g_{57} : 0, g_{49} : 0, g_{69} : 0, g_{78} : 0, g_{27} : 0, g_{38} : 0, g_{47} : 0, g_{58} : 0, g_{43} : 0, g_{68} : 0, g_{13} : 0, g_{16} : 0, g_{15} : 0, g_{23} : 0, g_{45} : 0, g_{79} : 0, g_{17} : 0, g_{25} : 0, g_{26} : 0, g_{46} : 0, g_{61} : 0, g_{41} : 0, g_{52} : 0, g_{62} : 0, g_{67} : 0\\right\\}\\)</html>"
      ],
      "text/latex": [
       "$\\displaystyle \\left\\{g_{19} : 0, g_{18} : 0, g_{39} : 0, g_{31} : 0, g_{29} : 0, g_{37} : 0, g_{28} : 0, g_{48} : 0, g_{51} : 0, g_{59} : 0, g_{57} : 0, g_{49} : 0, g_{69} : 0, g_{78} : 0, g_{27} : 0, g_{38} : 0, g_{47} : 0, g_{58} : 0, g_{43} : 0, g_{68} : 0, g_{13} : 0, g_{16} : 0, g_{15} : 0, g_{23} : 0, g_{45} : 0, g_{79} : 0, g_{17} : 0, g_{25} : 0, g_{26} : 0, g_{46} : 0, g_{61} : 0, g_{41} : 0, g_{52} : 0, g_{62} : 0, g_{67} : 0\\right\\}$"
      ],
      "text/plain": [
       "{g19: 0,\n",
       " g18: 0,\n",
       " g39: 0,\n",
       " g31: 0,\n",
       " g29: 0,\n",
       " g37: 0,\n",
       " g28: 0,\n",
       " g48: 0,\n",
       " g51: 0,\n",
       " g59: 0,\n",
       " g57: 0,\n",
       " g49: 0,\n",
       " g69: 0,\n",
       " g78: 0,\n",
       " g27: 0,\n",
       " g38: 0,\n",
       " g47: 0,\n",
       " g58: 0,\n",
       " g43: 0,\n",
       " g68: 0,\n",
       " g13: 0,\n",
       " g16: 0,\n",
       " g15: 0,\n",
       " g23: 0,\n",
       " g45: 0,\n",
       " g79: 0,\n",
       " g17: 0,\n",
       " g25: 0,\n",
       " g26: 0,\n",
       " g46: 0,\n",
       " g61: 0,\n",
       " g41: 0,\n",
       " g52: 0,\n",
       " g62: 0,\n",
       " g67: 0}"
      ]
     },
     "metadata": {},
     "output_type": "display_data"
    },
    {
     "name": "stdout",
     "output_type": "stream",
     "text": [
      "Input the lenght parameter (an integer between 0 and 4):1\n",
      "Working with matrix 1\n"
     ]
    },
    {
     "data": {
      "text/html": [
       "<html>\\(\\displaystyle -g_{89}\\)</html>"
      ],
      "text/latex": [
       "$\\displaystyle -g_{89}$"
      ],
      "text/plain": [
       "-g89"
      ]
     },
     "metadata": {},
     "output_type": "display_data"
    },
    {
     "name": "stdout",
     "output_type": "stream",
     "text": [
      "Would you like to accept this equation? ([Y]/N): y\n",
      "eqns_dic = \n"
     ]
    },
    {
     "data": {
      "text/html": [
       "<html>\\(\\displaystyle \\left\\{g_{19} : 0, g_{18} : 0, g_{39} : 0, g_{31} : 0, g_{29} : 0, g_{37} : 0, g_{28} : 0, g_{48} : 0, g_{51} : 0, g_{59} : 0, g_{57} : 0, g_{49} : 0, g_{69} : 0, g_{78} : 0, g_{27} : 0, g_{38} : 0, g_{47} : 0, g_{58} : 0, g_{43} : 0, g_{68} : 0, g_{13} : 0, g_{16} : 0, g_{15} : 0, g_{23} : 0, g_{45} : 0, g_{79} : 0, g_{17} : 0, g_{25} : 0, g_{26} : 0, g_{46} : 0, g_{61} : 0, g_{41} : 0, g_{52} : 0, g_{62} : 0, g_{67} : 0, g_{89} : 0\\right\\}\\)</html>"
      ],
      "text/latex": [
       "$\\displaystyle \\left\\{g_{19} : 0, g_{18} : 0, g_{39} : 0, g_{31} : 0, g_{29} : 0, g_{37} : 0, g_{28} : 0, g_{48} : 0, g_{51} : 0, g_{59} : 0, g_{57} : 0, g_{49} : 0, g_{69} : 0, g_{78} : 0, g_{27} : 0, g_{38} : 0, g_{47} : 0, g_{58} : 0, g_{43} : 0, g_{68} : 0, g_{13} : 0, g_{16} : 0, g_{15} : 0, g_{23} : 0, g_{45} : 0, g_{79} : 0, g_{17} : 0, g_{25} : 0, g_{26} : 0, g_{46} : 0, g_{61} : 0, g_{41} : 0, g_{52} : 0, g_{62} : 0, g_{67} : 0, g_{89} : 0\\right\\}$"
      ],
      "text/plain": [
       "{g19: 0,\n",
       " g18: 0,\n",
       " g39: 0,\n",
       " g31: 0,\n",
       " g29: 0,\n",
       " g37: 0,\n",
       " g28: 0,\n",
       " g48: 0,\n",
       " g51: 0,\n",
       " g59: 0,\n",
       " g57: 0,\n",
       " g49: 0,\n",
       " g69: 0,\n",
       " g78: 0,\n",
       " g27: 0,\n",
       " g38: 0,\n",
       " g47: 0,\n",
       " g58: 0,\n",
       " g43: 0,\n",
       " g68: 0,\n",
       " g13: 0,\n",
       " g16: 0,\n",
       " g15: 0,\n",
       " g23: 0,\n",
       " g45: 0,\n",
       " g79: 0,\n",
       " g17: 0,\n",
       " g25: 0,\n",
       " g26: 0,\n",
       " g46: 0,\n",
       " g61: 0,\n",
       " g41: 0,\n",
       " g52: 0,\n",
       " g62: 0,\n",
       " g67: 0,\n",
       " g89: 0}"
      ]
     },
     "metadata": {},
     "output_type": "display_data"
    },
    {
     "name": "stdout",
     "output_type": "stream",
     "text": [
      "Input the lenght parameter (an integer between 0 and 4):1\n",
      "Working with matrix 1\n",
      "No equation found of desired length.\n",
      "Working with matrix 2\n",
      "No equation found of desired length.\n",
      "Working with matrix 3\n"
     ]
    },
    {
     "data": {
      "text/html": [
       "<html>\\(\\displaystyle g_{56}\\)</html>"
      ],
      "text/latex": [
       "$\\displaystyle g_{56}$"
      ],
      "text/plain": [
       "g56"
      ]
     },
     "metadata": {},
     "output_type": "display_data"
    },
    {
     "name": "stdout",
     "output_type": "stream",
     "text": [
      "Would you like to accept this equation? ([Y]/N): y\n",
      "eqns_dic = \n"
     ]
    },
    {
     "data": {
      "text/html": [
       "<html>\\(\\displaystyle \\left\\{g_{19} : 0, g_{18} : 0, g_{39} : 0, g_{31} : 0, g_{29} : 0, g_{37} : 0, g_{28} : 0, g_{48} : 0, g_{51} : 0, g_{59} : 0, g_{57} : 0, g_{49} : 0, g_{69} : 0, g_{78} : 0, g_{27} : 0, g_{38} : 0, g_{47} : 0, g_{58} : 0, g_{43} : 0, g_{68} : 0, g_{13} : 0, g_{16} : 0, g_{15} : 0, g_{23} : 0, g_{45} : 0, g_{79} : 0, g_{17} : 0, g_{25} : 0, g_{26} : 0, g_{46} : 0, g_{61} : 0, g_{41} : 0, g_{52} : 0, g_{62} : 0, g_{67} : 0, g_{89} : 0, g_{56} : 0\\right\\}\\)</html>"
      ],
      "text/latex": [
       "$\\displaystyle \\left\\{g_{19} : 0, g_{18} : 0, g_{39} : 0, g_{31} : 0, g_{29} : 0, g_{37} : 0, g_{28} : 0, g_{48} : 0, g_{51} : 0, g_{59} : 0, g_{57} : 0, g_{49} : 0, g_{69} : 0, g_{78} : 0, g_{27} : 0, g_{38} : 0, g_{47} : 0, g_{58} : 0, g_{43} : 0, g_{68} : 0, g_{13} : 0, g_{16} : 0, g_{15} : 0, g_{23} : 0, g_{45} : 0, g_{79} : 0, g_{17} : 0, g_{25} : 0, g_{26} : 0, g_{46} : 0, g_{61} : 0, g_{41} : 0, g_{52} : 0, g_{62} : 0, g_{67} : 0, g_{89} : 0, g_{56} : 0\\right\\}$"
      ],
      "text/plain": [
       "{g19: 0,\n",
       " g18: 0,\n",
       " g39: 0,\n",
       " g31: 0,\n",
       " g29: 0,\n",
       " g37: 0,\n",
       " g28: 0,\n",
       " g48: 0,\n",
       " g51: 0,\n",
       " g59: 0,\n",
       " g57: 0,\n",
       " g49: 0,\n",
       " g69: 0,\n",
       " g78: 0,\n",
       " g27: 0,\n",
       " g38: 0,\n",
       " g47: 0,\n",
       " g58: 0,\n",
       " g43: 0,\n",
       " g68: 0,\n",
       " g13: 0,\n",
       " g16: 0,\n",
       " g15: 0,\n",
       " g23: 0,\n",
       " g45: 0,\n",
       " g79: 0,\n",
       " g17: 0,\n",
       " g25: 0,\n",
       " g26: 0,\n",
       " g46: 0,\n",
       " g61: 0,\n",
       " g41: 0,\n",
       " g52: 0,\n",
       " g62: 0,\n",
       " g67: 0,\n",
       " g89: 0,\n",
       " g56: 0}"
      ]
     },
     "metadata": {},
     "output_type": "display_data"
    },
    {
     "name": "stdout",
     "output_type": "stream",
     "text": [
      "Input the lenght parameter (an integer between 0 and 4):1\n",
      "Working with matrix 1\n",
      "No equation found of desired length.\n",
      "Working with matrix 2\n",
      "No equation found of desired length.\n",
      "Working with matrix 3\n",
      "No equation found of desired length.\n",
      "Working with matrix 4\n",
      "No equation found of desired length.\n",
      "Working with matrix 5\n",
      "No equation found of desired length.\n",
      "Working with matrix 6\n",
      "No equation found of desired length.\n",
      "Working with matrix 7\n",
      "No equation found of desired length.\n",
      "Working with matrix 8\n"
     ]
    },
    {
     "data": {
      "text/html": [
       "<html>\\(\\displaystyle g_{21}\\)</html>"
      ],
      "text/latex": [
       "$\\displaystyle g_{21}$"
      ],
      "text/plain": [
       "g21"
      ]
     },
     "metadata": {},
     "output_type": "display_data"
    },
    {
     "name": "stdout",
     "output_type": "stream",
     "text": [
      "Would you like to accept this equation? ([Y]/N): y\n",
      "eqns_dic = \n"
     ]
    },
    {
     "data": {
      "text/html": [
       "<html>\\(\\displaystyle \\left\\{g_{19} : 0, g_{18} : 0, g_{39} : 0, g_{31} : 0, g_{29} : 0, g_{37} : 0, g_{28} : 0, g_{48} : 0, g_{51} : 0, g_{59} : 0, g_{57} : 0, g_{49} : 0, g_{69} : 0, g_{78} : 0, g_{27} : 0, g_{38} : 0, g_{47} : 0, g_{58} : 0, g_{43} : 0, g_{68} : 0, g_{13} : 0, g_{16} : 0, g_{15} : 0, g_{23} : 0, g_{45} : 0, g_{79} : 0, g_{17} : 0, g_{25} : 0, g_{26} : 0, g_{46} : 0, g_{61} : 0, g_{41} : 0, g_{52} : 0, g_{62} : 0, g_{67} : 0, g_{89} : 0, g_{56} : 0, g_{21} : 0\\right\\}\\)</html>"
      ],
      "text/latex": [
       "$\\displaystyle \\left\\{g_{19} : 0, g_{18} : 0, g_{39} : 0, g_{31} : 0, g_{29} : 0, g_{37} : 0, g_{28} : 0, g_{48} : 0, g_{51} : 0, g_{59} : 0, g_{57} : 0, g_{49} : 0, g_{69} : 0, g_{78} : 0, g_{27} : 0, g_{38} : 0, g_{47} : 0, g_{58} : 0, g_{43} : 0, g_{68} : 0, g_{13} : 0, g_{16} : 0, g_{15} : 0, g_{23} : 0, g_{45} : 0, g_{79} : 0, g_{17} : 0, g_{25} : 0, g_{26} : 0, g_{46} : 0, g_{61} : 0, g_{41} : 0, g_{52} : 0, g_{62} : 0, g_{67} : 0, g_{89} : 0, g_{56} : 0, g_{21} : 0\\right\\}$"
      ],
      "text/plain": [
       "{g19: 0,\n",
       " g18: 0,\n",
       " g39: 0,\n",
       " g31: 0,\n",
       " g29: 0,\n",
       " g37: 0,\n",
       " g28: 0,\n",
       " g48: 0,\n",
       " g51: 0,\n",
       " g59: 0,\n",
       " g57: 0,\n",
       " g49: 0,\n",
       " g69: 0,\n",
       " g78: 0,\n",
       " g27: 0,\n",
       " g38: 0,\n",
       " g47: 0,\n",
       " g58: 0,\n",
       " g43: 0,\n",
       " g68: 0,\n",
       " g13: 0,\n",
       " g16: 0,\n",
       " g15: 0,\n",
       " g23: 0,\n",
       " g45: 0,\n",
       " g79: 0,\n",
       " g17: 0,\n",
       " g25: 0,\n",
       " g26: 0,\n",
       " g46: 0,\n",
       " g61: 0,\n",
       " g41: 0,\n",
       " g52: 0,\n",
       " g62: 0,\n",
       " g67: 0,\n",
       " g89: 0,\n",
       " g56: 0,\n",
       " g21: 0}"
      ]
     },
     "metadata": {},
     "output_type": "display_data"
    },
    {
     "name": "stdout",
     "output_type": "stream",
     "text": [
      "Input the lenght parameter (an integer between 0 and 4):1\n",
      "Working with matrix 1\n"
     ]
    },
    {
     "data": {
      "text/html": [
       "<html>\\(\\displaystyle 2 g_{81}\\)</html>"
      ],
      "text/latex": [
       "$\\displaystyle 2 g_{81}$"
      ],
      "text/plain": [
       "2*g81"
      ]
     },
     "metadata": {},
     "output_type": "display_data"
    },
    {
     "name": "stdout",
     "output_type": "stream",
     "text": [
      "Would you like to accept this equation? ([Y]/N): y\n",
      "eqns_dic = \n"
     ]
    },
    {
     "data": {
      "text/html": [
       "<html>\\(\\displaystyle \\left\\{g_{19} : 0, g_{18} : 0, g_{39} : 0, g_{31} : 0, g_{29} : 0, g_{37} : 0, g_{28} : 0, g_{48} : 0, g_{51} : 0, g_{59} : 0, g_{57} : 0, g_{49} : 0, g_{69} : 0, g_{78} : 0, g_{27} : 0, g_{38} : 0, g_{47} : 0, g_{58} : 0, g_{43} : 0, g_{68} : 0, g_{13} : 0, g_{16} : 0, g_{15} : 0, g_{23} : 0, g_{45} : 0, g_{79} : 0, g_{17} : 0, g_{25} : 0, g_{26} : 0, g_{46} : 0, g_{61} : 0, g_{41} : 0, g_{52} : 0, g_{62} : 0, g_{67} : 0, g_{89} : 0, g_{56} : 0, g_{21} : 0, g_{81} : 0\\right\\}\\)</html>"
      ],
      "text/latex": [
       "$\\displaystyle \\left\\{g_{19} : 0, g_{18} : 0, g_{39} : 0, g_{31} : 0, g_{29} : 0, g_{37} : 0, g_{28} : 0, g_{48} : 0, g_{51} : 0, g_{59} : 0, g_{57} : 0, g_{49} : 0, g_{69} : 0, g_{78} : 0, g_{27} : 0, g_{38} : 0, g_{47} : 0, g_{58} : 0, g_{43} : 0, g_{68} : 0, g_{13} : 0, g_{16} : 0, g_{15} : 0, g_{23} : 0, g_{45} : 0, g_{79} : 0, g_{17} : 0, g_{25} : 0, g_{26} : 0, g_{46} : 0, g_{61} : 0, g_{41} : 0, g_{52} : 0, g_{62} : 0, g_{67} : 0, g_{89} : 0, g_{56} : 0, g_{21} : 0, g_{81} : 0\\right\\}$"
      ],
      "text/plain": [
       "{g19: 0,\n",
       " g18: 0,\n",
       " g39: 0,\n",
       " g31: 0,\n",
       " g29: 0,\n",
       " g37: 0,\n",
       " g28: 0,\n",
       " g48: 0,\n",
       " g51: 0,\n",
       " g59: 0,\n",
       " g57: 0,\n",
       " g49: 0,\n",
       " g69: 0,\n",
       " g78: 0,\n",
       " g27: 0,\n",
       " g38: 0,\n",
       " g47: 0,\n",
       " g58: 0,\n",
       " g43: 0,\n",
       " g68: 0,\n",
       " g13: 0,\n",
       " g16: 0,\n",
       " g15: 0,\n",
       " g23: 0,\n",
       " g45: 0,\n",
       " g79: 0,\n",
       " g17: 0,\n",
       " g25: 0,\n",
       " g26: 0,\n",
       " g46: 0,\n",
       " g61: 0,\n",
       " g41: 0,\n",
       " g52: 0,\n",
       " g62: 0,\n",
       " g67: 0,\n",
       " g89: 0,\n",
       " g56: 0,\n",
       " g21: 0,\n",
       " g81: 0}"
      ]
     },
     "metadata": {},
     "output_type": "display_data"
    },
    {
     "name": "stdout",
     "output_type": "stream",
     "text": [
      "Input the lenght parameter (an integer between 0 and 4):1\n",
      "Working with matrix 1\n"
     ]
    },
    {
     "data": {
      "text/html": [
       "<html>\\(\\displaystyle -2 g_{87}\\)</html>"
      ],
      "text/latex": [
       "$\\displaystyle -2 g_{87}$"
      ],
      "text/plain": [
       "-2*g87"
      ]
     },
     "metadata": {},
     "output_type": "display_data"
    },
    {
     "name": "stdout",
     "output_type": "stream",
     "text": [
      "Would you like to accept this equation? ([Y]/N): y\n",
      "eqns_dic = \n"
     ]
    },
    {
     "data": {
      "text/html": [
       "<html>\\(\\displaystyle \\left\\{g_{19} : 0, g_{18} : 0, g_{39} : 0, g_{31} : 0, g_{29} : 0, g_{37} : 0, g_{28} : 0, g_{48} : 0, g_{51} : 0, g_{59} : 0, g_{57} : 0, g_{49} : 0, g_{69} : 0, g_{78} : 0, g_{27} : 0, g_{38} : 0, g_{47} : 0, g_{58} : 0, g_{43} : 0, g_{68} : 0, g_{13} : 0, g_{16} : 0, g_{15} : 0, g_{23} : 0, g_{45} : 0, g_{79} : 0, g_{17} : 0, g_{25} : 0, g_{26} : 0, g_{46} : 0, g_{61} : 0, g_{41} : 0, g_{52} : 0, g_{62} : 0, g_{67} : 0, g_{89} : 0, g_{56} : 0, g_{21} : 0, g_{81} : 0, g_{87} : 0\\right\\}\\)</html>"
      ],
      "text/latex": [
       "$\\displaystyle \\left\\{g_{19} : 0, g_{18} : 0, g_{39} : 0, g_{31} : 0, g_{29} : 0, g_{37} : 0, g_{28} : 0, g_{48} : 0, g_{51} : 0, g_{59} : 0, g_{57} : 0, g_{49} : 0, g_{69} : 0, g_{78} : 0, g_{27} : 0, g_{38} : 0, g_{47} : 0, g_{58} : 0, g_{43} : 0, g_{68} : 0, g_{13} : 0, g_{16} : 0, g_{15} : 0, g_{23} : 0, g_{45} : 0, g_{79} : 0, g_{17} : 0, g_{25} : 0, g_{26} : 0, g_{46} : 0, g_{61} : 0, g_{41} : 0, g_{52} : 0, g_{62} : 0, g_{67} : 0, g_{89} : 0, g_{56} : 0, g_{21} : 0, g_{81} : 0, g_{87} : 0\\right\\}$"
      ],
      "text/plain": [
       "{g19: 0,\n",
       " g18: 0,\n",
       " g39: 0,\n",
       " g31: 0,\n",
       " g29: 0,\n",
       " g37: 0,\n",
       " g28: 0,\n",
       " g48: 0,\n",
       " g51: 0,\n",
       " g59: 0,\n",
       " g57: 0,\n",
       " g49: 0,\n",
       " g69: 0,\n",
       " g78: 0,\n",
       " g27: 0,\n",
       " g38: 0,\n",
       " g47: 0,\n",
       " g58: 0,\n",
       " g43: 0,\n",
       " g68: 0,\n",
       " g13: 0,\n",
       " g16: 0,\n",
       " g15: 0,\n",
       " g23: 0,\n",
       " g45: 0,\n",
       " g79: 0,\n",
       " g17: 0,\n",
       " g25: 0,\n",
       " g26: 0,\n",
       " g46: 0,\n",
       " g61: 0,\n",
       " g41: 0,\n",
       " g52: 0,\n",
       " g62: 0,\n",
       " g67: 0,\n",
       " g89: 0,\n",
       " g56: 0,\n",
       " g21: 0,\n",
       " g81: 0,\n",
       " g87: 0}"
      ]
     },
     "metadata": {},
     "output_type": "display_data"
    },
    {
     "name": "stdout",
     "output_type": "stream",
     "text": [
      "Input the lenght parameter (an integer between 0 and 4):1\n",
      "Working with matrix 1\n",
      "No equation found of desired length.\n",
      "Working with matrix 2\n"
     ]
    },
    {
     "data": {
      "text/html": [
       "<html>\\(\\displaystyle g_{32}\\)</html>"
      ],
      "text/latex": [
       "$\\displaystyle g_{32}$"
      ],
      "text/plain": [
       "g32"
      ]
     },
     "metadata": {},
     "output_type": "display_data"
    },
    {
     "name": "stdout",
     "output_type": "stream",
     "text": [
      "Would you like to accept this equation? ([Y]/N): y\n",
      "eqns_dic = \n"
     ]
    },
    {
     "data": {
      "text/html": [
       "<html>\\(\\displaystyle \\left\\{g_{19} : 0, g_{18} : 0, g_{39} : 0, g_{31} : 0, g_{29} : 0, g_{37} : 0, g_{28} : 0, g_{48} : 0, g_{51} : 0, g_{59} : 0, g_{57} : 0, g_{49} : 0, g_{69} : 0, g_{78} : 0, g_{27} : 0, g_{38} : 0, g_{47} : 0, g_{58} : 0, g_{43} : 0, g_{68} : 0, g_{13} : 0, g_{16} : 0, g_{15} : 0, g_{23} : 0, g_{45} : 0, g_{79} : 0, g_{17} : 0, g_{25} : 0, g_{26} : 0, g_{46} : 0, g_{61} : 0, g_{41} : 0, g_{52} : 0, g_{62} : 0, g_{67} : 0, g_{89} : 0, g_{56} : 0, g_{21} : 0, g_{81} : 0, g_{87} : 0, g_{32} : 0\\right\\}\\)</html>"
      ],
      "text/latex": [
       "$\\displaystyle \\left\\{g_{19} : 0, g_{18} : 0, g_{39} : 0, g_{31} : 0, g_{29} : 0, g_{37} : 0, g_{28} : 0, g_{48} : 0, g_{51} : 0, g_{59} : 0, g_{57} : 0, g_{49} : 0, g_{69} : 0, g_{78} : 0, g_{27} : 0, g_{38} : 0, g_{47} : 0, g_{58} : 0, g_{43} : 0, g_{68} : 0, g_{13} : 0, g_{16} : 0, g_{15} : 0, g_{23} : 0, g_{45} : 0, g_{79} : 0, g_{17} : 0, g_{25} : 0, g_{26} : 0, g_{46} : 0, g_{61} : 0, g_{41} : 0, g_{52} : 0, g_{62} : 0, g_{67} : 0, g_{89} : 0, g_{56} : 0, g_{21} : 0, g_{81} : 0, g_{87} : 0, g_{32} : 0\\right\\}$"
      ],
      "text/plain": [
       "{g19: 0,\n",
       " g18: 0,\n",
       " g39: 0,\n",
       " g31: 0,\n",
       " g29: 0,\n",
       " g37: 0,\n",
       " g28: 0,\n",
       " g48: 0,\n",
       " g51: 0,\n",
       " g59: 0,\n",
       " g57: 0,\n",
       " g49: 0,\n",
       " g69: 0,\n",
       " g78: 0,\n",
       " g27: 0,\n",
       " g38: 0,\n",
       " g47: 0,\n",
       " g58: 0,\n",
       " g43: 0,\n",
       " g68: 0,\n",
       " g13: 0,\n",
       " g16: 0,\n",
       " g15: 0,\n",
       " g23: 0,\n",
       " g45: 0,\n",
       " g79: 0,\n",
       " g17: 0,\n",
       " g25: 0,\n",
       " g26: 0,\n",
       " g46: 0,\n",
       " g61: 0,\n",
       " g41: 0,\n",
       " g52: 0,\n",
       " g62: 0,\n",
       " g67: 0,\n",
       " g89: 0,\n",
       " g56: 0,\n",
       " g21: 0,\n",
       " g81: 0,\n",
       " g87: 0,\n",
       " g32: 0}"
      ]
     },
     "metadata": {},
     "output_type": "display_data"
    },
    {
     "name": "stdout",
     "output_type": "stream",
     "text": [
      "Input the lenght parameter (an integer between 0 and 4):1\n",
      "Working with matrix 1\n",
      "No equation found of desired length.\n",
      "Working with matrix 2\n",
      "No equation found of desired length.\n",
      "Working with matrix 3\n"
     ]
    },
    {
     "data": {
      "text/html": [
       "<html>\\(\\displaystyle -g_{54}\\)</html>"
      ],
      "text/latex": [
       "$\\displaystyle -g_{54}$"
      ],
      "text/plain": [
       "-g54"
      ]
     },
     "metadata": {},
     "output_type": "display_data"
    },
    {
     "name": "stdout",
     "output_type": "stream",
     "text": [
      "Would you like to accept this equation? ([Y]/N): y\n",
      "eqns_dic = \n"
     ]
    },
    {
     "data": {
      "text/html": [
       "<html>\\(\\displaystyle \\left\\{g_{19} : 0, g_{18} : 0, g_{39} : 0, g_{31} : 0, g_{29} : 0, g_{37} : 0, g_{28} : 0, g_{48} : 0, g_{51} : 0, g_{59} : 0, g_{57} : 0, g_{49} : 0, g_{69} : 0, g_{78} : 0, g_{27} : 0, g_{38} : 0, g_{47} : 0, g_{58} : 0, g_{43} : 0, g_{68} : 0, g_{13} : 0, g_{16} : 0, g_{15} : 0, g_{23} : 0, g_{45} : 0, g_{79} : 0, g_{17} : 0, g_{25} : 0, g_{26} : 0, g_{46} : 0, g_{61} : 0, g_{41} : 0, g_{52} : 0, g_{62} : 0, g_{67} : 0, g_{89} : 0, g_{56} : 0, g_{21} : 0, g_{81} : 0, g_{87} : 0, g_{32} : 0, g_{54} : 0\\right\\}\\)</html>"
      ],
      "text/latex": [
       "$\\displaystyle \\left\\{g_{19} : 0, g_{18} : 0, g_{39} : 0, g_{31} : 0, g_{29} : 0, g_{37} : 0, g_{28} : 0, g_{48} : 0, g_{51} : 0, g_{59} : 0, g_{57} : 0, g_{49} : 0, g_{69} : 0, g_{78} : 0, g_{27} : 0, g_{38} : 0, g_{47} : 0, g_{58} : 0, g_{43} : 0, g_{68} : 0, g_{13} : 0, g_{16} : 0, g_{15} : 0, g_{23} : 0, g_{45} : 0, g_{79} : 0, g_{17} : 0, g_{25} : 0, g_{26} : 0, g_{46} : 0, g_{61} : 0, g_{41} : 0, g_{52} : 0, g_{62} : 0, g_{67} : 0, g_{89} : 0, g_{56} : 0, g_{21} : 0, g_{81} : 0, g_{87} : 0, g_{32} : 0, g_{54} : 0\\right\\}$"
      ],
      "text/plain": [
       "{g19: 0,\n",
       " g18: 0,\n",
       " g39: 0,\n",
       " g31: 0,\n",
       " g29: 0,\n",
       " g37: 0,\n",
       " g28: 0,\n",
       " g48: 0,\n",
       " g51: 0,\n",
       " g59: 0,\n",
       " g57: 0,\n",
       " g49: 0,\n",
       " g69: 0,\n",
       " g78: 0,\n",
       " g27: 0,\n",
       " g38: 0,\n",
       " g47: 0,\n",
       " g58: 0,\n",
       " g43: 0,\n",
       " g68: 0,\n",
       " g13: 0,\n",
       " g16: 0,\n",
       " g15: 0,\n",
       " g23: 0,\n",
       " g45: 0,\n",
       " g79: 0,\n",
       " g17: 0,\n",
       " g25: 0,\n",
       " g26: 0,\n",
       " g46: 0,\n",
       " g61: 0,\n",
       " g41: 0,\n",
       " g52: 0,\n",
       " g62: 0,\n",
       " g67: 0,\n",
       " g89: 0,\n",
       " g56: 0,\n",
       " g21: 0,\n",
       " g81: 0,\n",
       " g87: 0,\n",
       " g32: 0,\n",
       " g54: 0}"
      ]
     },
     "metadata": {},
     "output_type": "display_data"
    },
    {
     "name": "stdout",
     "output_type": "stream",
     "text": [
      "Input the lenght parameter (an integer between 0 and 4):1\n",
      "Working with matrix 1\n",
      "No equation found of desired length.\n",
      "Working with matrix 2\n"
     ]
    },
    {
     "data": {
      "text/html": [
       "<html>\\(\\displaystyle g_{36}\\)</html>"
      ],
      "text/latex": [
       "$\\displaystyle g_{36}$"
      ],
      "text/plain": [
       "g36"
      ]
     },
     "metadata": {},
     "output_type": "display_data"
    },
    {
     "name": "stdout",
     "output_type": "stream",
     "text": [
      "Would you like to accept this equation? ([Y]/N): y\n",
      "eqns_dic = \n"
     ]
    },
    {
     "data": {
      "text/html": [
       "<html>\\(\\displaystyle \\left\\{g_{19} : 0, g_{18} : 0, g_{39} : 0, g_{31} : 0, g_{29} : 0, g_{37} : 0, g_{28} : 0, g_{48} : 0, g_{51} : 0, g_{59} : 0, g_{57} : 0, g_{49} : 0, g_{69} : 0, g_{78} : 0, g_{27} : 0, g_{38} : 0, g_{47} : 0, g_{58} : 0, g_{43} : 0, g_{68} : 0, g_{13} : 0, g_{16} : 0, g_{15} : 0, g_{23} : 0, g_{45} : 0, g_{79} : 0, g_{17} : 0, g_{25} : 0, g_{26} : 0, g_{46} : 0, g_{61} : 0, g_{41} : 0, g_{52} : 0, g_{62} : 0, g_{67} : 0, g_{89} : 0, g_{56} : 0, g_{21} : 0, g_{81} : 0, g_{87} : 0, g_{32} : 0, g_{54} : 0, g_{36} : 0\\right\\}\\)</html>"
      ],
      "text/latex": [
       "$\\displaystyle \\left\\{g_{19} : 0, g_{18} : 0, g_{39} : 0, g_{31} : 0, g_{29} : 0, g_{37} : 0, g_{28} : 0, g_{48} : 0, g_{51} : 0, g_{59} : 0, g_{57} : 0, g_{49} : 0, g_{69} : 0, g_{78} : 0, g_{27} : 0, g_{38} : 0, g_{47} : 0, g_{58} : 0, g_{43} : 0, g_{68} : 0, g_{13} : 0, g_{16} : 0, g_{15} : 0, g_{23} : 0, g_{45} : 0, g_{79} : 0, g_{17} : 0, g_{25} : 0, g_{26} : 0, g_{46} : 0, g_{61} : 0, g_{41} : 0, g_{52} : 0, g_{62} : 0, g_{67} : 0, g_{89} : 0, g_{56} : 0, g_{21} : 0, g_{81} : 0, g_{87} : 0, g_{32} : 0, g_{54} : 0, g_{36} : 0\\right\\}$"
      ],
      "text/plain": [
       "{g19: 0,\n",
       " g18: 0,\n",
       " g39: 0,\n",
       " g31: 0,\n",
       " g29: 0,\n",
       " g37: 0,\n",
       " g28: 0,\n",
       " g48: 0,\n",
       " g51: 0,\n",
       " g59: 0,\n",
       " g57: 0,\n",
       " g49: 0,\n",
       " g69: 0,\n",
       " g78: 0,\n",
       " g27: 0,\n",
       " g38: 0,\n",
       " g47: 0,\n",
       " g58: 0,\n",
       " g43: 0,\n",
       " g68: 0,\n",
       " g13: 0,\n",
       " g16: 0,\n",
       " g15: 0,\n",
       " g23: 0,\n",
       " g45: 0,\n",
       " g79: 0,\n",
       " g17: 0,\n",
       " g25: 0,\n",
       " g26: 0,\n",
       " g46: 0,\n",
       " g61: 0,\n",
       " g41: 0,\n",
       " g52: 0,\n",
       " g62: 0,\n",
       " g67: 0,\n",
       " g89: 0,\n",
       " g56: 0,\n",
       " g21: 0,\n",
       " g81: 0,\n",
       " g87: 0,\n",
       " g32: 0,\n",
       " g54: 0,\n",
       " g36: 0}"
      ]
     },
     "metadata": {},
     "output_type": "display_data"
    },
    {
     "name": "stdout",
     "output_type": "stream",
     "text": [
      "Input the lenght parameter (an integer between 0 and 4):1\n",
      "Working with matrix 1\n",
      "No equation found of desired length.\n",
      "Working with matrix 2\n"
     ]
    },
    {
     "data": {
      "text/html": [
       "<html>\\(\\displaystyle -g_{34}\\)</html>"
      ],
      "text/latex": [
       "$\\displaystyle -g_{34}$"
      ],
      "text/plain": [
       "-g34"
      ]
     },
     "metadata": {},
     "output_type": "display_data"
    },
    {
     "name": "stdout",
     "output_type": "stream",
     "text": [
      "Would you like to accept this equation? ([Y]/N): y\n",
      "eqns_dic = \n"
     ]
    },
    {
     "data": {
      "text/html": [
       "<html>\\(\\displaystyle \\left\\{g_{19} : 0, g_{18} : 0, g_{39} : 0, g_{31} : 0, g_{29} : 0, g_{37} : 0, g_{28} : 0, g_{48} : 0, g_{51} : 0, g_{59} : 0, g_{57} : 0, g_{49} : 0, g_{69} : 0, g_{78} : 0, g_{27} : 0, g_{38} : 0, g_{47} : 0, g_{58} : 0, g_{43} : 0, g_{68} : 0, g_{13} : 0, g_{16} : 0, g_{15} : 0, g_{23} : 0, g_{45} : 0, g_{79} : 0, g_{17} : 0, g_{25} : 0, g_{26} : 0, g_{46} : 0, g_{61} : 0, g_{41} : 0, g_{52} : 0, g_{62} : 0, g_{67} : 0, g_{89} : 0, g_{56} : 0, g_{21} : 0, g_{81} : 0, g_{87} : 0, g_{32} : 0, g_{54} : 0, g_{36} : 0, g_{34} : 0\\right\\}\\)</html>"
      ],
      "text/latex": [
       "$\\displaystyle \\left\\{g_{19} : 0, g_{18} : 0, g_{39} : 0, g_{31} : 0, g_{29} : 0, g_{37} : 0, g_{28} : 0, g_{48} : 0, g_{51} : 0, g_{59} : 0, g_{57} : 0, g_{49} : 0, g_{69} : 0, g_{78} : 0, g_{27} : 0, g_{38} : 0, g_{47} : 0, g_{58} : 0, g_{43} : 0, g_{68} : 0, g_{13} : 0, g_{16} : 0, g_{15} : 0, g_{23} : 0, g_{45} : 0, g_{79} : 0, g_{17} : 0, g_{25} : 0, g_{26} : 0, g_{46} : 0, g_{61} : 0, g_{41} : 0, g_{52} : 0, g_{62} : 0, g_{67} : 0, g_{89} : 0, g_{56} : 0, g_{21} : 0, g_{81} : 0, g_{87} : 0, g_{32} : 0, g_{54} : 0, g_{36} : 0, g_{34} : 0\\right\\}$"
      ],
      "text/plain": [
       "{g19: 0,\n",
       " g18: 0,\n",
       " g39: 0,\n",
       " g31: 0,\n",
       " g29: 0,\n",
       " g37: 0,\n",
       " g28: 0,\n",
       " g48: 0,\n",
       " g51: 0,\n",
       " g59: 0,\n",
       " g57: 0,\n",
       " g49: 0,\n",
       " g69: 0,\n",
       " g78: 0,\n",
       " g27: 0,\n",
       " g38: 0,\n",
       " g47: 0,\n",
       " g58: 0,\n",
       " g43: 0,\n",
       " g68: 0,\n",
       " g13: 0,\n",
       " g16: 0,\n",
       " g15: 0,\n",
       " g23: 0,\n",
       " g45: 0,\n",
       " g79: 0,\n",
       " g17: 0,\n",
       " g25: 0,\n",
       " g26: 0,\n",
       " g46: 0,\n",
       " g61: 0,\n",
       " g41: 0,\n",
       " g52: 0,\n",
       " g62: 0,\n",
       " g67: 0,\n",
       " g89: 0,\n",
       " g56: 0,\n",
       " g21: 0,\n",
       " g81: 0,\n",
       " g87: 0,\n",
       " g32: 0,\n",
       " g54: 0,\n",
       " g36: 0,\n",
       " g34: 0}"
      ]
     },
     "metadata": {},
     "output_type": "display_data"
    },
    {
     "name": "stdout",
     "output_type": "stream",
     "text": [
      "Input the lenght parameter (an integer between 0 and 4):1\n",
      "Working with matrix 1\n",
      "No equation found of desired length.\n",
      "Working with matrix 2\n",
      "No equation found of desired length.\n",
      "Working with matrix 3\n",
      "No equation found of desired length.\n",
      "Working with matrix 4\n",
      "No equation found of desired length.\n",
      "Working with matrix 5\n",
      "No equation found of desired length.\n",
      "Working with matrix 6\n",
      "No equation found of desired length.\n",
      "Working with matrix 7\n",
      "No equation found of desired length.\n",
      "Working with matrix 8\n",
      "No equation found of desired length.\n",
      "Working with matrix 9\n"
     ]
    },
    {
     "data": {
      "text/html": [
       "<html>\\(\\displaystyle 2 g_{63}\\)</html>"
      ],
      "text/latex": [
       "$\\displaystyle 2 g_{63}$"
      ],
      "text/plain": [
       "2*g63"
      ]
     },
     "metadata": {},
     "output_type": "display_data"
    },
    {
     "name": "stdout",
     "output_type": "stream",
     "text": [
      "Would you like to accept this equation? ([Y]/N): y\n",
      "eqns_dic = \n"
     ]
    },
    {
     "data": {
      "text/html": [
       "<html>\\(\\displaystyle \\left\\{g_{19} : 0, g_{18} : 0, g_{39} : 0, g_{31} : 0, g_{29} : 0, g_{37} : 0, g_{28} : 0, g_{48} : 0, g_{51} : 0, g_{59} : 0, g_{57} : 0, g_{49} : 0, g_{69} : 0, g_{78} : 0, g_{27} : 0, g_{38} : 0, g_{47} : 0, g_{58} : 0, g_{43} : 0, g_{68} : 0, g_{13} : 0, g_{16} : 0, g_{15} : 0, g_{23} : 0, g_{45} : 0, g_{79} : 0, g_{17} : 0, g_{25} : 0, g_{26} : 0, g_{46} : 0, g_{61} : 0, g_{41} : 0, g_{52} : 0, g_{62} : 0, g_{67} : 0, g_{89} : 0, g_{56} : 0, g_{21} : 0, g_{81} : 0, g_{87} : 0, g_{32} : 0, g_{54} : 0, g_{36} : 0, g_{34} : 0, g_{63} : 0\\right\\}\\)</html>"
      ],
      "text/latex": [
       "$\\displaystyle \\left\\{g_{19} : 0, g_{18} : 0, g_{39} : 0, g_{31} : 0, g_{29} : 0, g_{37} : 0, g_{28} : 0, g_{48} : 0, g_{51} : 0, g_{59} : 0, g_{57} : 0, g_{49} : 0, g_{69} : 0, g_{78} : 0, g_{27} : 0, g_{38} : 0, g_{47} : 0, g_{58} : 0, g_{43} : 0, g_{68} : 0, g_{13} : 0, g_{16} : 0, g_{15} : 0, g_{23} : 0, g_{45} : 0, g_{79} : 0, g_{17} : 0, g_{25} : 0, g_{26} : 0, g_{46} : 0, g_{61} : 0, g_{41} : 0, g_{52} : 0, g_{62} : 0, g_{67} : 0, g_{89} : 0, g_{56} : 0, g_{21} : 0, g_{81} : 0, g_{87} : 0, g_{32} : 0, g_{54} : 0, g_{36} : 0, g_{34} : 0, g_{63} : 0\\right\\}$"
      ],
      "text/plain": [
       "{g19: 0,\n",
       " g18: 0,\n",
       " g39: 0,\n",
       " g31: 0,\n",
       " g29: 0,\n",
       " g37: 0,\n",
       " g28: 0,\n",
       " g48: 0,\n",
       " g51: 0,\n",
       " g59: 0,\n",
       " g57: 0,\n",
       " g49: 0,\n",
       " g69: 0,\n",
       " g78: 0,\n",
       " g27: 0,\n",
       " g38: 0,\n",
       " g47: 0,\n",
       " g58: 0,\n",
       " g43: 0,\n",
       " g68: 0,\n",
       " g13: 0,\n",
       " g16: 0,\n",
       " g15: 0,\n",
       " g23: 0,\n",
       " g45: 0,\n",
       " g79: 0,\n",
       " g17: 0,\n",
       " g25: 0,\n",
       " g26: 0,\n",
       " g46: 0,\n",
       " g61: 0,\n",
       " g41: 0,\n",
       " g52: 0,\n",
       " g62: 0,\n",
       " g67: 0,\n",
       " g89: 0,\n",
       " g56: 0,\n",
       " g21: 0,\n",
       " g81: 0,\n",
       " g87: 0,\n",
       " g32: 0,\n",
       " g54: 0,\n",
       " g36: 0,\n",
       " g34: 0,\n",
       " g63: 0}"
      ]
     },
     "metadata": {},
     "output_type": "display_data"
    },
    {
     "name": "stdout",
     "output_type": "stream",
     "text": [
      "Input the lenght parameter (an integer between 0 and 4):1\n",
      "Working with matrix 1\n",
      "No equation found of desired length.\n",
      "Working with matrix 2\n",
      "No equation found of desired length.\n",
      "Working with matrix 3\n",
      "No equation found of desired length.\n",
      "Working with matrix 4\n",
      "No equation found of desired length.\n",
      "Working with matrix 5\n",
      "No equation found of desired length.\n",
      "Working with matrix 6\n",
      "No equation found of desired length.\n",
      "Working with matrix 7\n",
      "No equation found of desired length.\n",
      "Working with matrix 8\n",
      "No equation found of desired length.\n",
      "Working with matrix 9\n",
      "No equation found of desired length.\n",
      "Working with matrix 10\n",
      "No equation found of desired length.\n",
      "Working with matrix 11\n",
      "No equation found of desired length.\n",
      "Working with matrix 12\n",
      "No equation found of desired length.\n",
      "Working with matrix 13\n",
      "No equation found of desired length.\n",
      "Working with matrix 14\n",
      "No equation found of desired length.\n",
      "Working with matrix 15\n",
      "No equation found of desired length.\n",
      "Working with matrix 16\n",
      "No equation found of desired length.\n",
      "Working with matrix 17\n",
      "No equation found of desired length.\n",
      "Working with matrix 18\n",
      "No equation found of desired length.\n",
      "Input the lenght parameter (an integer between 0 and 4):2\n",
      "Working with matrix 1\n"
     ]
    },
    {
     "data": {
      "text/html": [
       "<html>\\(\\displaystyle g_{84} - g_{86}\\)</html>"
      ],
      "text/latex": [
       "$\\displaystyle g_{84} - g_{86}$"
      ],
      "text/plain": [
       "g84 - g86"
      ]
     },
     "metadata": {},
     "output_type": "display_data"
    },
    {
     "name": "stdout",
     "output_type": "stream",
     "text": [
      "Would you like to accept this equation? ([Y]/N): y\n",
      "eqns_dic = \n"
     ]
    },
    {
     "data": {
      "text/html": [
       "<html>\\(\\displaystyle \\left\\{g_{19} : 0, g_{18} : 0, g_{39} : 0, g_{31} : 0, g_{29} : 0, g_{37} : 0, g_{28} : 0, g_{48} : 0, g_{51} : 0, g_{59} : 0, g_{57} : 0, g_{49} : 0, g_{69} : 0, g_{78} : 0, g_{27} : 0, g_{38} : 0, g_{47} : 0, g_{58} : 0, g_{43} : 0, g_{68} : 0, g_{13} : 0, g_{16} : 0, g_{15} : 0, g_{23} : 0, g_{45} : 0, g_{79} : 0, g_{17} : 0, g_{25} : 0, g_{26} : 0, g_{46} : 0, g_{61} : 0, g_{41} : 0, g_{52} : 0, g_{62} : 0, g_{67} : 0, g_{89} : 0, g_{56} : 0, g_{21} : 0, g_{81} : 0, g_{87} : 0, g_{32} : 0, g_{54} : 0, g_{36} : 0, g_{34} : 0, g_{63} : 0, g_{84} : g_{86}\\right\\}\\)</html>"
      ],
      "text/latex": [
       "$\\displaystyle \\left\\{g_{19} : 0, g_{18} : 0, g_{39} : 0, g_{31} : 0, g_{29} : 0, g_{37} : 0, g_{28} : 0, g_{48} : 0, g_{51} : 0, g_{59} : 0, g_{57} : 0, g_{49} : 0, g_{69} : 0, g_{78} : 0, g_{27} : 0, g_{38} : 0, g_{47} : 0, g_{58} : 0, g_{43} : 0, g_{68} : 0, g_{13} : 0, g_{16} : 0, g_{15} : 0, g_{23} : 0, g_{45} : 0, g_{79} : 0, g_{17} : 0, g_{25} : 0, g_{26} : 0, g_{46} : 0, g_{61} : 0, g_{41} : 0, g_{52} : 0, g_{62} : 0, g_{67} : 0, g_{89} : 0, g_{56} : 0, g_{21} : 0, g_{81} : 0, g_{87} : 0, g_{32} : 0, g_{54} : 0, g_{36} : 0, g_{34} : 0, g_{63} : 0, g_{84} : g_{86}\\right\\}$"
      ],
      "text/plain": [
       "{g19: 0,\n",
       " g18: 0,\n",
       " g39: 0,\n",
       " g31: 0,\n",
       " g29: 0,\n",
       " g37: 0,\n",
       " g28: 0,\n",
       " g48: 0,\n",
       " g51: 0,\n",
       " g59: 0,\n",
       " g57: 0,\n",
       " g49: 0,\n",
       " g69: 0,\n",
       " g78: 0,\n",
       " g27: 0,\n",
       " g38: 0,\n",
       " g47: 0,\n",
       " g58: 0,\n",
       " g43: 0,\n",
       " g68: 0,\n",
       " g13: 0,\n",
       " g16: 0,\n",
       " g15: 0,\n",
       " g23: 0,\n",
       " g45: 0,\n",
       " g79: 0,\n",
       " g17: 0,\n",
       " g25: 0,\n",
       " g26: 0,\n",
       " g46: 0,\n",
       " g61: 0,\n",
       " g41: 0,\n",
       " g52: 0,\n",
       " g62: 0,\n",
       " g67: 0,\n",
       " g89: 0,\n",
       " g56: 0,\n",
       " g21: 0,\n",
       " g81: 0,\n",
       " g87: 0,\n",
       " g32: 0,\n",
       " g54: 0,\n",
       " g36: 0,\n",
       " g34: 0,\n",
       " g63: 0,\n",
       " g84: g86}"
      ]
     },
     "metadata": {},
     "output_type": "display_data"
    },
    {
     "name": "stdout",
     "output_type": "stream",
     "text": [
      "Input the lenght parameter (an integer between 0 and 4):1\n",
      "Working with matrix 1\n",
      "No equation found of desired length.\n",
      "Working with matrix 2\n",
      "No equation found of desired length.\n",
      "Working with matrix 3\n",
      "No equation found of desired length.\n",
      "Working with matrix 4\n",
      "No equation found of desired length.\n",
      "Working with matrix 5\n",
      "No equation found of desired length.\n",
      "Working with matrix 6\n",
      "No equation found of desired length.\n",
      "Working with matrix 7\n",
      "No equation found of desired length.\n",
      "Working with matrix 8\n",
      "No equation found of desired length.\n",
      "Working with matrix 9\n",
      "No equation found of desired length.\n",
      "Working with matrix 10\n",
      "No equation found of desired length.\n",
      "Working with matrix 11\n",
      "No equation found of desired length.\n",
      "Working with matrix 12\n",
      "No equation found of desired length.\n",
      "Working with matrix 13\n",
      "No equation found of desired length.\n",
      "Working with matrix 14\n",
      "No equation found of desired length.\n",
      "Working with matrix 15\n",
      "No equation found of desired length.\n",
      "Working with matrix 16\n",
      "No equation found of desired length.\n",
      "Working with matrix 17\n",
      "No equation found of desired length.\n",
      "Working with matrix 18\n",
      "No equation found of desired length.\n",
      "Input the lenght parameter (an integer between 0 and 4):2\n",
      "Working with matrix 1\n",
      "No equation found of desired length.\n",
      "Working with matrix 2\n"
     ]
    },
    {
     "data": {
      "text/html": [
       "<html>\\(\\displaystyle -g_{82} + g_{86}\\)</html>"
      ],
      "text/latex": [
       "$\\displaystyle -g_{82} + g_{86}$"
      ],
      "text/plain": [
       "-g82 + g86"
      ]
     },
     "metadata": {},
     "output_type": "display_data"
    },
    {
     "name": "stdout",
     "output_type": "stream",
     "text": [
      "Would you like to accept this equation? ([Y]/N): y\n",
      "eqns_dic = \n"
     ]
    },
    {
     "data": {
      "text/html": [
       "<html>\\(\\displaystyle \\left\\{g_{19} : 0, g_{18} : 0, g_{39} : 0, g_{31} : 0, g_{29} : 0, g_{37} : 0, g_{28} : 0, g_{48} : 0, g_{51} : 0, g_{59} : 0, g_{57} : 0, g_{49} : 0, g_{69} : 0, g_{78} : 0, g_{27} : 0, g_{38} : 0, g_{47} : 0, g_{58} : 0, g_{43} : 0, g_{68} : 0, g_{13} : 0, g_{16} : 0, g_{15} : 0, g_{23} : 0, g_{45} : 0, g_{79} : 0, g_{17} : 0, g_{25} : 0, g_{26} : 0, g_{46} : 0, g_{61} : 0, g_{41} : 0, g_{52} : 0, g_{62} : 0, g_{67} : 0, g_{89} : 0, g_{56} : 0, g_{21} : 0, g_{81} : 0, g_{87} : 0, g_{32} : 0, g_{54} : 0, g_{36} : 0, g_{34} : 0, g_{63} : 0, g_{84} : g_{86}, g_{82} : g_{86}\\right\\}\\)</html>"
      ],
      "text/latex": [
       "$\\displaystyle \\left\\{g_{19} : 0, g_{18} : 0, g_{39} : 0, g_{31} : 0, g_{29} : 0, g_{37} : 0, g_{28} : 0, g_{48} : 0, g_{51} : 0, g_{59} : 0, g_{57} : 0, g_{49} : 0, g_{69} : 0, g_{78} : 0, g_{27} : 0, g_{38} : 0, g_{47} : 0, g_{58} : 0, g_{43} : 0, g_{68} : 0, g_{13} : 0, g_{16} : 0, g_{15} : 0, g_{23} : 0, g_{45} : 0, g_{79} : 0, g_{17} : 0, g_{25} : 0, g_{26} : 0, g_{46} : 0, g_{61} : 0, g_{41} : 0, g_{52} : 0, g_{62} : 0, g_{67} : 0, g_{89} : 0, g_{56} : 0, g_{21} : 0, g_{81} : 0, g_{87} : 0, g_{32} : 0, g_{54} : 0, g_{36} : 0, g_{34} : 0, g_{63} : 0, g_{84} : g_{86}, g_{82} : g_{86}\\right\\}$"
      ],
      "text/plain": [
       "{g19: 0,\n",
       " g18: 0,\n",
       " g39: 0,\n",
       " g31: 0,\n",
       " g29: 0,\n",
       " g37: 0,\n",
       " g28: 0,\n",
       " g48: 0,\n",
       " g51: 0,\n",
       " g59: 0,\n",
       " g57: 0,\n",
       " g49: 0,\n",
       " g69: 0,\n",
       " g78: 0,\n",
       " g27: 0,\n",
       " g38: 0,\n",
       " g47: 0,\n",
       " g58: 0,\n",
       " g43: 0,\n",
       " g68: 0,\n",
       " g13: 0,\n",
       " g16: 0,\n",
       " g15: 0,\n",
       " g23: 0,\n",
       " g45: 0,\n",
       " g79: 0,\n",
       " g17: 0,\n",
       " g25: 0,\n",
       " g26: 0,\n",
       " g46: 0,\n",
       " g61: 0,\n",
       " g41: 0,\n",
       " g52: 0,\n",
       " g62: 0,\n",
       " g67: 0,\n",
       " g89: 0,\n",
       " g56: 0,\n",
       " g21: 0,\n",
       " g81: 0,\n",
       " g87: 0,\n",
       " g32: 0,\n",
       " g54: 0,\n",
       " g36: 0,\n",
       " g34: 0,\n",
       " g63: 0,\n",
       " g84: g86,\n",
       " g82: g86}"
      ]
     },
     "metadata": {},
     "output_type": "display_data"
    },
    {
     "name": "stdout",
     "output_type": "stream",
     "text": [
      "Input the lenght parameter (an integer between 0 and 4):2\n",
      "Working with matrix 1\n",
      "No equation found of desired length.\n",
      "Working with matrix 2\n",
      "No equation found of desired length.\n",
      "Working with matrix 3\n"
     ]
    },
    {
     "data": {
      "text/html": [
       "<html>\\(\\displaystyle -g_{42} + g_{53}\\)</html>"
      ],
      "text/latex": [
       "$\\displaystyle -g_{42} + g_{53}$"
      ],
      "text/plain": [
       "-g42 + g53"
      ]
     },
     "metadata": {},
     "output_type": "display_data"
    },
    {
     "name": "stdout",
     "output_type": "stream",
     "text": [
      "Would you like to accept this equation? ([Y]/N): y\n",
      "eqns_dic = \n"
     ]
    },
    {
     "data": {
      "text/html": [
       "<html>\\(\\displaystyle \\left\\{g_{19} : 0, g_{18} : 0, g_{39} : 0, g_{31} : 0, g_{29} : 0, g_{37} : 0, g_{28} : 0, g_{48} : 0, g_{51} : 0, g_{59} : 0, g_{57} : 0, g_{49} : 0, g_{69} : 0, g_{78} : 0, g_{27} : 0, g_{38} : 0, g_{47} : 0, g_{58} : 0, g_{43} : 0, g_{68} : 0, g_{13} : 0, g_{16} : 0, g_{15} : 0, g_{23} : 0, g_{45} : 0, g_{79} : 0, g_{17} : 0, g_{25} : 0, g_{26} : 0, g_{46} : 0, g_{61} : 0, g_{41} : 0, g_{52} : 0, g_{62} : 0, g_{67} : 0, g_{89} : 0, g_{56} : 0, g_{21} : 0, g_{81} : 0, g_{87} : 0, g_{32} : 0, g_{54} : 0, g_{36} : 0, g_{34} : 0, g_{63} : 0, g_{84} : g_{86}, g_{82} : g_{86}, g_{42} : g_{53}\\right\\}\\)</html>"
      ],
      "text/latex": [
       "$\\displaystyle \\left\\{g_{19} : 0, g_{18} : 0, g_{39} : 0, g_{31} : 0, g_{29} : 0, g_{37} : 0, g_{28} : 0, g_{48} : 0, g_{51} : 0, g_{59} : 0, g_{57} : 0, g_{49} : 0, g_{69} : 0, g_{78} : 0, g_{27} : 0, g_{38} : 0, g_{47} : 0, g_{58} : 0, g_{43} : 0, g_{68} : 0, g_{13} : 0, g_{16} : 0, g_{15} : 0, g_{23} : 0, g_{45} : 0, g_{79} : 0, g_{17} : 0, g_{25} : 0, g_{26} : 0, g_{46} : 0, g_{61} : 0, g_{41} : 0, g_{52} : 0, g_{62} : 0, g_{67} : 0, g_{89} : 0, g_{56} : 0, g_{21} : 0, g_{81} : 0, g_{87} : 0, g_{32} : 0, g_{54} : 0, g_{36} : 0, g_{34} : 0, g_{63} : 0, g_{84} : g_{86}, g_{82} : g_{86}, g_{42} : g_{53}\\right\\}$"
      ],
      "text/plain": [
       "{g19: 0,\n",
       " g18: 0,\n",
       " g39: 0,\n",
       " g31: 0,\n",
       " g29: 0,\n",
       " g37: 0,\n",
       " g28: 0,\n",
       " g48: 0,\n",
       " g51: 0,\n",
       " g59: 0,\n",
       " g57: 0,\n",
       " g49: 0,\n",
       " g69: 0,\n",
       " g78: 0,\n",
       " g27: 0,\n",
       " g38: 0,\n",
       " g47: 0,\n",
       " g58: 0,\n",
       " g43: 0,\n",
       " g68: 0,\n",
       " g13: 0,\n",
       " g16: 0,\n",
       " g15: 0,\n",
       " g23: 0,\n",
       " g45: 0,\n",
       " g79: 0,\n",
       " g17: 0,\n",
       " g25: 0,\n",
       " g26: 0,\n",
       " g46: 0,\n",
       " g61: 0,\n",
       " g41: 0,\n",
       " g52: 0,\n",
       " g62: 0,\n",
       " g67: 0,\n",
       " g89: 0,\n",
       " g56: 0,\n",
       " g21: 0,\n",
       " g81: 0,\n",
       " g87: 0,\n",
       " g32: 0,\n",
       " g54: 0,\n",
       " g36: 0,\n",
       " g34: 0,\n",
       " g63: 0,\n",
       " g84: g86,\n",
       " g82: g86,\n",
       " g42: g53}"
      ]
     },
     "metadata": {},
     "output_type": "display_data"
    },
    {
     "name": "stdout",
     "output_type": "stream",
     "text": [
      "Input the lenght parameter (an integer between 0 and 4):1\n",
      "Working with matrix 1\n",
      "No equation found of desired length.\n",
      "Working with matrix 2\n",
      "No equation found of desired length.\n",
      "Working with matrix 3\n",
      "No equation found of desired length.\n",
      "Working with matrix 4\n",
      "No equation found of desired length.\n",
      "Working with matrix 5\n",
      "No equation found of desired length.\n",
      "Working with matrix 6\n",
      "No equation found of desired length.\n",
      "Working with matrix 7\n",
      "No equation found of desired length.\n",
      "Working with matrix 8\n",
      "No equation found of desired length.\n",
      "Working with matrix 9\n",
      "No equation found of desired length.\n",
      "Working with matrix 10\n",
      "No equation found of desired length.\n",
      "Working with matrix 11\n",
      "No equation found of desired length.\n",
      "Working with matrix 12\n",
      "No equation found of desired length.\n",
      "Working with matrix 13\n",
      "No equation found of desired length.\n",
      "Working with matrix 14\n",
      "No equation found of desired length.\n",
      "Working with matrix 15\n",
      "No equation found of desired length.\n",
      "Working with matrix 16\n",
      "No equation found of desired length.\n",
      "Working with matrix 17\n",
      "No equation found of desired length.\n",
      "Working with matrix 18\n",
      "No equation found of desired length.\n",
      "Input the lenght parameter (an integer between 0 and 4):2\n",
      "Working with matrix 1\n",
      "No equation found of desired length.\n",
      "Working with matrix 2\n",
      "No equation found of desired length.\n",
      "Working with matrix 3\n",
      "No equation found of desired length.\n",
      "Working with matrix 4\n",
      "No equation found of desired length.\n",
      "Working with matrix 5\n",
      "No equation found of desired length.\n",
      "Working with matrix 6\n"
     ]
    },
    {
     "data": {
      "text/html": [
       "<html>\\(\\displaystyle -g_{24} + g_{35}\\)</html>"
      ],
      "text/latex": [
       "$\\displaystyle -g_{24} + g_{35}$"
      ],
      "text/plain": [
       "-g24 + g35"
      ]
     },
     "metadata": {},
     "output_type": "display_data"
    },
    {
     "name": "stdout",
     "output_type": "stream",
     "text": [
      "Would you like to accept this equation? ([Y]/N): no\n",
      "If you'd like to search in a different matrix then enter: 'change'\n",
      "Would you like to input the polynomial yourself? (Y/[N]):change\n",
      "Going to work with another matrix.\n",
      "Working with matrix 7\n"
     ]
    },
    {
     "data": {
      "text/html": [
       "<html>\\(\\displaystyle -g_{71} + g_{91}\\)</html>"
      ],
      "text/latex": [
       "$\\displaystyle -g_{71} + g_{91}$"
      ],
      "text/plain": [
       "-g71 + g91"
      ]
     },
     "metadata": {},
     "output_type": "display_data"
    },
    {
     "name": "stdout",
     "output_type": "stream",
     "text": [
      "Would you like to accept this equation? ([Y]/N): y\n",
      "eqns_dic = \n"
     ]
    },
    {
     "data": {
      "text/html": [
       "<html>\\(\\displaystyle \\left\\{g_{19} : 0, g_{18} : 0, g_{39} : 0, g_{31} : 0, g_{29} : 0, g_{37} : 0, g_{28} : 0, g_{48} : 0, g_{51} : 0, g_{59} : 0, g_{57} : 0, g_{49} : 0, g_{69} : 0, g_{78} : 0, g_{27} : 0, g_{38} : 0, g_{47} : 0, g_{58} : 0, g_{43} : 0, g_{68} : 0, g_{13} : 0, g_{16} : 0, g_{15} : 0, g_{23} : 0, g_{45} : 0, g_{79} : 0, g_{17} : 0, g_{25} : 0, g_{26} : 0, g_{46} : 0, g_{61} : 0, g_{41} : 0, g_{52} : 0, g_{62} : 0, g_{67} : 0, g_{89} : 0, g_{56} : 0, g_{21} : 0, g_{81} : 0, g_{87} : 0, g_{32} : 0, g_{54} : 0, g_{36} : 0, g_{34} : 0, g_{63} : 0, g_{84} : g_{86}, g_{82} : g_{86}, g_{42} : g_{53}, g_{71} : g_{91}\\right\\}\\)</html>"
      ],
      "text/latex": [
       "$\\displaystyle \\left\\{g_{19} : 0, g_{18} : 0, g_{39} : 0, g_{31} : 0, g_{29} : 0, g_{37} : 0, g_{28} : 0, g_{48} : 0, g_{51} : 0, g_{59} : 0, g_{57} : 0, g_{49} : 0, g_{69} : 0, g_{78} : 0, g_{27} : 0, g_{38} : 0, g_{47} : 0, g_{58} : 0, g_{43} : 0, g_{68} : 0, g_{13} : 0, g_{16} : 0, g_{15} : 0, g_{23} : 0, g_{45} : 0, g_{79} : 0, g_{17} : 0, g_{25} : 0, g_{26} : 0, g_{46} : 0, g_{61} : 0, g_{41} : 0, g_{52} : 0, g_{62} : 0, g_{67} : 0, g_{89} : 0, g_{56} : 0, g_{21} : 0, g_{81} : 0, g_{87} : 0, g_{32} : 0, g_{54} : 0, g_{36} : 0, g_{34} : 0, g_{63} : 0, g_{84} : g_{86}, g_{82} : g_{86}, g_{42} : g_{53}, g_{71} : g_{91}\\right\\}$"
      ],
      "text/plain": [
       "{g19: 0,\n",
       " g18: 0,\n",
       " g39: 0,\n",
       " g31: 0,\n",
       " g29: 0,\n",
       " g37: 0,\n",
       " g28: 0,\n",
       " g48: 0,\n",
       " g51: 0,\n",
       " g59: 0,\n",
       " g57: 0,\n",
       " g49: 0,\n",
       " g69: 0,\n",
       " g78: 0,\n",
       " g27: 0,\n",
       " g38: 0,\n",
       " g47: 0,\n",
       " g58: 0,\n",
       " g43: 0,\n",
       " g68: 0,\n",
       " g13: 0,\n",
       " g16: 0,\n",
       " g15: 0,\n",
       " g23: 0,\n",
       " g45: 0,\n",
       " g79: 0,\n",
       " g17: 0,\n",
       " g25: 0,\n",
       " g26: 0,\n",
       " g46: 0,\n",
       " g61: 0,\n",
       " g41: 0,\n",
       " g52: 0,\n",
       " g62: 0,\n",
       " g67: 0,\n",
       " g89: 0,\n",
       " g56: 0,\n",
       " g21: 0,\n",
       " g81: 0,\n",
       " g87: 0,\n",
       " g32: 0,\n",
       " g54: 0,\n",
       " g36: 0,\n",
       " g34: 0,\n",
       " g63: 0,\n",
       " g84: g86,\n",
       " g82: g86,\n",
       " g42: g53,\n",
       " g71: g91}"
      ]
     },
     "metadata": {},
     "output_type": "display_data"
    },
    {
     "name": "stdout",
     "output_type": "stream",
     "text": [
      "Input the lenght parameter (an integer between 0 and 4):1\n",
      "Working with matrix 1\n",
      "No equation found of desired length.\n",
      "Working with matrix 2\n",
      "No equation found of desired length.\n",
      "Working with matrix 3\n",
      "No equation found of desired length.\n",
      "Working with matrix 4\n",
      "No equation found of desired length.\n",
      "Working with matrix 5\n",
      "No equation found of desired length.\n",
      "Working with matrix 6\n",
      "No equation found of desired length.\n",
      "Working with matrix 7\n",
      "No equation found of desired length.\n",
      "Working with matrix 8\n",
      "No equation found of desired length.\n",
      "Working with matrix 9\n",
      "No equation found of desired length.\n",
      "Working with matrix 10\n",
      "No equation found of desired length.\n",
      "Working with matrix 11\n",
      "No equation found of desired length.\n",
      "Working with matrix 12\n",
      "No equation found of desired length.\n",
      "Working with matrix 13\n",
      "No equation found of desired length.\n",
      "Working with matrix 14\n",
      "No equation found of desired length.\n",
      "Working with matrix 15\n",
      "No equation found of desired length.\n",
      "Working with matrix 16\n",
      "No equation found of desired length.\n",
      "Working with matrix 17\n",
      "No equation found of desired length.\n",
      "Working with matrix 18\n",
      "No equation found of desired length.\n",
      "Input the lenght parameter (an integer between 0 and 4):1\n",
      "Working with matrix 1\n",
      "No equation found of desired length.\n",
      "Working with matrix 2\n",
      "No equation found of desired length.\n",
      "Working with matrix 3\n",
      "No equation found of desired length.\n",
      "Working with matrix 4\n",
      "No equation found of desired length.\n",
      "Working with matrix 5\n",
      "No equation found of desired length.\n",
      "Working with matrix 6\n",
      "No equation found of desired length.\n",
      "Working with matrix 7\n",
      "No equation found of desired length.\n",
      "Working with matrix 8\n",
      "No equation found of desired length.\n",
      "Working with matrix 9\n",
      "No equation found of desired length.\n",
      "Working with matrix 10\n",
      "No equation found of desired length.\n",
      "Working with matrix 11\n",
      "No equation found of desired length.\n",
      "Working with matrix 12\n",
      "No equation found of desired length.\n",
      "Working with matrix 13\n",
      "No equation found of desired length.\n",
      "Working with matrix 14\n",
      "No equation found of desired length.\n",
      "Working with matrix 15\n",
      "No equation found of desired length.\n",
      "Working with matrix 16\n",
      "No equation found of desired length.\n",
      "Working with matrix 17\n",
      "No equation found of desired length.\n",
      "Working with matrix 18\n",
      "No equation found of desired length.\n",
      "Input the lenght parameter (an integer between 0 and 4):2\n",
      "Working with matrix 1\n",
      "No equation found of desired length.\n",
      "Working with matrix 2\n",
      "No equation found of desired length.\n",
      "Working with matrix 3\n",
      "No equation found of desired length.\n",
      "Working with matrix 4\n",
      "No equation found of desired length.\n",
      "Working with matrix 5\n",
      "No equation found of desired length.\n",
      "Working with matrix 6\n"
     ]
    },
    {
     "data": {
      "text/html": [
       "<html>\\(\\displaystyle -8 g_{24} + 8 g_{35}\\)</html>"
      ],
      "text/latex": [
       "$\\displaystyle -8 g_{24} + 8 g_{35}$"
      ],
      "text/plain": [
       "-8*g24 + 8*g35"
      ]
     },
     "metadata": {},
     "output_type": "display_data"
    },
    {
     "name": "stdout",
     "output_type": "stream",
     "text": [
      "Would you like to accept this equation? ([Y]/N): no\n",
      "If you'd like to search in a different matrix then enter: 'change'\n",
      "Would you like to input the polynomial yourself? (Y/[N]):change\n",
      "Going to work with another matrix.\n",
      "Working with matrix 7\n"
     ]
    },
    {
     "data": {
      "text/html": [
       "<html>\\(\\displaystyle 2 g_{92} - 2 g_{93}\\)</html>"
      ],
      "text/latex": [
       "$\\displaystyle 2 g_{92} - 2 g_{93}$"
      ],
      "text/plain": [
       "2*g92 - 2*g93"
      ]
     },
     "metadata": {},
     "output_type": "display_data"
    },
    {
     "name": "stdout",
     "output_type": "stream",
     "text": [
      "Would you like to accept this equation? ([Y]/N): y\n",
      "eqns_dic = \n"
     ]
    },
    {
     "data": {
      "text/html": [
       "<html>\\(\\displaystyle \\left\\{g_{19} : 0, g_{18} : 0, g_{39} : 0, g_{31} : 0, g_{29} : 0, g_{37} : 0, g_{28} : 0, g_{48} : 0, g_{51} : 0, g_{59} : 0, g_{57} : 0, g_{49} : 0, g_{69} : 0, g_{78} : 0, g_{27} : 0, g_{38} : 0, g_{47} : 0, g_{58} : 0, g_{43} : 0, g_{68} : 0, g_{13} : 0, g_{16} : 0, g_{15} : 0, g_{23} : 0, g_{45} : 0, g_{79} : 0, g_{17} : 0, g_{25} : 0, g_{26} : 0, g_{46} : 0, g_{61} : 0, g_{41} : 0, g_{52} : 0, g_{62} : 0, g_{67} : 0, g_{89} : 0, g_{56} : 0, g_{21} : 0, g_{81} : 0, g_{87} : 0, g_{32} : 0, g_{54} : 0, g_{36} : 0, g_{34} : 0, g_{63} : 0, g_{84} : g_{86}, g_{82} : g_{86}, g_{42} : g_{53}, g_{71} : g_{91}, g_{92} : g_{93}\\right\\}\\)</html>"
      ],
      "text/latex": [
       "$\\displaystyle \\left\\{g_{19} : 0, g_{18} : 0, g_{39} : 0, g_{31} : 0, g_{29} : 0, g_{37} : 0, g_{28} : 0, g_{48} : 0, g_{51} : 0, g_{59} : 0, g_{57} : 0, g_{49} : 0, g_{69} : 0, g_{78} : 0, g_{27} : 0, g_{38} : 0, g_{47} : 0, g_{58} : 0, g_{43} : 0, g_{68} : 0, g_{13} : 0, g_{16} : 0, g_{15} : 0, g_{23} : 0, g_{45} : 0, g_{79} : 0, g_{17} : 0, g_{25} : 0, g_{26} : 0, g_{46} : 0, g_{61} : 0, g_{41} : 0, g_{52} : 0, g_{62} : 0, g_{67} : 0, g_{89} : 0, g_{56} : 0, g_{21} : 0, g_{81} : 0, g_{87} : 0, g_{32} : 0, g_{54} : 0, g_{36} : 0, g_{34} : 0, g_{63} : 0, g_{84} : g_{86}, g_{82} : g_{86}, g_{42} : g_{53}, g_{71} : g_{91}, g_{92} : g_{93}\\right\\}$"
      ],
      "text/plain": [
       "{g19: 0,\n",
       " g18: 0,\n",
       " g39: 0,\n",
       " g31: 0,\n",
       " g29: 0,\n",
       " g37: 0,\n",
       " g28: 0,\n",
       " g48: 0,\n",
       " g51: 0,\n",
       " g59: 0,\n",
       " g57: 0,\n",
       " g49: 0,\n",
       " g69: 0,\n",
       " g78: 0,\n",
       " g27: 0,\n",
       " g38: 0,\n",
       " g47: 0,\n",
       " g58: 0,\n",
       " g43: 0,\n",
       " g68: 0,\n",
       " g13: 0,\n",
       " g16: 0,\n",
       " g15: 0,\n",
       " g23: 0,\n",
       " g45: 0,\n",
       " g79: 0,\n",
       " g17: 0,\n",
       " g25: 0,\n",
       " g26: 0,\n",
       " g46: 0,\n",
       " g61: 0,\n",
       " g41: 0,\n",
       " g52: 0,\n",
       " g62: 0,\n",
       " g67: 0,\n",
       " g89: 0,\n",
       " g56: 0,\n",
       " g21: 0,\n",
       " g81: 0,\n",
       " g87: 0,\n",
       " g32: 0,\n",
       " g54: 0,\n",
       " g36: 0,\n",
       " g34: 0,\n",
       " g63: 0,\n",
       " g84: g86,\n",
       " g82: g86,\n",
       " g42: g53,\n",
       " g71: g91,\n",
       " g92: g93}"
      ]
     },
     "metadata": {},
     "output_type": "display_data"
    },
    {
     "name": "stdout",
     "output_type": "stream",
     "text": [
      "Input the lenght parameter (an integer between 0 and 4):1\n",
      "Working with matrix 1\n",
      "No equation found of desired length.\n",
      "Working with matrix 2\n",
      "No equation found of desired length.\n",
      "Working with matrix 3\n",
      "No equation found of desired length.\n",
      "Working with matrix 4\n",
      "No equation found of desired length.\n",
      "Working with matrix 5\n",
      "No equation found of desired length.\n",
      "Working with matrix 6\n",
      "No equation found of desired length.\n",
      "Working with matrix 7\n",
      "No equation found of desired length.\n",
      "Working with matrix 8\n",
      "No equation found of desired length.\n",
      "Working with matrix 9\n",
      "No equation found of desired length.\n",
      "Working with matrix 10\n",
      "No equation found of desired length.\n",
      "Working with matrix 11\n",
      "No equation found of desired length.\n",
      "Working with matrix 12\n",
      "No equation found of desired length.\n",
      "Working with matrix 13\n",
      "No equation found of desired length.\n",
      "Working with matrix 14\n",
      "No equation found of desired length.\n",
      "Working with matrix 15\n",
      "No equation found of desired length.\n",
      "Working with matrix 16\n",
      "No equation found of desired length.\n",
      "Working with matrix 17\n",
      "No equation found of desired length.\n",
      "Working with matrix 18\n",
      "No equation found of desired length.\n",
      "Input the lenght parameter (an integer between 0 and 4):2\n",
      "Working with matrix 1\n",
      "No equation found of desired length.\n",
      "Working with matrix 2\n",
      "No equation found of desired length.\n",
      "Working with matrix 3\n",
      "No equation found of desired length.\n",
      "Working with matrix 4\n",
      "No equation found of desired length.\n",
      "Working with matrix 5\n",
      "No equation found of desired length.\n",
      "Working with matrix 6\n"
     ]
    },
    {
     "data": {
      "text/html": [
       "<html>\\(\\displaystyle -2 g_{24} + 2 g_{35}\\)</html>"
      ],
      "text/latex": [
       "$\\displaystyle -2 g_{24} + 2 g_{35}$"
      ],
      "text/plain": [
       "-2*g24 + 2*g35"
      ]
     },
     "metadata": {},
     "output_type": "display_data"
    },
    {
     "name": "stdout",
     "output_type": "stream",
     "text": [
      "Would you like to accept this equation? ([Y]/N): no\n",
      "If you'd like to search in a different matrix then enter: 'change'\n",
      "Would you like to input the polynomial yourself? (Y/[N]):change\n",
      "Going to work with another matrix.\n",
      "Working with matrix 7\n"
     ]
    },
    {
     "data": {
      "text/html": [
       "<html>\\(\\displaystyle g_{73} - g_{98}\\)</html>"
      ],
      "text/latex": [
       "$\\displaystyle g_{73} - g_{98}$"
      ],
      "text/plain": [
       "g73 - g98"
      ]
     },
     "metadata": {},
     "output_type": "display_data"
    },
    {
     "name": "stdout",
     "output_type": "stream",
     "text": [
      "Would you like to accept this equation? ([Y]/N): y\n",
      "eqns_dic = \n"
     ]
    },
    {
     "data": {
      "text/html": [
       "<html>\\(\\displaystyle \\left\\{g_{19} : 0, g_{18} : 0, g_{39} : 0, g_{31} : 0, g_{29} : 0, g_{37} : 0, g_{28} : 0, g_{48} : 0, g_{51} : 0, g_{59} : 0, g_{57} : 0, g_{49} : 0, g_{69} : 0, g_{78} : 0, g_{27} : 0, g_{38} : 0, g_{47} : 0, g_{58} : 0, g_{43} : 0, g_{68} : 0, g_{13} : 0, g_{16} : 0, g_{15} : 0, g_{23} : 0, g_{45} : 0, g_{79} : 0, g_{17} : 0, g_{25} : 0, g_{26} : 0, g_{46} : 0, g_{61} : 0, g_{41} : 0, g_{52} : 0, g_{62} : 0, g_{67} : 0, g_{89} : 0, g_{56} : 0, g_{21} : 0, g_{81} : 0, g_{87} : 0, g_{32} : 0, g_{54} : 0, g_{36} : 0, g_{34} : 0, g_{63} : 0, g_{84} : g_{86}, g_{82} : g_{86}, g_{42} : g_{53}, g_{71} : g_{91}, g_{92} : g_{93}, g_{73} : g_{98}\\right\\}\\)</html>"
      ],
      "text/latex": [
       "$\\displaystyle \\left\\{g_{19} : 0, g_{18} : 0, g_{39} : 0, g_{31} : 0, g_{29} : 0, g_{37} : 0, g_{28} : 0, g_{48} : 0, g_{51} : 0, g_{59} : 0, g_{57} : 0, g_{49} : 0, g_{69} : 0, g_{78} : 0, g_{27} : 0, g_{38} : 0, g_{47} : 0, g_{58} : 0, g_{43} : 0, g_{68} : 0, g_{13} : 0, g_{16} : 0, g_{15} : 0, g_{23} : 0, g_{45} : 0, g_{79} : 0, g_{17} : 0, g_{25} : 0, g_{26} : 0, g_{46} : 0, g_{61} : 0, g_{41} : 0, g_{52} : 0, g_{62} : 0, g_{67} : 0, g_{89} : 0, g_{56} : 0, g_{21} : 0, g_{81} : 0, g_{87} : 0, g_{32} : 0, g_{54} : 0, g_{36} : 0, g_{34} : 0, g_{63} : 0, g_{84} : g_{86}, g_{82} : g_{86}, g_{42} : g_{53}, g_{71} : g_{91}, g_{92} : g_{93}, g_{73} : g_{98}\\right\\}$"
      ],
      "text/plain": [
       "{g19: 0,\n",
       " g18: 0,\n",
       " g39: 0,\n",
       " g31: 0,\n",
       " g29: 0,\n",
       " g37: 0,\n",
       " g28: 0,\n",
       " g48: 0,\n",
       " g51: 0,\n",
       " g59: 0,\n",
       " g57: 0,\n",
       " g49: 0,\n",
       " g69: 0,\n",
       " g78: 0,\n",
       " g27: 0,\n",
       " g38: 0,\n",
       " g47: 0,\n",
       " g58: 0,\n",
       " g43: 0,\n",
       " g68: 0,\n",
       " g13: 0,\n",
       " g16: 0,\n",
       " g15: 0,\n",
       " g23: 0,\n",
       " g45: 0,\n",
       " g79: 0,\n",
       " g17: 0,\n",
       " g25: 0,\n",
       " g26: 0,\n",
       " g46: 0,\n",
       " g61: 0,\n",
       " g41: 0,\n",
       " g52: 0,\n",
       " g62: 0,\n",
       " g67: 0,\n",
       " g89: 0,\n",
       " g56: 0,\n",
       " g21: 0,\n",
       " g81: 0,\n",
       " g87: 0,\n",
       " g32: 0,\n",
       " g54: 0,\n",
       " g36: 0,\n",
       " g34: 0,\n",
       " g63: 0,\n",
       " g84: g86,\n",
       " g82: g86,\n",
       " g42: g53,\n",
       " g71: g91,\n",
       " g92: g93,\n",
       " g73: g98}"
      ]
     },
     "metadata": {},
     "output_type": "display_data"
    },
    {
     "name": "stdout",
     "output_type": "stream",
     "text": [
      "Input the lenght parameter (an integer between 0 and 4):1\n",
      "Working with matrix 1\n",
      "No equation found of desired length.\n",
      "Working with matrix 2\n",
      "No equation found of desired length.\n",
      "Working with matrix 3\n",
      "No equation found of desired length.\n",
      "Working with matrix 4\n",
      "No equation found of desired length.\n",
      "Working with matrix 5\n",
      "No equation found of desired length.\n",
      "Working with matrix 6\n",
      "No equation found of desired length.\n",
      "Working with matrix 7\n",
      "No equation found of desired length.\n",
      "Working with matrix 8\n",
      "No equation found of desired length.\n",
      "Working with matrix 9\n",
      "No equation found of desired length.\n",
      "Working with matrix 10\n",
      "No equation found of desired length.\n",
      "Working with matrix 11\n",
      "No equation found of desired length.\n",
      "Working with matrix 12\n",
      "No equation found of desired length.\n",
      "Working with matrix 13\n",
      "No equation found of desired length.\n",
      "Working with matrix 14\n",
      "No equation found of desired length.\n",
      "Working with matrix 15\n",
      "No equation found of desired length.\n",
      "Working with matrix 16\n",
      "No equation found of desired length.\n",
      "Working with matrix 17\n",
      "No equation found of desired length.\n",
      "Working with matrix 18\n",
      "No equation found of desired length.\n",
      "Input the lenght parameter (an integer between 0 and 4):2\n",
      "Working with matrix 1\n",
      "No equation found of desired length.\n",
      "Working with matrix 2\n",
      "No equation found of desired length.\n",
      "Working with matrix 3\n",
      "No equation found of desired length.\n",
      "Working with matrix 4\n",
      "No equation found of desired length.\n",
      "Working with matrix 5\n",
      "No equation found of desired length.\n",
      "Working with matrix 6\n"
     ]
    },
    {
     "data": {
      "text/html": [
       "<html>\\(\\displaystyle g_{24} - g_{35}\\)</html>"
      ],
      "text/latex": [
       "$\\displaystyle g_{24} - g_{35}$"
      ],
      "text/plain": [
       "g24 - g35"
      ]
     },
     "metadata": {},
     "output_type": "display_data"
    },
    {
     "name": "stdout",
     "output_type": "stream",
     "text": [
      "Would you like to accept this equation? ([Y]/N): no\n",
      "If you'd like to search in a different matrix then enter: 'change'\n",
      "Would you like to input the polynomial yourself? (Y/[N]):change\n",
      "Going to work with another matrix.\n",
      "Working with matrix 7\n"
     ]
    },
    {
     "data": {
      "text/html": [
       "<html>\\(\\displaystyle g_{94} - g_{95}\\)</html>"
      ],
      "text/latex": [
       "$\\displaystyle g_{94} - g_{95}$"
      ],
      "text/plain": [
       "g94 - g95"
      ]
     },
     "metadata": {},
     "output_type": "display_data"
    },
    {
     "name": "stdout",
     "output_type": "stream",
     "text": [
      "Would you like to accept this equation? ([Y]/N): y\n",
      "eqns_dic = \n"
     ]
    },
    {
     "data": {
      "text/html": [
       "<html>\\(\\displaystyle \\left\\{g_{19} : 0, g_{18} : 0, g_{39} : 0, g_{31} : 0, g_{29} : 0, g_{37} : 0, g_{28} : 0, g_{48} : 0, g_{51} : 0, g_{59} : 0, g_{57} : 0, g_{49} : 0, g_{69} : 0, g_{78} : 0, g_{27} : 0, g_{38} : 0, g_{47} : 0, g_{58} : 0, g_{43} : 0, g_{68} : 0, g_{13} : 0, g_{16} : 0, g_{15} : 0, g_{23} : 0, g_{45} : 0, g_{79} : 0, g_{17} : 0, g_{25} : 0, g_{26} : 0, g_{46} : 0, g_{61} : 0, g_{41} : 0, g_{52} : 0, g_{62} : 0, g_{67} : 0, g_{89} : 0, g_{56} : 0, g_{21} : 0, g_{81} : 0, g_{87} : 0, g_{32} : 0, g_{54} : 0, g_{36} : 0, g_{34} : 0, g_{63} : 0, g_{84} : g_{86}, g_{82} : g_{86}, g_{42} : g_{53}, g_{71} : g_{91}, g_{92} : g_{93}, g_{73} : g_{98}, g_{94} : g_{95}\\right\\}\\)</html>"
      ],
      "text/latex": [
       "$\\displaystyle \\left\\{g_{19} : 0, g_{18} : 0, g_{39} : 0, g_{31} : 0, g_{29} : 0, g_{37} : 0, g_{28} : 0, g_{48} : 0, g_{51} : 0, g_{59} : 0, g_{57} : 0, g_{49} : 0, g_{69} : 0, g_{78} : 0, g_{27} : 0, g_{38} : 0, g_{47} : 0, g_{58} : 0, g_{43} : 0, g_{68} : 0, g_{13} : 0, g_{16} : 0, g_{15} : 0, g_{23} : 0, g_{45} : 0, g_{79} : 0, g_{17} : 0, g_{25} : 0, g_{26} : 0, g_{46} : 0, g_{61} : 0, g_{41} : 0, g_{52} : 0, g_{62} : 0, g_{67} : 0, g_{89} : 0, g_{56} : 0, g_{21} : 0, g_{81} : 0, g_{87} : 0, g_{32} : 0, g_{54} : 0, g_{36} : 0, g_{34} : 0, g_{63} : 0, g_{84} : g_{86}, g_{82} : g_{86}, g_{42} : g_{53}, g_{71} : g_{91}, g_{92} : g_{93}, g_{73} : g_{98}, g_{94} : g_{95}\\right\\}$"
      ],
      "text/plain": [
       "{g19: 0,\n",
       " g18: 0,\n",
       " g39: 0,\n",
       " g31: 0,\n",
       " g29: 0,\n",
       " g37: 0,\n",
       " g28: 0,\n",
       " g48: 0,\n",
       " g51: 0,\n",
       " g59: 0,\n",
       " g57: 0,\n",
       " g49: 0,\n",
       " g69: 0,\n",
       " g78: 0,\n",
       " g27: 0,\n",
       " g38: 0,\n",
       " g47: 0,\n",
       " g58: 0,\n",
       " g43: 0,\n",
       " g68: 0,\n",
       " g13: 0,\n",
       " g16: 0,\n",
       " g15: 0,\n",
       " g23: 0,\n",
       " g45: 0,\n",
       " g79: 0,\n",
       " g17: 0,\n",
       " g25: 0,\n",
       " g26: 0,\n",
       " g46: 0,\n",
       " g61: 0,\n",
       " g41: 0,\n",
       " g52: 0,\n",
       " g62: 0,\n",
       " g67: 0,\n",
       " g89: 0,\n",
       " g56: 0,\n",
       " g21: 0,\n",
       " g81: 0,\n",
       " g87: 0,\n",
       " g32: 0,\n",
       " g54: 0,\n",
       " g36: 0,\n",
       " g34: 0,\n",
       " g63: 0,\n",
       " g84: g86,\n",
       " g82: g86,\n",
       " g42: g53,\n",
       " g71: g91,\n",
       " g92: g93,\n",
       " g73: g98,\n",
       " g94: g95}"
      ]
     },
     "metadata": {},
     "output_type": "display_data"
    },
    {
     "name": "stdout",
     "output_type": "stream",
     "text": [
      "Input the lenght parameter (an integer between 0 and 4):1\n",
      "Working with matrix 1\n",
      "No equation found of desired length.\n",
      "Working with matrix 2\n",
      "No equation found of desired length.\n",
      "Working with matrix 3\n",
      "No equation found of desired length.\n",
      "Working with matrix 4\n",
      "No equation found of desired length.\n",
      "Working with matrix 5\n",
      "No equation found of desired length.\n",
      "Working with matrix 6\n",
      "No equation found of desired length.\n",
      "Working with matrix 7\n",
      "No equation found of desired length.\n",
      "Working with matrix 8\n",
      "No equation found of desired length.\n",
      "Working with matrix 9\n",
      "No equation found of desired length.\n",
      "Working with matrix 10\n",
      "No equation found of desired length.\n",
      "Working with matrix 11\n",
      "No equation found of desired length.\n",
      "Working with matrix 12\n",
      "No equation found of desired length.\n",
      "Working with matrix 13\n",
      "No equation found of desired length.\n",
      "Working with matrix 14\n",
      "No equation found of desired length.\n",
      "Working with matrix 15\n",
      "No equation found of desired length.\n",
      "Working with matrix 16\n",
      "No equation found of desired length.\n",
      "Working with matrix 17\n",
      "No equation found of desired length.\n",
      "Working with matrix 18\n",
      "No equation found of desired length.\n",
      "Input the lenght parameter (an integer between 0 and 4):2\n",
      "Working with matrix 1\n",
      "No equation found of desired length.\n",
      "Working with matrix 2\n",
      "No equation found of desired length.\n",
      "Working with matrix 3\n",
      "No equation found of desired length.\n",
      "Working with matrix 4\n",
      "No equation found of desired length.\n",
      "Working with matrix 5\n",
      "No equation found of desired length.\n",
      "Working with matrix 6\n"
     ]
    },
    {
     "data": {
      "text/html": [
       "<html>\\(\\displaystyle g_{24} - g_{35}\\)</html>"
      ],
      "text/latex": [
       "$\\displaystyle g_{24} - g_{35}$"
      ],
      "text/plain": [
       "g24 - g35"
      ]
     },
     "metadata": {},
     "output_type": "display_data"
    },
    {
     "name": "stdout",
     "output_type": "stream",
     "text": [
      "Would you like to accept this equation? ([Y]/N): no\n",
      "If you'd like to search in a different matrix then enter: 'change'\n",
      "Would you like to input the polynomial yourself? (Y/[N]):change\n",
      "Going to work with another matrix.\n",
      "Working with matrix 7\n",
      "No equation found of desired length.\n",
      "Working with matrix 8\n"
     ]
    },
    {
     "data": {
      "text/html": [
       "<html>\\(\\displaystyle g_{53} - g_{91}\\)</html>"
      ],
      "text/latex": [
       "$\\displaystyle g_{53} - g_{91}$"
      ],
      "text/plain": [
       "g53 - g91"
      ]
     },
     "metadata": {},
     "output_type": "display_data"
    },
    {
     "name": "stdout",
     "output_type": "stream",
     "text": [
      "Would you like to accept this equation? ([Y]/N): y\n",
      "eqns_dic = \n"
     ]
    },
    {
     "data": {
      "text/html": [
       "<html>\\(\\displaystyle \\left\\{g_{19} : 0, g_{18} : 0, g_{39} : 0, g_{31} : 0, g_{29} : 0, g_{37} : 0, g_{28} : 0, g_{48} : 0, g_{51} : 0, g_{59} : 0, g_{57} : 0, g_{49} : 0, g_{69} : 0, g_{78} : 0, g_{27} : 0, g_{38} : 0, g_{47} : 0, g_{58} : 0, g_{43} : 0, g_{68} : 0, g_{13} : 0, g_{16} : 0, g_{15} : 0, g_{23} : 0, g_{45} : 0, g_{79} : 0, g_{17} : 0, g_{25} : 0, g_{26} : 0, g_{46} : 0, g_{61} : 0, g_{41} : 0, g_{52} : 0, g_{62} : 0, g_{67} : 0, g_{89} : 0, g_{56} : 0, g_{21} : 0, g_{81} : 0, g_{87} : 0, g_{32} : 0, g_{54} : 0, g_{36} : 0, g_{34} : 0, g_{63} : 0, g_{84} : g_{86}, g_{82} : g_{86}, g_{42} : g_{91}, g_{71} : g_{91}, g_{92} : g_{93}, g_{73} : g_{98}, g_{94} : g_{95}, g_{53} : g_{91}\\right\\}\\)</html>"
      ],
      "text/latex": [
       "$\\displaystyle \\left\\{g_{19} : 0, g_{18} : 0, g_{39} : 0, g_{31} : 0, g_{29} : 0, g_{37} : 0, g_{28} : 0, g_{48} : 0, g_{51} : 0, g_{59} : 0, g_{57} : 0, g_{49} : 0, g_{69} : 0, g_{78} : 0, g_{27} : 0, g_{38} : 0, g_{47} : 0, g_{58} : 0, g_{43} : 0, g_{68} : 0, g_{13} : 0, g_{16} : 0, g_{15} : 0, g_{23} : 0, g_{45} : 0, g_{79} : 0, g_{17} : 0, g_{25} : 0, g_{26} : 0, g_{46} : 0, g_{61} : 0, g_{41} : 0, g_{52} : 0, g_{62} : 0, g_{67} : 0, g_{89} : 0, g_{56} : 0, g_{21} : 0, g_{81} : 0, g_{87} : 0, g_{32} : 0, g_{54} : 0, g_{36} : 0, g_{34} : 0, g_{63} : 0, g_{84} : g_{86}, g_{82} : g_{86}, g_{42} : g_{91}, g_{71} : g_{91}, g_{92} : g_{93}, g_{73} : g_{98}, g_{94} : g_{95}, g_{53} : g_{91}\\right\\}$"
      ],
      "text/plain": [
       "{g19: 0,\n",
       " g18: 0,\n",
       " g39: 0,\n",
       " g31: 0,\n",
       " g29: 0,\n",
       " g37: 0,\n",
       " g28: 0,\n",
       " g48: 0,\n",
       " g51: 0,\n",
       " g59: 0,\n",
       " g57: 0,\n",
       " g49: 0,\n",
       " g69: 0,\n",
       " g78: 0,\n",
       " g27: 0,\n",
       " g38: 0,\n",
       " g47: 0,\n",
       " g58: 0,\n",
       " g43: 0,\n",
       " g68: 0,\n",
       " g13: 0,\n",
       " g16: 0,\n",
       " g15: 0,\n",
       " g23: 0,\n",
       " g45: 0,\n",
       " g79: 0,\n",
       " g17: 0,\n",
       " g25: 0,\n",
       " g26: 0,\n",
       " g46: 0,\n",
       " g61: 0,\n",
       " g41: 0,\n",
       " g52: 0,\n",
       " g62: 0,\n",
       " g67: 0,\n",
       " g89: 0,\n",
       " g56: 0,\n",
       " g21: 0,\n",
       " g81: 0,\n",
       " g87: 0,\n",
       " g32: 0,\n",
       " g54: 0,\n",
       " g36: 0,\n",
       " g34: 0,\n",
       " g63: 0,\n",
       " g84: g86,\n",
       " g82: g86,\n",
       " g42: g91,\n",
       " g71: g91,\n",
       " g92: g93,\n",
       " g73: g98,\n",
       " g94: g95,\n",
       " g53: g91}"
      ]
     },
     "metadata": {},
     "output_type": "display_data"
    },
    {
     "name": "stdout",
     "output_type": "stream",
     "text": [
      "Input the lenght parameter (an integer between 0 and 4):1\n",
      "Working with matrix 1\n",
      "No equation found of desired length.\n",
      "Working with matrix 2\n",
      "No equation found of desired length.\n",
      "Working with matrix 3\n",
      "No equation found of desired length.\n",
      "Working with matrix 4\n",
      "No equation found of desired length.\n",
      "Working with matrix 5\n",
      "No equation found of desired length.\n",
      "Working with matrix 6\n",
      "No equation found of desired length.\n",
      "Working with matrix 7\n",
      "No equation found of desired length.\n",
      "Working with matrix 8\n",
      "No equation found of desired length.\n",
      "Working with matrix 9\n",
      "No equation found of desired length.\n",
      "Working with matrix 10\n",
      "No equation found of desired length.\n",
      "Working with matrix 11\n",
      "No equation found of desired length.\n",
      "Working with matrix 12\n",
      "No equation found of desired length.\n",
      "Working with matrix 13\n",
      "No equation found of desired length.\n",
      "Working with matrix 14\n",
      "No equation found of desired length.\n",
      "Working with matrix 15\n",
      "No equation found of desired length.\n",
      "Working with matrix 16\n",
      "No equation found of desired length.\n",
      "Working with matrix 17\n",
      "No equation found of desired length.\n",
      "Working with matrix 18\n",
      "No equation found of desired length.\n",
      "Input the lenght parameter (an integer between 0 and 4):2\n",
      "Working with matrix 1\n",
      "No equation found of desired length.\n",
      "Working with matrix 2\n",
      "No equation found of desired length.\n",
      "Working with matrix 3\n",
      "No equation found of desired length.\n",
      "Working with matrix 4\n",
      "No equation found of desired length.\n",
      "Working with matrix 5\n",
      "No equation found of desired length.\n",
      "Working with matrix 6\n"
     ]
    },
    {
     "data": {
      "text/html": [
       "<html>\\(\\displaystyle -g_{24} + g_{35}\\)</html>"
      ],
      "text/latex": [
       "$\\displaystyle -g_{24} + g_{35}$"
      ],
      "text/plain": [
       "-g24 + g35"
      ]
     },
     "metadata": {},
     "output_type": "display_data"
    },
    {
     "name": "stdout",
     "output_type": "stream",
     "text": [
      "Would you like to accept this equation? ([Y]/N): no\n",
      "If you'd like to search in a different matrix then enter: 'change'\n",
      "Would you like to input the polynomial yourself? (Y/[N]):change\n",
      "Going to work with another matrix.\n",
      "Working with matrix 7\n",
      "No equation found of desired length.\n",
      "Working with matrix 8\n"
     ]
    },
    {
     "data": {
      "text/html": [
       "<html>\\(\\displaystyle -g_{91} + g_{98}\\)</html>"
      ],
      "text/latex": [
       "$\\displaystyle -g_{91} + g_{98}$"
      ],
      "text/plain": [
       "-g91 + g98"
      ]
     },
     "metadata": {},
     "output_type": "display_data"
    },
    {
     "name": "stdout",
     "output_type": "stream",
     "text": [
      "Would you like to accept this equation? ([Y]/N): y\n",
      "eqns_dic = \n"
     ]
    },
    {
     "data": {
      "text/html": [
       "<html>\\(\\displaystyle \\left\\{g_{19} : 0, g_{18} : 0, g_{39} : 0, g_{31} : 0, g_{29} : 0, g_{37} : 0, g_{28} : 0, g_{48} : 0, g_{51} : 0, g_{59} : 0, g_{57} : 0, g_{49} : 0, g_{69} : 0, g_{78} : 0, g_{27} : 0, g_{38} : 0, g_{47} : 0, g_{58} : 0, g_{43} : 0, g_{68} : 0, g_{13} : 0, g_{16} : 0, g_{15} : 0, g_{23} : 0, g_{45} : 0, g_{79} : 0, g_{17} : 0, g_{25} : 0, g_{26} : 0, g_{46} : 0, g_{61} : 0, g_{41} : 0, g_{52} : 0, g_{62} : 0, g_{67} : 0, g_{89} : 0, g_{56} : 0, g_{21} : 0, g_{81} : 0, g_{87} : 0, g_{32} : 0, g_{54} : 0, g_{36} : 0, g_{34} : 0, g_{63} : 0, g_{84} : g_{86}, g_{82} : g_{86}, g_{42} : g_{98}, g_{71} : g_{98}, g_{92} : g_{93}, g_{73} : g_{98}, g_{94} : g_{95}, g_{53} : g_{98}, g_{91} : g_{98}\\right\\}\\)</html>"
      ],
      "text/latex": [
       "$\\displaystyle \\left\\{g_{19} : 0, g_{18} : 0, g_{39} : 0, g_{31} : 0, g_{29} : 0, g_{37} : 0, g_{28} : 0, g_{48} : 0, g_{51} : 0, g_{59} : 0, g_{57} : 0, g_{49} : 0, g_{69} : 0, g_{78} : 0, g_{27} : 0, g_{38} : 0, g_{47} : 0, g_{58} : 0, g_{43} : 0, g_{68} : 0, g_{13} : 0, g_{16} : 0, g_{15} : 0, g_{23} : 0, g_{45} : 0, g_{79} : 0, g_{17} : 0, g_{25} : 0, g_{26} : 0, g_{46} : 0, g_{61} : 0, g_{41} : 0, g_{52} : 0, g_{62} : 0, g_{67} : 0, g_{89} : 0, g_{56} : 0, g_{21} : 0, g_{81} : 0, g_{87} : 0, g_{32} : 0, g_{54} : 0, g_{36} : 0, g_{34} : 0, g_{63} : 0, g_{84} : g_{86}, g_{82} : g_{86}, g_{42} : g_{98}, g_{71} : g_{98}, g_{92} : g_{93}, g_{73} : g_{98}, g_{94} : g_{95}, g_{53} : g_{98}, g_{91} : g_{98}\\right\\}$"
      ],
      "text/plain": [
       "{g19: 0,\n",
       " g18: 0,\n",
       " g39: 0,\n",
       " g31: 0,\n",
       " g29: 0,\n",
       " g37: 0,\n",
       " g28: 0,\n",
       " g48: 0,\n",
       " g51: 0,\n",
       " g59: 0,\n",
       " g57: 0,\n",
       " g49: 0,\n",
       " g69: 0,\n",
       " g78: 0,\n",
       " g27: 0,\n",
       " g38: 0,\n",
       " g47: 0,\n",
       " g58: 0,\n",
       " g43: 0,\n",
       " g68: 0,\n",
       " g13: 0,\n",
       " g16: 0,\n",
       " g15: 0,\n",
       " g23: 0,\n",
       " g45: 0,\n",
       " g79: 0,\n",
       " g17: 0,\n",
       " g25: 0,\n",
       " g26: 0,\n",
       " g46: 0,\n",
       " g61: 0,\n",
       " g41: 0,\n",
       " g52: 0,\n",
       " g62: 0,\n",
       " g67: 0,\n",
       " g89: 0,\n",
       " g56: 0,\n",
       " g21: 0,\n",
       " g81: 0,\n",
       " g87: 0,\n",
       " g32: 0,\n",
       " g54: 0,\n",
       " g36: 0,\n",
       " g34: 0,\n",
       " g63: 0,\n",
       " g84: g86,\n",
       " g82: g86,\n",
       " g42: g98,\n",
       " g71: g98,\n",
       " g92: g93,\n",
       " g73: g98,\n",
       " g94: g95,\n",
       " g53: g98,\n",
       " g91: g98}"
      ]
     },
     "metadata": {},
     "output_type": "display_data"
    },
    {
     "name": "stdout",
     "output_type": "stream",
     "text": [
      "Input the lenght parameter (an integer between 0 and 4):1\n",
      "Working with matrix 1\n",
      "No equation found of desired length.\n",
      "Working with matrix 2\n",
      "No equation found of desired length.\n",
      "Working with matrix 3\n",
      "No equation found of desired length.\n",
      "Working with matrix 4\n",
      "No equation found of desired length.\n",
      "Working with matrix 5\n",
      "No equation found of desired length.\n",
      "Working with matrix 6\n",
      "No equation found of desired length.\n",
      "Working with matrix 7\n",
      "No equation found of desired length.\n",
      "Working with matrix 8\n",
      "No equation found of desired length.\n",
      "Working with matrix 9\n",
      "No equation found of desired length.\n",
      "Working with matrix 10\n",
      "No equation found of desired length.\n",
      "Working with matrix 11\n",
      "No equation found of desired length.\n",
      "Working with matrix 12\n",
      "No equation found of desired length.\n",
      "Working with matrix 13\n",
      "No equation found of desired length.\n",
      "Working with matrix 14\n",
      "No equation found of desired length.\n",
      "Working with matrix 15\n",
      "No equation found of desired length.\n",
      "Working with matrix 16\n",
      "No equation found of desired length.\n",
      "Working with matrix 17\n",
      "No equation found of desired length.\n",
      "Working with matrix 18\n",
      "No equation found of desired length.\n",
      "Input the lenght parameter (an integer between 0 and 4):2\n",
      "Working with matrix 1\n",
      "No equation found of desired length.\n",
      "Working with matrix 2\n",
      "No equation found of desired length.\n",
      "Working with matrix 3\n",
      "No equation found of desired length.\n",
      "Working with matrix 4\n",
      "No equation found of desired length.\n",
      "Working with matrix 5\n",
      "No equation found of desired length.\n",
      "Working with matrix 6\n"
     ]
    },
    {
     "data": {
      "text/html": [
       "<html>\\(\\displaystyle 3 g_{24} - 3 g_{35}\\)</html>"
      ],
      "text/latex": [
       "$\\displaystyle 3 g_{24} - 3 g_{35}$"
      ],
      "text/plain": [
       "3*g24 - 3*g35"
      ]
     },
     "metadata": {},
     "output_type": "display_data"
    },
    {
     "name": "stdout",
     "output_type": "stream",
     "text": [
      "Would you like to accept this equation? ([Y]/N): no\n",
      "If you'd like to search in a different matrix then enter: 'change'\n",
      "Would you like to input the polynomial yourself? (Y/[N]):change\n",
      "Going to work with another matrix.\n",
      "Working with matrix 7\n"
     ]
    },
    {
     "data": {
      "text/html": [
       "<html>\\(\\displaystyle 2 g_{72} - 2 g_{93}\\)</html>"
      ],
      "text/latex": [
       "$\\displaystyle 2 g_{72} - 2 g_{93}$"
      ],
      "text/plain": [
       "2*g72 - 2*g93"
      ]
     },
     "metadata": {},
     "output_type": "display_data"
    },
    {
     "name": "stdout",
     "output_type": "stream",
     "text": [
      "Would you like to accept this equation? ([Y]/N): y\n",
      "eqns_dic = \n"
     ]
    },
    {
     "data": {
      "text/html": [
       "<html>\\(\\displaystyle \\left\\{g_{19} : 0, g_{18} : 0, g_{39} : 0, g_{31} : 0, g_{29} : 0, g_{37} : 0, g_{28} : 0, g_{48} : 0, g_{51} : 0, g_{59} : 0, g_{57} : 0, g_{49} : 0, g_{69} : 0, g_{78} : 0, g_{27} : 0, g_{38} : 0, g_{47} : 0, g_{58} : 0, g_{43} : 0, g_{68} : 0, g_{13} : 0, g_{16} : 0, g_{15} : 0, g_{23} : 0, g_{45} : 0, g_{79} : 0, g_{17} : 0, g_{25} : 0, g_{26} : 0, g_{46} : 0, g_{61} : 0, g_{41} : 0, g_{52} : 0, g_{62} : 0, g_{67} : 0, g_{89} : 0, g_{56} : 0, g_{21} : 0, g_{81} : 0, g_{87} : 0, g_{32} : 0, g_{54} : 0, g_{36} : 0, g_{34} : 0, g_{63} : 0, g_{84} : g_{86}, g_{82} : g_{86}, g_{42} : g_{98}, g_{71} : g_{98}, g_{92} : g_{93}, g_{73} : g_{98}, g_{94} : g_{95}, g_{53} : g_{98}, g_{91} : g_{98}, g_{72} : g_{93}\\right\\}\\)</html>"
      ],
      "text/latex": [
       "$\\displaystyle \\left\\{g_{19} : 0, g_{18} : 0, g_{39} : 0, g_{31} : 0, g_{29} : 0, g_{37} : 0, g_{28} : 0, g_{48} : 0, g_{51} : 0, g_{59} : 0, g_{57} : 0, g_{49} : 0, g_{69} : 0, g_{78} : 0, g_{27} : 0, g_{38} : 0, g_{47} : 0, g_{58} : 0, g_{43} : 0, g_{68} : 0, g_{13} : 0, g_{16} : 0, g_{15} : 0, g_{23} : 0, g_{45} : 0, g_{79} : 0, g_{17} : 0, g_{25} : 0, g_{26} : 0, g_{46} : 0, g_{61} : 0, g_{41} : 0, g_{52} : 0, g_{62} : 0, g_{67} : 0, g_{89} : 0, g_{56} : 0, g_{21} : 0, g_{81} : 0, g_{87} : 0, g_{32} : 0, g_{54} : 0, g_{36} : 0, g_{34} : 0, g_{63} : 0, g_{84} : g_{86}, g_{82} : g_{86}, g_{42} : g_{98}, g_{71} : g_{98}, g_{92} : g_{93}, g_{73} : g_{98}, g_{94} : g_{95}, g_{53} : g_{98}, g_{91} : g_{98}, g_{72} : g_{93}\\right\\}$"
      ],
      "text/plain": [
       "{g19: 0,\n",
       " g18: 0,\n",
       " g39: 0,\n",
       " g31: 0,\n",
       " g29: 0,\n",
       " g37: 0,\n",
       " g28: 0,\n",
       " g48: 0,\n",
       " g51: 0,\n",
       " g59: 0,\n",
       " g57: 0,\n",
       " g49: 0,\n",
       " g69: 0,\n",
       " g78: 0,\n",
       " g27: 0,\n",
       " g38: 0,\n",
       " g47: 0,\n",
       " g58: 0,\n",
       " g43: 0,\n",
       " g68: 0,\n",
       " g13: 0,\n",
       " g16: 0,\n",
       " g15: 0,\n",
       " g23: 0,\n",
       " g45: 0,\n",
       " g79: 0,\n",
       " g17: 0,\n",
       " g25: 0,\n",
       " g26: 0,\n",
       " g46: 0,\n",
       " g61: 0,\n",
       " g41: 0,\n",
       " g52: 0,\n",
       " g62: 0,\n",
       " g67: 0,\n",
       " g89: 0,\n",
       " g56: 0,\n",
       " g21: 0,\n",
       " g81: 0,\n",
       " g87: 0,\n",
       " g32: 0,\n",
       " g54: 0,\n",
       " g36: 0,\n",
       " g34: 0,\n",
       " g63: 0,\n",
       " g84: g86,\n",
       " g82: g86,\n",
       " g42: g98,\n",
       " g71: g98,\n",
       " g92: g93,\n",
       " g73: g98,\n",
       " g94: g95,\n",
       " g53: g98,\n",
       " g91: g98,\n",
       " g72: g93}"
      ]
     },
     "metadata": {},
     "output_type": "display_data"
    },
    {
     "name": "stdout",
     "output_type": "stream",
     "text": [
      "Input the lenght parameter (an integer between 0 and 4):1\n",
      "Working with matrix 1\n",
      "No equation found of desired length.\n",
      "Working with matrix 2\n",
      "No equation found of desired length.\n",
      "Working with matrix 3\n",
      "No equation found of desired length.\n",
      "Working with matrix 4\n",
      "No equation found of desired length.\n",
      "Working with matrix 5\n",
      "No equation found of desired length.\n",
      "Working with matrix 6\n",
      "No equation found of desired length.\n",
      "Working with matrix 7\n",
      "No equation found of desired length.\n",
      "Working with matrix 8\n",
      "No equation found of desired length.\n",
      "Working with matrix 9\n",
      "No equation found of desired length.\n",
      "Working with matrix 10\n",
      "No equation found of desired length.\n",
      "Working with matrix 11\n",
      "No equation found of desired length.\n",
      "Working with matrix 12\n",
      "No equation found of desired length.\n",
      "Working with matrix 13\n",
      "No equation found of desired length.\n",
      "Working with matrix 14\n",
      "No equation found of desired length.\n",
      "Working with matrix 15\n",
      "No equation found of desired length.\n",
      "Working with matrix 16\n",
      "No equation found of desired length.\n",
      "Working with matrix 17\n",
      "No equation found of desired length.\n",
      "Working with matrix 18\n",
      "No equation found of desired length.\n",
      "Input the lenght parameter (an integer between 0 and 4):2\n",
      "Working with matrix 1\n",
      "No equation found of desired length.\n",
      "Working with matrix 2\n",
      "No equation found of desired length.\n",
      "Working with matrix 3\n",
      "No equation found of desired length.\n",
      "Working with matrix 4\n",
      "No equation found of desired length.\n",
      "Working with matrix 5\n",
      "No equation found of desired length.\n",
      "Working with matrix 6\n"
     ]
    },
    {
     "data": {
      "text/html": [
       "<html>\\(\\displaystyle -2 g_{24} + 2 g_{35}\\)</html>"
      ],
      "text/latex": [
       "$\\displaystyle -2 g_{24} + 2 g_{35}$"
      ],
      "text/plain": [
       "-2*g24 + 2*g35"
      ]
     },
     "metadata": {},
     "output_type": "display_data"
    },
    {
     "name": "stdout",
     "output_type": "stream",
     "text": [
      "Would you like to accept this equation? ([Y]/N): no\n",
      "If you'd like to search in a different matrix then enter: 'change'\n",
      "Would you like to input the polynomial yourself? (Y/[N]):change\n",
      "Going to work with another matrix.\n",
      "Working with matrix 7\n",
      "No equation found of desired length.\n",
      "Working with matrix 8\n"
     ]
    },
    {
     "data": {
      "text/html": [
       "<html>\\(\\displaystyle g_{93} - g_{98}\\)</html>"
      ],
      "text/latex": [
       "$\\displaystyle g_{93} - g_{98}$"
      ],
      "text/plain": [
       "g93 - g98"
      ]
     },
     "metadata": {},
     "output_type": "display_data"
    },
    {
     "name": "stdout",
     "output_type": "stream",
     "text": [
      "Would you like to accept this equation? ([Y]/N): y\n",
      "eqns_dic = \n"
     ]
    },
    {
     "data": {
      "text/html": [
       "<html>\\(\\displaystyle \\left\\{g_{19} : 0, g_{18} : 0, g_{39} : 0, g_{31} : 0, g_{29} : 0, g_{37} : 0, g_{28} : 0, g_{48} : 0, g_{51} : 0, g_{59} : 0, g_{57} : 0, g_{49} : 0, g_{69} : 0, g_{78} : 0, g_{27} : 0, g_{38} : 0, g_{47} : 0, g_{58} : 0, g_{43} : 0, g_{68} : 0, g_{13} : 0, g_{16} : 0, g_{15} : 0, g_{23} : 0, g_{45} : 0, g_{79} : 0, g_{17} : 0, g_{25} : 0, g_{26} : 0, g_{46} : 0, g_{61} : 0, g_{41} : 0, g_{52} : 0, g_{62} : 0, g_{67} : 0, g_{89} : 0, g_{56} : 0, g_{21} : 0, g_{81} : 0, g_{87} : 0, g_{32} : 0, g_{54} : 0, g_{36} : 0, g_{34} : 0, g_{63} : 0, g_{84} : g_{86}, g_{82} : g_{86}, g_{42} : g_{98}, g_{71} : g_{98}, g_{92} : g_{98}, g_{73} : g_{98}, g_{94} : g_{95}, g_{53} : g_{98}, g_{91} : g_{98}, g_{72} : g_{98}, g_{93} : g_{98}\\right\\}\\)</html>"
      ],
      "text/latex": [
       "$\\displaystyle \\left\\{g_{19} : 0, g_{18} : 0, g_{39} : 0, g_{31} : 0, g_{29} : 0, g_{37} : 0, g_{28} : 0, g_{48} : 0, g_{51} : 0, g_{59} : 0, g_{57} : 0, g_{49} : 0, g_{69} : 0, g_{78} : 0, g_{27} : 0, g_{38} : 0, g_{47} : 0, g_{58} : 0, g_{43} : 0, g_{68} : 0, g_{13} : 0, g_{16} : 0, g_{15} : 0, g_{23} : 0, g_{45} : 0, g_{79} : 0, g_{17} : 0, g_{25} : 0, g_{26} : 0, g_{46} : 0, g_{61} : 0, g_{41} : 0, g_{52} : 0, g_{62} : 0, g_{67} : 0, g_{89} : 0, g_{56} : 0, g_{21} : 0, g_{81} : 0, g_{87} : 0, g_{32} : 0, g_{54} : 0, g_{36} : 0, g_{34} : 0, g_{63} : 0, g_{84} : g_{86}, g_{82} : g_{86}, g_{42} : g_{98}, g_{71} : g_{98}, g_{92} : g_{98}, g_{73} : g_{98}, g_{94} : g_{95}, g_{53} : g_{98}, g_{91} : g_{98}, g_{72} : g_{98}, g_{93} : g_{98}\\right\\}$"
      ],
      "text/plain": [
       "{g19: 0,\n",
       " g18: 0,\n",
       " g39: 0,\n",
       " g31: 0,\n",
       " g29: 0,\n",
       " g37: 0,\n",
       " g28: 0,\n",
       " g48: 0,\n",
       " g51: 0,\n",
       " g59: 0,\n",
       " g57: 0,\n",
       " g49: 0,\n",
       " g69: 0,\n",
       " g78: 0,\n",
       " g27: 0,\n",
       " g38: 0,\n",
       " g47: 0,\n",
       " g58: 0,\n",
       " g43: 0,\n",
       " g68: 0,\n",
       " g13: 0,\n",
       " g16: 0,\n",
       " g15: 0,\n",
       " g23: 0,\n",
       " g45: 0,\n",
       " g79: 0,\n",
       " g17: 0,\n",
       " g25: 0,\n",
       " g26: 0,\n",
       " g46: 0,\n",
       " g61: 0,\n",
       " g41: 0,\n",
       " g52: 0,\n",
       " g62: 0,\n",
       " g67: 0,\n",
       " g89: 0,\n",
       " g56: 0,\n",
       " g21: 0,\n",
       " g81: 0,\n",
       " g87: 0,\n",
       " g32: 0,\n",
       " g54: 0,\n",
       " g36: 0,\n",
       " g34: 0,\n",
       " g63: 0,\n",
       " g84: g86,\n",
       " g82: g86,\n",
       " g42: g98,\n",
       " g71: g98,\n",
       " g92: g98,\n",
       " g73: g98,\n",
       " g94: g95,\n",
       " g53: g98,\n",
       " g91: g98,\n",
       " g72: g98,\n",
       " g93: g98}"
      ]
     },
     "metadata": {},
     "output_type": "display_data"
    },
    {
     "name": "stdout",
     "output_type": "stream",
     "text": [
      "Input the lenght parameter (an integer between 0 and 4):1\n",
      "Working with matrix 1\n",
      "No equation found of desired length.\n",
      "Working with matrix 2\n",
      "No equation found of desired length.\n",
      "Working with matrix 3\n",
      "No equation found of desired length.\n",
      "Working with matrix 4\n",
      "No equation found of desired length.\n",
      "Working with matrix 5\n",
      "No equation found of desired length.\n",
      "Working with matrix 6\n",
      "No equation found of desired length.\n",
      "Working with matrix 7\n",
      "No equation found of desired length.\n",
      "Working with matrix 8\n",
      "No equation found of desired length.\n",
      "Working with matrix 9\n",
      "No equation found of desired length.\n",
      "Working with matrix 10\n",
      "No equation found of desired length.\n",
      "Working with matrix 11\n",
      "No equation found of desired length.\n",
      "Working with matrix 12\n",
      "No equation found of desired length.\n",
      "Working with matrix 13\n",
      "No equation found of desired length.\n",
      "Working with matrix 14\n",
      "No equation found of desired length.\n",
      "Working with matrix 15\n",
      "No equation found of desired length.\n",
      "Working with matrix 16\n",
      "No equation found of desired length.\n",
      "Working with matrix 17\n",
      "No equation found of desired length.\n",
      "Working with matrix 18\n",
      "No equation found of desired length.\n",
      "Input the lenght parameter (an integer between 0 and 4):2\n",
      "Working with matrix 1\n",
      "No equation found of desired length.\n",
      "Working with matrix 2\n",
      "No equation found of desired length.\n",
      "Working with matrix 3\n",
      "No equation found of desired length.\n",
      "Working with matrix 4\n",
      "No equation found of desired length.\n",
      "Working with matrix 5\n",
      "No equation found of desired length.\n",
      "Working with matrix 6\n"
     ]
    },
    {
     "data": {
      "text/html": [
       "<html>\\(\\displaystyle -2 g_{24} + 2 g_{35}\\)</html>"
      ],
      "text/latex": [
       "$\\displaystyle -2 g_{24} + 2 g_{35}$"
      ],
      "text/plain": [
       "-2*g24 + 2*g35"
      ]
     },
     "metadata": {},
     "output_type": "display_data"
    },
    {
     "name": "stdout",
     "output_type": "stream",
     "text": [
      "Would you like to accept this equation? ([Y]/N): no\n",
      "If you'd like to search in a different matrix then enter: 'change'\n",
      "Would you like to input the polynomial yourself? (Y/[N]):change\n",
      "Going to work with another matrix.\n",
      "Working with matrix 7\n",
      "No equation found of desired length.\n",
      "Working with matrix 8\n",
      "No equation found of desired length.\n",
      "Working with matrix 9\n"
     ]
    },
    {
     "data": {
      "text/html": [
       "<html>\\(\\displaystyle g_{64} - 2 g_{98}\\)</html>"
      ],
      "text/latex": [
       "$\\displaystyle g_{64} - 2 g_{98}$"
      ],
      "text/plain": [
       "g64 - 2*g98"
      ]
     },
     "metadata": {},
     "output_type": "display_data"
    },
    {
     "name": "stdout",
     "output_type": "stream",
     "text": [
      "Would you like to accept this equation? ([Y]/N): y\n",
      "eqns_dic = \n"
     ]
    },
    {
     "data": {
      "text/html": [
       "<html>\\(\\displaystyle \\left\\{g_{19} : 0, g_{18} : 0, g_{39} : 0, g_{31} : 0, g_{29} : 0, g_{37} : 0, g_{28} : 0, g_{48} : 0, g_{51} : 0, g_{59} : 0, g_{57} : 0, g_{49} : 0, g_{69} : 0, g_{78} : 0, g_{27} : 0, g_{38} : 0, g_{47} : 0, g_{58} : 0, g_{43} : 0, g_{68} : 0, g_{13} : 0, g_{16} : 0, g_{15} : 0, g_{23} : 0, g_{45} : 0, g_{79} : 0, g_{17} : 0, g_{25} : 0, g_{26} : 0, g_{46} : 0, g_{61} : 0, g_{41} : 0, g_{52} : 0, g_{62} : 0, g_{67} : 0, g_{89} : 0, g_{56} : 0, g_{21} : 0, g_{81} : 0, g_{87} : 0, g_{32} : 0, g_{54} : 0, g_{36} : 0, g_{34} : 0, g_{63} : 0, g_{84} : g_{86}, g_{82} : g_{86}, g_{42} : g_{98}, g_{71} : g_{98}, g_{92} : g_{98}, g_{73} : g_{98}, g_{94} : g_{95}, g_{53} : g_{98}, g_{91} : g_{98}, g_{72} : g_{98}, g_{93} : g_{98}, g_{64} : 2 g_{98}\\right\\}\\)</html>"
      ],
      "text/latex": [
       "$\\displaystyle \\left\\{g_{19} : 0, g_{18} : 0, g_{39} : 0, g_{31} : 0, g_{29} : 0, g_{37} : 0, g_{28} : 0, g_{48} : 0, g_{51} : 0, g_{59} : 0, g_{57} : 0, g_{49} : 0, g_{69} : 0, g_{78} : 0, g_{27} : 0, g_{38} : 0, g_{47} : 0, g_{58} : 0, g_{43} : 0, g_{68} : 0, g_{13} : 0, g_{16} : 0, g_{15} : 0, g_{23} : 0, g_{45} : 0, g_{79} : 0, g_{17} : 0, g_{25} : 0, g_{26} : 0, g_{46} : 0, g_{61} : 0, g_{41} : 0, g_{52} : 0, g_{62} : 0, g_{67} : 0, g_{89} : 0, g_{56} : 0, g_{21} : 0, g_{81} : 0, g_{87} : 0, g_{32} : 0, g_{54} : 0, g_{36} : 0, g_{34} : 0, g_{63} : 0, g_{84} : g_{86}, g_{82} : g_{86}, g_{42} : g_{98}, g_{71} : g_{98}, g_{92} : g_{98}, g_{73} : g_{98}, g_{94} : g_{95}, g_{53} : g_{98}, g_{91} : g_{98}, g_{72} : g_{98}, g_{93} : g_{98}, g_{64} : 2 g_{98}\\right\\}$"
      ],
      "text/plain": [
       "{g19: 0,\n",
       " g18: 0,\n",
       " g39: 0,\n",
       " g31: 0,\n",
       " g29: 0,\n",
       " g37: 0,\n",
       " g28: 0,\n",
       " g48: 0,\n",
       " g51: 0,\n",
       " g59: 0,\n",
       " g57: 0,\n",
       " g49: 0,\n",
       " g69: 0,\n",
       " g78: 0,\n",
       " g27: 0,\n",
       " g38: 0,\n",
       " g47: 0,\n",
       " g58: 0,\n",
       " g43: 0,\n",
       " g68: 0,\n",
       " g13: 0,\n",
       " g16: 0,\n",
       " g15: 0,\n",
       " g23: 0,\n",
       " g45: 0,\n",
       " g79: 0,\n",
       " g17: 0,\n",
       " g25: 0,\n",
       " g26: 0,\n",
       " g46: 0,\n",
       " g61: 0,\n",
       " g41: 0,\n",
       " g52: 0,\n",
       " g62: 0,\n",
       " g67: 0,\n",
       " g89: 0,\n",
       " g56: 0,\n",
       " g21: 0,\n",
       " g81: 0,\n",
       " g87: 0,\n",
       " g32: 0,\n",
       " g54: 0,\n",
       " g36: 0,\n",
       " g34: 0,\n",
       " g63: 0,\n",
       " g84: g86,\n",
       " g82: g86,\n",
       " g42: g98,\n",
       " g71: g98,\n",
       " g92: g98,\n",
       " g73: g98,\n",
       " g94: g95,\n",
       " g53: g98,\n",
       " g91: g98,\n",
       " g72: g98,\n",
       " g93: g98,\n",
       " g64: 2*g98}"
      ]
     },
     "metadata": {},
     "output_type": "display_data"
    },
    {
     "name": "stdout",
     "output_type": "stream",
     "text": [
      "Input the lenght parameter (an integer between 0 and 4):1\n",
      "Working with matrix 1\n",
      "No equation found of desired length.\n",
      "Working with matrix 2\n",
      "No equation found of desired length.\n",
      "Working with matrix 3\n",
      "No equation found of desired length.\n",
      "Working with matrix 4\n",
      "No equation found of desired length.\n",
      "Working with matrix 5\n",
      "No equation found of desired length.\n",
      "Working with matrix 6\n",
      "No equation found of desired length.\n",
      "Working with matrix 7\n",
      "No equation found of desired length.\n",
      "Working with matrix 8\n",
      "No equation found of desired length.\n",
      "Working with matrix 9\n",
      "No equation found of desired length.\n",
      "Working with matrix 10\n",
      "No equation found of desired length.\n",
      "Working with matrix 11\n",
      "No equation found of desired length.\n",
      "Working with matrix 12\n",
      "No equation found of desired length.\n",
      "Working with matrix 13\n",
      "No equation found of desired length.\n",
      "Working with matrix 14\n",
      "No equation found of desired length.\n",
      "Working with matrix 15\n",
      "No equation found of desired length.\n",
      "Working with matrix 16\n",
      "No equation found of desired length.\n",
      "Working with matrix 17\n",
      "No equation found of desired length.\n",
      "Working with matrix 18\n",
      "No equation found of desired length.\n",
      "Input the lenght parameter (an integer between 0 and 4):2\n",
      "Working with matrix 1\n",
      "No equation found of desired length.\n",
      "Working with matrix 2\n",
      "No equation found of desired length.\n",
      "Working with matrix 3\n",
      "No equation found of desired length.\n",
      "Working with matrix 4\n",
      "No equation found of desired length.\n",
      "Working with matrix 5\n",
      "No equation found of desired length.\n",
      "Working with matrix 6\n"
     ]
    },
    {
     "data": {
      "text/html": [
       "<html>\\(\\displaystyle -2 g_{24} + 2 g_{35}\\)</html>"
      ],
      "text/latex": [
       "$\\displaystyle -2 g_{24} + 2 g_{35}$"
      ],
      "text/plain": [
       "-2*g24 + 2*g35"
      ]
     },
     "metadata": {},
     "output_type": "display_data"
    },
    {
     "name": "stdout",
     "output_type": "stream",
     "text": [
      "Would you like to accept this equation? ([Y]/N): no\n",
      "If you'd like to search in a different matrix then enter: 'change'\n",
      "Would you like to input the polynomial yourself? (Y/[N]):change\n",
      "Going to work with another matrix.\n",
      "Working with matrix 7\n",
      "No equation found of desired length.\n",
      "Working with matrix 8\n",
      "No equation found of desired length.\n",
      "Working with matrix 9\n"
     ]
    },
    {
     "data": {
      "text/html": [
       "<html>\\(\\displaystyle -2 g_{65} + 4 g_{98}\\)</html>"
      ],
      "text/latex": [
       "$\\displaystyle -2 g_{65} + 4 g_{98}$"
      ],
      "text/plain": [
       "-2*g65 + 4*g98"
      ]
     },
     "metadata": {},
     "output_type": "display_data"
    },
    {
     "name": "stdout",
     "output_type": "stream",
     "text": [
      "Would you like to accept this equation? ([Y]/N): y\n",
      "eqns_dic = \n"
     ]
    },
    {
     "data": {
      "text/html": [
       "<html>\\(\\displaystyle \\left\\{g_{19} : 0, g_{18} : 0, g_{39} : 0, g_{31} : 0, g_{29} : 0, g_{37} : 0, g_{28} : 0, g_{48} : 0, g_{51} : 0, g_{59} : 0, g_{57} : 0, g_{49} : 0, g_{69} : 0, g_{78} : 0, g_{27} : 0, g_{38} : 0, g_{47} : 0, g_{58} : 0, g_{43} : 0, g_{68} : 0, g_{13} : 0, g_{16} : 0, g_{15} : 0, g_{23} : 0, g_{45} : 0, g_{79} : 0, g_{17} : 0, g_{25} : 0, g_{26} : 0, g_{46} : 0, g_{61} : 0, g_{41} : 0, g_{52} : 0, g_{62} : 0, g_{67} : 0, g_{89} : 0, g_{56} : 0, g_{21} : 0, g_{81} : 0, g_{87} : 0, g_{32} : 0, g_{54} : 0, g_{36} : 0, g_{34} : 0, g_{63} : 0, g_{84} : g_{86}, g_{82} : g_{86}, g_{42} : g_{98}, g_{71} : g_{98}, g_{92} : g_{98}, g_{73} : g_{98}, g_{94} : g_{95}, g_{53} : g_{98}, g_{91} : g_{98}, g_{72} : g_{98}, g_{93} : g_{98}, g_{64} : 2 g_{98}, g_{65} : 2 g_{98}\\right\\}\\)</html>"
      ],
      "text/latex": [
       "$\\displaystyle \\left\\{g_{19} : 0, g_{18} : 0, g_{39} : 0, g_{31} : 0, g_{29} : 0, g_{37} : 0, g_{28} : 0, g_{48} : 0, g_{51} : 0, g_{59} : 0, g_{57} : 0, g_{49} : 0, g_{69} : 0, g_{78} : 0, g_{27} : 0, g_{38} : 0, g_{47} : 0, g_{58} : 0, g_{43} : 0, g_{68} : 0, g_{13} : 0, g_{16} : 0, g_{15} : 0, g_{23} : 0, g_{45} : 0, g_{79} : 0, g_{17} : 0, g_{25} : 0, g_{26} : 0, g_{46} : 0, g_{61} : 0, g_{41} : 0, g_{52} : 0, g_{62} : 0, g_{67} : 0, g_{89} : 0, g_{56} : 0, g_{21} : 0, g_{81} : 0, g_{87} : 0, g_{32} : 0, g_{54} : 0, g_{36} : 0, g_{34} : 0, g_{63} : 0, g_{84} : g_{86}, g_{82} : g_{86}, g_{42} : g_{98}, g_{71} : g_{98}, g_{92} : g_{98}, g_{73} : g_{98}, g_{94} : g_{95}, g_{53} : g_{98}, g_{91} : g_{98}, g_{72} : g_{98}, g_{93} : g_{98}, g_{64} : 2 g_{98}, g_{65} : 2 g_{98}\\right\\}$"
      ],
      "text/plain": [
       "{g19: 0,\n",
       " g18: 0,\n",
       " g39: 0,\n",
       " g31: 0,\n",
       " g29: 0,\n",
       " g37: 0,\n",
       " g28: 0,\n",
       " g48: 0,\n",
       " g51: 0,\n",
       " g59: 0,\n",
       " g57: 0,\n",
       " g49: 0,\n",
       " g69: 0,\n",
       " g78: 0,\n",
       " g27: 0,\n",
       " g38: 0,\n",
       " g47: 0,\n",
       " g58: 0,\n",
       " g43: 0,\n",
       " g68: 0,\n",
       " g13: 0,\n",
       " g16: 0,\n",
       " g15: 0,\n",
       " g23: 0,\n",
       " g45: 0,\n",
       " g79: 0,\n",
       " g17: 0,\n",
       " g25: 0,\n",
       " g26: 0,\n",
       " g46: 0,\n",
       " g61: 0,\n",
       " g41: 0,\n",
       " g52: 0,\n",
       " g62: 0,\n",
       " g67: 0,\n",
       " g89: 0,\n",
       " g56: 0,\n",
       " g21: 0,\n",
       " g81: 0,\n",
       " g87: 0,\n",
       " g32: 0,\n",
       " g54: 0,\n",
       " g36: 0,\n",
       " g34: 0,\n",
       " g63: 0,\n",
       " g84: g86,\n",
       " g82: g86,\n",
       " g42: g98,\n",
       " g71: g98,\n",
       " g92: g98,\n",
       " g73: g98,\n",
       " g94: g95,\n",
       " g53: g98,\n",
       " g91: g98,\n",
       " g72: g98,\n",
       " g93: g98,\n",
       " g64: 2*g98,\n",
       " g65: 2*g98}"
      ]
     },
     "metadata": {},
     "output_type": "display_data"
    },
    {
     "name": "stdout",
     "output_type": "stream",
     "text": [
      "Input the lenght parameter (an integer between 0 and 4):1\n",
      "Working with matrix 1\n",
      "No equation found of desired length.\n",
      "Working with matrix 2\n",
      "No equation found of desired length.\n",
      "Working with matrix 3\n",
      "No equation found of desired length.\n",
      "Working with matrix 4\n",
      "No equation found of desired length.\n",
      "Working with matrix 5\n",
      "No equation found of desired length.\n",
      "Working with matrix 6\n",
      "No equation found of desired length.\n",
      "Working with matrix 7\n",
      "No equation found of desired length.\n",
      "Working with matrix 8\n",
      "No equation found of desired length.\n",
      "Working with matrix 9\n",
      "No equation found of desired length.\n",
      "Working with matrix 10\n",
      "No equation found of desired length.\n",
      "Working with matrix 11\n",
      "No equation found of desired length.\n",
      "Working with matrix 12\n",
      "No equation found of desired length.\n",
      "Working with matrix 13\n",
      "No equation found of desired length.\n",
      "Working with matrix 14\n",
      "No equation found of desired length.\n",
      "Working with matrix 15\n",
      "No equation found of desired length.\n",
      "Working with matrix 16\n",
      "No equation found of desired length.\n",
      "Working with matrix 17\n",
      "No equation found of desired length.\n",
      "Working with matrix 18\n",
      "No equation found of desired length.\n",
      "Input the lenght parameter (an integer between 0 and 4):2\n",
      "Working with matrix 1\n",
      "No equation found of desired length.\n",
      "Working with matrix 2\n",
      "No equation found of desired length.\n",
      "Working with matrix 3\n",
      "No equation found of desired length.\n",
      "Working with matrix 4\n",
      "No equation found of desired length.\n",
      "Working with matrix 5\n",
      "No equation found of desired length.\n",
      "Working with matrix 6\n"
     ]
    },
    {
     "data": {
      "text/html": [
       "<html>\\(\\displaystyle g_{24} - g_{35}\\)</html>"
      ],
      "text/latex": [
       "$\\displaystyle g_{24} - g_{35}$"
      ],
      "text/plain": [
       "g24 - g35"
      ]
     },
     "metadata": {},
     "output_type": "display_data"
    },
    {
     "name": "stdout",
     "output_type": "stream",
     "text": [
      "Would you like to accept this equation? ([Y]/N): no\n",
      "If you'd like to search in a different matrix then enter: 'change'\n",
      "Would you like to input the polynomial yourself? (Y/[N]):change\n",
      "Going to work with another matrix.\n",
      "Working with matrix 7\n",
      "No equation found of desired length.\n",
      "Working with matrix 8\n",
      "No equation found of desired length.\n",
      "Working with matrix 9\n",
      "No equation found of desired length.\n",
      "Working with matrix 10\n"
     ]
    },
    {
     "data": {
      "text/html": [
       "<html>\\(\\displaystyle -2 g_{74} + 2 g_{75}\\)</html>"
      ],
      "text/latex": [
       "$\\displaystyle -2 g_{74} + 2 g_{75}$"
      ],
      "text/plain": [
       "-2*g74 + 2*g75"
      ]
     },
     "metadata": {},
     "output_type": "display_data"
    },
    {
     "name": "stdout",
     "output_type": "stream",
     "text": [
      "Would you like to accept this equation? ([Y]/N): y\n",
      "eqns_dic = \n"
     ]
    },
    {
     "data": {
      "text/html": [
       "<html>\\(\\displaystyle \\left\\{g_{19} : 0, g_{18} : 0, g_{39} : 0, g_{31} : 0, g_{29} : 0, g_{37} : 0, g_{28} : 0, g_{48} : 0, g_{51} : 0, g_{59} : 0, g_{57} : 0, g_{49} : 0, g_{69} : 0, g_{78} : 0, g_{27} : 0, g_{38} : 0, g_{47} : 0, g_{58} : 0, g_{43} : 0, g_{68} : 0, g_{13} : 0, g_{16} : 0, g_{15} : 0, g_{23} : 0, g_{45} : 0, g_{79} : 0, g_{17} : 0, g_{25} : 0, g_{26} : 0, g_{46} : 0, g_{61} : 0, g_{41} : 0, g_{52} : 0, g_{62} : 0, g_{67} : 0, g_{89} : 0, g_{56} : 0, g_{21} : 0, g_{81} : 0, g_{87} : 0, g_{32} : 0, g_{54} : 0, g_{36} : 0, g_{34} : 0, g_{63} : 0, g_{84} : g_{86}, g_{82} : g_{86}, g_{42} : g_{98}, g_{71} : g_{98}, g_{92} : g_{98}, g_{73} : g_{98}, g_{94} : g_{95}, g_{53} : g_{98}, g_{91} : g_{98}, g_{72} : g_{98}, g_{93} : g_{98}, g_{64} : 2 g_{98}, g_{65} : 2 g_{98}, g_{74} : g_{75}\\right\\}\\)</html>"
      ],
      "text/latex": [
       "$\\displaystyle \\left\\{g_{19} : 0, g_{18} : 0, g_{39} : 0, g_{31} : 0, g_{29} : 0, g_{37} : 0, g_{28} : 0, g_{48} : 0, g_{51} : 0, g_{59} : 0, g_{57} : 0, g_{49} : 0, g_{69} : 0, g_{78} : 0, g_{27} : 0, g_{38} : 0, g_{47} : 0, g_{58} : 0, g_{43} : 0, g_{68} : 0, g_{13} : 0, g_{16} : 0, g_{15} : 0, g_{23} : 0, g_{45} : 0, g_{79} : 0, g_{17} : 0, g_{25} : 0, g_{26} : 0, g_{46} : 0, g_{61} : 0, g_{41} : 0, g_{52} : 0, g_{62} : 0, g_{67} : 0, g_{89} : 0, g_{56} : 0, g_{21} : 0, g_{81} : 0, g_{87} : 0, g_{32} : 0, g_{54} : 0, g_{36} : 0, g_{34} : 0, g_{63} : 0, g_{84} : g_{86}, g_{82} : g_{86}, g_{42} : g_{98}, g_{71} : g_{98}, g_{92} : g_{98}, g_{73} : g_{98}, g_{94} : g_{95}, g_{53} : g_{98}, g_{91} : g_{98}, g_{72} : g_{98}, g_{93} : g_{98}, g_{64} : 2 g_{98}, g_{65} : 2 g_{98}, g_{74} : g_{75}\\right\\}$"
      ],
      "text/plain": [
       "{g19: 0,\n",
       " g18: 0,\n",
       " g39: 0,\n",
       " g31: 0,\n",
       " g29: 0,\n",
       " g37: 0,\n",
       " g28: 0,\n",
       " g48: 0,\n",
       " g51: 0,\n",
       " g59: 0,\n",
       " g57: 0,\n",
       " g49: 0,\n",
       " g69: 0,\n",
       " g78: 0,\n",
       " g27: 0,\n",
       " g38: 0,\n",
       " g47: 0,\n",
       " g58: 0,\n",
       " g43: 0,\n",
       " g68: 0,\n",
       " g13: 0,\n",
       " g16: 0,\n",
       " g15: 0,\n",
       " g23: 0,\n",
       " g45: 0,\n",
       " g79: 0,\n",
       " g17: 0,\n",
       " g25: 0,\n",
       " g26: 0,\n",
       " g46: 0,\n",
       " g61: 0,\n",
       " g41: 0,\n",
       " g52: 0,\n",
       " g62: 0,\n",
       " g67: 0,\n",
       " g89: 0,\n",
       " g56: 0,\n",
       " g21: 0,\n",
       " g81: 0,\n",
       " g87: 0,\n",
       " g32: 0,\n",
       " g54: 0,\n",
       " g36: 0,\n",
       " g34: 0,\n",
       " g63: 0,\n",
       " g84: g86,\n",
       " g82: g86,\n",
       " g42: g98,\n",
       " g71: g98,\n",
       " g92: g98,\n",
       " g73: g98,\n",
       " g94: g95,\n",
       " g53: g98,\n",
       " g91: g98,\n",
       " g72: g98,\n",
       " g93: g98,\n",
       " g64: 2*g98,\n",
       " g65: 2*g98,\n",
       " g74: g75}"
      ]
     },
     "metadata": {},
     "output_type": "display_data"
    },
    {
     "name": "stdout",
     "output_type": "stream",
     "text": [
      "Input the lenght parameter (an integer between 0 and 4):1\n",
      "Working with matrix 1\n",
      "No equation found of desired length.\n",
      "Working with matrix 2\n",
      "No equation found of desired length.\n",
      "Working with matrix 3\n",
      "No equation found of desired length.\n",
      "Working with matrix 4\n",
      "No equation found of desired length.\n",
      "Working with matrix 5\n",
      "No equation found of desired length.\n",
      "Working with matrix 6\n",
      "No equation found of desired length.\n",
      "Working with matrix 7\n",
      "No equation found of desired length.\n",
      "Working with matrix 8\n",
      "No equation found of desired length.\n",
      "Working with matrix 9\n",
      "No equation found of desired length.\n",
      "Working with matrix 10\n",
      "No equation found of desired length.\n",
      "Working with matrix 11\n",
      "No equation found of desired length.\n",
      "Working with matrix 12\n",
      "No equation found of desired length.\n",
      "Working with matrix 13\n",
      "No equation found of desired length.\n",
      "Working with matrix 14\n",
      "No equation found of desired length.\n",
      "Working with matrix 15\n",
      "No equation found of desired length.\n",
      "Working with matrix 16\n",
      "No equation found of desired length.\n",
      "Working with matrix 17\n",
      "No equation found of desired length.\n",
      "Working with matrix 18\n",
      "No equation found of desired length.\n",
      "Input the lenght parameter (an integer between 0 and 4):2\n",
      "Working with matrix 1\n",
      "No equation found of desired length.\n",
      "Working with matrix 2\n",
      "No equation found of desired length.\n",
      "Working with matrix 3\n",
      "No equation found of desired length.\n",
      "Working with matrix 4\n",
      "No equation found of desired length.\n",
      "Working with matrix 5\n",
      "No equation found of desired length.\n",
      "Working with matrix 6\n"
     ]
    },
    {
     "data": {
      "text/html": [
       "<html>\\(\\displaystyle -6 g_{24} + 6 g_{35}\\)</html>"
      ],
      "text/latex": [
       "$\\displaystyle -6 g_{24} + 6 g_{35}$"
      ],
      "text/plain": [
       "-6*g24 + 6*g35"
      ]
     },
     "metadata": {},
     "output_type": "display_data"
    },
    {
     "name": "stdout",
     "output_type": "stream",
     "text": [
      "Would you like to accept this equation? ([Y]/N): no\n",
      "If you'd like to search in a different matrix then enter: 'change'\n",
      "Would you like to input the polynomial yourself? (Y/[N]):change\n",
      "Going to work with another matrix.\n",
      "Working with matrix 7\n",
      "No equation found of desired length.\n",
      "Working with matrix 8\n",
      "No equation found of desired length.\n",
      "Working with matrix 9\n",
      "No equation found of desired length.\n",
      "Working with matrix 10\n",
      "No equation found of desired length.\n",
      "Working with matrix 11\n",
      "No equation found of desired length.\n",
      "Working with matrix 12\n"
     ]
    },
    {
     "data": {
      "text/html": [
       "<html>\\(\\displaystyle -2 g_{44} + 2 g_{55}\\)</html>"
      ],
      "text/latex": [
       "$\\displaystyle -2 g_{44} + 2 g_{55}$"
      ],
      "text/plain": [
       "-2*g44 + 2*g55"
      ]
     },
     "metadata": {},
     "output_type": "display_data"
    },
    {
     "name": "stdout",
     "output_type": "stream",
     "text": [
      "Would you like to accept this equation? ([Y]/N): no\n",
      "If you'd like to search in a different matrix then enter: 'change'\n",
      "Would you like to input the polynomial yourself? (Y/[N]):no\n"
     ]
    },
    {
     "data": {
      "text/html": [
       "<html>\\(\\displaystyle -2 g_{44} + 2 g_{55}\\)</html>"
      ],
      "text/latex": [
       "$\\displaystyle -2 g_{44} + 2 g_{55}$"
      ],
      "text/plain": [
       "-2*g44 + 2*g55"
      ]
     },
     "metadata": {},
     "output_type": "display_data"
    },
    {
     "name": "stdout",
     "output_type": "stream",
     "text": [
      "Would you like to accept this equation? ([Y]/N): no\n",
      "If you'd like to search in a different matrix then enter: 'change'\n",
      "Would you like to input the polynomial yourself? (Y/[N]):change\n",
      "Going to work with another matrix.\n",
      "Working with matrix 13\n",
      "No equation found of desired length.\n",
      "Working with matrix 14\n",
      "No equation found of desired length.\n",
      "Working with matrix 15\n",
      "No equation found of desired length.\n",
      "Working with matrix 16\n",
      "No equation found of desired length.\n",
      "Working with matrix 17\n",
      "No equation found of desired length.\n",
      "Working with matrix 18\n"
     ]
    },
    {
     "data": {
      "text/html": [
       "<html>\\(\\displaystyle -g_{44} + g_{55}\\)</html>"
      ],
      "text/latex": [
       "$\\displaystyle -g_{44} + g_{55}$"
      ],
      "text/plain": [
       "-g44 + g55"
      ]
     },
     "metadata": {},
     "output_type": "display_data"
    },
    {
     "name": "stdout",
     "output_type": "stream",
     "text": [
      "Would you like to accept this equation? ([Y]/N): y\n",
      "eqns_dic = \n"
     ]
    },
    {
     "data": {
      "text/html": [
       "<html>\\(\\displaystyle \\left\\{g_{19} : 0, g_{18} : 0, g_{39} : 0, g_{31} : 0, g_{29} : 0, g_{37} : 0, g_{28} : 0, g_{48} : 0, g_{51} : 0, g_{59} : 0, g_{57} : 0, g_{49} : 0, g_{69} : 0, g_{78} : 0, g_{27} : 0, g_{38} : 0, g_{47} : 0, g_{58} : 0, g_{43} : 0, g_{68} : 0, g_{13} : 0, g_{16} : 0, g_{15} : 0, g_{23} : 0, g_{45} : 0, g_{79} : 0, g_{17} : 0, g_{25} : 0, g_{26} : 0, g_{46} : 0, g_{61} : 0, g_{41} : 0, g_{52} : 0, g_{62} : 0, g_{67} : 0, g_{89} : 0, g_{56} : 0, g_{21} : 0, g_{81} : 0, g_{87} : 0, g_{32} : 0, g_{54} : 0, g_{36} : 0, g_{34} : 0, g_{63} : 0, g_{84} : g_{86}, g_{82} : g_{86}, g_{42} : g_{98}, g_{71} : g_{98}, g_{92} : g_{98}, g_{73} : g_{98}, g_{94} : g_{95}, g_{53} : g_{98}, g_{91} : g_{98}, g_{72} : g_{98}, g_{93} : g_{98}, g_{64} : 2 g_{98}, g_{65} : 2 g_{98}, g_{74} : g_{75}, g_{44} : g_{55}\\right\\}\\)</html>"
      ],
      "text/latex": [
       "$\\displaystyle \\left\\{g_{19} : 0, g_{18} : 0, g_{39} : 0, g_{31} : 0, g_{29} : 0, g_{37} : 0, g_{28} : 0, g_{48} : 0, g_{51} : 0, g_{59} : 0, g_{57} : 0, g_{49} : 0, g_{69} : 0, g_{78} : 0, g_{27} : 0, g_{38} : 0, g_{47} : 0, g_{58} : 0, g_{43} : 0, g_{68} : 0, g_{13} : 0, g_{16} : 0, g_{15} : 0, g_{23} : 0, g_{45} : 0, g_{79} : 0, g_{17} : 0, g_{25} : 0, g_{26} : 0, g_{46} : 0, g_{61} : 0, g_{41} : 0, g_{52} : 0, g_{62} : 0, g_{67} : 0, g_{89} : 0, g_{56} : 0, g_{21} : 0, g_{81} : 0, g_{87} : 0, g_{32} : 0, g_{54} : 0, g_{36} : 0, g_{34} : 0, g_{63} : 0, g_{84} : g_{86}, g_{82} : g_{86}, g_{42} : g_{98}, g_{71} : g_{98}, g_{92} : g_{98}, g_{73} : g_{98}, g_{94} : g_{95}, g_{53} : g_{98}, g_{91} : g_{98}, g_{72} : g_{98}, g_{93} : g_{98}, g_{64} : 2 g_{98}, g_{65} : 2 g_{98}, g_{74} : g_{75}, g_{44} : g_{55}\\right\\}$"
      ],
      "text/plain": [
       "{g19: 0,\n",
       " g18: 0,\n",
       " g39: 0,\n",
       " g31: 0,\n",
       " g29: 0,\n",
       " g37: 0,\n",
       " g28: 0,\n",
       " g48: 0,\n",
       " g51: 0,\n",
       " g59: 0,\n",
       " g57: 0,\n",
       " g49: 0,\n",
       " g69: 0,\n",
       " g78: 0,\n",
       " g27: 0,\n",
       " g38: 0,\n",
       " g47: 0,\n",
       " g58: 0,\n",
       " g43: 0,\n",
       " g68: 0,\n",
       " g13: 0,\n",
       " g16: 0,\n",
       " g15: 0,\n",
       " g23: 0,\n",
       " g45: 0,\n",
       " g79: 0,\n",
       " g17: 0,\n",
       " g25: 0,\n",
       " g26: 0,\n",
       " g46: 0,\n",
       " g61: 0,\n",
       " g41: 0,\n",
       " g52: 0,\n",
       " g62: 0,\n",
       " g67: 0,\n",
       " g89: 0,\n",
       " g56: 0,\n",
       " g21: 0,\n",
       " g81: 0,\n",
       " g87: 0,\n",
       " g32: 0,\n",
       " g54: 0,\n",
       " g36: 0,\n",
       " g34: 0,\n",
       " g63: 0,\n",
       " g84: g86,\n",
       " g82: g86,\n",
       " g42: g98,\n",
       " g71: g98,\n",
       " g92: g98,\n",
       " g73: g98,\n",
       " g94: g95,\n",
       " g53: g98,\n",
       " g91: g98,\n",
       " g72: g98,\n",
       " g93: g98,\n",
       " g64: 2*g98,\n",
       " g65: 2*g98,\n",
       " g74: g75,\n",
       " g44: g55}"
      ]
     },
     "metadata": {},
     "output_type": "display_data"
    },
    {
     "name": "stdout",
     "output_type": "stream",
     "text": [
      "Input the lenght parameter (an integer between 0 and 4):1\n",
      "Working with matrix 1\n",
      "No equation found of desired length.\n",
      "Working with matrix 2\n",
      "No equation found of desired length.\n",
      "Working with matrix 3\n",
      "No equation found of desired length.\n",
      "Working with matrix 4\n",
      "No equation found of desired length.\n",
      "Working with matrix 5\n",
      "No equation found of desired length.\n",
      "Working with matrix 6\n",
      "No equation found of desired length.\n",
      "Working with matrix 7\n",
      "No equation found of desired length.\n",
      "Working with matrix 8\n",
      "No equation found of desired length.\n",
      "Working with matrix 9\n",
      "No equation found of desired length.\n",
      "Working with matrix 10\n",
      "No equation found of desired length.\n",
      "Working with matrix 11\n",
      "No equation found of desired length.\n",
      "Working with matrix 12\n",
      "No equation found of desired length.\n",
      "Working with matrix 13\n",
      "No equation found of desired length.\n",
      "Working with matrix 14\n",
      "No equation found of desired length.\n",
      "Working with matrix 15\n",
      "No equation found of desired length.\n",
      "Working with matrix 16\n",
      "No equation found of desired length.\n",
      "Working with matrix 17\n",
      "No equation found of desired length.\n",
      "Working with matrix 18\n",
      "No equation found of desired length.\n",
      "Input the lenght parameter (an integer between 0 and 4):2\n",
      "Working with matrix 1\n",
      "No equation found of desired length.\n",
      "Working with matrix 2\n",
      "No equation found of desired length.\n",
      "Working with matrix 3\n"
     ]
    },
    {
     "data": {
      "text/html": [
       "<html>\\(\\displaystyle -g_{77} + g_{88}\\)</html>"
      ],
      "text/latex": [
       "$\\displaystyle -g_{77} + g_{88}$"
      ],
      "text/plain": [
       "-g77 + g88"
      ]
     },
     "metadata": {},
     "output_type": "display_data"
    },
    {
     "name": "stdout",
     "output_type": "stream",
     "text": [
      "Would you like to accept this equation? ([Y]/N): y\n",
      "eqns_dic = \n"
     ]
    },
    {
     "data": {
      "text/html": [
       "<html>\\(\\displaystyle \\left\\{g_{19} : 0, g_{18} : 0, g_{39} : 0, g_{31} : 0, g_{29} : 0, g_{37} : 0, g_{28} : 0, g_{48} : 0, g_{51} : 0, g_{59} : 0, g_{57} : 0, g_{49} : 0, g_{69} : 0, g_{78} : 0, g_{27} : 0, g_{38} : 0, g_{47} : 0, g_{58} : 0, g_{43} : 0, g_{68} : 0, g_{13} : 0, g_{16} : 0, g_{15} : 0, g_{23} : 0, g_{45} : 0, g_{79} : 0, g_{17} : 0, g_{25} : 0, g_{26} : 0, g_{46} : 0, g_{61} : 0, g_{41} : 0, g_{52} : 0, g_{62} : 0, g_{67} : 0, g_{89} : 0, g_{56} : 0, g_{21} : 0, g_{81} : 0, g_{87} : 0, g_{32} : 0, g_{54} : 0, g_{36} : 0, g_{34} : 0, g_{63} : 0, g_{84} : g_{86}, g_{82} : g_{86}, g_{42} : g_{98}, g_{71} : g_{98}, g_{92} : g_{98}, g_{73} : g_{98}, g_{94} : g_{95}, g_{53} : g_{98}, g_{91} : g_{98}, g_{72} : g_{98}, g_{93} : g_{98}, g_{64} : 2 g_{98}, g_{65} : 2 g_{98}, g_{74} : g_{75}, g_{44} : g_{55}, g_{77} : g_{88}\\right\\}\\)</html>"
      ],
      "text/latex": [
       "$\\displaystyle \\left\\{g_{19} : 0, g_{18} : 0, g_{39} : 0, g_{31} : 0, g_{29} : 0, g_{37} : 0, g_{28} : 0, g_{48} : 0, g_{51} : 0, g_{59} : 0, g_{57} : 0, g_{49} : 0, g_{69} : 0, g_{78} : 0, g_{27} : 0, g_{38} : 0, g_{47} : 0, g_{58} : 0, g_{43} : 0, g_{68} : 0, g_{13} : 0, g_{16} : 0, g_{15} : 0, g_{23} : 0, g_{45} : 0, g_{79} : 0, g_{17} : 0, g_{25} : 0, g_{26} : 0, g_{46} : 0, g_{61} : 0, g_{41} : 0, g_{52} : 0, g_{62} : 0, g_{67} : 0, g_{89} : 0, g_{56} : 0, g_{21} : 0, g_{81} : 0, g_{87} : 0, g_{32} : 0, g_{54} : 0, g_{36} : 0, g_{34} : 0, g_{63} : 0, g_{84} : g_{86}, g_{82} : g_{86}, g_{42} : g_{98}, g_{71} : g_{98}, g_{92} : g_{98}, g_{73} : g_{98}, g_{94} : g_{95}, g_{53} : g_{98}, g_{91} : g_{98}, g_{72} : g_{98}, g_{93} : g_{98}, g_{64} : 2 g_{98}, g_{65} : 2 g_{98}, g_{74} : g_{75}, g_{44} : g_{55}, g_{77} : g_{88}\\right\\}$"
      ],
      "text/plain": [
       "{g19: 0,\n",
       " g18: 0,\n",
       " g39: 0,\n",
       " g31: 0,\n",
       " g29: 0,\n",
       " g37: 0,\n",
       " g28: 0,\n",
       " g48: 0,\n",
       " g51: 0,\n",
       " g59: 0,\n",
       " g57: 0,\n",
       " g49: 0,\n",
       " g69: 0,\n",
       " g78: 0,\n",
       " g27: 0,\n",
       " g38: 0,\n",
       " g47: 0,\n",
       " g58: 0,\n",
       " g43: 0,\n",
       " g68: 0,\n",
       " g13: 0,\n",
       " g16: 0,\n",
       " g15: 0,\n",
       " g23: 0,\n",
       " g45: 0,\n",
       " g79: 0,\n",
       " g17: 0,\n",
       " g25: 0,\n",
       " g26: 0,\n",
       " g46: 0,\n",
       " g61: 0,\n",
       " g41: 0,\n",
       " g52: 0,\n",
       " g62: 0,\n",
       " g67: 0,\n",
       " g89: 0,\n",
       " g56: 0,\n",
       " g21: 0,\n",
       " g81: 0,\n",
       " g87: 0,\n",
       " g32: 0,\n",
       " g54: 0,\n",
       " g36: 0,\n",
       " g34: 0,\n",
       " g63: 0,\n",
       " g84: g86,\n",
       " g82: g86,\n",
       " g42: g98,\n",
       " g71: g98,\n",
       " g92: g98,\n",
       " g73: g98,\n",
       " g94: g95,\n",
       " g53: g98,\n",
       " g91: g98,\n",
       " g72: g98,\n",
       " g93: g98,\n",
       " g64: 2*g98,\n",
       " g65: 2*g98,\n",
       " g74: g75,\n",
       " g44: g55,\n",
       " g77: g88}"
      ]
     },
     "metadata": {},
     "output_type": "display_data"
    },
    {
     "name": "stdout",
     "output_type": "stream",
     "text": [
      "Input the lenght parameter (an integer between 0 and 4):1\n",
      "Working with matrix 1\n",
      "No equation found of desired length.\n",
      "Working with matrix 2\n",
      "No equation found of desired length.\n",
      "Working with matrix 3\n",
      "No equation found of desired length.\n",
      "Working with matrix 4\n",
      "No equation found of desired length.\n",
      "Working with matrix 5\n",
      "No equation found of desired length.\n",
      "Working with matrix 6\n",
      "No equation found of desired length.\n",
      "Working with matrix 7\n",
      "No equation found of desired length.\n",
      "Working with matrix 8\n",
      "No equation found of desired length.\n",
      "Working with matrix 9\n",
      "No equation found of desired length.\n",
      "Working with matrix 10\n",
      "No equation found of desired length.\n",
      "Working with matrix 11\n",
      "No equation found of desired length.\n",
      "Working with matrix 12\n",
      "No equation found of desired length.\n",
      "Working with matrix 13\n",
      "No equation found of desired length.\n",
      "Working with matrix 14\n",
      "No equation found of desired length.\n",
      "Working with matrix 15\n",
      "No equation found of desired length.\n",
      "Working with matrix 16\n",
      "No equation found of desired length.\n",
      "Working with matrix 17\n",
      "No equation found of desired length.\n",
      "Working with matrix 18\n",
      "No equation found of desired length.\n",
      "Input the lenght parameter (an integer between 0 and 4):2\n",
      "Working with matrix 1\n"
     ]
    },
    {
     "data": {
      "text/html": [
       "<html>\\(\\displaystyle -g_{11} + g_{66}\\)</html>"
      ],
      "text/latex": [
       "$\\displaystyle -g_{11} + g_{66}$"
      ],
      "text/plain": [
       "-g11 + g66"
      ]
     },
     "metadata": {},
     "output_type": "display_data"
    },
    {
     "name": "stdout",
     "output_type": "stream",
     "text": [
      "Would you like to accept this equation? ([Y]/N): y\n",
      "eqns_dic = \n"
     ]
    },
    {
     "data": {
      "text/html": [
       "<html>\\(\\displaystyle \\left\\{g_{19} : 0, g_{18} : 0, g_{39} : 0, g_{31} : 0, g_{29} : 0, g_{37} : 0, g_{28} : 0, g_{48} : 0, g_{51} : 0, g_{59} : 0, g_{57} : 0, g_{49} : 0, g_{69} : 0, g_{78} : 0, g_{27} : 0, g_{38} : 0, g_{47} : 0, g_{58} : 0, g_{43} : 0, g_{68} : 0, g_{13} : 0, g_{16} : 0, g_{15} : 0, g_{23} : 0, g_{45} : 0, g_{79} : 0, g_{17} : 0, g_{25} : 0, g_{26} : 0, g_{46} : 0, g_{61} : 0, g_{41} : 0, g_{52} : 0, g_{62} : 0, g_{67} : 0, g_{89} : 0, g_{56} : 0, g_{21} : 0, g_{81} : 0, g_{87} : 0, g_{32} : 0, g_{54} : 0, g_{36} : 0, g_{34} : 0, g_{63} : 0, g_{84} : g_{86}, g_{82} : g_{86}, g_{42} : g_{98}, g_{71} : g_{98}, g_{92} : g_{98}, g_{73} : g_{98}, g_{94} : g_{95}, g_{53} : g_{98}, g_{91} : g_{98}, g_{72} : g_{98}, g_{93} : g_{98}, g_{64} : 2 g_{98}, g_{65} : 2 g_{98}, g_{74} : g_{75}, g_{44} : g_{55}, g_{77} : g_{88}, g_{11} : g_{66}\\right\\}\\)</html>"
      ],
      "text/latex": [
       "$\\displaystyle \\left\\{g_{19} : 0, g_{18} : 0, g_{39} : 0, g_{31} : 0, g_{29} : 0, g_{37} : 0, g_{28} : 0, g_{48} : 0, g_{51} : 0, g_{59} : 0, g_{57} : 0, g_{49} : 0, g_{69} : 0, g_{78} : 0, g_{27} : 0, g_{38} : 0, g_{47} : 0, g_{58} : 0, g_{43} : 0, g_{68} : 0, g_{13} : 0, g_{16} : 0, g_{15} : 0, g_{23} : 0, g_{45} : 0, g_{79} : 0, g_{17} : 0, g_{25} : 0, g_{26} : 0, g_{46} : 0, g_{61} : 0, g_{41} : 0, g_{52} : 0, g_{62} : 0, g_{67} : 0, g_{89} : 0, g_{56} : 0, g_{21} : 0, g_{81} : 0, g_{87} : 0, g_{32} : 0, g_{54} : 0, g_{36} : 0, g_{34} : 0, g_{63} : 0, g_{84} : g_{86}, g_{82} : g_{86}, g_{42} : g_{98}, g_{71} : g_{98}, g_{92} : g_{98}, g_{73} : g_{98}, g_{94} : g_{95}, g_{53} : g_{98}, g_{91} : g_{98}, g_{72} : g_{98}, g_{93} : g_{98}, g_{64} : 2 g_{98}, g_{65} : 2 g_{98}, g_{74} : g_{75}, g_{44} : g_{55}, g_{77} : g_{88}, g_{11} : g_{66}\\right\\}$"
      ],
      "text/plain": [
       "{g19: 0,\n",
       " g18: 0,\n",
       " g39: 0,\n",
       " g31: 0,\n",
       " g29: 0,\n",
       " g37: 0,\n",
       " g28: 0,\n",
       " g48: 0,\n",
       " g51: 0,\n",
       " g59: 0,\n",
       " g57: 0,\n",
       " g49: 0,\n",
       " g69: 0,\n",
       " g78: 0,\n",
       " g27: 0,\n",
       " g38: 0,\n",
       " g47: 0,\n",
       " g58: 0,\n",
       " g43: 0,\n",
       " g68: 0,\n",
       " g13: 0,\n",
       " g16: 0,\n",
       " g15: 0,\n",
       " g23: 0,\n",
       " g45: 0,\n",
       " g79: 0,\n",
       " g17: 0,\n",
       " g25: 0,\n",
       " g26: 0,\n",
       " g46: 0,\n",
       " g61: 0,\n",
       " g41: 0,\n",
       " g52: 0,\n",
       " g62: 0,\n",
       " g67: 0,\n",
       " g89: 0,\n",
       " g56: 0,\n",
       " g21: 0,\n",
       " g81: 0,\n",
       " g87: 0,\n",
       " g32: 0,\n",
       " g54: 0,\n",
       " g36: 0,\n",
       " g34: 0,\n",
       " g63: 0,\n",
       " g84: g86,\n",
       " g82: g86,\n",
       " g42: g98,\n",
       " g71: g98,\n",
       " g92: g98,\n",
       " g73: g98,\n",
       " g94: g95,\n",
       " g53: g98,\n",
       " g91: g98,\n",
       " g72: g98,\n",
       " g93: g98,\n",
       " g64: 2*g98,\n",
       " g65: 2*g98,\n",
       " g74: g75,\n",
       " g44: g55,\n",
       " g77: g88,\n",
       " g11: g66}"
      ]
     },
     "metadata": {},
     "output_type": "display_data"
    },
    {
     "name": "stdout",
     "output_type": "stream",
     "text": [
      "Input the lenght parameter (an integer between 0 and 4):1\n",
      "Working with matrix 1\n",
      "No equation found of desired length.\n",
      "Working with matrix 2\n",
      "No equation found of desired length.\n",
      "Working with matrix 3\n",
      "No equation found of desired length.\n",
      "Working with matrix 4\n",
      "No equation found of desired length.\n",
      "Working with matrix 5\n",
      "No equation found of desired length.\n",
      "Working with matrix 6\n",
      "No equation found of desired length.\n",
      "Working with matrix 7\n",
      "No equation found of desired length.\n",
      "Working with matrix 8\n",
      "No equation found of desired length.\n",
      "Working with matrix 9\n",
      "No equation found of desired length.\n",
      "Working with matrix 10\n",
      "No equation found of desired length.\n",
      "Working with matrix 11\n",
      "No equation found of desired length.\n",
      "Working with matrix 12\n",
      "No equation found of desired length.\n",
      "Working with matrix 13\n",
      "No equation found of desired length.\n",
      "Working with matrix 14\n",
      "No equation found of desired length.\n",
      "Working with matrix 15\n",
      "No equation found of desired length.\n",
      "Working with matrix 16\n",
      "No equation found of desired length.\n",
      "Working with matrix 17\n",
      "No equation found of desired length.\n",
      "Working with matrix 18\n",
      "No equation found of desired length.\n",
      "Input the lenght parameter (an integer between 0 and 4):2\n",
      "Working with matrix 1\n",
      "No equation found of desired length.\n",
      "Working with matrix 2\n",
      "No equation found of desired length.\n",
      "Working with matrix 3\n",
      "No equation found of desired length.\n",
      "Working with matrix 4\n",
      "No equation found of desired length.\n",
      "Working with matrix 5\n",
      "No equation found of desired length.\n",
      "Working with matrix 6\n"
     ]
    },
    {
     "data": {
      "text/html": [
       "<html>\\(\\displaystyle -g_{24} + g_{35}\\)</html>"
      ],
      "text/latex": [
       "$\\displaystyle -g_{24} + g_{35}$"
      ],
      "text/plain": [
       "-g24 + g35"
      ]
     },
     "metadata": {},
     "output_type": "display_data"
    },
    {
     "name": "stdout",
     "output_type": "stream",
     "text": [
      "Would you like to accept this equation? ([Y]/N): no\n",
      "If you'd like to search in a different matrix then enter: 'change'\n",
      "Would you like to input the polynomial yourself? (Y/[N]):change\n",
      "Going to work with another matrix.\n",
      "Working with matrix 7\n",
      "No equation found of desired length.\n",
      "Working with matrix 8\n",
      "No equation found of desired length.\n",
      "Working with matrix 9\n",
      "No equation found of desired length.\n",
      "Working with matrix 10\n",
      "No equation found of desired length.\n",
      "Working with matrix 11\n",
      "No equation found of desired length.\n",
      "Working with matrix 12\n",
      "No equation found of desired length.\n",
      "Working with matrix 13\n",
      "No equation found of desired length.\n",
      "Working with matrix 14\n",
      "No equation found of desired length.\n",
      "Working with matrix 15\n",
      "No equation found of desired length.\n",
      "Working with matrix 16\n",
      "No equation found of desired length.\n",
      "Working with matrix 17\n",
      "No equation found of desired length.\n",
      "Working with matrix 18\n",
      "No equation found of desired length.\n",
      "Input the lenght parameter (an integer between 0 and 4):2\n",
      "Working with matrix 1\n",
      "No equation found of desired length.\n",
      "Working with matrix 2\n",
      "No equation found of desired length.\n",
      "Working with matrix 3\n",
      "No equation found of desired length.\n",
      "Working with matrix 4\n",
      "No equation found of desired length.\n",
      "Working with matrix 5\n",
      "No equation found of desired length.\n",
      "Working with matrix 6\n"
     ]
    },
    {
     "data": {
      "text/html": [
       "<html>\\(\\displaystyle -2 g_{22} + 2 g_{33}\\)</html>"
      ],
      "text/latex": [
       "$\\displaystyle -2 g_{22} + 2 g_{33}$"
      ],
      "text/plain": [
       "-2*g22 + 2*g33"
      ]
     },
     "metadata": {},
     "output_type": "display_data"
    },
    {
     "name": "stdout",
     "output_type": "stream",
     "text": [
      "Would you like to accept this equation? ([Y]/N): no\n",
      "If you'd like to search in a different matrix then enter: 'change'\n",
      "Would you like to input the polynomial yourself? (Y/[N]):change\n",
      "Going to work with another matrix.\n",
      "Working with matrix 7\n",
      "No equation found of desired length.\n",
      "Working with matrix 8\n",
      "No equation found of desired length.\n",
      "Working with matrix 9\n",
      "No equation found of desired length.\n",
      "Working with matrix 10\n",
      "No equation found of desired length.\n",
      "Working with matrix 11\n",
      "No equation found of desired length.\n",
      "Working with matrix 12\n",
      "No equation found of desired length.\n",
      "Working with matrix 13\n",
      "No equation found of desired length.\n",
      "Working with matrix 14\n",
      "No equation found of desired length.\n",
      "Working with matrix 15\n",
      "No equation found of desired length.\n",
      "Working with matrix 16\n",
      "No equation found of desired length.\n",
      "Working with matrix 17\n",
      "No equation found of desired length.\n",
      "Working with matrix 18\n",
      "No equation found of desired length.\n",
      "Input the lenght parameter (an integer between 0 and 4):2\n",
      "Working with matrix 1\n",
      "No equation found of desired length.\n",
      "Working with matrix 2\n",
      "No equation found of desired length.\n",
      "Working with matrix 3\n",
      "No equation found of desired length.\n",
      "Working with matrix 4\n",
      "No equation found of desired length.\n",
      "Working with matrix 5\n",
      "No equation found of desired length.\n",
      "Working with matrix 6\n"
     ]
    },
    {
     "data": {
      "text/html": [
       "<html>\\(\\displaystyle g_{22} - g_{33}\\)</html>"
      ],
      "text/latex": [
       "$\\displaystyle g_{22} - g_{33}$"
      ],
      "text/plain": [
       "g22 - g33"
      ]
     },
     "metadata": {},
     "output_type": "display_data"
    },
    {
     "name": "stdout",
     "output_type": "stream",
     "text": [
      "Would you like to accept this equation? ([Y]/N): y\n",
      "eqns_dic = \n"
     ]
    },
    {
     "data": {
      "text/html": [
       "<html>\\(\\displaystyle \\left\\{g_{19} : 0, g_{18} : 0, g_{39} : 0, g_{31} : 0, g_{29} : 0, g_{37} : 0, g_{28} : 0, g_{48} : 0, g_{51} : 0, g_{59} : 0, g_{57} : 0, g_{49} : 0, g_{69} : 0, g_{78} : 0, g_{27} : 0, g_{38} : 0, g_{47} : 0, g_{58} : 0, g_{43} : 0, g_{68} : 0, g_{13} : 0, g_{16} : 0, g_{15} : 0, g_{23} : 0, g_{45} : 0, g_{79} : 0, g_{17} : 0, g_{25} : 0, g_{26} : 0, g_{46} : 0, g_{61} : 0, g_{41} : 0, g_{52} : 0, g_{62} : 0, g_{67} : 0, g_{89} : 0, g_{56} : 0, g_{21} : 0, g_{81} : 0, g_{87} : 0, g_{32} : 0, g_{54} : 0, g_{36} : 0, g_{34} : 0, g_{63} : 0, g_{84} : g_{86}, g_{82} : g_{86}, g_{42} : g_{98}, g_{71} : g_{98}, g_{92} : g_{98}, g_{73} : g_{98}, g_{94} : g_{95}, g_{53} : g_{98}, g_{91} : g_{98}, g_{72} : g_{98}, g_{93} : g_{98}, g_{64} : 2 g_{98}, g_{65} : 2 g_{98}, g_{74} : g_{75}, g_{44} : g_{55}, g_{77} : g_{88}, g_{11} : g_{66}, g_{22} : g_{33}\\right\\}\\)</html>"
      ],
      "text/latex": [
       "$\\displaystyle \\left\\{g_{19} : 0, g_{18} : 0, g_{39} : 0, g_{31} : 0, g_{29} : 0, g_{37} : 0, g_{28} : 0, g_{48} : 0, g_{51} : 0, g_{59} : 0, g_{57} : 0, g_{49} : 0, g_{69} : 0, g_{78} : 0, g_{27} : 0, g_{38} : 0, g_{47} : 0, g_{58} : 0, g_{43} : 0, g_{68} : 0, g_{13} : 0, g_{16} : 0, g_{15} : 0, g_{23} : 0, g_{45} : 0, g_{79} : 0, g_{17} : 0, g_{25} : 0, g_{26} : 0, g_{46} : 0, g_{61} : 0, g_{41} : 0, g_{52} : 0, g_{62} : 0, g_{67} : 0, g_{89} : 0, g_{56} : 0, g_{21} : 0, g_{81} : 0, g_{87} : 0, g_{32} : 0, g_{54} : 0, g_{36} : 0, g_{34} : 0, g_{63} : 0, g_{84} : g_{86}, g_{82} : g_{86}, g_{42} : g_{98}, g_{71} : g_{98}, g_{92} : g_{98}, g_{73} : g_{98}, g_{94} : g_{95}, g_{53} : g_{98}, g_{91} : g_{98}, g_{72} : g_{98}, g_{93} : g_{98}, g_{64} : 2 g_{98}, g_{65} : 2 g_{98}, g_{74} : g_{75}, g_{44} : g_{55}, g_{77} : g_{88}, g_{11} : g_{66}, g_{22} : g_{33}\\right\\}$"
      ],
      "text/plain": [
       "{g19: 0,\n",
       " g18: 0,\n",
       " g39: 0,\n",
       " g31: 0,\n",
       " g29: 0,\n",
       " g37: 0,\n",
       " g28: 0,\n",
       " g48: 0,\n",
       " g51: 0,\n",
       " g59: 0,\n",
       " g57: 0,\n",
       " g49: 0,\n",
       " g69: 0,\n",
       " g78: 0,\n",
       " g27: 0,\n",
       " g38: 0,\n",
       " g47: 0,\n",
       " g58: 0,\n",
       " g43: 0,\n",
       " g68: 0,\n",
       " g13: 0,\n",
       " g16: 0,\n",
       " g15: 0,\n",
       " g23: 0,\n",
       " g45: 0,\n",
       " g79: 0,\n",
       " g17: 0,\n",
       " g25: 0,\n",
       " g26: 0,\n",
       " g46: 0,\n",
       " g61: 0,\n",
       " g41: 0,\n",
       " g52: 0,\n",
       " g62: 0,\n",
       " g67: 0,\n",
       " g89: 0,\n",
       " g56: 0,\n",
       " g21: 0,\n",
       " g81: 0,\n",
       " g87: 0,\n",
       " g32: 0,\n",
       " g54: 0,\n",
       " g36: 0,\n",
       " g34: 0,\n",
       " g63: 0,\n",
       " g84: g86,\n",
       " g82: g86,\n",
       " g42: g98,\n",
       " g71: g98,\n",
       " g92: g98,\n",
       " g73: g98,\n",
       " g94: g95,\n",
       " g53: g98,\n",
       " g91: g98,\n",
       " g72: g98,\n",
       " g93: g98,\n",
       " g64: 2*g98,\n",
       " g65: 2*g98,\n",
       " g74: g75,\n",
       " g44: g55,\n",
       " g77: g88,\n",
       " g11: g66,\n",
       " g22: g33}"
      ]
     },
     "metadata": {},
     "output_type": "display_data"
    },
    {
     "name": "stdout",
     "output_type": "stream",
     "text": [
      "Input the lenght parameter (an integer between 0 and 4):1\n",
      "Working with matrix 1\n",
      "No equation found of desired length.\n",
      "Working with matrix 2\n",
      "No equation found of desired length.\n",
      "Working with matrix 3\n",
      "No equation found of desired length.\n",
      "Working with matrix 4\n"
     ]
    },
    {
     "data": {
      "text/html": [
       "<html>\\(\\displaystyle g_{12}\\)</html>"
      ],
      "text/latex": [
       "$\\displaystyle g_{12}$"
      ],
      "text/plain": [
       "g12"
      ]
     },
     "metadata": {},
     "output_type": "display_data"
    },
    {
     "name": "stdout",
     "output_type": "stream",
     "text": [
      "Would you like to accept this equation? ([Y]/N): y\n",
      "eqns_dic = \n"
     ]
    },
    {
     "data": {
      "text/html": [
       "<html>\\(\\displaystyle \\left\\{g_{19} : 0, g_{18} : 0, g_{39} : 0, g_{31} : 0, g_{29} : 0, g_{37} : 0, g_{28} : 0, g_{48} : 0, g_{51} : 0, g_{59} : 0, g_{57} : 0, g_{49} : 0, g_{69} : 0, g_{78} : 0, g_{27} : 0, g_{38} : 0, g_{47} : 0, g_{58} : 0, g_{43} : 0, g_{68} : 0, g_{13} : 0, g_{16} : 0, g_{15} : 0, g_{23} : 0, g_{45} : 0, g_{79} : 0, g_{17} : 0, g_{25} : 0, g_{26} : 0, g_{46} : 0, g_{61} : 0, g_{41} : 0, g_{52} : 0, g_{62} : 0, g_{67} : 0, g_{89} : 0, g_{56} : 0, g_{21} : 0, g_{81} : 0, g_{87} : 0, g_{32} : 0, g_{54} : 0, g_{36} : 0, g_{34} : 0, g_{63} : 0, g_{84} : g_{86}, g_{82} : g_{86}, g_{42} : g_{98}, g_{71} : g_{98}, g_{92} : g_{98}, g_{73} : g_{98}, g_{94} : g_{95}, g_{53} : g_{98}, g_{91} : g_{98}, g_{72} : g_{98}, g_{93} : g_{98}, g_{64} : 2 g_{98}, g_{65} : 2 g_{98}, g_{74} : g_{75}, g_{44} : g_{55}, g_{77} : g_{88}, g_{11} : g_{66}, g_{22} : g_{33}, g_{12} : 0\\right\\}\\)</html>"
      ],
      "text/latex": [
       "$\\displaystyle \\left\\{g_{19} : 0, g_{18} : 0, g_{39} : 0, g_{31} : 0, g_{29} : 0, g_{37} : 0, g_{28} : 0, g_{48} : 0, g_{51} : 0, g_{59} : 0, g_{57} : 0, g_{49} : 0, g_{69} : 0, g_{78} : 0, g_{27} : 0, g_{38} : 0, g_{47} : 0, g_{58} : 0, g_{43} : 0, g_{68} : 0, g_{13} : 0, g_{16} : 0, g_{15} : 0, g_{23} : 0, g_{45} : 0, g_{79} : 0, g_{17} : 0, g_{25} : 0, g_{26} : 0, g_{46} : 0, g_{61} : 0, g_{41} : 0, g_{52} : 0, g_{62} : 0, g_{67} : 0, g_{89} : 0, g_{56} : 0, g_{21} : 0, g_{81} : 0, g_{87} : 0, g_{32} : 0, g_{54} : 0, g_{36} : 0, g_{34} : 0, g_{63} : 0, g_{84} : g_{86}, g_{82} : g_{86}, g_{42} : g_{98}, g_{71} : g_{98}, g_{92} : g_{98}, g_{73} : g_{98}, g_{94} : g_{95}, g_{53} : g_{98}, g_{91} : g_{98}, g_{72} : g_{98}, g_{93} : g_{98}, g_{64} : 2 g_{98}, g_{65} : 2 g_{98}, g_{74} : g_{75}, g_{44} : g_{55}, g_{77} : g_{88}, g_{11} : g_{66}, g_{22} : g_{33}, g_{12} : 0\\right\\}$"
      ],
      "text/plain": [
       "{g19: 0,\n",
       " g18: 0,\n",
       " g39: 0,\n",
       " g31: 0,\n",
       " g29: 0,\n",
       " g37: 0,\n",
       " g28: 0,\n",
       " g48: 0,\n",
       " g51: 0,\n",
       " g59: 0,\n",
       " g57: 0,\n",
       " g49: 0,\n",
       " g69: 0,\n",
       " g78: 0,\n",
       " g27: 0,\n",
       " g38: 0,\n",
       " g47: 0,\n",
       " g58: 0,\n",
       " g43: 0,\n",
       " g68: 0,\n",
       " g13: 0,\n",
       " g16: 0,\n",
       " g15: 0,\n",
       " g23: 0,\n",
       " g45: 0,\n",
       " g79: 0,\n",
       " g17: 0,\n",
       " g25: 0,\n",
       " g26: 0,\n",
       " g46: 0,\n",
       " g61: 0,\n",
       " g41: 0,\n",
       " g52: 0,\n",
       " g62: 0,\n",
       " g67: 0,\n",
       " g89: 0,\n",
       " g56: 0,\n",
       " g21: 0,\n",
       " g81: 0,\n",
       " g87: 0,\n",
       " g32: 0,\n",
       " g54: 0,\n",
       " g36: 0,\n",
       " g34: 0,\n",
       " g63: 0,\n",
       " g84: g86,\n",
       " g82: g86,\n",
       " g42: g98,\n",
       " g71: g98,\n",
       " g92: g98,\n",
       " g73: g98,\n",
       " g94: g95,\n",
       " g53: g98,\n",
       " g91: g98,\n",
       " g72: g98,\n",
       " g93: g98,\n",
       " g64: 2*g98,\n",
       " g65: 2*g98,\n",
       " g74: g75,\n",
       " g44: g55,\n",
       " g77: g88,\n",
       " g11: g66,\n",
       " g22: g33,\n",
       " g12: 0}"
      ]
     },
     "metadata": {},
     "output_type": "display_data"
    },
    {
     "name": "stdout",
     "output_type": "stream",
     "text": [
      "Input the lenght parameter (an integer between 0 and 4):1\n",
      "Working with matrix 1\n",
      "No equation found of desired length.\n",
      "Working with matrix 2\n",
      "No equation found of desired length.\n",
      "Working with matrix 3\n",
      "No equation found of desired length.\n",
      "Working with matrix 4\n",
      "No equation found of desired length.\n",
      "Working with matrix 5\n",
      "No equation found of desired length.\n",
      "Working with matrix 6\n",
      "No equation found of desired length.\n",
      "Working with matrix 7\n",
      "No equation found of desired length.\n",
      "Working with matrix 8\n",
      "No equation found of desired length.\n",
      "Working with matrix 9\n",
      "No equation found of desired length.\n",
      "Working with matrix 10\n",
      "No equation found of desired length.\n",
      "Working with matrix 11\n",
      "No equation found of desired length.\n",
      "Working with matrix 12\n",
      "No equation found of desired length.\n",
      "Working with matrix 13\n",
      "No equation found of desired length.\n",
      "Working with matrix 14\n",
      "No equation found of desired length.\n",
      "Working with matrix 15\n",
      "No equation found of desired length.\n",
      "Working with matrix 16\n",
      "No equation found of desired length.\n",
      "Working with matrix 17\n",
      "No equation found of desired length.\n",
      "Working with matrix 18\n",
      "No equation found of desired length.\n",
      "Input the lenght parameter (an integer between 0 and 4):2\n",
      "Working with matrix 1\n"
     ]
    },
    {
     "data": {
      "text/html": [
       "<html>\\(\\displaystyle -g_{83} + g_{86}\\)</html>"
      ],
      "text/latex": [
       "$\\displaystyle -g_{83} + g_{86}$"
      ],
      "text/plain": [
       "-g83 + g86"
      ]
     },
     "metadata": {},
     "output_type": "display_data"
    },
    {
     "name": "stdout",
     "output_type": "stream",
     "text": [
      "Would you like to accept this equation? ([Y]/N): y\n",
      "eqns_dic = \n"
     ]
    },
    {
     "data": {
      "text/html": [
       "<html>\\(\\displaystyle \\left\\{g_{19} : 0, g_{18} : 0, g_{39} : 0, g_{31} : 0, g_{29} : 0, g_{37} : 0, g_{28} : 0, g_{48} : 0, g_{51} : 0, g_{59} : 0, g_{57} : 0, g_{49} : 0, g_{69} : 0, g_{78} : 0, g_{27} : 0, g_{38} : 0, g_{47} : 0, g_{58} : 0, g_{43} : 0, g_{68} : 0, g_{13} : 0, g_{16} : 0, g_{15} : 0, g_{23} : 0, g_{45} : 0, g_{79} : 0, g_{17} : 0, g_{25} : 0, g_{26} : 0, g_{46} : 0, g_{61} : 0, g_{41} : 0, g_{52} : 0, g_{62} : 0, g_{67} : 0, g_{89} : 0, g_{56} : 0, g_{21} : 0, g_{81} : 0, g_{87} : 0, g_{32} : 0, g_{54} : 0, g_{36} : 0, g_{34} : 0, g_{63} : 0, g_{84} : g_{86}, g_{82} : g_{86}, g_{42} : g_{98}, g_{71} : g_{98}, g_{92} : g_{98}, g_{73} : g_{98}, g_{94} : g_{95}, g_{53} : g_{98}, g_{91} : g_{98}, g_{72} : g_{98}, g_{93} : g_{98}, g_{64} : 2 g_{98}, g_{65} : 2 g_{98}, g_{74} : g_{75}, g_{44} : g_{55}, g_{77} : g_{88}, g_{11} : g_{66}, g_{22} : g_{33}, g_{12} : 0, g_{83} : g_{86}\\right\\}\\)</html>"
      ],
      "text/latex": [
       "$\\displaystyle \\left\\{g_{19} : 0, g_{18} : 0, g_{39} : 0, g_{31} : 0, g_{29} : 0, g_{37} : 0, g_{28} : 0, g_{48} : 0, g_{51} : 0, g_{59} : 0, g_{57} : 0, g_{49} : 0, g_{69} : 0, g_{78} : 0, g_{27} : 0, g_{38} : 0, g_{47} : 0, g_{58} : 0, g_{43} : 0, g_{68} : 0, g_{13} : 0, g_{16} : 0, g_{15} : 0, g_{23} : 0, g_{45} : 0, g_{79} : 0, g_{17} : 0, g_{25} : 0, g_{26} : 0, g_{46} : 0, g_{61} : 0, g_{41} : 0, g_{52} : 0, g_{62} : 0, g_{67} : 0, g_{89} : 0, g_{56} : 0, g_{21} : 0, g_{81} : 0, g_{87} : 0, g_{32} : 0, g_{54} : 0, g_{36} : 0, g_{34} : 0, g_{63} : 0, g_{84} : g_{86}, g_{82} : g_{86}, g_{42} : g_{98}, g_{71} : g_{98}, g_{92} : g_{98}, g_{73} : g_{98}, g_{94} : g_{95}, g_{53} : g_{98}, g_{91} : g_{98}, g_{72} : g_{98}, g_{93} : g_{98}, g_{64} : 2 g_{98}, g_{65} : 2 g_{98}, g_{74} : g_{75}, g_{44} : g_{55}, g_{77} : g_{88}, g_{11} : g_{66}, g_{22} : g_{33}, g_{12} : 0, g_{83} : g_{86}\\right\\}$"
      ],
      "text/plain": [
       "{g19: 0,\n",
       " g18: 0,\n",
       " g39: 0,\n",
       " g31: 0,\n",
       " g29: 0,\n",
       " g37: 0,\n",
       " g28: 0,\n",
       " g48: 0,\n",
       " g51: 0,\n",
       " g59: 0,\n",
       " g57: 0,\n",
       " g49: 0,\n",
       " g69: 0,\n",
       " g78: 0,\n",
       " g27: 0,\n",
       " g38: 0,\n",
       " g47: 0,\n",
       " g58: 0,\n",
       " g43: 0,\n",
       " g68: 0,\n",
       " g13: 0,\n",
       " g16: 0,\n",
       " g15: 0,\n",
       " g23: 0,\n",
       " g45: 0,\n",
       " g79: 0,\n",
       " g17: 0,\n",
       " g25: 0,\n",
       " g26: 0,\n",
       " g46: 0,\n",
       " g61: 0,\n",
       " g41: 0,\n",
       " g52: 0,\n",
       " g62: 0,\n",
       " g67: 0,\n",
       " g89: 0,\n",
       " g56: 0,\n",
       " g21: 0,\n",
       " g81: 0,\n",
       " g87: 0,\n",
       " g32: 0,\n",
       " g54: 0,\n",
       " g36: 0,\n",
       " g34: 0,\n",
       " g63: 0,\n",
       " g84: g86,\n",
       " g82: g86,\n",
       " g42: g98,\n",
       " g71: g98,\n",
       " g92: g98,\n",
       " g73: g98,\n",
       " g94: g95,\n",
       " g53: g98,\n",
       " g91: g98,\n",
       " g72: g98,\n",
       " g93: g98,\n",
       " g64: 2*g98,\n",
       " g65: 2*g98,\n",
       " g74: g75,\n",
       " g44: g55,\n",
       " g77: g88,\n",
       " g11: g66,\n",
       " g22: g33,\n",
       " g12: 0,\n",
       " g83: g86}"
      ]
     },
     "metadata": {},
     "output_type": "display_data"
    },
    {
     "name": "stdout",
     "output_type": "stream",
     "text": [
      "Input the lenght parameter (an integer between 0 and 4):1\n",
      "Working with matrix 1\n",
      "No equation found of desired length.\n",
      "Working with matrix 2\n",
      "No equation found of desired length.\n",
      "Working with matrix 3\n",
      "No equation found of desired length.\n",
      "Working with matrix 4\n",
      "No equation found of desired length.\n",
      "Working with matrix 5\n",
      "No equation found of desired length.\n",
      "Working with matrix 6\n",
      "No equation found of desired length.\n",
      "Working with matrix 7\n",
      "No equation found of desired length.\n",
      "Working with matrix 8\n",
      "No equation found of desired length.\n",
      "Working with matrix 9\n",
      "No equation found of desired length.\n",
      "Working with matrix 10\n",
      "No equation found of desired length.\n",
      "Working with matrix 11\n",
      "No equation found of desired length.\n",
      "Working with matrix 12\n",
      "No equation found of desired length.\n",
      "Working with matrix 13\n",
      "No equation found of desired length.\n",
      "Working with matrix 14\n",
      "No equation found of desired length.\n",
      "Working with matrix 15\n",
      "No equation found of desired length.\n",
      "Working with matrix 16\n",
      "No equation found of desired length.\n",
      "Working with matrix 17\n",
      "No equation found of desired length.\n",
      "Working with matrix 18\n",
      "No equation found of desired length.\n",
      "Input the lenght parameter (an integer between 0 and 4):2\n",
      "Working with matrix 1\n",
      "No equation found of desired length.\n",
      "Working with matrix 2\n",
      "No equation found of desired length.\n",
      "Working with matrix 3\n",
      "No equation found of desired length.\n",
      "Working with matrix 4\n"
     ]
    },
    {
     "data": {
      "text/html": [
       "<html>\\(\\displaystyle 2 g_{24} - 2 g_{35}\\)</html>"
      ],
      "text/latex": [
       "$\\displaystyle 2 g_{24} - 2 g_{35}$"
      ],
      "text/plain": [
       "2*g24 - 2*g35"
      ]
     },
     "metadata": {},
     "output_type": "display_data"
    },
    {
     "name": "stdout",
     "output_type": "stream",
     "text": [
      "Would you like to accept this equation? ([Y]/N): no\n",
      "If you'd like to search in a different matrix then enter: 'change'\n",
      "Would you like to input the polynomial yourself? (Y/[N]):change\n",
      "Going to work with another matrix.\n",
      "Working with matrix 5\n",
      "No equation found of desired length.\n",
      "Working with matrix 6\n"
     ]
    },
    {
     "data": {
      "text/html": [
       "<html>\\(\\displaystyle -2 g_{24} + 2 g_{35}\\)</html>"
      ],
      "text/latex": [
       "$\\displaystyle -2 g_{24} + 2 g_{35}$"
      ],
      "text/plain": [
       "-2*g24 + 2*g35"
      ]
     },
     "metadata": {},
     "output_type": "display_data"
    },
    {
     "name": "stdout",
     "output_type": "stream",
     "text": [
      "Would you like to accept this equation? ([Y]/N): y\n",
      "eqns_dic = \n"
     ]
    },
    {
     "data": {
      "text/html": [
       "<html>\\(\\displaystyle \\left\\{g_{19} : 0, g_{18} : 0, g_{39} : 0, g_{31} : 0, g_{29} : 0, g_{37} : 0, g_{28} : 0, g_{48} : 0, g_{51} : 0, g_{59} : 0, g_{57} : 0, g_{49} : 0, g_{69} : 0, g_{78} : 0, g_{27} : 0, g_{38} : 0, g_{47} : 0, g_{58} : 0, g_{43} : 0, g_{68} : 0, g_{13} : 0, g_{16} : 0, g_{15} : 0, g_{23} : 0, g_{45} : 0, g_{79} : 0, g_{17} : 0, g_{25} : 0, g_{26} : 0, g_{46} : 0, g_{61} : 0, g_{41} : 0, g_{52} : 0, g_{62} : 0, g_{67} : 0, g_{89} : 0, g_{56} : 0, g_{21} : 0, g_{81} : 0, g_{87} : 0, g_{32} : 0, g_{54} : 0, g_{36} : 0, g_{34} : 0, g_{63} : 0, g_{84} : g_{86}, g_{82} : g_{86}, g_{42} : g_{98}, g_{71} : g_{98}, g_{92} : g_{98}, g_{73} : g_{98}, g_{94} : g_{95}, g_{53} : g_{98}, g_{91} : g_{98}, g_{72} : g_{98}, g_{93} : g_{98}, g_{64} : 2 g_{98}, g_{65} : 2 g_{98}, g_{74} : g_{75}, g_{44} : g_{55}, g_{77} : g_{88}, g_{11} : g_{66}, g_{22} : g_{33}, g_{12} : 0, g_{83} : g_{86}, g_{24} : g_{35}\\right\\}\\)</html>"
      ],
      "text/latex": [
       "$\\displaystyle \\left\\{g_{19} : 0, g_{18} : 0, g_{39} : 0, g_{31} : 0, g_{29} : 0, g_{37} : 0, g_{28} : 0, g_{48} : 0, g_{51} : 0, g_{59} : 0, g_{57} : 0, g_{49} : 0, g_{69} : 0, g_{78} : 0, g_{27} : 0, g_{38} : 0, g_{47} : 0, g_{58} : 0, g_{43} : 0, g_{68} : 0, g_{13} : 0, g_{16} : 0, g_{15} : 0, g_{23} : 0, g_{45} : 0, g_{79} : 0, g_{17} : 0, g_{25} : 0, g_{26} : 0, g_{46} : 0, g_{61} : 0, g_{41} : 0, g_{52} : 0, g_{62} : 0, g_{67} : 0, g_{89} : 0, g_{56} : 0, g_{21} : 0, g_{81} : 0, g_{87} : 0, g_{32} : 0, g_{54} : 0, g_{36} : 0, g_{34} : 0, g_{63} : 0, g_{84} : g_{86}, g_{82} : g_{86}, g_{42} : g_{98}, g_{71} : g_{98}, g_{92} : g_{98}, g_{73} : g_{98}, g_{94} : g_{95}, g_{53} : g_{98}, g_{91} : g_{98}, g_{72} : g_{98}, g_{93} : g_{98}, g_{64} : 2 g_{98}, g_{65} : 2 g_{98}, g_{74} : g_{75}, g_{44} : g_{55}, g_{77} : g_{88}, g_{11} : g_{66}, g_{22} : g_{33}, g_{12} : 0, g_{83} : g_{86}, g_{24} : g_{35}\\right\\}$"
      ],
      "text/plain": [
       "{g19: 0,\n",
       " g18: 0,\n",
       " g39: 0,\n",
       " g31: 0,\n",
       " g29: 0,\n",
       " g37: 0,\n",
       " g28: 0,\n",
       " g48: 0,\n",
       " g51: 0,\n",
       " g59: 0,\n",
       " g57: 0,\n",
       " g49: 0,\n",
       " g69: 0,\n",
       " g78: 0,\n",
       " g27: 0,\n",
       " g38: 0,\n",
       " g47: 0,\n",
       " g58: 0,\n",
       " g43: 0,\n",
       " g68: 0,\n",
       " g13: 0,\n",
       " g16: 0,\n",
       " g15: 0,\n",
       " g23: 0,\n",
       " g45: 0,\n",
       " g79: 0,\n",
       " g17: 0,\n",
       " g25: 0,\n",
       " g26: 0,\n",
       " g46: 0,\n",
       " g61: 0,\n",
       " g41: 0,\n",
       " g52: 0,\n",
       " g62: 0,\n",
       " g67: 0,\n",
       " g89: 0,\n",
       " g56: 0,\n",
       " g21: 0,\n",
       " g81: 0,\n",
       " g87: 0,\n",
       " g32: 0,\n",
       " g54: 0,\n",
       " g36: 0,\n",
       " g34: 0,\n",
       " g63: 0,\n",
       " g84: g86,\n",
       " g82: g86,\n",
       " g42: g98,\n",
       " g71: g98,\n",
       " g92: g98,\n",
       " g73: g98,\n",
       " g94: g95,\n",
       " g53: g98,\n",
       " g91: g98,\n",
       " g72: g98,\n",
       " g93: g98,\n",
       " g64: 2*g98,\n",
       " g65: 2*g98,\n",
       " g74: g75,\n",
       " g44: g55,\n",
       " g77: g88,\n",
       " g11: g66,\n",
       " g22: g33,\n",
       " g12: 0,\n",
       " g83: g86,\n",
       " g24: g35}"
      ]
     },
     "metadata": {},
     "output_type": "display_data"
    },
    {
     "name": "stdout",
     "output_type": "stream",
     "text": [
      "Input the lenght parameter (an integer between 0 and 4):1\n",
      "Working with matrix 1\n",
      "No equation found of desired length.\n",
      "Working with matrix 2\n",
      "No equation found of desired length.\n",
      "Working with matrix 3\n",
      "No equation found of desired length.\n",
      "Working with matrix 4\n"
     ]
    },
    {
     "data": {
      "text/html": [
       "<html>\\(\\displaystyle -g_{14}\\)</html>"
      ],
      "text/latex": [
       "$\\displaystyle -g_{14}$"
      ],
      "text/plain": [
       "-g14"
      ]
     },
     "metadata": {},
     "output_type": "display_data"
    },
    {
     "name": "stdout",
     "output_type": "stream",
     "text": [
      "Would you like to accept this equation? ([Y]/N): y\n",
      "eqns_dic = \n"
     ]
    },
    {
     "data": {
      "text/html": [
       "<html>\\(\\displaystyle \\left\\{g_{19} : 0, g_{18} : 0, g_{39} : 0, g_{31} : 0, g_{29} : 0, g_{37} : 0, g_{28} : 0, g_{48} : 0, g_{51} : 0, g_{59} : 0, g_{57} : 0, g_{49} : 0, g_{69} : 0, g_{78} : 0, g_{27} : 0, g_{38} : 0, g_{47} : 0, g_{58} : 0, g_{43} : 0, g_{68} : 0, g_{13} : 0, g_{16} : 0, g_{15} : 0, g_{23} : 0, g_{45} : 0, g_{79} : 0, g_{17} : 0, g_{25} : 0, g_{26} : 0, g_{46} : 0, g_{61} : 0, g_{41} : 0, g_{52} : 0, g_{62} : 0, g_{67} : 0, g_{89} : 0, g_{56} : 0, g_{21} : 0, g_{81} : 0, g_{87} : 0, g_{32} : 0, g_{54} : 0, g_{36} : 0, g_{34} : 0, g_{63} : 0, g_{84} : g_{86}, g_{82} : g_{86}, g_{42} : g_{98}, g_{71} : g_{98}, g_{92} : g_{98}, g_{73} : g_{98}, g_{94} : g_{95}, g_{53} : g_{98}, g_{91} : g_{98}, g_{72} : g_{98}, g_{93} : g_{98}, g_{64} : 2 g_{98}, g_{65} : 2 g_{98}, g_{74} : g_{75}, g_{44} : g_{55}, g_{77} : g_{88}, g_{11} : g_{66}, g_{22} : g_{33}, g_{12} : 0, g_{83} : g_{86}, g_{24} : g_{35}, g_{14} : 0\\right\\}\\)</html>"
      ],
      "text/latex": [
       "$\\displaystyle \\left\\{g_{19} : 0, g_{18} : 0, g_{39} : 0, g_{31} : 0, g_{29} : 0, g_{37} : 0, g_{28} : 0, g_{48} : 0, g_{51} : 0, g_{59} : 0, g_{57} : 0, g_{49} : 0, g_{69} : 0, g_{78} : 0, g_{27} : 0, g_{38} : 0, g_{47} : 0, g_{58} : 0, g_{43} : 0, g_{68} : 0, g_{13} : 0, g_{16} : 0, g_{15} : 0, g_{23} : 0, g_{45} : 0, g_{79} : 0, g_{17} : 0, g_{25} : 0, g_{26} : 0, g_{46} : 0, g_{61} : 0, g_{41} : 0, g_{52} : 0, g_{62} : 0, g_{67} : 0, g_{89} : 0, g_{56} : 0, g_{21} : 0, g_{81} : 0, g_{87} : 0, g_{32} : 0, g_{54} : 0, g_{36} : 0, g_{34} : 0, g_{63} : 0, g_{84} : g_{86}, g_{82} : g_{86}, g_{42} : g_{98}, g_{71} : g_{98}, g_{92} : g_{98}, g_{73} : g_{98}, g_{94} : g_{95}, g_{53} : g_{98}, g_{91} : g_{98}, g_{72} : g_{98}, g_{93} : g_{98}, g_{64} : 2 g_{98}, g_{65} : 2 g_{98}, g_{74} : g_{75}, g_{44} : g_{55}, g_{77} : g_{88}, g_{11} : g_{66}, g_{22} : g_{33}, g_{12} : 0, g_{83} : g_{86}, g_{24} : g_{35}, g_{14} : 0\\right\\}$"
      ],
      "text/plain": [
       "{g19: 0,\n",
       " g18: 0,\n",
       " g39: 0,\n",
       " g31: 0,\n",
       " g29: 0,\n",
       " g37: 0,\n",
       " g28: 0,\n",
       " g48: 0,\n",
       " g51: 0,\n",
       " g59: 0,\n",
       " g57: 0,\n",
       " g49: 0,\n",
       " g69: 0,\n",
       " g78: 0,\n",
       " g27: 0,\n",
       " g38: 0,\n",
       " g47: 0,\n",
       " g58: 0,\n",
       " g43: 0,\n",
       " g68: 0,\n",
       " g13: 0,\n",
       " g16: 0,\n",
       " g15: 0,\n",
       " g23: 0,\n",
       " g45: 0,\n",
       " g79: 0,\n",
       " g17: 0,\n",
       " g25: 0,\n",
       " g26: 0,\n",
       " g46: 0,\n",
       " g61: 0,\n",
       " g41: 0,\n",
       " g52: 0,\n",
       " g62: 0,\n",
       " g67: 0,\n",
       " g89: 0,\n",
       " g56: 0,\n",
       " g21: 0,\n",
       " g81: 0,\n",
       " g87: 0,\n",
       " g32: 0,\n",
       " g54: 0,\n",
       " g36: 0,\n",
       " g34: 0,\n",
       " g63: 0,\n",
       " g84: g86,\n",
       " g82: g86,\n",
       " g42: g98,\n",
       " g71: g98,\n",
       " g92: g98,\n",
       " g73: g98,\n",
       " g94: g95,\n",
       " g53: g98,\n",
       " g91: g98,\n",
       " g72: g98,\n",
       " g93: g98,\n",
       " g64: 2*g98,\n",
       " g65: 2*g98,\n",
       " g74: g75,\n",
       " g44: g55,\n",
       " g77: g88,\n",
       " g11: g66,\n",
       " g22: g33,\n",
       " g12: 0,\n",
       " g83: g86,\n",
       " g24: g35,\n",
       " g14: 0}"
      ]
     },
     "metadata": {},
     "output_type": "display_data"
    },
    {
     "name": "stdout",
     "output_type": "stream",
     "text": [
      "Input the lenght parameter (an integer between 0 and 4):1\n",
      "Working with matrix 1\n",
      "No equation found of desired length.\n",
      "Working with matrix 2\n",
      "No equation found of desired length.\n",
      "Working with matrix 3\n",
      "No equation found of desired length.\n",
      "Working with matrix 4\n",
      "No equation found of desired length.\n",
      "Working with matrix 5\n",
      "No equation found of desired length.\n",
      "Matrix 6 is satisfied. Moving on to the next matrix.\n",
      "Working with matrix 7\n",
      "No equation found of desired length.\n",
      "Working with matrix 8\n",
      "No equation found of desired length.\n",
      "Working with matrix 9\n",
      "No equation found of desired length.\n",
      "Working with matrix 10\n",
      "No equation found of desired length.\n",
      "Working with matrix 11\n",
      "No equation found of desired length.\n",
      "Working with matrix 12\n",
      "No equation found of desired length.\n",
      "Working with matrix 13\n",
      "No equation found of desired length.\n",
      "Working with matrix 14\n",
      "No equation found of desired length.\n",
      "Working with matrix 15\n",
      "No equation found of desired length.\n",
      "Working with matrix 16\n",
      "No equation found of desired length.\n",
      "Working with matrix 17\n",
      "No equation found of desired length.\n",
      "Working with matrix 18\n",
      "No equation found of desired length.\n",
      "Input the lenght parameter (an integer between 0 and 4):2\n",
      "Working with matrix 1\n"
     ]
    },
    {
     "data": {
      "text/html": [
       "<html>\\(\\displaystyle 4 g_{85} - 4 g_{86}\\)</html>"
      ],
      "text/latex": [
       "$\\displaystyle 4 g_{85} - 4 g_{86}$"
      ],
      "text/plain": [
       "4*g85 - 4*g86"
      ]
     },
     "metadata": {},
     "output_type": "display_data"
    },
    {
     "name": "stdout",
     "output_type": "stream",
     "text": [
      "Would you like to accept this equation? ([Y]/N): y\n",
      "eqns_dic = \n"
     ]
    },
    {
     "data": {
      "text/html": [
       "<html>\\(\\displaystyle \\left\\{g_{19} : 0, g_{18} : 0, g_{39} : 0, g_{31} : 0, g_{29} : 0, g_{37} : 0, g_{28} : 0, g_{48} : 0, g_{51} : 0, g_{59} : 0, g_{57} : 0, g_{49} : 0, g_{69} : 0, g_{78} : 0, g_{27} : 0, g_{38} : 0, g_{47} : 0, g_{58} : 0, g_{43} : 0, g_{68} : 0, g_{13} : 0, g_{16} : 0, g_{15} : 0, g_{23} : 0, g_{45} : 0, g_{79} : 0, g_{17} : 0, g_{25} : 0, g_{26} : 0, g_{46} : 0, g_{61} : 0, g_{41} : 0, g_{52} : 0, g_{62} : 0, g_{67} : 0, g_{89} : 0, g_{56} : 0, g_{21} : 0, g_{81} : 0, g_{87} : 0, g_{32} : 0, g_{54} : 0, g_{36} : 0, g_{34} : 0, g_{63} : 0, g_{84} : g_{86}, g_{82} : g_{86}, g_{42} : g_{98}, g_{71} : g_{98}, g_{92} : g_{98}, g_{73} : g_{98}, g_{94} : g_{95}, g_{53} : g_{98}, g_{91} : g_{98}, g_{72} : g_{98}, g_{93} : g_{98}, g_{64} : 2 g_{98}, g_{65} : 2 g_{98}, g_{74} : g_{75}, g_{44} : g_{55}, g_{77} : g_{88}, g_{11} : g_{66}, g_{22} : g_{33}, g_{12} : 0, g_{83} : g_{86}, g_{24} : g_{35}, g_{14} : 0, g_{85} : g_{86}\\right\\}\\)</html>"
      ],
      "text/latex": [
       "$\\displaystyle \\left\\{g_{19} : 0, g_{18} : 0, g_{39} : 0, g_{31} : 0, g_{29} : 0, g_{37} : 0, g_{28} : 0, g_{48} : 0, g_{51} : 0, g_{59} : 0, g_{57} : 0, g_{49} : 0, g_{69} : 0, g_{78} : 0, g_{27} : 0, g_{38} : 0, g_{47} : 0, g_{58} : 0, g_{43} : 0, g_{68} : 0, g_{13} : 0, g_{16} : 0, g_{15} : 0, g_{23} : 0, g_{45} : 0, g_{79} : 0, g_{17} : 0, g_{25} : 0, g_{26} : 0, g_{46} : 0, g_{61} : 0, g_{41} : 0, g_{52} : 0, g_{62} : 0, g_{67} : 0, g_{89} : 0, g_{56} : 0, g_{21} : 0, g_{81} : 0, g_{87} : 0, g_{32} : 0, g_{54} : 0, g_{36} : 0, g_{34} : 0, g_{63} : 0, g_{84} : g_{86}, g_{82} : g_{86}, g_{42} : g_{98}, g_{71} : g_{98}, g_{92} : g_{98}, g_{73} : g_{98}, g_{94} : g_{95}, g_{53} : g_{98}, g_{91} : g_{98}, g_{72} : g_{98}, g_{93} : g_{98}, g_{64} : 2 g_{98}, g_{65} : 2 g_{98}, g_{74} : g_{75}, g_{44} : g_{55}, g_{77} : g_{88}, g_{11} : g_{66}, g_{22} : g_{33}, g_{12} : 0, g_{83} : g_{86}, g_{24} : g_{35}, g_{14} : 0, g_{85} : g_{86}\\right\\}$"
      ],
      "text/plain": [
       "{g19: 0,\n",
       " g18: 0,\n",
       " g39: 0,\n",
       " g31: 0,\n",
       " g29: 0,\n",
       " g37: 0,\n",
       " g28: 0,\n",
       " g48: 0,\n",
       " g51: 0,\n",
       " g59: 0,\n",
       " g57: 0,\n",
       " g49: 0,\n",
       " g69: 0,\n",
       " g78: 0,\n",
       " g27: 0,\n",
       " g38: 0,\n",
       " g47: 0,\n",
       " g58: 0,\n",
       " g43: 0,\n",
       " g68: 0,\n",
       " g13: 0,\n",
       " g16: 0,\n",
       " g15: 0,\n",
       " g23: 0,\n",
       " g45: 0,\n",
       " g79: 0,\n",
       " g17: 0,\n",
       " g25: 0,\n",
       " g26: 0,\n",
       " g46: 0,\n",
       " g61: 0,\n",
       " g41: 0,\n",
       " g52: 0,\n",
       " g62: 0,\n",
       " g67: 0,\n",
       " g89: 0,\n",
       " g56: 0,\n",
       " g21: 0,\n",
       " g81: 0,\n",
       " g87: 0,\n",
       " g32: 0,\n",
       " g54: 0,\n",
       " g36: 0,\n",
       " g34: 0,\n",
       " g63: 0,\n",
       " g84: g86,\n",
       " g82: g86,\n",
       " g42: g98,\n",
       " g71: g98,\n",
       " g92: g98,\n",
       " g73: g98,\n",
       " g94: g95,\n",
       " g53: g98,\n",
       " g91: g98,\n",
       " g72: g98,\n",
       " g93: g98,\n",
       " g64: 2*g98,\n",
       " g65: 2*g98,\n",
       " g74: g75,\n",
       " g44: g55,\n",
       " g77: g88,\n",
       " g11: g66,\n",
       " g22: g33,\n",
       " g12: 0,\n",
       " g83: g86,\n",
       " g24: g35,\n",
       " g14: 0,\n",
       " g85: g86}"
      ]
     },
     "metadata": {},
     "output_type": "display_data"
    },
    {
     "name": "stdout",
     "output_type": "stream",
     "text": [
      "Input the lenght parameter (an integer between 0 and 4):1\n",
      "Working with matrix 1\n",
      "No equation found of desired length.\n",
      "Working with matrix 2\n",
      "No equation found of desired length.\n",
      "Working with matrix 3\n",
      "No equation found of desired length.\n",
      "Working with matrix 4\n",
      "No equation found of desired length.\n",
      "Working with matrix 5\n",
      "No equation found of desired length.\n",
      "Matrix 6 is satisfied. Moving on to the next matrix.\n",
      "Working with matrix 7\n",
      "No equation found of desired length.\n",
      "Working with matrix 8\n",
      "No equation found of desired length.\n",
      "Working with matrix 9\n",
      "No equation found of desired length.\n",
      "Working with matrix 10\n",
      "No equation found of desired length.\n",
      "Working with matrix 11\n",
      "No equation found of desired length.\n",
      "Working with matrix 12\n",
      "No equation found of desired length.\n",
      "Working with matrix 13\n",
      "No equation found of desired length.\n",
      "Working with matrix 14\n",
      "No equation found of desired length.\n",
      "Working with matrix 15\n",
      "No equation found of desired length.\n",
      "Working with matrix 16\n",
      "No equation found of desired length.\n",
      "Working with matrix 17\n",
      "No equation found of desired length.\n",
      "Working with matrix 18\n",
      "No equation found of desired length.\n",
      "Input the lenght parameter (an integer between 0 and 4):2\n",
      "Working with matrix 1\n",
      "No equation found of desired length.\n",
      "Working with matrix 2\n",
      "No equation found of desired length.\n",
      "Working with matrix 3\n",
      "No equation found of desired length.\n",
      "Working with matrix 4\n",
      "No equation found of desired length.\n",
      "Working with matrix 5\n",
      "No equation found of desired length.\n",
      "Matrix 6 is satisfied. Moving on to the next matrix.\n",
      "Working with matrix 7\n"
     ]
    },
    {
     "data": {
      "text/html": [
       "<html>\\(\\displaystyle g_{95} - g_{96}\\)</html>"
      ],
      "text/latex": [
       "$\\displaystyle g_{95} - g_{96}$"
      ],
      "text/plain": [
       "g95 - g96"
      ]
     },
     "metadata": {},
     "output_type": "display_data"
    },
    {
     "name": "stdout",
     "output_type": "stream",
     "text": [
      "Would you like to accept this equation? ([Y]/N): y\n",
      "eqns_dic = \n"
     ]
    },
    {
     "data": {
      "text/html": [
       "<html>\\(\\displaystyle \\left\\{g_{19} : 0, g_{18} : 0, g_{39} : 0, g_{31} : 0, g_{29} : 0, g_{37} : 0, g_{28} : 0, g_{48} : 0, g_{51} : 0, g_{59} : 0, g_{57} : 0, g_{49} : 0, g_{69} : 0, g_{78} : 0, g_{27} : 0, g_{38} : 0, g_{47} : 0, g_{58} : 0, g_{43} : 0, g_{68} : 0, g_{13} : 0, g_{16} : 0, g_{15} : 0, g_{23} : 0, g_{45} : 0, g_{79} : 0, g_{17} : 0, g_{25} : 0, g_{26} : 0, g_{46} : 0, g_{61} : 0, g_{41} : 0, g_{52} : 0, g_{62} : 0, g_{67} : 0, g_{89} : 0, g_{56} : 0, g_{21} : 0, g_{81} : 0, g_{87} : 0, g_{32} : 0, g_{54} : 0, g_{36} : 0, g_{34} : 0, g_{63} : 0, g_{84} : g_{86}, g_{82} : g_{86}, g_{42} : g_{98}, g_{71} : g_{98}, g_{92} : g_{98}, g_{73} : g_{98}, g_{94} : g_{96}, g_{53} : g_{98}, g_{91} : g_{98}, g_{72} : g_{98}, g_{93} : g_{98}, g_{64} : 2 g_{98}, g_{65} : 2 g_{98}, g_{74} : g_{75}, g_{44} : g_{55}, g_{77} : g_{88}, g_{11} : g_{66}, g_{22} : g_{33}, g_{12} : 0, g_{83} : g_{86}, g_{24} : g_{35}, g_{14} : 0, g_{85} : g_{86}, g_{95} : g_{96}\\right\\}\\)</html>"
      ],
      "text/latex": [
       "$\\displaystyle \\left\\{g_{19} : 0, g_{18} : 0, g_{39} : 0, g_{31} : 0, g_{29} : 0, g_{37} : 0, g_{28} : 0, g_{48} : 0, g_{51} : 0, g_{59} : 0, g_{57} : 0, g_{49} : 0, g_{69} : 0, g_{78} : 0, g_{27} : 0, g_{38} : 0, g_{47} : 0, g_{58} : 0, g_{43} : 0, g_{68} : 0, g_{13} : 0, g_{16} : 0, g_{15} : 0, g_{23} : 0, g_{45} : 0, g_{79} : 0, g_{17} : 0, g_{25} : 0, g_{26} : 0, g_{46} : 0, g_{61} : 0, g_{41} : 0, g_{52} : 0, g_{62} : 0, g_{67} : 0, g_{89} : 0, g_{56} : 0, g_{21} : 0, g_{81} : 0, g_{87} : 0, g_{32} : 0, g_{54} : 0, g_{36} : 0, g_{34} : 0, g_{63} : 0, g_{84} : g_{86}, g_{82} : g_{86}, g_{42} : g_{98}, g_{71} : g_{98}, g_{92} : g_{98}, g_{73} : g_{98}, g_{94} : g_{96}, g_{53} : g_{98}, g_{91} : g_{98}, g_{72} : g_{98}, g_{93} : g_{98}, g_{64} : 2 g_{98}, g_{65} : 2 g_{98}, g_{74} : g_{75}, g_{44} : g_{55}, g_{77} : g_{88}, g_{11} : g_{66}, g_{22} : g_{33}, g_{12} : 0, g_{83} : g_{86}, g_{24} : g_{35}, g_{14} : 0, g_{85} : g_{86}, g_{95} : g_{96}\\right\\}$"
      ],
      "text/plain": [
       "{g19: 0,\n",
       " g18: 0,\n",
       " g39: 0,\n",
       " g31: 0,\n",
       " g29: 0,\n",
       " g37: 0,\n",
       " g28: 0,\n",
       " g48: 0,\n",
       " g51: 0,\n",
       " g59: 0,\n",
       " g57: 0,\n",
       " g49: 0,\n",
       " g69: 0,\n",
       " g78: 0,\n",
       " g27: 0,\n",
       " g38: 0,\n",
       " g47: 0,\n",
       " g58: 0,\n",
       " g43: 0,\n",
       " g68: 0,\n",
       " g13: 0,\n",
       " g16: 0,\n",
       " g15: 0,\n",
       " g23: 0,\n",
       " g45: 0,\n",
       " g79: 0,\n",
       " g17: 0,\n",
       " g25: 0,\n",
       " g26: 0,\n",
       " g46: 0,\n",
       " g61: 0,\n",
       " g41: 0,\n",
       " g52: 0,\n",
       " g62: 0,\n",
       " g67: 0,\n",
       " g89: 0,\n",
       " g56: 0,\n",
       " g21: 0,\n",
       " g81: 0,\n",
       " g87: 0,\n",
       " g32: 0,\n",
       " g54: 0,\n",
       " g36: 0,\n",
       " g34: 0,\n",
       " g63: 0,\n",
       " g84: g86,\n",
       " g82: g86,\n",
       " g42: g98,\n",
       " g71: g98,\n",
       " g92: g98,\n",
       " g73: g98,\n",
       " g94: g96,\n",
       " g53: g98,\n",
       " g91: g98,\n",
       " g72: g98,\n",
       " g93: g98,\n",
       " g64: 2*g98,\n",
       " g65: 2*g98,\n",
       " g74: g75,\n",
       " g44: g55,\n",
       " g77: g88,\n",
       " g11: g66,\n",
       " g22: g33,\n",
       " g12: 0,\n",
       " g83: g86,\n",
       " g24: g35,\n",
       " g14: 0,\n",
       " g85: g86,\n",
       " g95: g96}"
      ]
     },
     "metadata": {},
     "output_type": "display_data"
    },
    {
     "name": "stdout",
     "output_type": "stream",
     "text": [
      "Input the lenght parameter (an integer between 0 and 4):1\n",
      "Working with matrix 1\n",
      "No equation found of desired length.\n",
      "Working with matrix 2\n",
      "No equation found of desired length.\n",
      "Working with matrix 3\n",
      "No equation found of desired length.\n",
      "Working with matrix 4\n",
      "No equation found of desired length.\n",
      "Working with matrix 5\n",
      "No equation found of desired length.\n",
      "Matrix 6 is satisfied. Moving on to the next matrix.\n",
      "Working with matrix 7\n",
      "No equation found of desired length.\n",
      "Working with matrix 8\n",
      "No equation found of desired length.\n",
      "Working with matrix 9\n",
      "No equation found of desired length.\n",
      "Working with matrix 10\n",
      "No equation found of desired length.\n",
      "Working with matrix 11\n",
      "No equation found of desired length.\n",
      "Working with matrix 12\n",
      "No equation found of desired length.\n",
      "Working with matrix 13\n",
      "No equation found of desired length.\n",
      "Working with matrix 14\n",
      "No equation found of desired length.\n",
      "Working with matrix 15\n",
      "No equation found of desired length.\n",
      "Working with matrix 16\n",
      "No equation found of desired length.\n",
      "Working with matrix 17\n",
      "No equation found of desired length.\n",
      "Working with matrix 18\n",
      "No equation found of desired length.\n",
      "Input the lenght parameter (an integer between 0 and 4):2\n",
      "Working with matrix 1\n",
      "No equation found of desired length.\n",
      "Working with matrix 2\n",
      "No equation found of desired length.\n",
      "Working with matrix 3\n",
      "No equation found of desired length.\n",
      "Working with matrix 4\n",
      "No equation found of desired length.\n",
      "Working with matrix 5\n",
      "No equation found of desired length.\n",
      "Matrix 6 is satisfied. Moving on to the next matrix.\n",
      "Working with matrix 7\n"
     ]
    },
    {
     "data": {
      "text/html": [
       "<html>\\(\\displaystyle g_{96} - g_{98}\\)</html>"
      ],
      "text/latex": [
       "$\\displaystyle g_{96} - g_{98}$"
      ],
      "text/plain": [
       "g96 - g98"
      ]
     },
     "metadata": {},
     "output_type": "display_data"
    },
    {
     "name": "stdout",
     "output_type": "stream",
     "text": [
      "Would you like to accept this equation? ([Y]/N): y\n",
      "eqns_dic = \n"
     ]
    },
    {
     "data": {
      "text/html": [
       "<html>\\(\\displaystyle \\left\\{g_{19} : 0, g_{18} : 0, g_{39} : 0, g_{31} : 0, g_{29} : 0, g_{37} : 0, g_{28} : 0, g_{48} : 0, g_{51} : 0, g_{59} : 0, g_{57} : 0, g_{49} : 0, g_{69} : 0, g_{78} : 0, g_{27} : 0, g_{38} : 0, g_{47} : 0, g_{58} : 0, g_{43} : 0, g_{68} : 0, g_{13} : 0, g_{16} : 0, g_{15} : 0, g_{23} : 0, g_{45} : 0, g_{79} : 0, g_{17} : 0, g_{25} : 0, g_{26} : 0, g_{46} : 0, g_{61} : 0, g_{41} : 0, g_{52} : 0, g_{62} : 0, g_{67} : 0, g_{89} : 0, g_{56} : 0, g_{21} : 0, g_{81} : 0, g_{87} : 0, g_{32} : 0, g_{54} : 0, g_{36} : 0, g_{34} : 0, g_{63} : 0, g_{84} : g_{86}, g_{82} : g_{86}, g_{42} : g_{98}, g_{71} : g_{98}, g_{92} : g_{98}, g_{73} : g_{98}, g_{94} : g_{98}, g_{53} : g_{98}, g_{91} : g_{98}, g_{72} : g_{98}, g_{93} : g_{98}, g_{64} : 2 g_{98}, g_{65} : 2 g_{98}, g_{74} : g_{75}, g_{44} : g_{55}, g_{77} : g_{88}, g_{11} : g_{66}, g_{22} : g_{33}, g_{12} : 0, g_{83} : g_{86}, g_{24} : g_{35}, g_{14} : 0, g_{85} : g_{86}, g_{95} : g_{98}, g_{96} : g_{98}\\right\\}\\)</html>"
      ],
      "text/latex": [
       "$\\displaystyle \\left\\{g_{19} : 0, g_{18} : 0, g_{39} : 0, g_{31} : 0, g_{29} : 0, g_{37} : 0, g_{28} : 0, g_{48} : 0, g_{51} : 0, g_{59} : 0, g_{57} : 0, g_{49} : 0, g_{69} : 0, g_{78} : 0, g_{27} : 0, g_{38} : 0, g_{47} : 0, g_{58} : 0, g_{43} : 0, g_{68} : 0, g_{13} : 0, g_{16} : 0, g_{15} : 0, g_{23} : 0, g_{45} : 0, g_{79} : 0, g_{17} : 0, g_{25} : 0, g_{26} : 0, g_{46} : 0, g_{61} : 0, g_{41} : 0, g_{52} : 0, g_{62} : 0, g_{67} : 0, g_{89} : 0, g_{56} : 0, g_{21} : 0, g_{81} : 0, g_{87} : 0, g_{32} : 0, g_{54} : 0, g_{36} : 0, g_{34} : 0, g_{63} : 0, g_{84} : g_{86}, g_{82} : g_{86}, g_{42} : g_{98}, g_{71} : g_{98}, g_{92} : g_{98}, g_{73} : g_{98}, g_{94} : g_{98}, g_{53} : g_{98}, g_{91} : g_{98}, g_{72} : g_{98}, g_{93} : g_{98}, g_{64} : 2 g_{98}, g_{65} : 2 g_{98}, g_{74} : g_{75}, g_{44} : g_{55}, g_{77} : g_{88}, g_{11} : g_{66}, g_{22} : g_{33}, g_{12} : 0, g_{83} : g_{86}, g_{24} : g_{35}, g_{14} : 0, g_{85} : g_{86}, g_{95} : g_{98}, g_{96} : g_{98}\\right\\}$"
      ],
      "text/plain": [
       "{g19: 0,\n",
       " g18: 0,\n",
       " g39: 0,\n",
       " g31: 0,\n",
       " g29: 0,\n",
       " g37: 0,\n",
       " g28: 0,\n",
       " g48: 0,\n",
       " g51: 0,\n",
       " g59: 0,\n",
       " g57: 0,\n",
       " g49: 0,\n",
       " g69: 0,\n",
       " g78: 0,\n",
       " g27: 0,\n",
       " g38: 0,\n",
       " g47: 0,\n",
       " g58: 0,\n",
       " g43: 0,\n",
       " g68: 0,\n",
       " g13: 0,\n",
       " g16: 0,\n",
       " g15: 0,\n",
       " g23: 0,\n",
       " g45: 0,\n",
       " g79: 0,\n",
       " g17: 0,\n",
       " g25: 0,\n",
       " g26: 0,\n",
       " g46: 0,\n",
       " g61: 0,\n",
       " g41: 0,\n",
       " g52: 0,\n",
       " g62: 0,\n",
       " g67: 0,\n",
       " g89: 0,\n",
       " g56: 0,\n",
       " g21: 0,\n",
       " g81: 0,\n",
       " g87: 0,\n",
       " g32: 0,\n",
       " g54: 0,\n",
       " g36: 0,\n",
       " g34: 0,\n",
       " g63: 0,\n",
       " g84: g86,\n",
       " g82: g86,\n",
       " g42: g98,\n",
       " g71: g98,\n",
       " g92: g98,\n",
       " g73: g98,\n",
       " g94: g98,\n",
       " g53: g98,\n",
       " g91: g98,\n",
       " g72: g98,\n",
       " g93: g98,\n",
       " g64: 2*g98,\n",
       " g65: 2*g98,\n",
       " g74: g75,\n",
       " g44: g55,\n",
       " g77: g88,\n",
       " g11: g66,\n",
       " g22: g33,\n",
       " g12: 0,\n",
       " g83: g86,\n",
       " g24: g35,\n",
       " g14: 0,\n",
       " g85: g86,\n",
       " g95: g98,\n",
       " g96: g98}"
      ]
     },
     "metadata": {},
     "output_type": "display_data"
    },
    {
     "name": "stdout",
     "output_type": "stream",
     "text": [
      "Input the lenght parameter (an integer between 0 and 4):1\n",
      "Working with matrix 1\n",
      "No equation found of desired length.\n",
      "Working with matrix 2\n",
      "No equation found of desired length.\n",
      "Working with matrix 3\n",
      "No equation found of desired length.\n",
      "Working with matrix 4\n",
      "No equation found of desired length.\n",
      "Working with matrix 5\n",
      "No equation found of desired length.\n",
      "Matrix 6 is satisfied. Moving on to the next matrix.\n",
      "Working with matrix 7\n",
      "No equation found of desired length.\n",
      "Working with matrix 8\n",
      "No equation found of desired length.\n",
      "Working with matrix 9\n",
      "No equation found of desired length.\n",
      "Working with matrix 10\n",
      "No equation found of desired length.\n",
      "Working with matrix 11\n",
      "No equation found of desired length.\n",
      "Working with matrix 12\n",
      "No equation found of desired length.\n",
      "Working with matrix 13\n",
      "No equation found of desired length.\n",
      "Working with matrix 14\n",
      "No equation found of desired length.\n",
      "Working with matrix 15\n",
      "No equation found of desired length.\n",
      "Working with matrix 16\n",
      "No equation found of desired length.\n",
      "Working with matrix 17\n",
      "No equation found of desired length.\n",
      "Working with matrix 18\n",
      "No equation found of desired length.\n",
      "Input the lenght parameter (an integer between 0 and 4):2\n",
      "Working with matrix 1\n",
      "No equation found of desired length.\n",
      "Working with matrix 2\n",
      "No equation found of desired length.\n",
      "Working with matrix 3\n",
      "No equation found of desired length.\n",
      "Working with matrix 4\n",
      "No equation found of desired length.\n",
      "Working with matrix 5\n",
      "No equation found of desired length.\n",
      "Matrix 6 is satisfied. Moving on to the next matrix.\n",
      "Working with matrix 7\n",
      "No equation found of desired length.\n",
      "Working with matrix 8\n",
      "No equation found of desired length.\n",
      "Working with matrix 9\n",
      "No equation found of desired length.\n",
      "Working with matrix 10\n"
     ]
    },
    {
     "data": {
      "text/html": [
       "<html>\\(\\displaystyle -g_{75} + g_{76}\\)</html>"
      ],
      "text/latex": [
       "$\\displaystyle -g_{75} + g_{76}$"
      ],
      "text/plain": [
       "-g75 + g76"
      ]
     },
     "metadata": {},
     "output_type": "display_data"
    },
    {
     "name": "stdout",
     "output_type": "stream",
     "text": [
      "Would you like to accept this equation? ([Y]/N): y\n",
      "eqns_dic = \n"
     ]
    },
    {
     "data": {
      "text/html": [
       "<html>\\(\\displaystyle \\left\\{g_{19} : 0, g_{18} : 0, g_{39} : 0, g_{31} : 0, g_{29} : 0, g_{37} : 0, g_{28} : 0, g_{48} : 0, g_{51} : 0, g_{59} : 0, g_{57} : 0, g_{49} : 0, g_{69} : 0, g_{78} : 0, g_{27} : 0, g_{38} : 0, g_{47} : 0, g_{58} : 0, g_{43} : 0, g_{68} : 0, g_{13} : 0, g_{16} : 0, g_{15} : 0, g_{23} : 0, g_{45} : 0, g_{79} : 0, g_{17} : 0, g_{25} : 0, g_{26} : 0, g_{46} : 0, g_{61} : 0, g_{41} : 0, g_{52} : 0, g_{62} : 0, g_{67} : 0, g_{89} : 0, g_{56} : 0, g_{21} : 0, g_{81} : 0, g_{87} : 0, g_{32} : 0, g_{54} : 0, g_{36} : 0, g_{34} : 0, g_{63} : 0, g_{84} : g_{86}, g_{82} : g_{86}, g_{42} : g_{98}, g_{71} : g_{98}, g_{92} : g_{98}, g_{73} : g_{98}, g_{94} : g_{98}, g_{53} : g_{98}, g_{91} : g_{98}, g_{72} : g_{98}, g_{93} : g_{98}, g_{64} : 2 g_{98}, g_{65} : 2 g_{98}, g_{74} : g_{76}, g_{44} : g_{55}, g_{77} : g_{88}, g_{11} : g_{66}, g_{22} : g_{33}, g_{12} : 0, g_{83} : g_{86}, g_{24} : g_{35}, g_{14} : 0, g_{85} : g_{86}, g_{95} : g_{98}, g_{96} : g_{98}, g_{75} : g_{76}\\right\\}\\)</html>"
      ],
      "text/latex": [
       "$\\displaystyle \\left\\{g_{19} : 0, g_{18} : 0, g_{39} : 0, g_{31} : 0, g_{29} : 0, g_{37} : 0, g_{28} : 0, g_{48} : 0, g_{51} : 0, g_{59} : 0, g_{57} : 0, g_{49} : 0, g_{69} : 0, g_{78} : 0, g_{27} : 0, g_{38} : 0, g_{47} : 0, g_{58} : 0, g_{43} : 0, g_{68} : 0, g_{13} : 0, g_{16} : 0, g_{15} : 0, g_{23} : 0, g_{45} : 0, g_{79} : 0, g_{17} : 0, g_{25} : 0, g_{26} : 0, g_{46} : 0, g_{61} : 0, g_{41} : 0, g_{52} : 0, g_{62} : 0, g_{67} : 0, g_{89} : 0, g_{56} : 0, g_{21} : 0, g_{81} : 0, g_{87} : 0, g_{32} : 0, g_{54} : 0, g_{36} : 0, g_{34} : 0, g_{63} : 0, g_{84} : g_{86}, g_{82} : g_{86}, g_{42} : g_{98}, g_{71} : g_{98}, g_{92} : g_{98}, g_{73} : g_{98}, g_{94} : g_{98}, g_{53} : g_{98}, g_{91} : g_{98}, g_{72} : g_{98}, g_{93} : g_{98}, g_{64} : 2 g_{98}, g_{65} : 2 g_{98}, g_{74} : g_{76}, g_{44} : g_{55}, g_{77} : g_{88}, g_{11} : g_{66}, g_{22} : g_{33}, g_{12} : 0, g_{83} : g_{86}, g_{24} : g_{35}, g_{14} : 0, g_{85} : g_{86}, g_{95} : g_{98}, g_{96} : g_{98}, g_{75} : g_{76}\\right\\}$"
      ],
      "text/plain": [
       "{g19: 0,\n",
       " g18: 0,\n",
       " g39: 0,\n",
       " g31: 0,\n",
       " g29: 0,\n",
       " g37: 0,\n",
       " g28: 0,\n",
       " g48: 0,\n",
       " g51: 0,\n",
       " g59: 0,\n",
       " g57: 0,\n",
       " g49: 0,\n",
       " g69: 0,\n",
       " g78: 0,\n",
       " g27: 0,\n",
       " g38: 0,\n",
       " g47: 0,\n",
       " g58: 0,\n",
       " g43: 0,\n",
       " g68: 0,\n",
       " g13: 0,\n",
       " g16: 0,\n",
       " g15: 0,\n",
       " g23: 0,\n",
       " g45: 0,\n",
       " g79: 0,\n",
       " g17: 0,\n",
       " g25: 0,\n",
       " g26: 0,\n",
       " g46: 0,\n",
       " g61: 0,\n",
       " g41: 0,\n",
       " g52: 0,\n",
       " g62: 0,\n",
       " g67: 0,\n",
       " g89: 0,\n",
       " g56: 0,\n",
       " g21: 0,\n",
       " g81: 0,\n",
       " g87: 0,\n",
       " g32: 0,\n",
       " g54: 0,\n",
       " g36: 0,\n",
       " g34: 0,\n",
       " g63: 0,\n",
       " g84: g86,\n",
       " g82: g86,\n",
       " g42: g98,\n",
       " g71: g98,\n",
       " g92: g98,\n",
       " g73: g98,\n",
       " g94: g98,\n",
       " g53: g98,\n",
       " g91: g98,\n",
       " g72: g98,\n",
       " g93: g98,\n",
       " g64: 2*g98,\n",
       " g65: 2*g98,\n",
       " g74: g76,\n",
       " g44: g55,\n",
       " g77: g88,\n",
       " g11: g66,\n",
       " g22: g33,\n",
       " g12: 0,\n",
       " g83: g86,\n",
       " g24: g35,\n",
       " g14: 0,\n",
       " g85: g86,\n",
       " g95: g98,\n",
       " g96: g98,\n",
       " g75: g76}"
      ]
     },
     "metadata": {},
     "output_type": "display_data"
    },
    {
     "name": "stdout",
     "output_type": "stream",
     "text": [
      "Input the lenght parameter (an integer between 0 and 4):1\n",
      "Working with matrix 1\n",
      "No equation found of desired length.\n",
      "Working with matrix 2\n",
      "No equation found of desired length.\n",
      "Working with matrix 3\n",
      "No equation found of desired length.\n",
      "Working with matrix 4\n",
      "No equation found of desired length.\n",
      "Working with matrix 5\n",
      "No equation found of desired length.\n",
      "Matrix 6 is satisfied. Moving on to the next matrix.\n",
      "Working with matrix 7\n",
      "No equation found of desired length.\n",
      "Working with matrix 8\n",
      "No equation found of desired length.\n",
      "Working with matrix 9\n",
      "No equation found of desired length.\n",
      "Working with matrix 10\n",
      "No equation found of desired length.\n",
      "Working with matrix 11\n",
      "No equation found of desired length.\n",
      "Working with matrix 12\n",
      "No equation found of desired length.\n",
      "Working with matrix 13\n",
      "No equation found of desired length.\n",
      "Working with matrix 14\n",
      "No equation found of desired length.\n",
      "Working with matrix 15\n",
      "No equation found of desired length.\n",
      "Working with matrix 16\n",
      "No equation found of desired length.\n",
      "Working with matrix 17\n",
      "No equation found of desired length.\n",
      "Working with matrix 18\n",
      "No equation found of desired length.\n",
      "Input the lenght parameter (an integer between 0 and 4):2\n",
      "Working with matrix 1\n",
      "No equation found of desired length.\n",
      "Working with matrix 2\n",
      "No equation found of desired length.\n",
      "Working with matrix 3\n",
      "No equation found of desired length.\n",
      "Working with matrix 4\n",
      "No equation found of desired length.\n",
      "Working with matrix 5\n",
      "No equation found of desired length.\n",
      "Matrix 6 is satisfied. Moving on to the next matrix.\n",
      "Working with matrix 7\n",
      "No equation found of desired length.\n",
      "Working with matrix 8\n",
      "No equation found of desired length.\n",
      "Working with matrix 9\n",
      "No equation found of desired length.\n",
      "Working with matrix 10\n"
     ]
    },
    {
     "data": {
      "text/html": [
       "<html>\\(\\displaystyle -g_{76} + g_{98}\\)</html>"
      ],
      "text/latex": [
       "$\\displaystyle -g_{76} + g_{98}$"
      ],
      "text/plain": [
       "-g76 + g98"
      ]
     },
     "metadata": {},
     "output_type": "display_data"
    },
    {
     "name": "stdout",
     "output_type": "stream",
     "text": [
      "Would you like to accept this equation? ([Y]/N): y\n",
      "eqns_dic = \n"
     ]
    },
    {
     "data": {
      "text/html": [
       "<html>\\(\\displaystyle \\left\\{g_{19} : 0, g_{18} : 0, g_{39} : 0, g_{31} : 0, g_{29} : 0, g_{37} : 0, g_{28} : 0, g_{48} : 0, g_{51} : 0, g_{59} : 0, g_{57} : 0, g_{49} : 0, g_{69} : 0, g_{78} : 0, g_{27} : 0, g_{38} : 0, g_{47} : 0, g_{58} : 0, g_{43} : 0, g_{68} : 0, g_{13} : 0, g_{16} : 0, g_{15} : 0, g_{23} : 0, g_{45} : 0, g_{79} : 0, g_{17} : 0, g_{25} : 0, g_{26} : 0, g_{46} : 0, g_{61} : 0, g_{41} : 0, g_{52} : 0, g_{62} : 0, g_{67} : 0, g_{89} : 0, g_{56} : 0, g_{21} : 0, g_{81} : 0, g_{87} : 0, g_{32} : 0, g_{54} : 0, g_{36} : 0, g_{34} : 0, g_{63} : 0, g_{84} : g_{86}, g_{82} : g_{86}, g_{42} : g_{98}, g_{71} : g_{98}, g_{92} : g_{98}, g_{73} : g_{98}, g_{94} : g_{98}, g_{53} : g_{98}, g_{91} : g_{98}, g_{72} : g_{98}, g_{93} : g_{98}, g_{64} : 2 g_{98}, g_{65} : 2 g_{98}, g_{74} : g_{98}, g_{44} : g_{55}, g_{77} : g_{88}, g_{11} : g_{66}, g_{22} : g_{33}, g_{12} : 0, g_{83} : g_{86}, g_{24} : g_{35}, g_{14} : 0, g_{85} : g_{86}, g_{95} : g_{98}, g_{96} : g_{98}, g_{75} : g_{98}, g_{76} : g_{98}\\right\\}\\)</html>"
      ],
      "text/latex": [
       "$\\displaystyle \\left\\{g_{19} : 0, g_{18} : 0, g_{39} : 0, g_{31} : 0, g_{29} : 0, g_{37} : 0, g_{28} : 0, g_{48} : 0, g_{51} : 0, g_{59} : 0, g_{57} : 0, g_{49} : 0, g_{69} : 0, g_{78} : 0, g_{27} : 0, g_{38} : 0, g_{47} : 0, g_{58} : 0, g_{43} : 0, g_{68} : 0, g_{13} : 0, g_{16} : 0, g_{15} : 0, g_{23} : 0, g_{45} : 0, g_{79} : 0, g_{17} : 0, g_{25} : 0, g_{26} : 0, g_{46} : 0, g_{61} : 0, g_{41} : 0, g_{52} : 0, g_{62} : 0, g_{67} : 0, g_{89} : 0, g_{56} : 0, g_{21} : 0, g_{81} : 0, g_{87} : 0, g_{32} : 0, g_{54} : 0, g_{36} : 0, g_{34} : 0, g_{63} : 0, g_{84} : g_{86}, g_{82} : g_{86}, g_{42} : g_{98}, g_{71} : g_{98}, g_{92} : g_{98}, g_{73} : g_{98}, g_{94} : g_{98}, g_{53} : g_{98}, g_{91} : g_{98}, g_{72} : g_{98}, g_{93} : g_{98}, g_{64} : 2 g_{98}, g_{65} : 2 g_{98}, g_{74} : g_{98}, g_{44} : g_{55}, g_{77} : g_{88}, g_{11} : g_{66}, g_{22} : g_{33}, g_{12} : 0, g_{83} : g_{86}, g_{24} : g_{35}, g_{14} : 0, g_{85} : g_{86}, g_{95} : g_{98}, g_{96} : g_{98}, g_{75} : g_{98}, g_{76} : g_{98}\\right\\}$"
      ],
      "text/plain": [
       "{g19: 0,\n",
       " g18: 0,\n",
       " g39: 0,\n",
       " g31: 0,\n",
       " g29: 0,\n",
       " g37: 0,\n",
       " g28: 0,\n",
       " g48: 0,\n",
       " g51: 0,\n",
       " g59: 0,\n",
       " g57: 0,\n",
       " g49: 0,\n",
       " g69: 0,\n",
       " g78: 0,\n",
       " g27: 0,\n",
       " g38: 0,\n",
       " g47: 0,\n",
       " g58: 0,\n",
       " g43: 0,\n",
       " g68: 0,\n",
       " g13: 0,\n",
       " g16: 0,\n",
       " g15: 0,\n",
       " g23: 0,\n",
       " g45: 0,\n",
       " g79: 0,\n",
       " g17: 0,\n",
       " g25: 0,\n",
       " g26: 0,\n",
       " g46: 0,\n",
       " g61: 0,\n",
       " g41: 0,\n",
       " g52: 0,\n",
       " g62: 0,\n",
       " g67: 0,\n",
       " g89: 0,\n",
       " g56: 0,\n",
       " g21: 0,\n",
       " g81: 0,\n",
       " g87: 0,\n",
       " g32: 0,\n",
       " g54: 0,\n",
       " g36: 0,\n",
       " g34: 0,\n",
       " g63: 0,\n",
       " g84: g86,\n",
       " g82: g86,\n",
       " g42: g98,\n",
       " g71: g98,\n",
       " g92: g98,\n",
       " g73: g98,\n",
       " g94: g98,\n",
       " g53: g98,\n",
       " g91: g98,\n",
       " g72: g98,\n",
       " g93: g98,\n",
       " g64: 2*g98,\n",
       " g65: 2*g98,\n",
       " g74: g98,\n",
       " g44: g55,\n",
       " g77: g88,\n",
       " g11: g66,\n",
       " g22: g33,\n",
       " g12: 0,\n",
       " g83: g86,\n",
       " g24: g35,\n",
       " g14: 0,\n",
       " g85: g86,\n",
       " g95: g98,\n",
       " g96: g98,\n",
       " g75: g98,\n",
       " g76: g98}"
      ]
     },
     "metadata": {},
     "output_type": "display_data"
    },
    {
     "name": "stdout",
     "output_type": "stream",
     "text": [
      "Input the lenght parameter (an integer between 0 and 4):1\n",
      "Working with matrix 1\n",
      "No equation found of desired length.\n",
      "Working with matrix 2\n"
     ]
    },
    {
     "data": {
      "text/html": [
       "<html>\\(\\displaystyle -g_{86}\\)</html>"
      ],
      "text/latex": [
       "$\\displaystyle -g_{86}$"
      ],
      "text/plain": [
       "-g86"
      ]
     },
     "metadata": {},
     "output_type": "display_data"
    },
    {
     "name": "stdout",
     "output_type": "stream",
     "text": [
      "Would you like to accept this equation? ([Y]/N): y\n",
      "eqns_dic = \n"
     ]
    },
    {
     "data": {
      "text/html": [
       "<html>\\(\\displaystyle \\left\\{g_{19} : 0, g_{18} : 0, g_{39} : 0, g_{31} : 0, g_{29} : 0, g_{37} : 0, g_{28} : 0, g_{48} : 0, g_{51} : 0, g_{59} : 0, g_{57} : 0, g_{49} : 0, g_{69} : 0, g_{78} : 0, g_{27} : 0, g_{38} : 0, g_{47} : 0, g_{58} : 0, g_{43} : 0, g_{68} : 0, g_{13} : 0, g_{16} : 0, g_{15} : 0, g_{23} : 0, g_{45} : 0, g_{79} : 0, g_{17} : 0, g_{25} : 0, g_{26} : 0, g_{46} : 0, g_{61} : 0, g_{41} : 0, g_{52} : 0, g_{62} : 0, g_{67} : 0, g_{89} : 0, g_{56} : 0, g_{21} : 0, g_{81} : 0, g_{87} : 0, g_{32} : 0, g_{54} : 0, g_{36} : 0, g_{34} : 0, g_{63} : 0, g_{84} : 0, g_{82} : 0, g_{42} : g_{98}, g_{71} : g_{98}, g_{92} : g_{98}, g_{73} : g_{98}, g_{94} : g_{98}, g_{53} : g_{98}, g_{91} : g_{98}, g_{72} : g_{98}, g_{93} : g_{98}, g_{64} : 2 g_{98}, g_{65} : 2 g_{98}, g_{74} : g_{98}, g_{44} : g_{55}, g_{77} : g_{88}, g_{11} : g_{66}, g_{22} : g_{33}, g_{12} : 0, g_{83} : 0, g_{24} : g_{35}, g_{14} : 0, g_{85} : 0, g_{95} : g_{98}, g_{96} : g_{98}, g_{75} : g_{98}, g_{76} : g_{98}, g_{86} : 0\\right\\}\\)</html>"
      ],
      "text/latex": [
       "$\\displaystyle \\left\\{g_{19} : 0, g_{18} : 0, g_{39} : 0, g_{31} : 0, g_{29} : 0, g_{37} : 0, g_{28} : 0, g_{48} : 0, g_{51} : 0, g_{59} : 0, g_{57} : 0, g_{49} : 0, g_{69} : 0, g_{78} : 0, g_{27} : 0, g_{38} : 0, g_{47} : 0, g_{58} : 0, g_{43} : 0, g_{68} : 0, g_{13} : 0, g_{16} : 0, g_{15} : 0, g_{23} : 0, g_{45} : 0, g_{79} : 0, g_{17} : 0, g_{25} : 0, g_{26} : 0, g_{46} : 0, g_{61} : 0, g_{41} : 0, g_{52} : 0, g_{62} : 0, g_{67} : 0, g_{89} : 0, g_{56} : 0, g_{21} : 0, g_{81} : 0, g_{87} : 0, g_{32} : 0, g_{54} : 0, g_{36} : 0, g_{34} : 0, g_{63} : 0, g_{84} : 0, g_{82} : 0, g_{42} : g_{98}, g_{71} : g_{98}, g_{92} : g_{98}, g_{73} : g_{98}, g_{94} : g_{98}, g_{53} : g_{98}, g_{91} : g_{98}, g_{72} : g_{98}, g_{93} : g_{98}, g_{64} : 2 g_{98}, g_{65} : 2 g_{98}, g_{74} : g_{98}, g_{44} : g_{55}, g_{77} : g_{88}, g_{11} : g_{66}, g_{22} : g_{33}, g_{12} : 0, g_{83} : 0, g_{24} : g_{35}, g_{14} : 0, g_{85} : 0, g_{95} : g_{98}, g_{96} : g_{98}, g_{75} : g_{98}, g_{76} : g_{98}, g_{86} : 0\\right\\}$"
      ],
      "text/plain": [
       "{g19: 0,\n",
       " g18: 0,\n",
       " g39: 0,\n",
       " g31: 0,\n",
       " g29: 0,\n",
       " g37: 0,\n",
       " g28: 0,\n",
       " g48: 0,\n",
       " g51: 0,\n",
       " g59: 0,\n",
       " g57: 0,\n",
       " g49: 0,\n",
       " g69: 0,\n",
       " g78: 0,\n",
       " g27: 0,\n",
       " g38: 0,\n",
       " g47: 0,\n",
       " g58: 0,\n",
       " g43: 0,\n",
       " g68: 0,\n",
       " g13: 0,\n",
       " g16: 0,\n",
       " g15: 0,\n",
       " g23: 0,\n",
       " g45: 0,\n",
       " g79: 0,\n",
       " g17: 0,\n",
       " g25: 0,\n",
       " g26: 0,\n",
       " g46: 0,\n",
       " g61: 0,\n",
       " g41: 0,\n",
       " g52: 0,\n",
       " g62: 0,\n",
       " g67: 0,\n",
       " g89: 0,\n",
       " g56: 0,\n",
       " g21: 0,\n",
       " g81: 0,\n",
       " g87: 0,\n",
       " g32: 0,\n",
       " g54: 0,\n",
       " g36: 0,\n",
       " g34: 0,\n",
       " g63: 0,\n",
       " g84: 0,\n",
       " g82: 0,\n",
       " g42: g98,\n",
       " g71: g98,\n",
       " g92: g98,\n",
       " g73: g98,\n",
       " g94: g98,\n",
       " g53: g98,\n",
       " g91: g98,\n",
       " g72: g98,\n",
       " g93: g98,\n",
       " g64: 2*g98,\n",
       " g65: 2*g98,\n",
       " g74: g98,\n",
       " g44: g55,\n",
       " g77: g88,\n",
       " g11: g66,\n",
       " g22: g33,\n",
       " g12: 0,\n",
       " g83: 0,\n",
       " g24: g35,\n",
       " g14: 0,\n",
       " g85: 0,\n",
       " g95: g98,\n",
       " g96: g98,\n",
       " g75: g98,\n",
       " g76: g98,\n",
       " g86: 0}"
      ]
     },
     "metadata": {},
     "output_type": "display_data"
    },
    {
     "name": "stdout",
     "output_type": "stream",
     "text": [
      "Input the lenght parameter (an integer between 0 and 4):1\n",
      "Working with matrix 1\n",
      "No equation found of desired length.\n",
      "Working with matrix 2\n",
      "No equation found of desired length.\n",
      "Working with matrix 3\n",
      "No equation found of desired length.\n",
      "Working with matrix 4\n",
      "No equation found of desired length.\n",
      "Working with matrix 5\n",
      "No equation found of desired length.\n",
      "Matrix 6 is satisfied. Moving on to the next matrix.\n",
      "Working with matrix 7\n",
      "No equation found of desired length.\n",
      "Working with matrix 8\n",
      "No equation found of desired length.\n",
      "Working with matrix 9\n",
      "No equation found of desired length.\n",
      "Working with matrix 10\n",
      "No equation found of desired length.\n",
      "Working with matrix 11\n",
      "No equation found of desired length.\n",
      "Working with matrix 12\n",
      "No equation found of desired length.\n",
      "Working with matrix 13\n",
      "No equation found of desired length.\n",
      "Working with matrix 14\n",
      "No equation found of desired length.\n",
      "Working with matrix 15\n",
      "No equation found of desired length.\n",
      "Working with matrix 16\n",
      "No equation found of desired length.\n",
      "Working with matrix 17\n",
      "No equation found of desired length.\n",
      "Working with matrix 18\n",
      "No equation found of desired length.\n",
      "Input the lenght parameter (an integer between 0 and 4):2\n",
      "Working with matrix 1\n",
      "No equation found of desired length.\n",
      "Working with matrix 2\n",
      "No equation found of desired length.\n",
      "Working with matrix 3\n",
      "No equation found of desired length.\n",
      "Working with matrix 4\n",
      "No equation found of desired length.\n",
      "Working with matrix 5\n",
      "No equation found of desired length.\n",
      "Matrix 6 is satisfied. Moving on to the next matrix.\n",
      "Working with matrix 7\n"
     ]
    },
    {
     "data": {
      "text/html": [
       "<html>\\(\\displaystyle 2 g_{97} - 2 g_{98}\\)</html>"
      ],
      "text/latex": [
       "$\\displaystyle 2 g_{97} - 2 g_{98}$"
      ],
      "text/plain": [
       "2*g97 - 2*g98"
      ]
     },
     "metadata": {},
     "output_type": "display_data"
    },
    {
     "name": "stdout",
     "output_type": "stream",
     "text": [
      "Would you like to accept this equation? ([Y]/N): y\n",
      "eqns_dic = \n"
     ]
    },
    {
     "data": {
      "text/html": [
       "<html>\\(\\displaystyle \\left\\{g_{19} : 0, g_{18} : 0, g_{39} : 0, g_{31} : 0, g_{29} : 0, g_{37} : 0, g_{28} : 0, g_{48} : 0, g_{51} : 0, g_{59} : 0, g_{57} : 0, g_{49} : 0, g_{69} : 0, g_{78} : 0, g_{27} : 0, g_{38} : 0, g_{47} : 0, g_{58} : 0, g_{43} : 0, g_{68} : 0, g_{13} : 0, g_{16} : 0, g_{15} : 0, g_{23} : 0, g_{45} : 0, g_{79} : 0, g_{17} : 0, g_{25} : 0, g_{26} : 0, g_{46} : 0, g_{61} : 0, g_{41} : 0, g_{52} : 0, g_{62} : 0, g_{67} : 0, g_{89} : 0, g_{56} : 0, g_{21} : 0, g_{81} : 0, g_{87} : 0, g_{32} : 0, g_{54} : 0, g_{36} : 0, g_{34} : 0, g_{63} : 0, g_{84} : 0, g_{82} : 0, g_{42} : g_{98}, g_{71} : g_{98}, g_{92} : g_{98}, g_{73} : g_{98}, g_{94} : g_{98}, g_{53} : g_{98}, g_{91} : g_{98}, g_{72} : g_{98}, g_{93} : g_{98}, g_{64} : 2 g_{98}, g_{65} : 2 g_{98}, g_{74} : g_{98}, g_{44} : g_{55}, g_{77} : g_{88}, g_{11} : g_{66}, g_{22} : g_{33}, g_{12} : 0, g_{83} : 0, g_{24} : g_{35}, g_{14} : 0, g_{85} : 0, g_{95} : g_{98}, g_{96} : g_{98}, g_{75} : g_{98}, g_{76} : g_{98}, g_{86} : 0, g_{97} : g_{98}\\right\\}\\)</html>"
      ],
      "text/latex": [
       "$\\displaystyle \\left\\{g_{19} : 0, g_{18} : 0, g_{39} : 0, g_{31} : 0, g_{29} : 0, g_{37} : 0, g_{28} : 0, g_{48} : 0, g_{51} : 0, g_{59} : 0, g_{57} : 0, g_{49} : 0, g_{69} : 0, g_{78} : 0, g_{27} : 0, g_{38} : 0, g_{47} : 0, g_{58} : 0, g_{43} : 0, g_{68} : 0, g_{13} : 0, g_{16} : 0, g_{15} : 0, g_{23} : 0, g_{45} : 0, g_{79} : 0, g_{17} : 0, g_{25} : 0, g_{26} : 0, g_{46} : 0, g_{61} : 0, g_{41} : 0, g_{52} : 0, g_{62} : 0, g_{67} : 0, g_{89} : 0, g_{56} : 0, g_{21} : 0, g_{81} : 0, g_{87} : 0, g_{32} : 0, g_{54} : 0, g_{36} : 0, g_{34} : 0, g_{63} : 0, g_{84} : 0, g_{82} : 0, g_{42} : g_{98}, g_{71} : g_{98}, g_{92} : g_{98}, g_{73} : g_{98}, g_{94} : g_{98}, g_{53} : g_{98}, g_{91} : g_{98}, g_{72} : g_{98}, g_{93} : g_{98}, g_{64} : 2 g_{98}, g_{65} : 2 g_{98}, g_{74} : g_{98}, g_{44} : g_{55}, g_{77} : g_{88}, g_{11} : g_{66}, g_{22} : g_{33}, g_{12} : 0, g_{83} : 0, g_{24} : g_{35}, g_{14} : 0, g_{85} : 0, g_{95} : g_{98}, g_{96} : g_{98}, g_{75} : g_{98}, g_{76} : g_{98}, g_{86} : 0, g_{97} : g_{98}\\right\\}$"
      ],
      "text/plain": [
       "{g19: 0,\n",
       " g18: 0,\n",
       " g39: 0,\n",
       " g31: 0,\n",
       " g29: 0,\n",
       " g37: 0,\n",
       " g28: 0,\n",
       " g48: 0,\n",
       " g51: 0,\n",
       " g59: 0,\n",
       " g57: 0,\n",
       " g49: 0,\n",
       " g69: 0,\n",
       " g78: 0,\n",
       " g27: 0,\n",
       " g38: 0,\n",
       " g47: 0,\n",
       " g58: 0,\n",
       " g43: 0,\n",
       " g68: 0,\n",
       " g13: 0,\n",
       " g16: 0,\n",
       " g15: 0,\n",
       " g23: 0,\n",
       " g45: 0,\n",
       " g79: 0,\n",
       " g17: 0,\n",
       " g25: 0,\n",
       " g26: 0,\n",
       " g46: 0,\n",
       " g61: 0,\n",
       " g41: 0,\n",
       " g52: 0,\n",
       " g62: 0,\n",
       " g67: 0,\n",
       " g89: 0,\n",
       " g56: 0,\n",
       " g21: 0,\n",
       " g81: 0,\n",
       " g87: 0,\n",
       " g32: 0,\n",
       " g54: 0,\n",
       " g36: 0,\n",
       " g34: 0,\n",
       " g63: 0,\n",
       " g84: 0,\n",
       " g82: 0,\n",
       " g42: g98,\n",
       " g71: g98,\n",
       " g92: g98,\n",
       " g73: g98,\n",
       " g94: g98,\n",
       " g53: g98,\n",
       " g91: g98,\n",
       " g72: g98,\n",
       " g93: g98,\n",
       " g64: 2*g98,\n",
       " g65: 2*g98,\n",
       " g74: g98,\n",
       " g44: g55,\n",
       " g77: g88,\n",
       " g11: g66,\n",
       " g22: g33,\n",
       " g12: 0,\n",
       " g83: 0,\n",
       " g24: g35,\n",
       " g14: 0,\n",
       " g85: 0,\n",
       " g95: g98,\n",
       " g96: g98,\n",
       " g75: g98,\n",
       " g76: g98,\n",
       " g86: 0,\n",
       " g97: g98}"
      ]
     },
     "metadata": {},
     "output_type": "display_data"
    },
    {
     "name": "stdout",
     "output_type": "stream",
     "text": [
      "Input the lenght parameter (an integer between 0 and 4):1\n",
      "Working with matrix 1\n",
      "No equation found of desired length.\n",
      "Working with matrix 2\n",
      "No equation found of desired length.\n",
      "Working with matrix 3\n",
      "No equation found of desired length.\n",
      "Working with matrix 4\n",
      "No equation found of desired length.\n",
      "Working with matrix 5\n",
      "No equation found of desired length.\n",
      "Matrix 6 is satisfied. Moving on to the next matrix.\n",
      "Working with matrix 7\n",
      "No equation found of desired length.\n",
      "Working with matrix 8\n",
      "No equation found of desired length.\n",
      "Working with matrix 9\n",
      "No equation found of desired length.\n",
      "Working with matrix 10\n",
      "No equation found of desired length.\n",
      "Working with matrix 11\n",
      "No equation found of desired length.\n",
      "Working with matrix 12\n",
      "No equation found of desired length.\n",
      "Working with matrix 13\n",
      "No equation found of desired length.\n",
      "Working with matrix 14\n",
      "No equation found of desired length.\n",
      "Working with matrix 15\n",
      "No equation found of desired length.\n",
      "Working with matrix 16\n",
      "No equation found of desired length.\n",
      "Working with matrix 17\n",
      "No equation found of desired length.\n",
      "Working with matrix 18\n",
      "No equation found of desired length.\n",
      "Input the lenght parameter (an integer between 0 and 4):2\n",
      "Working with matrix 1\n",
      "No equation found of desired length.\n",
      "Working with matrix 2\n",
      "No equation found of desired length.\n",
      "Working with matrix 3\n",
      "No equation found of desired length.\n",
      "Working with matrix 4\n",
      "No equation found of desired length.\n",
      "Working with matrix 5\n",
      "No equation found of desired length.\n",
      "Matrix 6 is satisfied. Moving on to the next matrix.\n",
      "Working with matrix 7\n",
      "No equation found of desired length.\n",
      "Working with matrix 8\n",
      "No equation found of desired length.\n",
      "Working with matrix 9\n",
      "No equation found of desired length.\n",
      "Working with matrix 10\n",
      "No equation found of desired length.\n",
      "Working with matrix 11\n",
      "No equation found of desired length.\n",
      "Working with matrix 12\n",
      "No equation found of desired length.\n",
      "Working with matrix 13\n",
      "No equation found of desired length.\n",
      "Working with matrix 14\n",
      "No equation found of desired length.\n",
      "Working with matrix 15\n",
      "No equation found of desired length.\n",
      "Working with matrix 16\n",
      "No equation found of desired length.\n",
      "Working with matrix 17\n",
      "No equation found of desired length.\n",
      "Working with matrix 18\n",
      "No equation found of desired length.\n",
      "Input the lenght parameter (an integer between 0 and 4):3\n",
      "Working with matrix 1\n"
     ]
    },
    {
     "data": {
      "text/html": [
       "<html>\\(\\displaystyle 2 g_{33} - 2 g_{88} + 4 g_{98}\\)</html>"
      ],
      "text/latex": [
       "$\\displaystyle 2 g_{33} - 2 g_{88} + 4 g_{98}$"
      ],
      "text/plain": [
       "2*g33 - 2*g88 + 4*g98"
      ]
     },
     "metadata": {},
     "output_type": "display_data"
    },
    {
     "name": "stdout",
     "output_type": "stream",
     "text": [
      "Would you like to accept this equation? ([Y]/N): y\n",
      "eqns_dic = \n"
     ]
    },
    {
     "data": {
      "text/html": [
       "<html>\\(\\displaystyle \\left\\{g_{19} : 0, g_{18} : 0, g_{39} : 0, g_{31} : 0, g_{29} : 0, g_{37} : 0, g_{28} : 0, g_{48} : 0, g_{51} : 0, g_{59} : 0, g_{57} : 0, g_{49} : 0, g_{69} : 0, g_{78} : 0, g_{27} : 0, g_{38} : 0, g_{47} : 0, g_{58} : 0, g_{43} : 0, g_{68} : 0, g_{13} : 0, g_{16} : 0, g_{15} : 0, g_{23} : 0, g_{45} : 0, g_{79} : 0, g_{17} : 0, g_{25} : 0, g_{26} : 0, g_{46} : 0, g_{61} : 0, g_{41} : 0, g_{52} : 0, g_{62} : 0, g_{67} : 0, g_{89} : 0, g_{56} : 0, g_{21} : 0, g_{81} : 0, g_{87} : 0, g_{32} : 0, g_{54} : 0, g_{36} : 0, g_{34} : 0, g_{63} : 0, g_{84} : 0, g_{82} : 0, g_{42} : g_{98}, g_{71} : g_{98}, g_{92} : g_{98}, g_{73} : g_{98}, g_{94} : g_{98}, g_{53} : g_{98}, g_{91} : g_{98}, g_{72} : g_{98}, g_{93} : g_{98}, g_{64} : 2 g_{98}, g_{65} : 2 g_{98}, g_{74} : g_{98}, g_{44} : g_{55}, g_{77} : g_{88}, g_{11} : g_{66}, g_{22} : g_{88} - 2 g_{98}, g_{12} : 0, g_{83} : 0, g_{24} : g_{35}, g_{14} : 0, g_{85} : 0, g_{95} : g_{98}, g_{96} : g_{98}, g_{75} : g_{98}, g_{76} : g_{98}, g_{86} : 0, g_{97} : g_{98}, g_{33} : g_{88} - 2 g_{98}\\right\\}\\)</html>"
      ],
      "text/latex": [
       "$\\displaystyle \\left\\{g_{19} : 0, g_{18} : 0, g_{39} : 0, g_{31} : 0, g_{29} : 0, g_{37} : 0, g_{28} : 0, g_{48} : 0, g_{51} : 0, g_{59} : 0, g_{57} : 0, g_{49} : 0, g_{69} : 0, g_{78} : 0, g_{27} : 0, g_{38} : 0, g_{47} : 0, g_{58} : 0, g_{43} : 0, g_{68} : 0, g_{13} : 0, g_{16} : 0, g_{15} : 0, g_{23} : 0, g_{45} : 0, g_{79} : 0, g_{17} : 0, g_{25} : 0, g_{26} : 0, g_{46} : 0, g_{61} : 0, g_{41} : 0, g_{52} : 0, g_{62} : 0, g_{67} : 0, g_{89} : 0, g_{56} : 0, g_{21} : 0, g_{81} : 0, g_{87} : 0, g_{32} : 0, g_{54} : 0, g_{36} : 0, g_{34} : 0, g_{63} : 0, g_{84} : 0, g_{82} : 0, g_{42} : g_{98}, g_{71} : g_{98}, g_{92} : g_{98}, g_{73} : g_{98}, g_{94} : g_{98}, g_{53} : g_{98}, g_{91} : g_{98}, g_{72} : g_{98}, g_{93} : g_{98}, g_{64} : 2 g_{98}, g_{65} : 2 g_{98}, g_{74} : g_{98}, g_{44} : g_{55}, g_{77} : g_{88}, g_{11} : g_{66}, g_{22} : g_{88} - 2 g_{98}, g_{12} : 0, g_{83} : 0, g_{24} : g_{35}, g_{14} : 0, g_{85} : 0, g_{95} : g_{98}, g_{96} : g_{98}, g_{75} : g_{98}, g_{76} : g_{98}, g_{86} : 0, g_{97} : g_{98}, g_{33} : g_{88} - 2 g_{98}\\right\\}$"
      ],
      "text/plain": [
       "{g19: 0,\n",
       " g18: 0,\n",
       " g39: 0,\n",
       " g31: 0,\n",
       " g29: 0,\n",
       " g37: 0,\n",
       " g28: 0,\n",
       " g48: 0,\n",
       " g51: 0,\n",
       " g59: 0,\n",
       " g57: 0,\n",
       " g49: 0,\n",
       " g69: 0,\n",
       " g78: 0,\n",
       " g27: 0,\n",
       " g38: 0,\n",
       " g47: 0,\n",
       " g58: 0,\n",
       " g43: 0,\n",
       " g68: 0,\n",
       " g13: 0,\n",
       " g16: 0,\n",
       " g15: 0,\n",
       " g23: 0,\n",
       " g45: 0,\n",
       " g79: 0,\n",
       " g17: 0,\n",
       " g25: 0,\n",
       " g26: 0,\n",
       " g46: 0,\n",
       " g61: 0,\n",
       " g41: 0,\n",
       " g52: 0,\n",
       " g62: 0,\n",
       " g67: 0,\n",
       " g89: 0,\n",
       " g56: 0,\n",
       " g21: 0,\n",
       " g81: 0,\n",
       " g87: 0,\n",
       " g32: 0,\n",
       " g54: 0,\n",
       " g36: 0,\n",
       " g34: 0,\n",
       " g63: 0,\n",
       " g84: 0,\n",
       " g82: 0,\n",
       " g42: g98,\n",
       " g71: g98,\n",
       " g92: g98,\n",
       " g73: g98,\n",
       " g94: g98,\n",
       " g53: g98,\n",
       " g91: g98,\n",
       " g72: g98,\n",
       " g93: g98,\n",
       " g64: 2*g98,\n",
       " g65: 2*g98,\n",
       " g74: g98,\n",
       " g44: g55,\n",
       " g77: g88,\n",
       " g11: g66,\n",
       " g22: g88 - 2*g98,\n",
       " g12: 0,\n",
       " g83: 0,\n",
       " g24: g35,\n",
       " g14: 0,\n",
       " g85: 0,\n",
       " g95: g98,\n",
       " g96: g98,\n",
       " g75: g98,\n",
       " g76: g98,\n",
       " g86: 0,\n",
       " g97: g98,\n",
       " g33: g88 - 2*g98}"
      ]
     },
     "metadata": {},
     "output_type": "display_data"
    },
    {
     "name": "stdout",
     "output_type": "stream",
     "text": [
      "Input the lenght parameter (an integer between 0 and 4):1\n",
      "Working with matrix 1\n",
      "No equation found of desired length.\n",
      "Working with matrix 2\n",
      "No equation found of desired length.\n",
      "Working with matrix 3\n",
      "No equation found of desired length.\n",
      "Working with matrix 4\n",
      "No equation found of desired length.\n",
      "Working with matrix 5\n",
      "No equation found of desired length.\n",
      "Matrix 6 is satisfied. Moving on to the next matrix.\n",
      "Working with matrix 7\n",
      "No equation found of desired length.\n",
      "Working with matrix 8\n",
      "No equation found of desired length.\n",
      "Working with matrix 9\n",
      "No equation found of desired length.\n",
      "Working with matrix 10\n",
      "No equation found of desired length.\n",
      "Working with matrix 11\n",
      "No equation found of desired length.\n",
      "Working with matrix 12\n",
      "No equation found of desired length.\n",
      "Working with matrix 13\n",
      "No equation found of desired length.\n",
      "Working with matrix 14\n",
      "No equation found of desired length.\n",
      "Working with matrix 15\n",
      "No equation found of desired length.\n",
      "Working with matrix 16\n",
      "No equation found of desired length.\n",
      "Working with matrix 17\n",
      "No equation found of desired length.\n",
      "Working with matrix 18\n",
      "No equation found of desired length.\n",
      "Input the lenght parameter (an integer between 0 and 4):2\n",
      "Working with matrix 1\n",
      "No equation found of desired length.\n",
      "Working with matrix 2\n",
      "No equation found of desired length.\n",
      "Working with matrix 3\n",
      "No equation found of desired length.\n",
      "Working with matrix 4\n",
      "No equation found of desired length.\n",
      "Working with matrix 5\n",
      "No equation found of desired length.\n",
      "Matrix 6 is satisfied. Moving on to the next matrix.\n",
      "Working with matrix 7\n",
      "No equation found of desired length.\n",
      "Working with matrix 8\n",
      "No equation found of desired length.\n",
      "Working with matrix 9\n",
      "No equation found of desired length.\n",
      "Working with matrix 10\n",
      "No equation found of desired length.\n",
      "Working with matrix 11\n",
      "No equation found of desired length.\n",
      "Working with matrix 12\n",
      "No equation found of desired length.\n",
      "Working with matrix 13\n",
      "No equation found of desired length.\n",
      "Working with matrix 14\n",
      "No equation found of desired length.\n",
      "Working with matrix 15\n",
      "No equation found of desired length.\n",
      "Working with matrix 16\n",
      "No equation found of desired length.\n",
      "Working with matrix 17\n"
     ]
    },
    {
     "data": {
      "text/html": [
       "<html>\\(\\displaystyle g_{35}\\)</html>"
      ],
      "text/latex": [
       "$\\displaystyle g_{35}$"
      ],
      "text/plain": [
       "g35"
      ]
     },
     "metadata": {},
     "output_type": "display_data"
    },
    {
     "name": "stdout",
     "output_type": "stream",
     "text": [
      "Would you like to accept this equation? ([Y]/N): no\n",
      "If you'd like to search in a different matrix then enter: 'change'\n",
      "Would you like to input the polynomial yourself? (Y/[N]):change\n",
      "Going to work with another matrix.\n",
      "Working with matrix 18\n",
      "No equation found of desired length.\n",
      "Input the lenght parameter (an integer between 0 and 4):1\n",
      "Working with matrix 1\n",
      "No equation found of desired length.\n",
      "Working with matrix 2\n",
      "No equation found of desired length.\n",
      "Working with matrix 3\n",
      "No equation found of desired length.\n",
      "Working with matrix 4\n",
      "No equation found of desired length.\n",
      "Working with matrix 5\n",
      "No equation found of desired length.\n",
      "Matrix 6 is satisfied. Moving on to the next matrix.\n",
      "Working with matrix 7\n",
      "No equation found of desired length.\n",
      "Working with matrix 8\n",
      "No equation found of desired length.\n",
      "Working with matrix 9\n",
      "No equation found of desired length.\n",
      "Working with matrix 10\n",
      "No equation found of desired length.\n",
      "Working with matrix 11\n",
      "No equation found of desired length.\n",
      "Working with matrix 12\n",
      "No equation found of desired length.\n",
      "Working with matrix 13\n",
      "No equation found of desired length.\n",
      "Working with matrix 14\n",
      "No equation found of desired length.\n",
      "Working with matrix 15\n",
      "No equation found of desired length.\n",
      "Working with matrix 16\n",
      "No equation found of desired length.\n",
      "Working with matrix 17\n",
      "No equation found of desired length.\n",
      "Working with matrix 18\n",
      "No equation found of desired length.\n",
      "Input the lenght parameter (an integer between 0 and 4):1\n",
      "Working with matrix 1\n",
      "No equation found of desired length.\n",
      "Working with matrix 2\n",
      "No equation found of desired length.\n",
      "Working with matrix 3\n",
      "No equation found of desired length.\n",
      "Working with matrix 4\n",
      "No equation found of desired length.\n",
      "Working with matrix 5\n",
      "No equation found of desired length.\n",
      "Matrix 6 is satisfied. Moving on to the next matrix.\n",
      "Working with matrix 7\n",
      "No equation found of desired length.\n",
      "Working with matrix 8\n",
      "No equation found of desired length.\n",
      "Working with matrix 9\n",
      "No equation found of desired length.\n",
      "Working with matrix 10\n",
      "No equation found of desired length.\n",
      "Working with matrix 11\n",
      "No equation found of desired length.\n",
      "Working with matrix 12\n",
      "No equation found of desired length.\n",
      "Working with matrix 13\n",
      "No equation found of desired length.\n",
      "Working with matrix 14\n",
      "No equation found of desired length.\n",
      "Working with matrix 15\n",
      "No equation found of desired length.\n",
      "Working with matrix 16\n",
      "No equation found of desired length.\n",
      "Working with matrix 17\n",
      "No equation found of desired length.\n",
      "Working with matrix 18\n",
      "No equation found of desired length.\n",
      "Input the lenght parameter (an integer between 0 and 4):1\n",
      "Working with matrix 1\n",
      "No equation found of desired length.\n",
      "Working with matrix 2\n",
      "No equation found of desired length.\n",
      "Working with matrix 3\n",
      "No equation found of desired length.\n",
      "Working with matrix 4\n",
      "No equation found of desired length.\n",
      "Working with matrix 5\n",
      "No equation found of desired length.\n",
      "Matrix 6 is satisfied. Moving on to the next matrix.\n",
      "Working with matrix 7\n",
      "No equation found of desired length.\n",
      "Working with matrix 8\n",
      "No equation found of desired length.\n",
      "Working with matrix 9\n",
      "No equation found of desired length.\n",
      "Working with matrix 10\n",
      "No equation found of desired length.\n",
      "Working with matrix 11\n",
      "No equation found of desired length.\n",
      "Working with matrix 12\n",
      "No equation found of desired length.\n",
      "Working with matrix 13\n",
      "No equation found of desired length.\n",
      "Working with matrix 14\n",
      "No equation found of desired length.\n",
      "Working with matrix 15\n",
      "No equation found of desired length.\n",
      "Working with matrix 16\n",
      "No equation found of desired length.\n",
      "Working with matrix 17\n",
      "No equation found of desired length.\n",
      "Working with matrix 18\n",
      "No equation found of desired length.\n",
      "Input the lenght parameter (an integer between 0 and 4):2\n",
      "Working with matrix 1\n",
      "No equation found of desired length.\n",
      "Working with matrix 2\n",
      "No equation found of desired length.\n",
      "Working with matrix 3\n",
      "No equation found of desired length.\n",
      "Working with matrix 4\n",
      "No equation found of desired length.\n",
      "Working with matrix 5\n",
      "No equation found of desired length.\n",
      "Matrix 6 is satisfied. Moving on to the next matrix.\n",
      "Working with matrix 7\n",
      "No equation found of desired length.\n",
      "Working with matrix 8\n",
      "No equation found of desired length.\n",
      "Working with matrix 9\n",
      "No equation found of desired length.\n",
      "Working with matrix 10\n",
      "No equation found of desired length.\n",
      "Working with matrix 11\n",
      "No equation found of desired length.\n",
      "Working with matrix 12\n",
      "No equation found of desired length.\n",
      "Working with matrix 13\n",
      "No equation found of desired length.\n",
      "Working with matrix 14\n",
      "No equation found of desired length.\n",
      "Working with matrix 15\n",
      "No equation found of desired length.\n",
      "Working with matrix 16\n",
      "No equation found of desired length.\n",
      "Working with matrix 17\n",
      "No equation found of desired length.\n",
      "Working with matrix 18\n",
      "No equation found of desired length.\n",
      "Input the lenght parameter (an integer between 0 and 4):3\n",
      "Working with matrix 1\n"
     ]
    },
    {
     "data": {
      "text/html": [
       "<html>\\(\\displaystyle -g_{66} + g_{88} - g_{98}\\)</html>"
      ],
      "text/latex": [
       "$\\displaystyle -g_{66} + g_{88} - g_{98}$"
      ],
      "text/plain": [
       "-g66 + g88 - g98"
      ]
     },
     "metadata": {},
     "output_type": "display_data"
    },
    {
     "name": "stdout",
     "output_type": "stream",
     "text": [
      "Would you like to accept this equation? ([Y]/N): y\n",
      "eqns_dic = \n"
     ]
    },
    {
     "data": {
      "text/html": [
       "<html>\\(\\displaystyle \\left\\{g_{19} : 0, g_{18} : 0, g_{39} : 0, g_{31} : 0, g_{29} : 0, g_{37} : 0, g_{28} : 0, g_{48} : 0, g_{51} : 0, g_{59} : 0, g_{57} : 0, g_{49} : 0, g_{69} : 0, g_{78} : 0, g_{27} : 0, g_{38} : 0, g_{47} : 0, g_{58} : 0, g_{43} : 0, g_{68} : 0, g_{13} : 0, g_{16} : 0, g_{15} : 0, g_{23} : 0, g_{45} : 0, g_{79} : 0, g_{17} : 0, g_{25} : 0, g_{26} : 0, g_{46} : 0, g_{61} : 0, g_{41} : 0, g_{52} : 0, g_{62} : 0, g_{67} : 0, g_{89} : 0, g_{56} : 0, g_{21} : 0, g_{81} : 0, g_{87} : 0, g_{32} : 0, g_{54} : 0, g_{36} : 0, g_{34} : 0, g_{63} : 0, g_{84} : 0, g_{82} : 0, g_{42} : g_{98}, g_{71} : g_{98}, g_{92} : g_{98}, g_{73} : g_{98}, g_{94} : g_{98}, g_{53} : g_{98}, g_{91} : g_{98}, g_{72} : g_{98}, g_{93} : g_{98}, g_{64} : 2 g_{98}, g_{65} : 2 g_{98}, g_{74} : g_{98}, g_{44} : g_{55}, g_{77} : g_{88}, g_{11} : g_{88} - g_{98}, g_{22} : g_{88} - 2 g_{98}, g_{12} : 0, g_{83} : 0, g_{24} : g_{35}, g_{14} : 0, g_{85} : 0, g_{95} : g_{98}, g_{96} : g_{98}, g_{75} : g_{98}, g_{76} : g_{98}, g_{86} : 0, g_{97} : g_{98}, g_{33} : g_{88} - 2 g_{98}, g_{66} : g_{88} - g_{98}\\right\\}\\)</html>"
      ],
      "text/latex": [
       "$\\displaystyle \\left\\{g_{19} : 0, g_{18} : 0, g_{39} : 0, g_{31} : 0, g_{29} : 0, g_{37} : 0, g_{28} : 0, g_{48} : 0, g_{51} : 0, g_{59} : 0, g_{57} : 0, g_{49} : 0, g_{69} : 0, g_{78} : 0, g_{27} : 0, g_{38} : 0, g_{47} : 0, g_{58} : 0, g_{43} : 0, g_{68} : 0, g_{13} : 0, g_{16} : 0, g_{15} : 0, g_{23} : 0, g_{45} : 0, g_{79} : 0, g_{17} : 0, g_{25} : 0, g_{26} : 0, g_{46} : 0, g_{61} : 0, g_{41} : 0, g_{52} : 0, g_{62} : 0, g_{67} : 0, g_{89} : 0, g_{56} : 0, g_{21} : 0, g_{81} : 0, g_{87} : 0, g_{32} : 0, g_{54} : 0, g_{36} : 0, g_{34} : 0, g_{63} : 0, g_{84} : 0, g_{82} : 0, g_{42} : g_{98}, g_{71} : g_{98}, g_{92} : g_{98}, g_{73} : g_{98}, g_{94} : g_{98}, g_{53} : g_{98}, g_{91} : g_{98}, g_{72} : g_{98}, g_{93} : g_{98}, g_{64} : 2 g_{98}, g_{65} : 2 g_{98}, g_{74} : g_{98}, g_{44} : g_{55}, g_{77} : g_{88}, g_{11} : g_{88} - g_{98}, g_{22} : g_{88} - 2 g_{98}, g_{12} : 0, g_{83} : 0, g_{24} : g_{35}, g_{14} : 0, g_{85} : 0, g_{95} : g_{98}, g_{96} : g_{98}, g_{75} : g_{98}, g_{76} : g_{98}, g_{86} : 0, g_{97} : g_{98}, g_{33} : g_{88} - 2 g_{98}, g_{66} : g_{88} - g_{98}\\right\\}$"
      ],
      "text/plain": [
       "{g19: 0,\n",
       " g18: 0,\n",
       " g39: 0,\n",
       " g31: 0,\n",
       " g29: 0,\n",
       " g37: 0,\n",
       " g28: 0,\n",
       " g48: 0,\n",
       " g51: 0,\n",
       " g59: 0,\n",
       " g57: 0,\n",
       " g49: 0,\n",
       " g69: 0,\n",
       " g78: 0,\n",
       " g27: 0,\n",
       " g38: 0,\n",
       " g47: 0,\n",
       " g58: 0,\n",
       " g43: 0,\n",
       " g68: 0,\n",
       " g13: 0,\n",
       " g16: 0,\n",
       " g15: 0,\n",
       " g23: 0,\n",
       " g45: 0,\n",
       " g79: 0,\n",
       " g17: 0,\n",
       " g25: 0,\n",
       " g26: 0,\n",
       " g46: 0,\n",
       " g61: 0,\n",
       " g41: 0,\n",
       " g52: 0,\n",
       " g62: 0,\n",
       " g67: 0,\n",
       " g89: 0,\n",
       " g56: 0,\n",
       " g21: 0,\n",
       " g81: 0,\n",
       " g87: 0,\n",
       " g32: 0,\n",
       " g54: 0,\n",
       " g36: 0,\n",
       " g34: 0,\n",
       " g63: 0,\n",
       " g84: 0,\n",
       " g82: 0,\n",
       " g42: g98,\n",
       " g71: g98,\n",
       " g92: g98,\n",
       " g73: g98,\n",
       " g94: g98,\n",
       " g53: g98,\n",
       " g91: g98,\n",
       " g72: g98,\n",
       " g93: g98,\n",
       " g64: 2*g98,\n",
       " g65: 2*g98,\n",
       " g74: g98,\n",
       " g44: g55,\n",
       " g77: g88,\n",
       " g11: g88 - g98,\n",
       " g22: g88 - 2*g98,\n",
       " g12: 0,\n",
       " g83: 0,\n",
       " g24: g35,\n",
       " g14: 0,\n",
       " g85: 0,\n",
       " g95: g98,\n",
       " g96: g98,\n",
       " g75: g98,\n",
       " g76: g98,\n",
       " g86: 0,\n",
       " g97: g98,\n",
       " g33: g88 - 2*g98,\n",
       " g66: g88 - g98}"
      ]
     },
     "metadata": {},
     "output_type": "display_data"
    },
    {
     "name": "stdout",
     "output_type": "stream",
     "text": [
      "Input the lenght parameter (an integer between 0 and 4):1\n",
      "Working with matrix 1\n",
      "No equation found of desired length.\n",
      "Working with matrix 2\n",
      "No equation found of desired length.\n",
      "Working with matrix 3\n",
      "No equation found of desired length.\n",
      "Working with matrix 4\n",
      "No equation found of desired length.\n",
      "Working with matrix 5\n",
      "No equation found of desired length.\n",
      "Matrix 6 is satisfied. Moving on to the next matrix.\n",
      "Working with matrix 7\n",
      "No equation found of desired length.\n",
      "Working with matrix 8\n",
      "No equation found of desired length.\n",
      "Working with matrix 9\n",
      "No equation found of desired length.\n",
      "Working with matrix 10\n"
     ]
    },
    {
     "data": {
      "text/html": [
       "<html>\\(\\displaystyle g_{35}\\)</html>"
      ],
      "text/latex": [
       "$\\displaystyle g_{35}$"
      ],
      "text/plain": [
       "g35"
      ]
     },
     "metadata": {},
     "output_type": "display_data"
    },
    {
     "name": "stdout",
     "output_type": "stream",
     "text": [
      "Would you like to accept this equation? ([Y]/N): 1\n",
      "eqns_dic = \n"
     ]
    },
    {
     "data": {
      "text/html": [
       "<html>\\(\\displaystyle \\left\\{g_{19} : 0, g_{18} : 0, g_{39} : 0, g_{31} : 0, g_{29} : 0, g_{37} : 0, g_{28} : 0, g_{48} : 0, g_{51} : 0, g_{59} : 0, g_{57} : 0, g_{49} : 0, g_{69} : 0, g_{78} : 0, g_{27} : 0, g_{38} : 0, g_{47} : 0, g_{58} : 0, g_{43} : 0, g_{68} : 0, g_{13} : 0, g_{16} : 0, g_{15} : 0, g_{23} : 0, g_{45} : 0, g_{79} : 0, g_{17} : 0, g_{25} : 0, g_{26} : 0, g_{46} : 0, g_{61} : 0, g_{41} : 0, g_{52} : 0, g_{62} : 0, g_{67} : 0, g_{89} : 0, g_{56} : 0, g_{21} : 0, g_{81} : 0, g_{87} : 0, g_{32} : 0, g_{54} : 0, g_{36} : 0, g_{34} : 0, g_{63} : 0, g_{84} : 0, g_{82} : 0, g_{42} : g_{98}, g_{71} : g_{98}, g_{92} : g_{98}, g_{73} : g_{98}, g_{94} : g_{98}, g_{53} : g_{98}, g_{91} : g_{98}, g_{72} : g_{98}, g_{93} : g_{98}, g_{64} : 2 g_{98}, g_{65} : 2 g_{98}, g_{74} : g_{98}, g_{44} : g_{55}, g_{77} : g_{88}, g_{11} : g_{88} - g_{98}, g_{22} : g_{88} - 2 g_{98}, g_{12} : 0, g_{83} : 0, g_{24} : 0, g_{14} : 0, g_{85} : 0, g_{95} : g_{98}, g_{96} : g_{98}, g_{75} : g_{98}, g_{76} : g_{98}, g_{86} : 0, g_{97} : g_{98}, g_{33} : g_{88} - 2 g_{98}, g_{66} : g_{88} - g_{98}, g_{35} : 0\\right\\}\\)</html>"
      ],
      "text/latex": [
       "$\\displaystyle \\left\\{g_{19} : 0, g_{18} : 0, g_{39} : 0, g_{31} : 0, g_{29} : 0, g_{37} : 0, g_{28} : 0, g_{48} : 0, g_{51} : 0, g_{59} : 0, g_{57} : 0, g_{49} : 0, g_{69} : 0, g_{78} : 0, g_{27} : 0, g_{38} : 0, g_{47} : 0, g_{58} : 0, g_{43} : 0, g_{68} : 0, g_{13} : 0, g_{16} : 0, g_{15} : 0, g_{23} : 0, g_{45} : 0, g_{79} : 0, g_{17} : 0, g_{25} : 0, g_{26} : 0, g_{46} : 0, g_{61} : 0, g_{41} : 0, g_{52} : 0, g_{62} : 0, g_{67} : 0, g_{89} : 0, g_{56} : 0, g_{21} : 0, g_{81} : 0, g_{87} : 0, g_{32} : 0, g_{54} : 0, g_{36} : 0, g_{34} : 0, g_{63} : 0, g_{84} : 0, g_{82} : 0, g_{42} : g_{98}, g_{71} : g_{98}, g_{92} : g_{98}, g_{73} : g_{98}, g_{94} : g_{98}, g_{53} : g_{98}, g_{91} : g_{98}, g_{72} : g_{98}, g_{93} : g_{98}, g_{64} : 2 g_{98}, g_{65} : 2 g_{98}, g_{74} : g_{98}, g_{44} : g_{55}, g_{77} : g_{88}, g_{11} : g_{88} - g_{98}, g_{22} : g_{88} - 2 g_{98}, g_{12} : 0, g_{83} : 0, g_{24} : 0, g_{14} : 0, g_{85} : 0, g_{95} : g_{98}, g_{96} : g_{98}, g_{75} : g_{98}, g_{76} : g_{98}, g_{86} : 0, g_{97} : g_{98}, g_{33} : g_{88} - 2 g_{98}, g_{66} : g_{88} - g_{98}, g_{35} : 0\\right\\}$"
      ],
      "text/plain": [
       "{g19: 0,\n",
       " g18: 0,\n",
       " g39: 0,\n",
       " g31: 0,\n",
       " g29: 0,\n",
       " g37: 0,\n",
       " g28: 0,\n",
       " g48: 0,\n",
       " g51: 0,\n",
       " g59: 0,\n",
       " g57: 0,\n",
       " g49: 0,\n",
       " g69: 0,\n",
       " g78: 0,\n",
       " g27: 0,\n",
       " g38: 0,\n",
       " g47: 0,\n",
       " g58: 0,\n",
       " g43: 0,\n",
       " g68: 0,\n",
       " g13: 0,\n",
       " g16: 0,\n",
       " g15: 0,\n",
       " g23: 0,\n",
       " g45: 0,\n",
       " g79: 0,\n",
       " g17: 0,\n",
       " g25: 0,\n",
       " g26: 0,\n",
       " g46: 0,\n",
       " g61: 0,\n",
       " g41: 0,\n",
       " g52: 0,\n",
       " g62: 0,\n",
       " g67: 0,\n",
       " g89: 0,\n",
       " g56: 0,\n",
       " g21: 0,\n",
       " g81: 0,\n",
       " g87: 0,\n",
       " g32: 0,\n",
       " g54: 0,\n",
       " g36: 0,\n",
       " g34: 0,\n",
       " g63: 0,\n",
       " g84: 0,\n",
       " g82: 0,\n",
       " g42: g98,\n",
       " g71: g98,\n",
       " g92: g98,\n",
       " g73: g98,\n",
       " g94: g98,\n",
       " g53: g98,\n",
       " g91: g98,\n",
       " g72: g98,\n",
       " g93: g98,\n",
       " g64: 2*g98,\n",
       " g65: 2*g98,\n",
       " g74: g98,\n",
       " g44: g55,\n",
       " g77: g88,\n",
       " g11: g88 - g98,\n",
       " g22: g88 - 2*g98,\n",
       " g12: 0,\n",
       " g83: 0,\n",
       " g24: 0,\n",
       " g14: 0,\n",
       " g85: 0,\n",
       " g95: g98,\n",
       " g96: g98,\n",
       " g75: g98,\n",
       " g76: g98,\n",
       " g86: 0,\n",
       " g97: g98,\n",
       " g33: g88 - 2*g98,\n",
       " g66: g88 - g98,\n",
       " g35: 0}"
      ]
     },
     "metadata": {},
     "output_type": "display_data"
    },
    {
     "name": "stdout",
     "output_type": "stream",
     "text": [
      "Input the lenght parameter (an integer between 0 and 4):1\n",
      "Working with matrix 1\n",
      "No equation found of desired length.\n",
      "Working with matrix 2\n",
      "No equation found of desired length.\n",
      "Working with matrix 3\n",
      "No equation found of desired length.\n",
      "Working with matrix 4\n",
      "No equation found of desired length.\n",
      "Working with matrix 5\n",
      "No equation found of desired length.\n",
      "Matrix 6 is satisfied. Moving on to the next matrix.\n",
      "Working with matrix 7\n",
      "No equation found of desired length.\n",
      "Working with matrix 8\n",
      "No equation found of desired length.\n",
      "Working with matrix 9\n",
      "No equation found of desired length.\n",
      "Working with matrix 10\n",
      "No equation found of desired length.\n",
      "Working with matrix 11\n",
      "No equation found of desired length.\n",
      "Working with matrix 12\n",
      "No equation found of desired length.\n",
      "Working with matrix 13\n",
      "No equation found of desired length.\n",
      "Working with matrix 14\n",
      "No equation found of desired length.\n",
      "Working with matrix 15\n",
      "No equation found of desired length.\n",
      "Working with matrix 16\n",
      "No equation found of desired length.\n",
      "Working with matrix 17\n",
      "No equation found of desired length.\n",
      "Working with matrix 18\n",
      "No equation found of desired length.\n",
      "Input the lenght parameter (an integer between 0 and 4):2\n",
      "Working with matrix 1\n",
      "No equation found of desired length.\n",
      "Working with matrix 2\n",
      "No equation found of desired length.\n",
      "Working with matrix 3\n",
      "No equation found of desired length.\n",
      "Working with matrix 4\n",
      "No equation found of desired length.\n",
      "Working with matrix 5\n",
      "No equation found of desired length.\n",
      "Matrix 6 is satisfied. Moving on to the next matrix.\n",
      "Working with matrix 7\n",
      "No equation found of desired length.\n",
      "Working with matrix 8\n",
      "No equation found of desired length.\n",
      "Working with matrix 9\n",
      "No equation found of desired length.\n",
      "Working with matrix 10\n",
      "No equation found of desired length.\n",
      "Working with matrix 11\n",
      "No equation found of desired length.\n",
      "Working with matrix 12\n",
      "No equation found of desired length.\n",
      "Working with matrix 13\n",
      "No equation found of desired length.\n",
      "Working with matrix 14\n",
      "No equation found of desired length.\n",
      "Working with matrix 15\n",
      "No equation found of desired length.\n",
      "Working with matrix 16\n",
      "No equation found of desired length.\n",
      "Working with matrix 17\n",
      "No equation found of desired length.\n",
      "Working with matrix 18\n",
      "No equation found of desired length.\n",
      "Input the lenght parameter (an integer between 0 and 4):3\n",
      "Working with matrix 1\n"
     ]
    },
    {
     "data": {
      "text/html": [
       "<html>\\(\\displaystyle 2 g_{55} - 2 g_{88} + 6 g_{98}\\)</html>"
      ],
      "text/latex": [
       "$\\displaystyle 2 g_{55} - 2 g_{88} + 6 g_{98}$"
      ],
      "text/plain": [
       "2*g55 - 2*g88 + 6*g98"
      ]
     },
     "metadata": {},
     "output_type": "display_data"
    },
    {
     "name": "stdout",
     "output_type": "stream",
     "text": [
      "Would you like to accept this equation? ([Y]/N): y\n",
      "eqns_dic = \n"
     ]
    },
    {
     "data": {
      "text/html": [
       "<html>\\(\\displaystyle \\left\\{g_{19} : 0, g_{18} : 0, g_{39} : 0, g_{31} : 0, g_{29} : 0, g_{37} : 0, g_{28} : 0, g_{48} : 0, g_{51} : 0, g_{59} : 0, g_{57} : 0, g_{49} : 0, g_{69} : 0, g_{78} : 0, g_{27} : 0, g_{38} : 0, g_{47} : 0, g_{58} : 0, g_{43} : 0, g_{68} : 0, g_{13} : 0, g_{16} : 0, g_{15} : 0, g_{23} : 0, g_{45} : 0, g_{79} : 0, g_{17} : 0, g_{25} : 0, g_{26} : 0, g_{46} : 0, g_{61} : 0, g_{41} : 0, g_{52} : 0, g_{62} : 0, g_{67} : 0, g_{89} : 0, g_{56} : 0, g_{21} : 0, g_{81} : 0, g_{87} : 0, g_{32} : 0, g_{54} : 0, g_{36} : 0, g_{34} : 0, g_{63} : 0, g_{84} : 0, g_{82} : 0, g_{42} : g_{98}, g_{71} : g_{98}, g_{92} : g_{98}, g_{73} : g_{98}, g_{94} : g_{98}, g_{53} : g_{98}, g_{91} : g_{98}, g_{72} : g_{98}, g_{93} : g_{98}, g_{64} : 2 g_{98}, g_{65} : 2 g_{98}, g_{74} : g_{98}, g_{44} : g_{88} - 3 g_{98}, g_{77} : g_{88}, g_{11} : g_{88} - g_{98}, g_{22} : g_{88} - 2 g_{98}, g_{12} : 0, g_{83} : 0, g_{24} : 0, g_{14} : 0, g_{85} : 0, g_{95} : g_{98}, g_{96} : g_{98}, g_{75} : g_{98}, g_{76} : g_{98}, g_{86} : 0, g_{97} : g_{98}, g_{33} : g_{88} - 2 g_{98}, g_{66} : g_{88} - g_{98}, g_{35} : 0, g_{55} : g_{88} - 3 g_{98}\\right\\}\\)</html>"
      ],
      "text/latex": [
       "$\\displaystyle \\left\\{g_{19} : 0, g_{18} : 0, g_{39} : 0, g_{31} : 0, g_{29} : 0, g_{37} : 0, g_{28} : 0, g_{48} : 0, g_{51} : 0, g_{59} : 0, g_{57} : 0, g_{49} : 0, g_{69} : 0, g_{78} : 0, g_{27} : 0, g_{38} : 0, g_{47} : 0, g_{58} : 0, g_{43} : 0, g_{68} : 0, g_{13} : 0, g_{16} : 0, g_{15} : 0, g_{23} : 0, g_{45} : 0, g_{79} : 0, g_{17} : 0, g_{25} : 0, g_{26} : 0, g_{46} : 0, g_{61} : 0, g_{41} : 0, g_{52} : 0, g_{62} : 0, g_{67} : 0, g_{89} : 0, g_{56} : 0, g_{21} : 0, g_{81} : 0, g_{87} : 0, g_{32} : 0, g_{54} : 0, g_{36} : 0, g_{34} : 0, g_{63} : 0, g_{84} : 0, g_{82} : 0, g_{42} : g_{98}, g_{71} : g_{98}, g_{92} : g_{98}, g_{73} : g_{98}, g_{94} : g_{98}, g_{53} : g_{98}, g_{91} : g_{98}, g_{72} : g_{98}, g_{93} : g_{98}, g_{64} : 2 g_{98}, g_{65} : 2 g_{98}, g_{74} : g_{98}, g_{44} : g_{88} - 3 g_{98}, g_{77} : g_{88}, g_{11} : g_{88} - g_{98}, g_{22} : g_{88} - 2 g_{98}, g_{12} : 0, g_{83} : 0, g_{24} : 0, g_{14} : 0, g_{85} : 0, g_{95} : g_{98}, g_{96} : g_{98}, g_{75} : g_{98}, g_{76} : g_{98}, g_{86} : 0, g_{97} : g_{98}, g_{33} : g_{88} - 2 g_{98}, g_{66} : g_{88} - g_{98}, g_{35} : 0, g_{55} : g_{88} - 3 g_{98}\\right\\}$"
      ],
      "text/plain": [
       "{g19: 0,\n",
       " g18: 0,\n",
       " g39: 0,\n",
       " g31: 0,\n",
       " g29: 0,\n",
       " g37: 0,\n",
       " g28: 0,\n",
       " g48: 0,\n",
       " g51: 0,\n",
       " g59: 0,\n",
       " g57: 0,\n",
       " g49: 0,\n",
       " g69: 0,\n",
       " g78: 0,\n",
       " g27: 0,\n",
       " g38: 0,\n",
       " g47: 0,\n",
       " g58: 0,\n",
       " g43: 0,\n",
       " g68: 0,\n",
       " g13: 0,\n",
       " g16: 0,\n",
       " g15: 0,\n",
       " g23: 0,\n",
       " g45: 0,\n",
       " g79: 0,\n",
       " g17: 0,\n",
       " g25: 0,\n",
       " g26: 0,\n",
       " g46: 0,\n",
       " g61: 0,\n",
       " g41: 0,\n",
       " g52: 0,\n",
       " g62: 0,\n",
       " g67: 0,\n",
       " g89: 0,\n",
       " g56: 0,\n",
       " g21: 0,\n",
       " g81: 0,\n",
       " g87: 0,\n",
       " g32: 0,\n",
       " g54: 0,\n",
       " g36: 0,\n",
       " g34: 0,\n",
       " g63: 0,\n",
       " g84: 0,\n",
       " g82: 0,\n",
       " g42: g98,\n",
       " g71: g98,\n",
       " g92: g98,\n",
       " g73: g98,\n",
       " g94: g98,\n",
       " g53: g98,\n",
       " g91: g98,\n",
       " g72: g98,\n",
       " g93: g98,\n",
       " g64: 2*g98,\n",
       " g65: 2*g98,\n",
       " g74: g98,\n",
       " g44: g88 - 3*g98,\n",
       " g77: g88,\n",
       " g11: g88 - g98,\n",
       " g22: g88 - 2*g98,\n",
       " g12: 0,\n",
       " g83: 0,\n",
       " g24: 0,\n",
       " g14: 0,\n",
       " g85: 0,\n",
       " g95: g98,\n",
       " g96: g98,\n",
       " g75: g98,\n",
       " g76: g98,\n",
       " g86: 0,\n",
       " g97: g98,\n",
       " g33: g88 - 2*g98,\n",
       " g66: g88 - g98,\n",
       " g35: 0,\n",
       " g55: g88 - 3*g98}"
      ]
     },
     "metadata": {},
     "output_type": "display_data"
    },
    {
     "name": "stdout",
     "output_type": "stream",
     "text": [
      "Input the lenght parameter (an integer between 0 and 4):1\n",
      "Matrix 1 is satisfied. Moving on to the next matrix.\n",
      "Matrix 2 is satisfied. Moving on to the next matrix.\n",
      "Matrix 3 is satisfied. Moving on to the next matrix.\n",
      "Matrix 4 is satisfied. Moving on to the next matrix.\n",
      "Matrix 5 is satisfied. Moving on to the next matrix.\n",
      "Matrix 6 is satisfied. Moving on to the next matrix.\n",
      "Working with matrix 7\n",
      "No equation found of desired length.\n",
      "Working with matrix 8\n",
      "No equation found of desired length.\n",
      "Working with matrix 9\n",
      "No equation found of desired length.\n",
      "Matrix 10 is satisfied. Moving on to the next matrix.\n",
      "Matrix 11 is satisfied. Moving on to the next matrix.\n",
      "Matrix 12 is satisfied. Moving on to the next matrix.\n",
      "Working with matrix 13\n",
      "No equation found of desired length.\n",
      "Working with matrix 14\n",
      "No equation found of desired length.\n",
      "Working with matrix 15\n",
      "No equation found of desired length.\n",
      "Matrix 16 is satisfied. Moving on to the next matrix.\n",
      "Matrix 17 is satisfied. Moving on to the next matrix.\n",
      "Matrix 18 is satisfied. Moving on to the next matrix.\n",
      "Input the lenght parameter (an integer between 0 and 4):2\n",
      "Matrix 1 is satisfied. Moving on to the next matrix.\n",
      "Matrix 2 is satisfied. Moving on to the next matrix.\n",
      "Matrix 3 is satisfied. Moving on to the next matrix.\n",
      "Matrix 4 is satisfied. Moving on to the next matrix.\n",
      "Matrix 5 is satisfied. Moving on to the next matrix.\n",
      "Matrix 6 is satisfied. Moving on to the next matrix.\n",
      "Working with matrix 7\n",
      "No equation found of desired length.\n",
      "Working with matrix 8\n",
      "No equation found of desired length.\n",
      "Working with matrix 9\n",
      "No equation found of desired length.\n",
      "Matrix 10 is satisfied. Moving on to the next matrix.\n",
      "Matrix 11 is satisfied. Moving on to the next matrix.\n",
      "Matrix 12 is satisfied. Moving on to the next matrix.\n",
      "Working with matrix 13\n",
      "No equation found of desired length.\n",
      "Working with matrix 14\n",
      "No equation found of desired length.\n",
      "Working with matrix 15\n",
      "No equation found of desired length.\n",
      "Matrix 16 is satisfied. Moving on to the next matrix.\n",
      "Matrix 17 is satisfied. Moving on to the next matrix.\n",
      "Matrix 18 is satisfied. Moving on to the next matrix.\n",
      "Input the lenght parameter (an integer between 0 and 4):3\n",
      "Matrix 1 is satisfied. Moving on to the next matrix.\n",
      "Matrix 2 is satisfied. Moving on to the next matrix.\n",
      "Matrix 3 is satisfied. Moving on to the next matrix.\n",
      "Matrix 4 is satisfied. Moving on to the next matrix.\n",
      "Matrix 5 is satisfied. Moving on to the next matrix.\n",
      "Matrix 6 is satisfied. Moving on to the next matrix.\n",
      "Working with matrix 7\n"
     ]
    },
    {
     "data": {
      "text/html": [
       "<html>\\(\\displaystyle -2 g_{88} - 2 g_{98} + 2 g_{99}\\)</html>"
      ],
      "text/latex": [
       "$\\displaystyle -2 g_{88} - 2 g_{98} + 2 g_{99}$"
      ],
      "text/plain": [
       "-2*g88 - 2*g98 + 2*g99"
      ]
     },
     "metadata": {},
     "output_type": "display_data"
    },
    {
     "name": "stdout",
     "output_type": "stream",
     "text": [
      "Would you like to accept this equation? ([Y]/N): y\n",
      "eqns_dic = \n"
     ]
    },
    {
     "data": {
      "text/html": [
       "<html>\\(\\displaystyle \\left\\{g_{19} : 0, g_{18} : 0, g_{39} : 0, g_{31} : 0, g_{29} : 0, g_{37} : 0, g_{28} : 0, g_{48} : 0, g_{51} : 0, g_{59} : 0, g_{57} : 0, g_{49} : 0, g_{69} : 0, g_{78} : 0, g_{27} : 0, g_{38} : 0, g_{47} : 0, g_{58} : 0, g_{43} : 0, g_{68} : 0, g_{13} : 0, g_{16} : 0, g_{15} : 0, g_{23} : 0, g_{45} : 0, g_{79} : 0, g_{17} : 0, g_{25} : 0, g_{26} : 0, g_{46} : 0, g_{61} : 0, g_{41} : 0, g_{52} : 0, g_{62} : 0, g_{67} : 0, g_{89} : 0, g_{56} : 0, g_{21} : 0, g_{81} : 0, g_{87} : 0, g_{32} : 0, g_{54} : 0, g_{36} : 0, g_{34} : 0, g_{63} : 0, g_{84} : 0, g_{82} : 0, g_{42} : g_{98}, g_{71} : g_{98}, g_{92} : g_{98}, g_{73} : g_{98}, g_{94} : g_{98}, g_{53} : g_{98}, g_{91} : g_{98}, g_{72} : g_{98}, g_{93} : g_{98}, g_{64} : 2 g_{98}, g_{65} : 2 g_{98}, g_{74} : g_{98}, g_{44} : -4 g_{98} + g_{99}, g_{77} : -g_{98} + g_{99}, g_{11} : -2 g_{98} + g_{99}, g_{22} : -3 g_{98} + g_{99}, g_{12} : 0, g_{83} : 0, g_{24} : 0, g_{14} : 0, g_{85} : 0, g_{95} : g_{98}, g_{96} : g_{98}, g_{75} : g_{98}, g_{76} : g_{98}, g_{86} : 0, g_{97} : g_{98}, g_{33} : -3 g_{98} + g_{99}, g_{66} : -2 g_{98} + g_{99}, g_{35} : 0, g_{55} : -4 g_{98} + g_{99}, g_{88} : -g_{98} + g_{99}\\right\\}\\)</html>"
      ],
      "text/latex": [
       "$\\displaystyle \\left\\{g_{19} : 0, g_{18} : 0, g_{39} : 0, g_{31} : 0, g_{29} : 0, g_{37} : 0, g_{28} : 0, g_{48} : 0, g_{51} : 0, g_{59} : 0, g_{57} : 0, g_{49} : 0, g_{69} : 0, g_{78} : 0, g_{27} : 0, g_{38} : 0, g_{47} : 0, g_{58} : 0, g_{43} : 0, g_{68} : 0, g_{13} : 0, g_{16} : 0, g_{15} : 0, g_{23} : 0, g_{45} : 0, g_{79} : 0, g_{17} : 0, g_{25} : 0, g_{26} : 0, g_{46} : 0, g_{61} : 0, g_{41} : 0, g_{52} : 0, g_{62} : 0, g_{67} : 0, g_{89} : 0, g_{56} : 0, g_{21} : 0, g_{81} : 0, g_{87} : 0, g_{32} : 0, g_{54} : 0, g_{36} : 0, g_{34} : 0, g_{63} : 0, g_{84} : 0, g_{82} : 0, g_{42} : g_{98}, g_{71} : g_{98}, g_{92} : g_{98}, g_{73} : g_{98}, g_{94} : g_{98}, g_{53} : g_{98}, g_{91} : g_{98}, g_{72} : g_{98}, g_{93} : g_{98}, g_{64} : 2 g_{98}, g_{65} : 2 g_{98}, g_{74} : g_{98}, g_{44} : -4 g_{98} + g_{99}, g_{77} : -g_{98} + g_{99}, g_{11} : -2 g_{98} + g_{99}, g_{22} : -3 g_{98} + g_{99}, g_{12} : 0, g_{83} : 0, g_{24} : 0, g_{14} : 0, g_{85} : 0, g_{95} : g_{98}, g_{96} : g_{98}, g_{75} : g_{98}, g_{76} : g_{98}, g_{86} : 0, g_{97} : g_{98}, g_{33} : -3 g_{98} + g_{99}, g_{66} : -2 g_{98} + g_{99}, g_{35} : 0, g_{55} : -4 g_{98} + g_{99}, g_{88} : -g_{98} + g_{99}\\right\\}$"
      ],
      "text/plain": [
       "{g19: 0,\n",
       " g18: 0,\n",
       " g39: 0,\n",
       " g31: 0,\n",
       " g29: 0,\n",
       " g37: 0,\n",
       " g28: 0,\n",
       " g48: 0,\n",
       " g51: 0,\n",
       " g59: 0,\n",
       " g57: 0,\n",
       " g49: 0,\n",
       " g69: 0,\n",
       " g78: 0,\n",
       " g27: 0,\n",
       " g38: 0,\n",
       " g47: 0,\n",
       " g58: 0,\n",
       " g43: 0,\n",
       " g68: 0,\n",
       " g13: 0,\n",
       " g16: 0,\n",
       " g15: 0,\n",
       " g23: 0,\n",
       " g45: 0,\n",
       " g79: 0,\n",
       " g17: 0,\n",
       " g25: 0,\n",
       " g26: 0,\n",
       " g46: 0,\n",
       " g61: 0,\n",
       " g41: 0,\n",
       " g52: 0,\n",
       " g62: 0,\n",
       " g67: 0,\n",
       " g89: 0,\n",
       " g56: 0,\n",
       " g21: 0,\n",
       " g81: 0,\n",
       " g87: 0,\n",
       " g32: 0,\n",
       " g54: 0,\n",
       " g36: 0,\n",
       " g34: 0,\n",
       " g63: 0,\n",
       " g84: 0,\n",
       " g82: 0,\n",
       " g42: g98,\n",
       " g71: g98,\n",
       " g92: g98,\n",
       " g73: g98,\n",
       " g94: g98,\n",
       " g53: g98,\n",
       " g91: g98,\n",
       " g72: g98,\n",
       " g93: g98,\n",
       " g64: 2*g98,\n",
       " g65: 2*g98,\n",
       " g74: g98,\n",
       " g44: -4*g98 + g99,\n",
       " g77: -g98 + g99,\n",
       " g11: -2*g98 + g99,\n",
       " g22: -3*g98 + g99,\n",
       " g12: 0,\n",
       " g83: 0,\n",
       " g24: 0,\n",
       " g14: 0,\n",
       " g85: 0,\n",
       " g95: g98,\n",
       " g96: g98,\n",
       " g75: g98,\n",
       " g76: g98,\n",
       " g86: 0,\n",
       " g97: g98,\n",
       " g33: -3*g98 + g99,\n",
       " g66: -2*g98 + g99,\n",
       " g35: 0,\n",
       " g55: -4*g98 + g99,\n",
       " g88: -g98 + g99}"
      ]
     },
     "metadata": {},
     "output_type": "display_data"
    },
    {
     "data": {
      "text/plain": [
       "{g19: 0,\n",
       " g18: 0,\n",
       " g39: 0,\n",
       " g31: 0,\n",
       " g29: 0,\n",
       " g37: 0,\n",
       " g28: 0,\n",
       " g48: 0,\n",
       " g51: 0,\n",
       " g59: 0,\n",
       " g57: 0,\n",
       " g49: 0,\n",
       " g69: 0,\n",
       " g78: 0,\n",
       " g27: 0,\n",
       " g38: 0,\n",
       " g47: 0,\n",
       " g58: 0,\n",
       " g43: 0,\n",
       " g68: 0,\n",
       " g13: 0,\n",
       " g16: 0,\n",
       " g15: 0,\n",
       " g23: 0,\n",
       " g45: 0,\n",
       " g79: 0,\n",
       " g17: 0,\n",
       " g25: 0,\n",
       " g26: 0,\n",
       " g46: 0,\n",
       " g61: 0,\n",
       " g41: 0,\n",
       " g52: 0,\n",
       " g62: 0,\n",
       " g67: 0,\n",
       " g89: 0,\n",
       " g56: 0,\n",
       " g21: 0,\n",
       " g81: 0,\n",
       " g87: 0,\n",
       " g32: 0,\n",
       " g54: 0,\n",
       " g36: 0,\n",
       " g34: 0,\n",
       " g63: 0,\n",
       " g84: 0,\n",
       " g82: 0,\n",
       " g42: g98,\n",
       " g71: g98,\n",
       " g92: g98,\n",
       " g73: g98,\n",
       " g94: g98,\n",
       " g53: g98,\n",
       " g91: g98,\n",
       " g72: g98,\n",
       " g93: g98,\n",
       " g64: 2*g98,\n",
       " g65: 2*g98,\n",
       " g74: g98,\n",
       " g44: -4*g98 + g99,\n",
       " g77: -g98 + g99,\n",
       " g11: -2*g98 + g99,\n",
       " g22: -3*g98 + g99,\n",
       " g12: 0,\n",
       " g83: 0,\n",
       " g24: 0,\n",
       " g14: 0,\n",
       " g85: 0,\n",
       " g95: g98,\n",
       " g96: g98,\n",
       " g75: g98,\n",
       " g76: g98,\n",
       " g86: 0,\n",
       " g97: g98,\n",
       " g33: -3*g98 + g99,\n",
       " g66: -2*g98 + g99,\n",
       " g35: 0,\n",
       " g55: -4*g98 + g99,\n",
       " g88: -g98 + g99}"
      ]
     },
     "execution_count": 21,
     "metadata": {},
     "output_type": "execute_result"
    }
   ],
   "source": [
    "# CAUTION: This block does take some time to run and requies input from the user\n",
    "build_equations(eqns_dic, matrices_1, vals)"
   ]
  },
  {
   "cell_type": "code",
   "execution_count": 22,
   "id": "2871d412",
   "metadata": {},
   "outputs": [
    {
     "name": "stdout",
     "output_type": "stream",
     "text": [
      "Input the lenght parameter (an integer between 0 and 4):1\n",
      "Matrix 1 is satisfied. Moving on to the next matrix.\n",
      "Matrix 2 is satisfied. Moving on to the next matrix.\n",
      "Matrix 3 is satisfied. Moving on to the next matrix.\n",
      "Matrix 4 is satisfied. Moving on to the next matrix.\n",
      "Matrix 5 is satisfied. Moving on to the next matrix.\n",
      "Matrix 6 is satisfied. Moving on to the next matrix.\n",
      "Matrix 7 is satisfied. Moving on to the next matrix.\n",
      "Matrix 8 is satisfied. Moving on to the next matrix.\n",
      "Matrix 9 is satisfied. Moving on to the next matrix.\n",
      "Matrix 10 is satisfied. Moving on to the next matrix.\n",
      "Matrix 11 is satisfied. Moving on to the next matrix.\n",
      "Matrix 12 is satisfied. Moving on to the next matrix.\n",
      "Matrix 13 is satisfied. Moving on to the next matrix.\n",
      "Matrix 14 is satisfied. Moving on to the next matrix.\n",
      "Matrix 15 is satisfied. Moving on to the next matrix.\n",
      "Matrix 16 is satisfied. Moving on to the next matrix.\n",
      "Matrix 17 is satisfied. Moving on to the next matrix.\n",
      "Matrix 18 is satisfied. Moving on to the next matrix.\n"
     ]
    },
    {
     "data": {
      "text/plain": [
       "{g19: 0,\n",
       " g18: 0,\n",
       " g39: 0,\n",
       " g31: 0,\n",
       " g29: 0,\n",
       " g37: 0,\n",
       " g28: 0,\n",
       " g48: 0,\n",
       " g51: 0,\n",
       " g59: 0,\n",
       " g57: 0,\n",
       " g49: 0,\n",
       " g69: 0,\n",
       " g78: 0,\n",
       " g27: 0,\n",
       " g38: 0,\n",
       " g47: 0,\n",
       " g58: 0,\n",
       " g43: 0,\n",
       " g68: 0,\n",
       " g13: 0,\n",
       " g16: 0,\n",
       " g15: 0,\n",
       " g23: 0,\n",
       " g45: 0,\n",
       " g79: 0,\n",
       " g17: 0,\n",
       " g25: 0,\n",
       " g26: 0,\n",
       " g46: 0,\n",
       " g61: 0,\n",
       " g41: 0,\n",
       " g52: 0,\n",
       " g62: 0,\n",
       " g67: 0,\n",
       " g89: 0,\n",
       " g56: 0,\n",
       " g21: 0,\n",
       " g81: 0,\n",
       " g87: 0,\n",
       " g32: 0,\n",
       " g54: 0,\n",
       " g36: 0,\n",
       " g34: 0,\n",
       " g63: 0,\n",
       " g84: 0,\n",
       " g82: 0,\n",
       " g42: g98,\n",
       " g71: g98,\n",
       " g92: g98,\n",
       " g73: g98,\n",
       " g94: g98,\n",
       " g53: g98,\n",
       " g91: g98,\n",
       " g72: g98,\n",
       " g93: g98,\n",
       " g64: 2*g98,\n",
       " g65: 2*g98,\n",
       " g74: g98,\n",
       " g44: -4*g98 + g99,\n",
       " g77: -g98 + g99,\n",
       " g11: -2*g98 + g99,\n",
       " g22: -3*g98 + g99,\n",
       " g12: 0,\n",
       " g83: 0,\n",
       " g24: 0,\n",
       " g14: 0,\n",
       " g85: 0,\n",
       " g95: g98,\n",
       " g96: g98,\n",
       " g75: g98,\n",
       " g76: g98,\n",
       " g86: 0,\n",
       " g97: g98,\n",
       " g33: -3*g98 + g99,\n",
       " g66: -2*g98 + g99,\n",
       " g35: 0,\n",
       " g55: -4*g98 + g99,\n",
       " g88: -g98 + g99}"
      ]
     },
     "execution_count": 22,
     "metadata": {},
     "output_type": "execute_result"
    }
   ],
   "source": [
    "build_equations(eqns_dic, matrices_1, vals)"
   ]
  },
  {
   "cell_type": "code",
   "execution_count": 23,
   "id": "37557133",
   "metadata": {},
   "outputs": [
    {
     "data": {
      "text/plain": [
       "79"
      ]
     },
     "execution_count": 23,
     "metadata": {},
     "output_type": "execute_result"
    }
   ],
   "source": [
    "len(eqns_dic)"
   ]
  },
  {
   "cell_type": "markdown",
   "id": "31d8646b",
   "metadata": {},
   "source": [
    "## Computation complete\n",
    "\n"
   ]
  },
  {
   "cell_type": "code",
   "execution_count": null,
   "id": "383b64a6",
   "metadata": {},
   "outputs": [],
   "source": []
  }
 ],
 "metadata": {
  "kernelspec": {
   "display_name": "SageMath 9.6",
   "language": "sage",
   "name": "sagemath-9.6"
  },
  "language_info": {
   "codemirror_mode": {
    "name": "ipython",
    "version": 3
   },
   "file_extension": ".py",
   "mimetype": "text/x-python",
   "name": "python",
   "nbconvert_exporter": "python",
   "pygments_lexer": "ipython3",
   "version": "3.10.3"
  }
 },
 "nbformat": 4,
 "nbformat_minor": 5
}
