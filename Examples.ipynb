{
 "cells": [
  {
   "cell_type": "markdown",
   "id": "977f8f42-c540-4b01-87c0-7d9d108b5ded",
   "metadata": {},
   "source": [
    "## Loading necessary functions and libraries"
   ]
  },
  {
   "cell_type": "code",
   "execution_count": 8,
   "id": "0be3cf08",
   "metadata": {},
   "outputs": [],
   "source": [
    "load('Symmalg.sage')\n",
    "import time"
   ]
  },
  {
   "cell_type": "code",
   "execution_count": 9,
   "id": "370ae8a2",
   "metadata": {},
   "outputs": [
    {
     "name": "stdout",
     "output_type": "stream",
     "text": [
      "Defining x, y, z\n"
     ]
    }
   ],
   "source": [
    "# Setting up the ambient ring\n",
    "R = PolynomialRing(QQ,['x', 'y','z'])\n",
    "R.inject_variables()"
   ]
  },
  {
   "cell_type": "markdown",
   "id": "bc14c178-a2a4-4f30-9172-cff93ae69a7a",
   "metadata": {},
   "source": [
    "### Example 1"
   ]
  },
  {
   "cell_type": "code",
   "execution_count": 10,
   "id": "6efe5e16",
   "metadata": {},
   "outputs": [
    {
     "name": "stdout",
     "output_type": "stream",
     "text": [
      "Defining x, y, z\n",
      "Defining x, y, z, g11, g12, g13, g21, g22, g23, g31, g32, g33\n",
      "\n",
      "A basis of the Lie algebra consists of the following matrices:\n",
      "\n"
     ]
    },
    {
     "data": {
      "text/html": [
       "<html>\\(\\displaystyle \\left[\\left(\\begin{array}{rrr}\n",
       "0 & -1 & 0 \\\\\n",
       "1 & 0 & 0 \\\\\n",
       "0 & 0 & 0\n",
       "\\end{array}\\right), \\left(\\begin{array}{rrr}\n",
       "0 & 0 & -1 \\\\\n",
       "0 & 0 & 0 \\\\\n",
       "1 & 0 & 0\n",
       "\\end{array}\\right), \\left(\\begin{array}{rrr}\n",
       "0 & 0 & 0 \\\\\n",
       "0 & 0 & -1 \\\\\n",
       "0 & 1 & 0\n",
       "\\end{array}\\right), \\left(\\begin{array}{rrr}\n",
       "1 & 0 & 0 \\\\\n",
       "0 & 1 & 0 \\\\\n",
       "0 & 0 & 1\n",
       "\\end{array}\\right)\\right]\\)</html>"
      ],
      "text/latex": [
       "$\\displaystyle \\left[\\left(\\begin{array}{rrr}\n",
       "0 & -1 & 0 \\\\\n",
       "1 & 0 & 0 \\\\\n",
       "0 & 0 & 0\n",
       "\\end{array}\\right), \\left(\\begin{array}{rrr}\n",
       "0 & 0 & -1 \\\\\n",
       "0 & 0 & 0 \\\\\n",
       "1 & 0 & 0\n",
       "\\end{array}\\right), \\left(\\begin{array}{rrr}\n",
       "0 & 0 & 0 \\\\\n",
       "0 & 0 & -1 \\\\\n",
       "0 & 1 & 0\n",
       "\\end{array}\\right), \\left(\\begin{array}{rrr}\n",
       "1 & 0 & 0 \\\\\n",
       "0 & 1 & 0 \\\\\n",
       "0 & 0 & 1\n",
       "\\end{array}\\right)\\right]$"
      ],
      "text/plain": [
       "[\n",
       "[ 0 -1  0]  [ 0  0 -1]  [ 0  0  0]  [1 0 0]\n",
       "[ 1  0  0]  [ 0  0  0]  [ 0  0 -1]  [0 1 0]\n",
       "[ 0  0  0], [ 1  0  0], [ 0  1  0], [0 0 1]\n",
       "]"
      ]
     },
     "metadata": {},
     "output_type": "display_data"
    },
    {
     "name": "stdout",
     "output_type": "stream",
     "text": [
      "\n",
      "Computation Time: 0 min 0.10 sec\n"
     ]
    }
   ],
   "source": [
    "start_time = time.time()\n",
    "LieI = symmalg([x^2+y^2+z^2],3)\n",
    "end_time = time.time()\n",
    "comp_time = end_time - start_time # Compute the elapsed time\n",
    "\n",
    "# Convert to minutes and seconds\n",
    "minutes = int(comp_time // 60)\n",
    "seconds = comp_time % 60\n",
    "\n",
    "# Format with 2 decimal places for seconds\n",
    "formatted_time_str = f\"{minutes} min {seconds:.2f} sec\"\n",
    "\n",
    "print(f\"\\nComputation Time: {formatted_time_str}\")"
   ]
  },
  {
   "cell_type": "markdown",
   "id": "83478d5b-d12d-4899-bccb-60ec7afd282e",
   "metadata": {},
   "source": [
    "### Example 2"
   ]
  },
  {
   "cell_type": "code",
   "execution_count": 11,
   "id": "4db26c32",
   "metadata": {},
   "outputs": [
    {
     "name": "stdout",
     "output_type": "stream",
     "text": [
      "Defining x, y, z\n",
      "Defining x, y, z, g11, g12, g13, g21, g22, g23, g31, g32, g33\n",
      "\n",
      "A basis of the Lie algebra consists of the following matrices:\n",
      "\n"
     ]
    },
    {
     "data": {
      "text/html": [
       "<html>\\(\\displaystyle \\left[\\left(\\begin{array}{rrr}\n",
       "1 & 0 & 0 \\\\\n",
       "0 & 1 & 0 \\\\\n",
       "0 & 0 & 1\n",
       "\\end{array}\\right)\\right]\\)</html>"
      ],
      "text/latex": [
       "$\\displaystyle \\left[\\left(\\begin{array}{rrr}\n",
       "1 & 0 & 0 \\\\\n",
       "0 & 1 & 0 \\\\\n",
       "0 & 0 & 1\n",
       "\\end{array}\\right)\\right]$"
      ],
      "text/plain": [
       "[\n",
       "[1 0 0]\n",
       "[0 1 0]\n",
       "[0 0 1]\n",
       "]"
      ]
     },
     "metadata": {},
     "output_type": "display_data"
    },
    {
     "name": "stdout",
     "output_type": "stream",
     "text": [
      "\n",
      "Computation Time: 0 min 0.09 sec\n"
     ]
    }
   ],
   "source": [
    "generators = [x^2+y^2+z^2, x*y*z]\n",
    "start_time = time.time()\n",
    "symmalg(generators, 3)\n",
    "end_time = time.time()\n",
    "comp_time = end_time - start_time # Compute the elapsed time\n",
    "\n",
    "# Convert to minutes and seconds\n",
    "minutes = int(comp_time // 60)\n",
    "seconds = comp_time % 60\n",
    "\n",
    "# Format with 2 decimal places for seconds\n",
    "formatted_time_str = f\"{minutes} min {seconds:.2f} sec\"\n",
    "\n",
    "print(f\"\\nComputation Time: {formatted_time_str}\")"
   ]
  },
  {
   "cell_type": "markdown",
   "id": "1acbcbb0-158b-4bff-a583-d00fe7bc5857",
   "metadata": {},
   "source": [
    "### Example 3"
   ]
  },
  {
   "cell_type": "code",
   "execution_count": 12,
   "id": "945f2d97",
   "metadata": {},
   "outputs": [
    {
     "name": "stdout",
     "output_type": "stream",
     "text": [
      "Defining p1, p2, p3, p4, p5, p6, p7, p8\n"
     ]
    },
    {
     "data": {
      "text/html": [
       "<html>\\(\\displaystyle \\left[-p_{3} p_{7} - p_{4} p_{7} + p_{1} p_{8} + p_{2} p_{8}, -p_{2} p_{5} - p_{2} p_{6} + p_{1} p_{7} + p_{1} p_{8}, -p_{4} p_{5} + p_{3} p_{6}\\right]\\)</html>"
      ],
      "text/latex": [
       "$\\displaystyle \\left[-p_{3} p_{7} - p_{4} p_{7} + p_{1} p_{8} + p_{2} p_{8}, -p_{2} p_{5} - p_{2} p_{6} + p_{1} p_{7} + p_{1} p_{8}, -p_{4} p_{5} + p_{3} p_{6}\\right]$"
      ],
      "text/plain": [
       "[-p3*p7 - p4*p7 + p1*p8 + p2*p8,\n",
       " -p2*p5 - p2*p6 + p1*p7 + p1*p8,\n",
       " -p4*p5 + p3*p6]"
      ]
     },
     "metadata": {},
     "output_type": "display_data"
    }
   ],
   "source": [
    "n_vars = 8\n",
    "var = ['p%i'%j for j in range(1,n_vars+1)]\n",
    "R = PolynomialRing(QQ, var)\n",
    "R.inject_variables()\n",
    "gens = []\n",
    "gens.append((p1+p2)*p8-(p3+p4)*p7)\n",
    "gens.append(p1*(p7+p8)-p2*(p5+p6))\n",
    "gens.append(p3*p6-p4*p5)\n",
    "show(gens)"
   ]
  },
  {
   "cell_type": "code",
   "execution_count": 13,
   "id": "8904bc30",
   "metadata": {},
   "outputs": [
    {
     "name": "stdout",
     "output_type": "stream",
     "text": [
      "Defining p1, p2, p3, p4, p5, p6, p7, p8\n",
      "Defining p1, p2, p3, p4, p5, p6, p7, p8, g11, g12, g13, g14, g15, g16, g17, g18, g21, g22, g23, g24, g25, g26, g27, g28, g31, g32, g33, g34, g35, g36, g37, g38, g41, g42, g43, g44, g45, g46, g47, g48, g51, g52, g53, g54, g55, g56, g57, g58, g61, g62, g63, g64, g65, g66, g67, g68, g71, g72, g73, g74, g75, g76, g77, g78, g81, g82, g83, g84, g85, g86, g87, g88\n",
      "\n",
      "A basis of the Lie algebra consists of the following matrices:\n",
      "\n"
     ]
    },
    {
     "data": {
      "text/html": [
       "<html>\\(\\displaystyle \\left[\\left(\\begin{array}{rrrrrrrr}\n",
       "-1 & 0 & 0 & 0 & 0 & 0 & 0 & 0 \\\\\n",
       "0 & -1 & 0 & 0 & 0 & 0 & 0 & 0 \\\\\n",
       "0 & 0 & -1 & -1 & 0 & 0 & 0 & 0 \\\\\n",
       "0 & 0 & 0 & 0 & 0 & 0 & 0 & 0 \\\\\n",
       "0 & 0 & 0 & 0 & 0 & -1 & 0 & 0 \\\\\n",
       "0 & 0 & 0 & 0 & 0 & 1 & 0 & 0 \\\\\n",
       "0 & 0 & 0 & 0 & 0 & 0 & 0 & 0 \\\\\n",
       "0 & 0 & 0 & 0 & 0 & 0 & 0 & 0\n",
       "\\end{array}\\right), \\left(\\begin{array}{rrrrrrrr}\n",
       "1 & 0 & 0 & 0 & 0 & 0 & 0 & 0 \\\\\n",
       "0 & 1 & 0 & 0 & 0 & 0 & 0 & 0 \\\\\n",
       "0 & 0 & 1 & 0 & 0 & 0 & 0 & 0 \\\\\n",
       "0 & 0 & 0 & 1 & 0 & 0 & 0 & 0 \\\\\n",
       "0 & 0 & 0 & 0 & 0 & 0 & 0 & 0 \\\\\n",
       "0 & 0 & 0 & 0 & 0 & 0 & 0 & 0 \\\\\n",
       "0 & 0 & 0 & 0 & 0 & 0 & 0 & 0 \\\\\n",
       "0 & 0 & 0 & 0 & 0 & 0 & 0 & 0\n",
       "\\end{array}\\right), \\left(\\begin{array}{rrrrrrrr}\n",
       "0 & 0 & 0 & 0 & 0 & 0 & 0 & 0 \\\\\n",
       "0 & 0 & 0 & 0 & 0 & 0 & 0 & 0 \\\\\n",
       "0 & 0 & -1 & 0 & 0 & 0 & 0 & 0 \\\\\n",
       "0 & 0 & 1 & 0 & 0 & 0 & 0 & 0 \\\\\n",
       "0 & 0 & 0 & 0 & -1 & 0 & 0 & 0 \\\\\n",
       "0 & 0 & 0 & 0 & 1 & 0 & 0 & 0 \\\\\n",
       "0 & 0 & 0 & 0 & 0 & 0 & 0 & 0 \\\\\n",
       "0 & 0 & 0 & 0 & 0 & 0 & 0 & 0\n",
       "\\end{array}\\right), \\left(\\begin{array}{rrrrrrrr}\n",
       "1 & 0 & 0 & 0 & 0 & 0 & 0 & 0 \\\\\n",
       "0 & 1 & 0 & 0 & 0 & 0 & 0 & 0 \\\\\n",
       "0 & 0 & 1 & 1 & 0 & 0 & 0 & 0 \\\\\n",
       "0 & 0 & 0 & 0 & 0 & 0 & 0 & 0 \\\\\n",
       "0 & 0 & 0 & 0 & 1 & 1 & 0 & 0 \\\\\n",
       "0 & 0 & 0 & 0 & 0 & 0 & 0 & 0 \\\\\n",
       "0 & 0 & 0 & 0 & 0 & 0 & 1 & 0 \\\\\n",
       "0 & 0 & 0 & 0 & 0 & 0 & 0 & 1\n",
       "\\end{array}\\right)\\right]\\)</html>"
      ],
      "text/latex": [
       "$\\displaystyle \\left[\\left(\\begin{array}{rrrrrrrr}\n",
       "-1 & 0 & 0 & 0 & 0 & 0 & 0 & 0 \\\\\n",
       "0 & -1 & 0 & 0 & 0 & 0 & 0 & 0 \\\\\n",
       "0 & 0 & -1 & -1 & 0 & 0 & 0 & 0 \\\\\n",
       "0 & 0 & 0 & 0 & 0 & 0 & 0 & 0 \\\\\n",
       "0 & 0 & 0 & 0 & 0 & -1 & 0 & 0 \\\\\n",
       "0 & 0 & 0 & 0 & 0 & 1 & 0 & 0 \\\\\n",
       "0 & 0 & 0 & 0 & 0 & 0 & 0 & 0 \\\\\n",
       "0 & 0 & 0 & 0 & 0 & 0 & 0 & 0\n",
       "\\end{array}\\right), \\left(\\begin{array}{rrrrrrrr}\n",
       "1 & 0 & 0 & 0 & 0 & 0 & 0 & 0 \\\\\n",
       "0 & 1 & 0 & 0 & 0 & 0 & 0 & 0 \\\\\n",
       "0 & 0 & 1 & 0 & 0 & 0 & 0 & 0 \\\\\n",
       "0 & 0 & 0 & 1 & 0 & 0 & 0 & 0 \\\\\n",
       "0 & 0 & 0 & 0 & 0 & 0 & 0 & 0 \\\\\n",
       "0 & 0 & 0 & 0 & 0 & 0 & 0 & 0 \\\\\n",
       "0 & 0 & 0 & 0 & 0 & 0 & 0 & 0 \\\\\n",
       "0 & 0 & 0 & 0 & 0 & 0 & 0 & 0\n",
       "\\end{array}\\right), \\left(\\begin{array}{rrrrrrrr}\n",
       "0 & 0 & 0 & 0 & 0 & 0 & 0 & 0 \\\\\n",
       "0 & 0 & 0 & 0 & 0 & 0 & 0 & 0 \\\\\n",
       "0 & 0 & -1 & 0 & 0 & 0 & 0 & 0 \\\\\n",
       "0 & 0 & 1 & 0 & 0 & 0 & 0 & 0 \\\\\n",
       "0 & 0 & 0 & 0 & -1 & 0 & 0 & 0 \\\\\n",
       "0 & 0 & 0 & 0 & 1 & 0 & 0 & 0 \\\\\n",
       "0 & 0 & 0 & 0 & 0 & 0 & 0 & 0 \\\\\n",
       "0 & 0 & 0 & 0 & 0 & 0 & 0 & 0\n",
       "\\end{array}\\right), \\left(\\begin{array}{rrrrrrrr}\n",
       "1 & 0 & 0 & 0 & 0 & 0 & 0 & 0 \\\\\n",
       "0 & 1 & 0 & 0 & 0 & 0 & 0 & 0 \\\\\n",
       "0 & 0 & 1 & 1 & 0 & 0 & 0 & 0 \\\\\n",
       "0 & 0 & 0 & 0 & 0 & 0 & 0 & 0 \\\\\n",
       "0 & 0 & 0 & 0 & 1 & 1 & 0 & 0 \\\\\n",
       "0 & 0 & 0 & 0 & 0 & 0 & 0 & 0 \\\\\n",
       "0 & 0 & 0 & 0 & 0 & 0 & 1 & 0 \\\\\n",
       "0 & 0 & 0 & 0 & 0 & 0 & 0 & 1\n",
       "\\end{array}\\right)\\right]$"
      ],
      "text/plain": [
       "[\n",
       "[-1  0  0  0  0  0  0  0]  [1 0 0 0 0 0 0 0]\n",
       "[ 0 -1  0  0  0  0  0  0]  [0 1 0 0 0 0 0 0]\n",
       "[ 0  0 -1 -1  0  0  0  0]  [0 0 1 0 0 0 0 0]\n",
       "[ 0  0  0  0  0  0  0  0]  [0 0 0 1 0 0 0 0]\n",
       "[ 0  0  0  0  0 -1  0  0]  [0 0 0 0 0 0 0 0]\n",
       "[ 0  0  0  0  0  1  0  0]  [0 0 0 0 0 0 0 0]\n",
       "[ 0  0  0  0  0  0  0  0]  [0 0 0 0 0 0 0 0]\n",
       "[ 0  0  0  0  0  0  0  0], [0 0 0 0 0 0 0 0],\n",
       "\n",
       "[ 0  0  0  0  0  0  0  0]  [1 0 0 0 0 0 0 0]\n",
       "[ 0  0  0  0  0  0  0  0]  [0 1 0 0 0 0 0 0]\n",
       "[ 0  0 -1  0  0  0  0  0]  [0 0 1 1 0 0 0 0]\n",
       "[ 0  0  1  0  0  0  0  0]  [0 0 0 0 0 0 0 0]\n",
       "[ 0  0  0  0 -1  0  0  0]  [0 0 0 0 1 1 0 0]\n",
       "[ 0  0  0  0  1  0  0  0]  [0 0 0 0 0 0 0 0]\n",
       "[ 0  0  0  0  0  0  0  0]  [0 0 0 0 0 0 1 0]\n",
       "[ 0  0  0  0  0  0  0  0], [0 0 0 0 0 0 0 1]\n",
       "]"
      ]
     },
     "metadata": {},
     "output_type": "display_data"
    },
    {
     "name": "stdout",
     "output_type": "stream",
     "text": [
      "\n",
      "Computation Time: 0 min 23.51 sec\n"
     ]
    }
   ],
   "source": [
    "start_time = time.time()\n",
    "symmalg(gens,8)\n",
    "end_time = time.time()\n",
    "comp_time = end_time - start_time # Compute the elapsed time\n",
    "\n",
    "# Convert to minutes and seconds\n",
    "minutes = int(comp_time // 60)\n",
    "seconds = comp_time % 60\n",
    "\n",
    "# Format with 2 decimal places for seconds\n",
    "formatted_time_str = f\"{minutes} min {seconds:.2f} sec\"\n",
    "\n",
    "print(f\"\\nComputation Time: {formatted_time_str}\")"
   ]
  },
  {
   "cell_type": "code",
   "execution_count": 14,
   "id": "eb7b7fc8",
   "metadata": {},
   "outputs": [
    {
     "data": {
      "text/plain": [
       "4"
      ]
     },
     "execution_count": 14,
     "metadata": {},
     "output_type": "execute_result"
    }
   ],
   "source": [
    "LieI.Dimension()"
   ]
  },
  {
   "cell_type": "code",
   "execution_count": null,
   "id": "92c55970-afb5-45c3-84b9-4fd9ae8f78f1",
   "metadata": {},
   "outputs": [],
   "source": []
  }
 ],
 "metadata": {
  "kernelspec": {
   "display_name": "SageMath 10.3",
   "language": "sage",
   "name": "sagemath-10.3"
  },
  "language_info": {
   "codemirror_mode": {
    "name": "ipython",
    "version": 3
   },
   "file_extension": ".py",
   "mimetype": "text/x-python",
   "name": "python",
   "nbconvert_exporter": "python",
   "pygments_lexer": "ipython3",
   "version": "3.11.8"
  }
 },
 "nbformat": 4,
 "nbformat_minor": 5
}
